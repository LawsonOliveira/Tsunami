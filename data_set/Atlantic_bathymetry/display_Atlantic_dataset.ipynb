{
 "cells": [
  {
   "cell_type": "markdown",
   "metadata": {},
   "source": [
    "# Displaying the dataset for the Arcachon Basin\n",
    "Data were provided through SeaDataNet Pan-European infrastructure for ocean and marine data management\n",
    "(https://www.seadatanet.org)"
   ]
  },
  {
   "cell_type": "markdown",
   "metadata": {},
   "source": [
    "## Import libraries and load dataset"
   ]
  },
  {
   "cell_type": "code",
   "execution_count": 1,
   "metadata": {},
   "outputs": [],
   "source": [
    "import matplotlib.pyplot as plt\n",
    "import matplotlib.tri as tri\n",
    "import numpy as np\n",
    "import pandas as pd"
   ]
  },
  {
   "cell_type": "code",
   "execution_count": 2,
   "metadata": {},
   "outputs": [
    {
     "name": "stdout",
     "output_type": "stream",
     "text": [
      "       long(DD)  lat(DD)  depth(m - down positive - LAT)\n",
      "0        -1.300     44.8                          -22.13\n",
      "1        -1.299     44.8                          -22.10\n",
      "2        -1.298     44.8                          -22.05\n",
      "3        -1.297     44.8                          -21.97\n",
      "4        -1.296     44.8                          -21.88\n",
      "...         ...      ...                             ...\n",
      "35026    -1.254     44.5                           -3.27\n",
      "35027    -1.253     44.5                           -1.30\n",
      "35028    -1.252     44.5                            3.27\n",
      "35029    -1.251     44.5                            6.27\n",
      "35030    -1.250     44.5                           11.27\n",
      "\n",
      "[35031 rows x 3 columns]\n"
     ]
    }
   ],
   "source": [
    "data = pd.read_csv(\"atlantic_treated_data.csv\", sep=\",\",header=2)\n",
    "print(data)"
   ]
  },
  {
   "cell_type": "markdown",
   "metadata": {},
   "source": [
    "## Process data\n",
    "Transform csv data to numpy arrays to be plotted"
   ]
  },
  {
   "cell_type": "code",
   "execution_count": 3,
   "metadata": {},
   "outputs": [],
   "source": [
    "data = data.rename(columns={\"long(DD)\": \"long\", \"lat(DD)\": \"lat\", \"depth(m - down positive - LAT)\": \"depth\"})\n",
    "depth = data[\"depth\"].to_numpy()\n",
    "long = data[\"long\"].to_numpy()\n",
    "lat = data[\"lat\"].to_numpy()"
   ]
  },
  {
   "cell_type": "markdown",
   "metadata": {},
   "source": [
    "## Plot data"
   ]
  },
  {
   "cell_type": "code",
   "execution_count": 5,
   "metadata": {},
   "outputs": [
    {
     "name": "stdout",
     "output_type": "stream",
     "text": [
      "<class 'numpy.ndarray'>\n"
     ]
    },
    {
     "data": {
      "image/png": "[encoded data removed]",
      "text/plain": [
       "<Figure size 432x288 with 2 Axes>"
      ]
     },
     "metadata": {
      "needs_background": "light"
     },
     "output_type": "display_data"
    }
   ],
   "source": [
    "plt.figure()\n",
    "#plt.tricontour(long, lat, depth, levels=20)\n",
    "contour = plt.tricontourf(long, lat, depth, levels=20, cmap='seismic')\n",
    "plt.colorbar(contour)\n",
    "plt.clim(vmin=None, vmax=None)\n",
    "plt.show()"
   ]
  }
 ],
 "metadata": {
  "interpreter": {
   "hash": "e5030792b3492f6b12d94f1f48beca3d8e59ec05fd59d0aaaa48e684281ed297"
  },
  "kernelspec": {
   "display_name": "Python 3.7.13 64-bit",
   "language": "python",
   "name": "python3"
  },
  "language_info": {
   "codemirror_mode": {
    "name": "ipython",
    "version": 3
   },
   "file_extension": ".py",
   "mimetype": "text/x-python",
   "name": "python",
   "nbconvert_exporter": "python",
   "pygments_lexer": "ipython3",
   "version": "3.7.13"
  },
  "orig_nbformat": 4
 },
 "nbformat": 4,
 "nbformat_minor": 2
}
