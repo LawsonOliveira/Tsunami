{
 "cells": [
  {
   "cell_type": "markdown",
   "metadata": {},
   "source": [
    "# Learning rate - Problem 8\n",
    "## Description\n",
    "\n",
    "### Average time : 100 minutes\n",
    "\n",
    "### PDE\n",
    "We will try to find the best learning rate to the problem 8 of the article: https://ieeexplore.ieee.org/document/712178  \n",
    "\n",
    "$\\Delta \\psi(x,y) +\\psi(x,y)\\cdot\\frac{\\partial \\psi(x,y)}{\\partial y}= f(x,y)$ on $\\Omega = [0,1]^2$  \n",
    "where $f(x, y)=\\sin(\\pi x)(2-\\pi^2y^2+2y^3\\sin(\\pi x))$   \n",
    "\n",
    "### Boundary conditions    \n",
    "$\\psi(0,y)=\\psi(1,y)=\\psi(x,0)=0$ and $\\frac{\\partial \\psi}{\\partial y}(x,1)=2\\sin(\\pi x)$           \n",
    "\n",
    "### Loss function\n",
    "The loss to minimize here is $\\mathcal{L} = ||\\Delta \\psi(x,y) +\\psi(x,y)\\cdot\\frac{\\partial \\psi(x,y)}{\\partial y}-f(x,y) ||_2$  \n",
    "\n",
    "### Analytical solution\n",
    "The true function $\\psi$ should be $\\psi(x, y)=y^2sin(\\pi x)$  \n",
    "This solution is the same of the problem 7\n",
    "\n",
    "### Approximated solution\n",
    "We want find a solution $\\psi(x,y)=A(x,y)+F(x,y)N(x,y)$\n",
    "s.t:  \n",
    "$F(x,y)=\\sin(x-1)\\sin(y-1)\\sin(x)\\sin(y)$ \n",
    "$A(x,y)=y\\sin(\\pi x)$   \n"
   ]
  },
  {
   "cell_type": "markdown",
   "metadata": {},
   "source": [
    "# Importing libraries"
   ]
  },
  {
   "cell_type": "code",
   "execution_count": 2,
   "metadata": {},
   "outputs": [
    {
     "name": "stdout",
     "output_type": "stream",
     "text": [
      "gpu\n"
     ]
    }
   ],
   "source": [
    "# Jax libraries\n",
    "from jax import value_and_grad,vmap,jit,jacfwd\n",
    "from functools import partial \n",
    "from jax import random as jran\n",
    "from jax.example_libraries import optimizers as jax_opt\n",
    "from jax.nn import tanh, sigmoid, elu, relu, gelu\n",
    "from jax.lib import xla_bridge\n",
    "import jax.numpy as jnp\n",
    "\n",
    "# Others libraries\n",
    "from time import time\n",
    "import matplotlib.pyplot as plt\n",
    "import numpy as np\n",
    "import os\n",
    "import pickle\n",
    "print(xla_bridge.get_backend().platform)"
   ]
  },
  {
   "cell_type": "markdown",
   "metadata": {},
   "source": [
    "# Multilayer Perceptron"
   ]
  },
  {
   "cell_type": "code",
   "execution_count": 9,
   "metadata": {},
   "outputs": [],
   "source": [
    "class MLP:\n",
    "    \"\"\"\n",
    "        Create a multilayer perceptron and initialize the neural network\n",
    "    Inputs :\n",
    "        A SEED number and the layers structure\n",
    "    \"\"\"\n",
    "    \n",
    "    # Class initialization\n",
    "    def __init__(self,SEED,layers):\n",
    "        self.key=jran.PRNGKey(SEED)\n",
    "        self.keys = jran.split(self.key,len(layers))\n",
    "        self.layers=layers\n",
    "        self.params = []\n",
    "\n",
    "    # Initialize the MLP weigths and bias\n",
    "    def MLP_create(self):\n",
    "        for layer in range(0, len(self.layers)-1):\n",
    "            in_size,out_size=self.layers[layer], self.layers[layer+1]\n",
    "            std_dev = jnp.sqrt(2/(in_size + out_size ))\n",
    "            weights=jran.truncated_normal(self.keys[layer], -2, 2, shape=(out_size, in_size), dtype=np.float32)*std_dev\n",
    "            bias=jran.truncated_normal(self.keys[layer], -1, 1, shape=(out_size, 1), dtype=np.float32).reshape((out_size,))\n",
    "            self.params.append((weights,bias))\n",
    "        return self.params\n",
    "        \n",
    "    # Evaluate a position XY using the neural network    \n",
    "    @partial(jit, static_argnums=(0,))    \n",
    "    def NN_evaluation(self,new_params, inputs):\n",
    "        for layer in range(0, len(new_params)-1):\n",
    "            weights, bias = new_params[layer]\n",
    "            inputs = gelu(jnp.add(jnp.dot(inputs, weights.T), bias))\n",
    "        weights, bias = new_params[-1]\n",
    "        output = jnp.dot(inputs, weights.T)+bias\n",
    "        return output\n",
    "    \n",
    "    # Get the key associated with the neural network\n",
    "    def get_key(self):\n",
    "        return self.key\n"
   ]
  },
  {
   "cell_type": "markdown",
   "metadata": {},
   "source": [
    "# Two dimensional PDE operators"
   ]
  },
  {
   "cell_type": "code",
   "execution_count": 10,
   "metadata": {},
   "outputs": [],
   "source": [
    "class PDE_operators2d:\n",
    "    \"\"\"\n",
    "        Class with the most common operators used to solve PDEs\n",
    "    Input:\n",
    "        A function that we want to compute the respective operator\n",
    "    \"\"\"\n",
    "    \n",
    "    # Class initialization\n",
    "    def __init__(self,function):\n",
    "        self.function=function\n",
    "\n",
    "    # Compute the two dimensional laplacian\n",
    "    def laplacian_2d(self,params,inputs):\n",
    "        fun = lambda params,x,y: self.function(params, x,y)\n",
    "        @partial(jit)    \n",
    "        def action(params,x,y):\n",
    "            u_xx = jacfwd(jacfwd(fun, 1), 1)(params,x,y)\n",
    "            u_yy = jacfwd(jacfwd(fun, 2), 2)(params,x,y)\n",
    "            return u_xx + u_yy\n",
    "        vec_fun = vmap(action, in_axes = (None, 0, 0))\n",
    "        laplacian = vec_fun(params, inputs[:,0], inputs[:,1])\n",
    "        return laplacian\n",
    "\n",
    "    # Compute the partial derivative in x\n",
    "    @partial(jit, static_argnums=(0,))    \n",
    "    def du_dx(self,params,inputs):\n",
    "        fun = lambda params,x,y: self.function(params, x,y)\n",
    "        @partial(jit)    \n",
    "        def action(params,x,y):\n",
    "            u_x = jacfwd(fun, 1)(params,x,y)\n",
    "            return u_x\n",
    "        vec_fun = vmap(action, in_axes = (None, 0, 0))\n",
    "        return vec_fun(params, inputs[:,0], inputs[:,1])\n",
    "\n",
    "    # Compute the partial derivative in y\n",
    "    @partial(jit, static_argnums=(0,))    \n",
    "    def du_dy(self,params,inputs):\n",
    "        fun = lambda params,x,y: self.function(params, x,y)\n",
    "        @partial(jit)    \n",
    "        def action(params,x,y):\n",
    "            u_y = jacfwd(fun, 2)(params,x,y)\n",
    "            return u_y\n",
    "        vec_fun = vmap(action, in_axes = (None, 0, 0))\n",
    "        return vec_fun(params, inputs[:,0], inputs[:,1])"
   ]
  },
  {
   "cell_type": "markdown",
   "metadata": {},
   "source": [
    "# Physics Informed Neural Networks"
   ]
  },
  {
   "cell_type": "code",
   "execution_count": 11,
   "metadata": {},
   "outputs": [],
   "source": [
    "class PINN:\n",
    "    \"\"\"\n",
    "    Solve a PDE using Physics Informed Neural Networks   \n",
    "    Input:\n",
    "        The evaluation function of the neural network\n",
    "    \"\"\"\n",
    "\n",
    "    # Class initialization\n",
    "    def __init__(self,NN_evaluation):\n",
    "        self.operators=PDE_operators2d(self.solution)\n",
    "        self.laplacian=self.operators.laplacian_2d\n",
    "        self.NN_evaluation=NN_evaluation\n",
    "        self.dsol_dy=self.operators.du_dy\n",
    "\n",
    "    # Definition of the function A(x,y) mentioned above\n",
    "    @partial(jit, static_argnums=(0,))    \n",
    "    def A_function(self,inputX,inputY):\n",
    "        return jnp.multiply(inputY,jnp.sin(jnp.pi*inputX)).reshape(-1,1)\n",
    "\n",
    "    # Definition of the function F(x,y) mentioned above   \n",
    "    @partial(jit, static_argnums=(0,))    \n",
    "    def F_function(self,inputX,inputY):\n",
    "        F1=jnp.multiply(jnp.sin(inputX),jnp.sin(inputX-jnp.ones_like(inputX)))\n",
    "        F2=jnp.multiply(jnp.sin(inputY),jnp.sin(inputY-jnp.ones_like(inputY)))\n",
    "        return jnp.multiply(F1,F2).reshape((-1,1))\n",
    "\n",
    "    # Definition of the function f(x,y) mentioned above   \n",
    "    @partial(jit, static_argnums=(0,))    \n",
    "    def target_function(self,inputs):\n",
    "        return jnp.multiply(jnp.sin(jnp.pi*inputs[:,0]),2-jnp.pi**2*inputs[:,1]**2+2*inputs[:,1]**3*jnp.sin(jnp.pi*inputs[:,0])).reshape(-1,1) \n",
    "\n",
    "    # Compute the solution of the PDE on the points (x,y)\n",
    "    @partial(jit, static_argnums=(0,))    \n",
    "    def solution(self,params,inputX,inputY):\n",
    "        inputs=jnp.column_stack((inputX,inputY))\n",
    "        NN = vmap(partial(jit(self.NN_evaluation), params))(inputs)\n",
    "        F=self.F_function(inputX,inputY)\n",
    "        A=self.A_function(inputX,inputY)\n",
    "        return jnp.add(jnp.multiply(F,NN),A).reshape(-1,1)\n",
    "\n",
    "    # Compute the loss function\n",
    "    @partial(jit, static_argnums=(0,))    \n",
    "    def loss_function(self,params,batch):\n",
    "        targets=self.target_function(batch)\n",
    "        laplacian=self.laplacian(params,batch).reshape(-1,1)\n",
    "        dsol_dy_values=self.dsol_dy(params,batch)[:,0].reshape((-1,1))\n",
    "        preds=laplacian+jnp.multiply(self.solution(params,batch[:,0],batch[:,1]),dsol_dy_values).reshape(-1,1)\n",
    "        return jnp.linalg.norm(preds-targets)\n",
    " \n",
    "    # Train step\n",
    "    @partial(jit, static_argnums=(0,))    \n",
    "    def train_step(self,i, opt_state, inputs):\n",
    "        params = get_params(opt_state)\n",
    "        loss, gradient = value_and_grad(self.loss_function)(params,inputs)\n",
    "        return loss, opt_update(i, gradient, opt_state)"
   ]
  },
  {
   "cell_type": "markdown",
   "metadata": {},
   "source": [
    "# Initialize neural network"
   ]
  },
  {
   "cell_type": "code",
   "execution_count": 12,
   "metadata": {},
   "outputs": [],
   "source": [
    "# Neural network parameters\n",
    "SEED = 351\n",
    "n_features, n_targets = 2, 1            # Input and output dimension\n",
    "layers = [n_features,30,n_targets]      # Layers structure\n",
    "\n",
    "# Initialization\n",
    "NN_MLP=MLP(SEED,layers)                 \n",
    "params = NN_MLP.MLP_create()            # Create the MLP\n",
    "NN_eval=NN_MLP.NN_evaluation            # Evaluate function\n",
    "solver=PINN(NN_eval)\n",
    "key=NN_MLP.get_key()"
   ]
  },
  {
   "cell_type": "markdown",
   "metadata": {},
   "source": [
    "# Train parameters"
   ]
  },
  {
   "cell_type": "code",
   "execution_count": 13,
   "metadata": {},
   "outputs": [],
   "source": [
    "batch_size = 50\n",
    "num_batches = 100000\n",
    "report_steps=1000"
   ]
  },
  {
   "cell_type": "markdown",
   "metadata": {},
   "source": [
    "# Learning rate"
   ]
  },
  {
   "cell_type": "code",
   "execution_count": 14,
   "metadata": {},
   "outputs": [
    {
     "name": "stdout",
     "output_type": "stream",
     "text": [
      "[1.0000000e+00 8.0000001e-01 6.0000002e-01 4.0000001e-01 2.0000000e-01\n",
      " 1.0000000e-01 8.0000006e-02 6.0000002e-02 3.9999999e-02 2.0000000e-02\n",
      " 9.9999998e-03 7.9999994e-03 6.0000001e-03 3.9999997e-03 2.0000001e-03\n",
      " 1.0000000e-03 7.9999998e-04 6.0000003e-04 4.0000002e-04 1.9999999e-04\n",
      " 9.9999997e-05 7.9999998e-05 5.9999998e-05 3.9999999e-05 1.9999999e-05\n",
      " 9.9999997e-06 8.0000000e-06 5.9999998e-06 4.0000000e-06 2.0000000e-06\n",
      " 1.0000000e-06 8.0000001e-07 6.0000002e-07 4.0000000e-07 2.0000000e-07\n",
      " 1.0000000e-07 8.0000000e-08 5.9999998e-08 4.0000000e-08 2.0000000e-08\n",
      " 9.9999999e-09 7.9999998e-09 6.0000001e-09 3.9999999e-09 1.9999999e-09\n",
      " 9.9999997e-10 7.9999996e-10 5.9999999e-10 3.9999998e-10 2.0000000e-10]\n"
     ]
    }
   ],
   "source": [
    "init, end, interval_lenght = 0, 10, 5\n",
    "# Learning rate values\n",
    "intervals = jnp.array([jnp.linspace(10**(-i),10**(-i)/interval_lenght,interval_lenght) for i in range(init,end)])\n",
    "learning_rate = intervals.reshape(-1,1)[:,0]\n",
    "print(learning_rate)"
   ]
  },
  {
   "cell_type": "markdown",
   "metadata": {},
   "source": [
    "# Solving PDE"
   ]
  },
  {
   "cell_type": "code",
   "execution_count": 15,
   "metadata": {},
   "outputs": [
    {
     "name": "stdout",
     "output_type": "stream",
     "text": [
      "Epoch n°1000:  2.6494688987731934\n",
      "Epoch n°2000:  2.6326286792755127\n",
      "Epoch n°3000:  2.640900135040283\n",
      "Epoch n°4000:  2.6368932723999023\n",
      "Epoch n°5000:  3.3558623790740967\n",
      "Epoch n°6000:  3.3609070777893066\n",
      "Epoch n°7000:  3.3572230339050293\n",
      "Epoch n°8000:  3.3592758178710938\n",
      "Epoch n°9000:  3.3630776405334473\n"
     ]
    },
    {
     "ename": "KeyboardInterrupt",
     "evalue": "",
     "output_type": "error",
     "traceback": [
      "\u001b[0;31m---------------------------------------------------------------------------\u001b[0m",
      "\u001b[0;31mKeyboardInterrupt\u001b[0m                         Traceback (most recent call last)",
      "\u001b[0;32m/tmp/ipykernel_85068/1820847937.py\u001b[0m in \u001b[0;36m<module>\u001b[0;34m\u001b[0m\n\u001b[1;32m     23\u001b[0m         \u001b[0mXY_train\u001b[0m \u001b[0;34m=\u001b[0m \u001b[0mjran\u001b[0m\u001b[0;34m.\u001b[0m\u001b[0muniform\u001b[0m\u001b[0;34m(\u001b[0m\u001b[0mbatch_key\u001b[0m\u001b[0;34m,\u001b[0m \u001b[0mshape\u001b[0m\u001b[0;34m=\u001b[0m\u001b[0;34m(\u001b[0m\u001b[0mbatch_size\u001b[0m\u001b[0;34m,\u001b[0m \u001b[0mn_features\u001b[0m\u001b[0;34m)\u001b[0m\u001b[0;34m,\u001b[0m \u001b[0mminval\u001b[0m\u001b[0;34m=\u001b[0m\u001b[0;36m0\u001b[0m\u001b[0;34m,\u001b[0m \u001b[0mmaxval\u001b[0m\u001b[0;34m=\u001b[0m\u001b[0;36m1\u001b[0m\u001b[0;34m)\u001b[0m\u001b[0;34m\u001b[0m\u001b[0;34m\u001b[0m\u001b[0m\n\u001b[1;32m     24\u001b[0m \u001b[0;34m\u001b[0m\u001b[0m\n\u001b[0;32m---> 25\u001b[0;31m         \u001b[0mloss\u001b[0m\u001b[0;34m,\u001b[0m \u001b[0mopt_state\u001b[0m \u001b[0;34m=\u001b[0m \u001b[0msolver\u001b[0m\u001b[0;34m.\u001b[0m\u001b[0mtrain_step\u001b[0m\u001b[0;34m(\u001b[0m\u001b[0mibatch\u001b[0m\u001b[0;34m,\u001b[0m\u001b[0mopt_state\u001b[0m\u001b[0;34m,\u001b[0m \u001b[0mXY_train\u001b[0m\u001b[0;34m)\u001b[0m\u001b[0;34m\u001b[0m\u001b[0;34m\u001b[0m\u001b[0m\n\u001b[0m\u001b[1;32m     26\u001b[0m         \u001b[0mloss_history\u001b[0m\u001b[0;34m.\u001b[0m\u001b[0mappend\u001b[0m\u001b[0;34m(\u001b[0m\u001b[0mfloat\u001b[0m\u001b[0;34m(\u001b[0m\u001b[0mloss\u001b[0m\u001b[0;34m)\u001b[0m\u001b[0;34m)\u001b[0m\u001b[0;34m\u001b[0m\u001b[0;34m\u001b[0m\u001b[0m\n\u001b[1;32m     27\u001b[0m \u001b[0;34m\u001b[0m\u001b[0m\n",
      "\u001b[0;32m~/.local/lib/python3.7/site-packages/jax/example_libraries/optimizers.py\u001b[0m in \u001b[0;36m<lambda>\u001b[0;34m(data, xs)\u001b[0m\n\u001b[1;32m    117\u001b[0m     \u001b[0mOptimizerState\u001b[0m\u001b[0;34m,\u001b[0m\u001b[0;34m\u001b[0m\u001b[0;34m\u001b[0m\u001b[0m\n\u001b[1;32m    118\u001b[0m     \u001b[0;32mlambda\u001b[0m \u001b[0mxs\u001b[0m\u001b[0;34m:\u001b[0m \u001b[0;34m(\u001b[0m\u001b[0;34m(\u001b[0m\u001b[0mxs\u001b[0m\u001b[0;34m.\u001b[0m\u001b[0mpacked_state\u001b[0m\u001b[0;34m,\u001b[0m\u001b[0;34m)\u001b[0m\u001b[0;34m,\u001b[0m \u001b[0;34m(\u001b[0m\u001b[0mxs\u001b[0m\u001b[0;34m.\u001b[0m\u001b[0mtree_def\u001b[0m\u001b[0;34m,\u001b[0m \u001b[0mxs\u001b[0m\u001b[0;34m.\u001b[0m\u001b[0msubtree_defs\u001b[0m\u001b[0;34m)\u001b[0m\u001b[0;34m)\u001b[0m\u001b[0;34m,\u001b[0m\u001b[0;34m\u001b[0m\u001b[0;34m\u001b[0m\u001b[0m\n\u001b[0;32m--> 119\u001b[0;31m     lambda data, xs: OptimizerState(xs[0], data[0], data[1]))  # type: ignore[index]\n\u001b[0m\u001b[1;32m    120\u001b[0m \u001b[0;34m\u001b[0m\u001b[0m\n\u001b[1;32m    121\u001b[0m \u001b[0;34m\u001b[0m\u001b[0m\n",
      "\u001b[0;31mKeyboardInterrupt\u001b[0m: "
     ]
    }
   ],
   "source": [
    "# Main loop find the best learning rate\n",
    "counter=0\n",
    "min_index=jnp.inf\n",
    "min_loss_value = jnp.inf\n",
    "minimum_loss=[]\n",
    "\n",
    "# Create a file to save the learning rate\n",
    "file_data_learn=open('./learning_rate','w')\n",
    "file_data_learn.close()\n",
    "\n",
    "# Create a file to save the last value of the loss function\n",
    "file_data_loss=open('./loss_function','w')\n",
    "file_data_loss.close()\n",
    "\n",
    "for i in range(len(learning_rate)):\n",
    "    loss_history = []\n",
    "    opt_init, opt_update, get_params = jax_opt.adam(learning_rate[i])\n",
    "\n",
    "    NN_MLP=MLP(SEED,layers)                 \n",
    "    params = NN_MLP.MLP_create()            # Create the MLP\n",
    "    NN_eval=NN_MLP.NN_evaluation            # Evaluate function\n",
    "    solver=PINN(NN_eval)                    # Use PINN on the problem 8\n",
    "    key=NN_MLP.get_key()                    # Get the key of NN\n",
    "\n",
    "    opt_state = opt_init(params)            # Initialize opt_state\n",
    "    \n",
    "    for ibatch in range(0,num_batches):\n",
    "        ran_key, batch_key = jran.split(key)\n",
    "        XY_train = jran.uniform(batch_key, shape=(batch_size, n_features), minval=0, maxval=1)\n",
    "\n",
    "        loss, opt_state = solver.train_step(ibatch,opt_state, XY_train)\n",
    "        loss_history.append(float(loss))\n",
    "\n",
    "        if ibatch%report_steps==report_steps-1:\n",
    "            print(\"Epoch n°{}: \".format(ibatch+1), loss.item())\n",
    "\n",
    "    print(\"iteration\",i,\"of\",len(learning_rate)-1)\n",
    "    print(loss_history[num_batches-1],learning_rate[i])\n",
    "    minimum_loss.append(loss_history[num_batches-1])\n",
    "\n",
    "    # Get the index for the best learning rate\n",
    "    if loss_history[num_batches-1]<min_loss_value:\n",
    "        min_loss_value = loss_history[num_batches-1]\n",
    "        min_index=i\n",
    "        print('minimum value',minimum_loss[i])\n",
    "\n",
    "    # Save the learning rate\n",
    "    file_data_learn=open('./learning_rate','a')\n",
    "    file_data_learn.write(str(learning_rate[i])+',')\n",
    "    file_data_learn.close()\n",
    "\n",
    "    # Save the last value of the loss function\n",
    "    file_data_loss=open('./loss_function','a')\n",
    "    file_data_loss.write(str(loss_history[num_batches-1])+',')\n",
    "    file_data_loss.close()"
   ]
  },
  {
   "cell_type": "markdown",
   "metadata": {},
   "source": [
    "# Plot learning rate optimization"
   ]
  },
  {
   "cell_type": "code",
   "execution_count": 3,
   "metadata": {},
   "outputs": [
    {
     "data": {
      "image/png": "[encoded data removed]",
      "text/plain": [
       "<Figure size 432x288 with 1 Axes>"
      ]
     },
     "metadata": {
      "needs_background": "light"
     },
     "output_type": "display_data"
    },
    {
     "name": "stdout",
     "output_type": "stream",
     "text": [
      "best learning rate = 8e-05\n"
     ]
    }
   ],
   "source": [
    "min_index=21\n",
    "learning_rate=[1.0,0.8,0.6,0.4,0.2,0.1,0.080000006,0.060000002,0.04,0.02,0.01,0.007999999,0.006,0.0039999997,0.002,0.001,0.0008,0.0006,0.00040000002,0.0002,1e-04,8e-05,6e-05,4e-05,2e-05,1e-05,8e-06,5.9999998e-06,4e-06,2e-06,1e-06,8e-07,6e-07,4e-07,2e-07]\n",
    "minimum_loss = [3.3589024543762207,1.6859272718429565,0.7435639500617981,0.18740606307983398,0.09280005842447281,0.08564911037683487,0.0627373605966568,0.05191640928387642,0.042144015431404114,0.01877341978251934,0.015574362128973007,0.014206845313310623,0.012948434799909592,0.0116304662078619,0.008996258489787579,0.007506238296627998,0.007247768342494965,0.006883973255753517,0.00629028957337141,0.005276193842291832,0.0048086014576256275,0.004483499098569155,0.004564367700368166,0.004636757075786591,0.006352274678647518,0.12315638363361359,0.28303778171539307,2.195760726928711,3.325516700744629,5.538702487945557,9.323655128479004,10.287568092346191,11.251932144165039,12.199068069458008,13.138975143432617]\n",
    "\n",
    "fig, ax = plt.subplots(1, 1)\n",
    "__=ax.plot(learning_rate,np.log10(minimum_loss),color='blue')\n",
    "__=ax.scatter(learning_rate[min_index],np.log10(minimum_loss[min_index]),color='red')\n",
    "legend = ax.legend([r'${\\rm learning \\ rate}$',r'${\\rm best \\ learning }$'])\n",
    "xlabel = ax.set_xlabel(r'${\\rm Learning \\ rate}$')\n",
    "ylabel = ax.set_ylabel(r'$\\log_{10}{\\rm (loss\\_function)}$')\n",
    "#title = ax.set_title(r'${\\rm Learning \\ rate \\ optimization}$')\n",
    "plt.show()\n",
    "print(\"best learning rate =\",learning_rate[min_index])"
   ]
  }
 ],
 "metadata": {
  "interpreter": {
   "hash": "e5030792b3492f6b12d94f1f48beca3d8e59ec05fd59d0aaaa48e684281ed297"
  },
  "kernelspec": {
   "display_name": "Python 3.7.13 64-bit",
   "language": "python",
   "name": "python3"
  },
  "language_info": {
   "codemirror_mode": {
    "name": "ipython",
    "version": 3
   },
   "file_extension": ".py",
   "mimetype": "text/x-python",
   "name": "python",
   "nbconvert_exporter": "python",
   "pygments_lexer": "ipython3",
   "version": "3.7.13"
  },
  "orig_nbformat": 4
 },
 "nbformat": 4,
 "nbformat_minor": 2
}
