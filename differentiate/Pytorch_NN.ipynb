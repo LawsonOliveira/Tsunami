{
 "cells": [
  {
   "cell_type": "markdown",
   "metadata": {},
   "source": [
    "### Import Libraries and define constants"
   ]
  },
  {
   "cell_type": "code",
   "execution_count": 101,
   "metadata": {},
   "outputs": [],
   "source": [
    "import torch\n",
    "import torch.nn as nn\n",
    "import numpy as np\n",
    "device = torch.device(\"cuda:0\")"
   ]
  },
  {
   "cell_type": "code",
   "execution_count": 103,
   "metadata": {},
   "outputs": [],
   "source": [
    "N = 2 #Input size, corresponds to antecedent space dimension\n",
    "learning_rate = 0.05\n",
    "training_steps = 20000\n",
    "grid_length = 100"
   ]
  },
  {
   "cell_type": "markdown",
   "metadata": {},
   "source": [
    "### Define neural network structure"
   ]
  },
  {
   "cell_type": "code",
   "execution_count": 104,
   "metadata": {},
   "outputs": [
    {
     "name": "stdout",
     "output_type": "stream",
     "text": [
      "Sequential(\n",
      "  (0): Linear(in_features=2, out_features=10, bias=True)\n",
      "  (1): ELU(alpha=1.0)\n",
      "  (2): Linear(in_features=10, out_features=10, bias=True)\n",
      "  (3): ELU(alpha=1.0)\n",
      "  (4): Linear(in_features=10, out_features=1, bias=True)\n",
      ")\n"
     ]
    }
   ],
   "source": [
    "multilayer_perceptron = nn.Sequential(\n",
    "    nn.Linear(N, 10),\n",
    "    nn.ELU(),\n",
    "    nn.Linear(10, 10),\n",
    "    nn.ELU(),\n",
    "    nn.Linear(10, 1)\n",
    ")\n",
    "\n",
    "print(multilayer_perceptron)"
   ]
  },
  {
   "cell_type": "code",
   "execution_count": 106,
   "metadata": {},
   "outputs": [],
   "source": [
    "# Universal Approximator\n",
    "def g(x):\n",
    "  N_x = multilayer_perceptron(x)\n",
    "  return N_x\n",
    "\n",
    "# Given EDO\n",
    "def f(x):\n",
    "  return 2*np.pi**2*np.sin(np.pi*x[:,0])*np.sin(np.pi*x[:,1])\n",
    "\n",
    "# Loss function\n",
    "loss_fct = nn.MSELoss()\n",
    "optimizer = torch.optim.Adam(multilayer_perceptron.parameters())"
   ]
  },
  {
   "cell_type": "code",
   "execution_count": 107,
   "metadata": {},
   "outputs": [
    {
     "name": "stdout",
     "output_type": "stream",
     "text": [
      "torch.Size([10000, 2])\n"
     ]
    }
   ],
   "source": [
    "X = np.linspace(0, 1, grid_length)\n",
    "Y = np.linspace(0, 1, grid_length)\n",
    "\n",
    "Z = np.array([[x,y] for x in X for y in Y])\n",
    "Z_values = torch.FloatTensor(f(Z)).unsqueeze(1)\n",
    "Z_training = torch.FloatTensor(Z)\n",
    "print(Z_training.size())"
   ]
  },
  {
   "cell_type": "code",
   "execution_count": 108,
   "metadata": {},
   "outputs": [
    {
     "name": "stdout",
     "output_type": "stream",
     "text": [
      "Epoch n°100:  71.76979064941406\n",
      "Epoch n°200:  43.37754440307617\n",
      "Epoch n°300:  34.31794738769531\n",
      "Epoch n°400:  34.10141372680664\n",
      "Epoch n°500:  34.055233001708984\n",
      "Epoch n°600:  34.00678253173828\n",
      "Epoch n°700:  33.95606231689453\n",
      "Epoch n°800:  33.90243911743164\n",
      "Epoch n°900:  33.84440612792969\n",
      "Epoch n°1000:  33.7794189453125\n",
      "Epoch n°1100:  33.704345703125\n",
      "Epoch n°1200:  33.616668701171875\n",
      "Epoch n°1300:  33.51438903808594\n",
      "Epoch n°1400:  33.393035888671875\n",
      "Epoch n°1500:  33.23979187011719\n",
      "Epoch n°1600:  32.99338912963867\n",
      "Epoch n°1700:  32.61759948730469\n",
      "Epoch n°1800:  32.119903564453125\n",
      "Epoch n°1900:  31.298643112182617\n",
      "Epoch n°2000:  29.823162078857422\n",
      "Epoch n°2100:  27.451337814331055\n",
      "Epoch n°2200:  23.847553253173828\n",
      "Epoch n°2300:  20.423397064208984\n",
      "Epoch n°2400:  17.815242767333984\n",
      "Epoch n°2500:  15.416015625\n",
      "Epoch n°2600:  12.262018203735352\n",
      "Epoch n°2700:  7.62716007232666\n",
      "Epoch n°2800:  3.6773416996002197\n",
      "Epoch n°2900:  2.2421042919158936\n",
      "Epoch n°3000:  1.781856656074524\n",
      "Epoch n°3100:  1.5064359903335571\n",
      "Epoch n°3200:  1.3069261312484741\n",
      "Epoch n°3300:  1.154293417930603\n",
      "Epoch n°3400:  1.037003517150879\n",
      "Epoch n°3500:  0.9491651654243469\n",
      "Epoch n°3600:  0.8839377164840698\n",
      "Epoch n°3700:  0.8340474367141724\n",
      "Epoch n°3800:  0.793754518032074\n",
      "Epoch n°3900:  0.7594015598297119\n",
      "Epoch n°4000:  0.7288786172866821\n",
      "Epoch n°4100:  0.7010054588317871\n",
      "Epoch n°4200:  0.6751119494438171\n",
      "Epoch n°4300:  0.650804340839386\n",
      "Epoch n°4400:  0.6278377771377563\n",
      "Epoch n°4500:  0.606041669845581\n",
      "Epoch n°4600:  0.5852786302566528\n",
      "Epoch n°4700:  0.5654264688491821\n",
      "Epoch n°4800:  0.5463621020317078\n",
      "Epoch n°4900:  0.5279635787010193\n",
      "Epoch n°5000:  0.5101088881492615\n",
      "Epoch n°5100:  0.49267908930778503\n",
      "Epoch n°5200:  0.475551962852478\n",
      "Epoch n°5300:  0.45859062671661377\n",
      "Epoch n°5400:  0.4416251480579376\n",
      "Epoch n°5500:  0.4244156777858734\n",
      "Epoch n°5600:  0.4066009521484375\n",
      "Epoch n°5700:  0.3876085877418518\n",
      "Epoch n°5800:  0.36654672026634216\n",
      "Epoch n°5900:  0.3422987461090088\n",
      "Epoch n°6000:  0.3146404027938843\n",
      "Epoch n°6100:  0.2866691052913666\n",
      "Epoch n°6200:  0.26287606358528137\n",
      "Epoch n°6300:  0.24399958550930023\n",
      "Epoch n°6400:  0.2287398874759674\n",
      "Epoch n°6500:  0.21596772968769073\n",
      "Epoch n°6600:  0.2049245536327362\n",
      "Epoch n°6700:  0.19502060115337372\n",
      "Epoch n°6800:  0.185708150267601\n",
      "Epoch n°6900:  0.17508646845817566\n",
      "Epoch n°7000:  0.1603357046842575\n",
      "Epoch n°7100:  0.15022438764572144\n",
      "Epoch n°7200:  0.1425485759973526\n",
      "Epoch n°7300:  0.13702534139156342\n",
      "Epoch n°7400:  0.13224440813064575\n",
      "Epoch n°7500:  0.1278972178697586\n",
      "Epoch n°7600:  0.12381049990653992\n",
      "Epoch n°7700:  0.1198234111070633\n",
      "Epoch n°7800:  0.11576613783836365\n",
      "Epoch n°7900:  0.11146248877048492\n",
      "Epoch n°8000:  0.10679743438959122\n",
      "Epoch n°8100:  0.10180602222681046\n",
      "Epoch n°8200:  0.0967060998082161\n",
      "Epoch n°8300:  0.09188017249107361\n",
      "Epoch n°8400:  0.08750032633543015\n",
      "Epoch n°8500:  0.08355402201414108\n",
      "Epoch n°8600:  0.07987628132104874\n",
      "Epoch n°8700:  0.07647939771413803\n",
      "Epoch n°8800:  0.07322768867015839\n",
      "Epoch n°8900:  0.07018163800239563\n",
      "Epoch n°9000:  0.06729830801486969\n",
      "Epoch n°9100:  0.0646335780620575\n",
      "Epoch n°9200:  0.062092602252960205\n",
      "Epoch n°9300:  0.05973746255040169\n",
      "Epoch n°9400:  0.057473376393318176\n",
      "Epoch n°9500:  0.055373866111040115\n",
      "Epoch n°9600:  0.05336140841245651\n",
      "Epoch n°9700:  0.05152657628059387\n",
      "Epoch n°9800:  0.04978937283158302\n",
      "Epoch n°9900:  0.04812614619731903\n",
      "Epoch n°10000:  0.04655946418642998\n",
      "Epoch n°10100:  0.0450885035097599\n",
      "Epoch n°10200:  0.04370846971869469\n",
      "Epoch n°10300:  0.042404480278491974\n",
      "Epoch n°10400:  0.04117190092802048\n",
      "Epoch n°10500:  0.040007997304201126\n",
      "Epoch n°10600:  0.03890378028154373\n",
      "Epoch n°10700:  0.037845417857170105\n",
      "Epoch n°10800:  0.036851223558187485\n",
      "Epoch n°10900:  0.035931337624788284\n",
      "Epoch n°11000:  0.03497973084449768\n",
      "Epoch n°11100:  0.034080974757671356\n",
      "Epoch n°11200:  0.03327103331685066\n",
      "Epoch n°11300:  0.03247310221195221\n",
      "Epoch n°11400:  0.03256732225418091\n",
      "Epoch n°11500:  0.030930379405617714\n",
      "Epoch n°11600:  0.030185800045728683\n",
      "Epoch n°11700:  0.02949390560388565\n",
      "Epoch n°11800:  0.028829660266637802\n",
      "Epoch n°11900:  0.028155380859971046\n",
      "Epoch n°12000:  0.02750888653099537\n",
      "Epoch n°12100:  0.026873596012592316\n",
      "Epoch n°12200:  0.0262618325650692\n",
      "Epoch n°12300:  0.025660516694188118\n",
      "Epoch n°12400:  0.025073571130633354\n",
      "Epoch n°12500:  0.024562735110521317\n",
      "Epoch n°12600:  0.02404031902551651\n",
      "Epoch n°12700:  0.023506414145231247\n",
      "Epoch n°12800:  0.022992296144366264\n",
      "Epoch n°12900:  0.022475402802228928\n",
      "Epoch n°13000:  0.02199898101389408\n",
      "Epoch n°13100:  0.021505435928702354\n",
      "Epoch n°13200:  0.021135402843356133\n",
      "Epoch n°13300:  0.02058694139122963\n",
      "Epoch n°13400:  0.020140869542956352\n",
      "Epoch n°13500:  0.019723905250430107\n",
      "Epoch n°13600:  0.01931735686957836\n",
      "Epoch n°13700:  0.018913105130195618\n",
      "Epoch n°13800:  0.018635619431734085\n",
      "Epoch n°13900:  0.018161209300160408\n",
      "Epoch n°14000:  0.017796838656067848\n",
      "Epoch n°14100:  0.017467329278588295\n",
      "Epoch n°14200:  0.017147650942206383\n",
      "Epoch n°14300:  0.016824498772621155\n",
      "Epoch n°14400:  0.016528381034731865\n",
      "Epoch n°14500:  0.016238613054156303\n",
      "Epoch n°14600:  0.015961337834596634\n",
      "Epoch n°14700:  0.01568993367254734\n",
      "Epoch n°14800:  0.015561727806925774\n",
      "Epoch n°14900:  0.01517932116985321\n",
      "Epoch n°15000:  0.015111671760678291\n",
      "Epoch n°15100:  0.014700791798532009\n",
      "Epoch n°15200:  0.014464050531387329\n",
      "Epoch n°15300:  0.014244082383811474\n",
      "Epoch n°15400:  0.01401965320110321\n",
      "Epoch n°15500:  0.013790448196232319\n",
      "Epoch n°15600:  0.013553532771766186\n",
      "Epoch n°15700:  0.013310011476278305\n",
      "Epoch n°15800:  0.0130775710567832\n",
      "Epoch n°15900:  0.012848228216171265\n",
      "Epoch n°16000:  0.012648331001400948\n",
      "Epoch n°16100:  0.012435326352715492\n",
      "Epoch n°16200:  0.012260998599231243\n",
      "Epoch n°16300:  0.012072316370904446\n",
      "Epoch n°16400:  0.011910411529242992\n",
      "Epoch n°16500:  0.011755979619920254\n",
      "Epoch n°16600:  0.011667502112686634\n",
      "Epoch n°16700:  0.011475374922156334\n",
      "Epoch n°16800:  0.011342260986566544\n",
      "Epoch n°16900:  0.011221448890864849\n",
      "Epoch n°17000:  0.011090577580034733\n",
      "Epoch n°17100:  0.010977608151733875\n",
      "Epoch n°17200:  0.010859646834433079\n",
      "Epoch n°17300:  0.010783333331346512\n",
      "Epoch n°17400:  0.010645853355526924\n",
      "Epoch n°17500:  0.010989592410624027\n",
      "Epoch n°17600:  0.010445738211274147\n",
      "Epoch n°17700:  0.01034804992377758\n",
      "Epoch n°17800:  0.010263253934681416\n",
      "Epoch n°17900:  0.0101783974096179\n",
      "Epoch n°18000:  0.010094731114804745\n",
      "Epoch n°18100:  0.010009150952100754\n",
      "Epoch n°18200:  0.009927049279212952\n",
      "Epoch n°18300:  0.009846196509897709\n",
      "Epoch n°18400:  0.009769579395651817\n",
      "Epoch n°18500:  0.009691525250673294\n",
      "Epoch n°18600:  0.00961903017014265\n",
      "Epoch n°18700:  0.009545374661684036\n",
      "Epoch n°18800:  0.009477292187511921\n",
      "Epoch n°18900:  0.009407084435224533\n",
      "Epoch n°19000:  0.009342672303318977\n",
      "Epoch n°19100:  0.009273900650441647\n",
      "Epoch n°19200:  0.009228509850800037\n",
      "Epoch n°19300:  0.009146944619715214\n",
      "Epoch n°19400:  0.009144439361989498\n",
      "Epoch n°19500:  0.009025810286402702\n",
      "Epoch n°19600:  0.008990694768726826\n",
      "Epoch n°19700:  0.008911061100661755\n",
      "Epoch n°19800:  0.008854690007865429\n",
      "Epoch n°19900:  0.008802228607237339\n",
      "Epoch n°20000:  0.008746090345084667\n"
     ]
    },
    {
     "data": {
      "text/plain": [
       "Sequential(\n",
       "  (0): Linear(in_features=2, out_features=10, bias=True)\n",
       "  (1): ELU(alpha=1.0)\n",
       "  (2): Linear(in_features=10, out_features=10, bias=True)\n",
       "  (3): ELU(alpha=1.0)\n",
       "  (4): Linear(in_features=10, out_features=1, bias=True)\n",
       ")"
      ]
     },
     "execution_count": 108,
     "metadata": {},
     "output_type": "execute_result"
    }
   ],
   "source": [
    "multilayer_perceptron.train(True)\n",
    "\n",
    "for epoch in range(training_steps):\n",
    "    optimizer.zero_grad()\n",
    "\n",
    "    Z_out = multilayer_perceptron(Z_training)\n",
    "    loss = loss_fct(Z_out, Z_values)\n",
    "    loss.backward()\n",
    "\n",
    "    optimizer.step()\n",
    "    \n",
    "    if epoch%100==99:\n",
    "        print(\"Epoch n°{}: \".format(epoch+1), loss.item())\n",
    "    \n",
    "multilayer_perceptron.train(False)"
   ]
  },
  {
   "cell_type": "markdown",
   "metadata": {},
   "source": [
    "### Display results"
   ]
  },
  {
   "cell_type": "code",
   "execution_count": 109,
   "metadata": {},
   "outputs": [],
   "source": [
    "import matplotlib.pyplot as plt\n",
    "\n",
    "X_noise = X + (np.random.rand(grid_length)-0.5)/grid_length\n",
    "Y_noise = Y + (np.random.rand(grid_length)-0.5)/grid_length\n",
    "Z_validation = multilayer_perceptron(torch.FloatTensor(np.array([[x,y] for x in X for y in Y])))"
   ]
  },
  {
   "cell_type": "code",
   "execution_count": 110,
   "metadata": {},
   "outputs": [
    {
     "data": {
      "text/plain": [
       "(0.0, 100.0, 0.0, 100.0)"
      ]
     },
     "execution_count": 110,
     "metadata": {},
     "output_type": "execute_result"
    },
    {
     "data": {
      "image/png": "[encoded data removed]",
      "text/plain": [
       "<Figure size 432x288 with 2 Axes>"
      ]
     },
     "metadata": {
      "needs_background": "light"
     },
     "output_type": "display_data"
    }
   ],
   "source": [
    "plt.pcolormesh(torch.reshape(Z_validation, (grid_length, grid_length)).detach().numpy(), cmap=\"seismic\")\n",
    "plt.colorbar()\n",
    "plt.axis(\"square\")"
   ]
  },
  {
   "cell_type": "code",
   "execution_count": 111,
   "metadata": {},
   "outputs": [
    {
     "data": {
      "text/plain": [
       "(0.0, 100.0, 0.0, 100.0)"
      ]
     },
     "execution_count": 111,
     "metadata": {},
     "output_type": "execute_result"
    },
    {
     "data": {
      "image/png": "[encoded data removed]",
      "text/plain": [
       "<Figure size 432x288 with 2 Axes>"
      ]
     },
     "metadata": {
      "needs_background": "light"
     },
     "output_type": "display_data"
    }
   ],
   "source": [
    "\"\"\"\n",
    "Error with true function\n",
    "\"\"\"\n",
    "error = torch.abs(Z_validation - Z_values)\n",
    "plt.pcolormesh(torch.reshape(error, (grid_length, grid_length)).detach().numpy(), cmap=\"seismic\")\n",
    "plt.colorbar()\n",
    "plt.axis(\"square\")"
   ]
  }
 ],
 "metadata": {
  "interpreter": {
   "hash": "26b45c5cec5584c177fec2c5d6e38e0576778aca4be813fe579506cdcff3d90a"
  },
  "kernelspec": {
   "display_name": "Python 3.8.8 ('base')",
   "language": "python",
   "name": "python3"
  },
  "language_info": {
   "codemirror_mode": {
    "name": "ipython",
    "version": 3
   },
   "file_extension": ".py",
   "mimetype": "text/x-python",
   "name": "python",
   "nbconvert_exporter": "python",
   "pygments_lexer": "ipython3",
   "version": "3.8.8"
  },
  "orig_nbformat": 4
 },
 "nbformat": 4,
 "nbformat_minor": 2
}
