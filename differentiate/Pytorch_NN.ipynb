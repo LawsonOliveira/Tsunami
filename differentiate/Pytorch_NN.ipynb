{
 "cells": [
  {
   "cell_type": "markdown",
   "metadata": {},
   "source": [
    "# Solving PDEs with PyTorch\n",
    "\n",
    "This file contains our first approach to solve PDEs with neural networks on the PyTorch Library.  \n",
    "We will try to solve the poisson Equation :  \n",
    "$-\\Delta u(x) = f(x)$ on $\\Omega = [0,1]^2$  \n",
    "With Dirichlet homogeneous boundary conditions $u|_{\\partial \\Omega}=0$ and $f(x_1, x_2)=2\\pi^2 sin(\\pi x_1) sin(\\pi x_2)$\n",
    "\n",
    "The loss to minimize here is $\\mathcal{L} = ||\\Delta u(x) + f(x)||_2$, the MSE of the PDE  \n",
    "The true function $u$ should be $u(x_1, x_2)=sin(\\pi x_1) sin(\\pi x_2)$"
   ]
  },
  {
   "cell_type": "markdown",
   "metadata": {},
   "source": [
    "## Import Libraries and define constants"
   ]
  },
  {
   "cell_type": "code",
   "execution_count": 1,
   "metadata": {},
   "outputs": [],
   "source": [
    "__file__ = 'C:/Users/antie/Documents/Pole_recherche/Tsunami'"
   ]
  },
  {
   "cell_type": "code",
   "execution_count": 19,
   "metadata": {},
   "outputs": [],
   "source": [
    "__file__ = 'C:/Users/Gilles/CS/cours/PoleProjet/FormationRecherche/Tsunami/TP/sceance4/Tsunami'"
   ]
  },
  {
   "cell_type": "code",
   "execution_count": 2,
   "metadata": {},
   "outputs": [
    {
     "name": "stdout",
     "output_type": "stream",
     "text": [
      "c:\\Users\\antie\\Documents\\Pole_recherche\\Tsunami\\differentiate\n",
      "C:\\Users\\antie\\Documents\\Pole_recherche\\Tsunami\n"
     ]
    }
   ],
   "source": [
    "import os\n",
    "\n",
    "print(os.getcwd())\n",
    "os.chdir(__file__)\n",
    "print(os.getcwd())"
   ]
  },
  {
   "cell_type": "code",
   "execution_count": 3,
   "metadata": {},
   "outputs": [],
   "source": [
    "import torch\n",
    "import torch.nn as nn\n",
    "import numpy as np\n",
    "device = torch.device(\"cuda:0\") # Specify GPU Usage for computations"
   ]
  },
  {
   "cell_type": "code",
   "execution_count": 11,
   "metadata": {},
   "outputs": [],
   "source": [
    "N = 2 # Input size, corresponds to antecedent space dimension\n",
    "learning_rate = 0.05 # Parameter for Adam optimizer\n",
    "training_steps = 200 # Epoch computed\n",
    "report_steps = training_steps//20 # How often is the loss printed during training\n",
    "grid_length = 20 # Length of the square grid considered for training"
   ]
  },
  {
   "cell_type": "markdown",
   "metadata": {},
   "source": [
    "## Define neural network structure\n",
    "\n",
    "Here we consider a perceptron with 2 hidden layers of 10 nodes, with N inputs and 1 output"
   ]
  },
  {
   "cell_type": "code",
   "execution_count": 5,
   "metadata": {},
   "outputs": [
    {
     "name": "stdout",
     "output_type": "stream",
     "text": [
      "Sequential(\n",
      "  (0): Linear(in_features=2, out_features=10, bias=True)\n",
      "  (1): ELU(alpha=1.0)\n",
      "  (2): Linear(in_features=10, out_features=10, bias=True)\n",
      "  (3): ELU(alpha=1.0)\n",
      "  (4): Linear(in_features=10, out_features=1, bias=True)\n",
      ")\n"
     ]
    }
   ],
   "source": [
    "multilayer_perceptron = nn.Sequential(\n",
    "    nn.Linear(N, 10),\n",
    "    nn.ELU(),\n",
    "    nn.Linear(10, 10),\n",
    "    nn.ELU(),\n",
    "    nn.Linear(10, 1)\n",
    ")\n",
    "\n",
    "print(multilayer_perceptron)"
   ]
  },
  {
   "cell_type": "code",
   "execution_count": 6,
   "metadata": {},
   "outputs": [],
   "source": [
    "# Universal Approximator, using the paper from 1997\n",
    "def g(x):\n",
    "  N_x = multilayer_perceptron(x)\n",
    "  A = 0\n",
    "  F = 1\n",
    "  return N_x*F + A\n",
    "\n",
    "# Given EDO\n",
    "def f(x):\n",
    "  return 2*np.pi**2*np.sin(np.pi*x[:,0])*np.sin(np.pi*x[:,1])\n",
    "\n",
    "# Loss function\n",
    "loss_fct = nn.MSELoss()     \n",
    "optimizer = torch.optim.Adam(multilayer_perceptron.parameters())"
   ]
  },
  {
   "cell_type": "code",
   "execution_count": 7,
   "metadata": {},
   "outputs": [],
   "source": [
    "# Code taken from https://discuss.pytorch.org/t/how-to-calculate-laplacian-for-multiple-batches-in-parallel/104888\n",
    "# Computes the laplacian for a batch, to use in the loss calculation\n",
    "\n",
    "def laplace(model, x: torch.tensor):\n",
    "    \"\"\"\n",
    "    Laplacian (= sum of 2nd derivations)\n",
    "     of (evaluated) nd->1d-function fx w.r.t. nd-tensor x\n",
    "    :rtype: torch.Tensor\n",
    "    \"\"\"\n",
    "    laplacian = torch.zeros(x.shape[0]) #array to store values of laplacian\n",
    "\n",
    "    for i, xi in enumerate(x):\n",
    "        hess = torch.autograd.functional.hessian(model, xi.unsqueeze(0), create_graph=True)\n",
    "        laplacian[i] = torch.diagonal(hess.view(N, N), offset=0).sum()\n",
    "    \n",
    "    return laplacian"
   ]
  },
  {
   "cell_type": "markdown",
   "metadata": {},
   "source": [
    "## Define the grid on which to train the neural network  \n",
    "We sample $\\Omega = [0,1]^2$ with grid_length² uniformely distributed points"
   ]
  },
  {
   "cell_type": "code",
   "execution_count": 12,
   "metadata": {},
   "outputs": [
    {
     "name": "stdout",
     "output_type": "stream",
     "text": [
      "torch.Size([400, 2])\n"
     ]
    }
   ],
   "source": [
    "X = np.linspace(0, 1, grid_length)\n",
    "Y = np.linspace(0, 1, grid_length)\n",
    "\n",
    "# Put the training points and values in tensors\n",
    "Z = np.array([[x,y] for x in X for y in Y])\n",
    "Z_values = torch.FloatTensor(f(Z)).unsqueeze(1) # Values in tensor, unsqueeze allows to go from [10000] to [10000, 1]\n",
    "Z_training = torch.FloatTensor(Z) # Points in tensor\n",
    "print(Z_training.size())"
   ]
  },
  {
   "cell_type": "markdown",
   "metadata": {},
   "source": [
    "## Train the neural network"
   ]
  },
  {
   "cell_type": "code",
   "execution_count": 13,
   "metadata": {},
   "outputs": [
    {
     "name": "stdout",
     "output_type": "stream",
     "text": [
      "Epoch n°10:  85.05429077148438\n",
      "Epoch n°20:  84.28195190429688\n",
      "Epoch n°30:  83.36837768554688\n",
      "Epoch n°40:  82.274169921875\n",
      "Epoch n°50:  80.96105194091797\n",
      "Epoch n°60:  79.32676696777344\n",
      "Epoch n°70:  77.45133972167969\n",
      "Epoch n°80:  75.17887878417969\n",
      "Epoch n°90:  72.50028991699219\n",
      "Epoch n°100:  69.51350402832031\n",
      "Epoch n°110:  65.99634552001953\n",
      "Epoch n°120:  62.21381759643555\n",
      "Epoch n°130:  58.077762603759766\n",
      "Epoch n°140:  54.00823211669922\n",
      "Epoch n°150:  49.792171478271484\n",
      "Epoch n°160:  45.80741882324219\n",
      "Epoch n°170:  42.29844665527344\n",
      "Epoch n°180:  39.458038330078125\n",
      "Epoch n°190:  36.545936584472656\n",
      "Epoch n°200:  34.30348587036133\n"
     ]
    },
    {
     "data": {
      "text/plain": [
       "Sequential(\n",
       "  (0): Linear(in_features=2, out_features=10, bias=True)\n",
       "  (1): ELU(alpha=1.0)\n",
       "  (2): Linear(in_features=10, out_features=10, bias=True)\n",
       "  (3): ELU(alpha=1.0)\n",
       "  (4): Linear(in_features=10, out_features=1, bias=True)\n",
       ")"
      ]
     },
     "execution_count": 13,
     "metadata": {},
     "output_type": "execute_result"
    }
   ],
   "source": [
    "multilayer_perceptron.train(True)\n",
    "\n",
    "for epoch in range(training_steps):\n",
    "    optimizer.zero_grad()   # On réinitialise les gradients entre chaque epoch\n",
    "\n",
    "    Z_out = multilayer_perceptron(Z_training)   # Output du réseau de neurones\n",
    "    loss = loss_fct(-1*laplace(multilayer_perceptron, Z_training).unsqueeze(1), Z_values)    # On calcule la loss nécéssaire\n",
    "    loss.backward()\n",
    "\n",
    "    optimizer.step()\n",
    "    \n",
    "    if epoch%report_steps==report_steps-1:\n",
    "        print(\"Epoch n°{}: \".format(epoch+1), loss.item())\n",
    "    \n",
    "multilayer_perceptron.train(False)"
   ]
  },
  {
   "cell_type": "markdown",
   "metadata": {},
   "source": [
    "## Display results"
   ]
  },
  {
   "cell_type": "code",
   "execution_count": 14,
   "metadata": {},
   "outputs": [],
   "source": [
    "import matplotlib.pyplot as plt\n",
    "\n",
    "# Random sampling of points on which to display the approximated function\n",
    "X_noise = X + (np.random.rand(grid_length)-0.5)/grid_length\n",
    "Y_noise = Y + (np.random.rand(grid_length)-0.5)/grid_length\n",
    "Z_validation = multilayer_perceptron(torch.FloatTensor(np.array([[x,y] for x in X for y in Y])))"
   ]
  },
  {
   "cell_type": "code",
   "execution_count": 15,
   "metadata": {},
   "outputs": [
    {
     "data": {
      "text/plain": [
       "(0.0, 20.0, 0.0, 20.0)"
      ]
     },
     "execution_count": 15,
     "metadata": {},
     "output_type": "execute_result"
    },
    {
     "data": {
      "image/png": "[encoded data removed]",
      "text/plain": [
       "<Figure size 432x288 with 2 Axes>"
      ]
     },
     "metadata": {
      "needs_background": "light"
     },
     "output_type": "display_data"
    }
   ],
   "source": [
    "plt.pcolormesh(torch.reshape(Z_validation, (grid_length, grid_length)).detach().numpy(), cmap=\"seismic\")\n",
    "plt.colorbar()\n",
    "plt.axis(\"square\")"
   ]
  },
  {
   "cell_type": "code",
   "execution_count": 16,
   "metadata": {},
   "outputs": [
    {
     "data": {
      "text/plain": [
       "(0.0, 20.0, 0.0, 20.0)"
      ]
     },
     "execution_count": 16,
     "metadata": {},
     "output_type": "execute_result"
    },
    {
     "data": {
      "image/png": "[encoded data removed]",
      "text/plain": [
       "<Figure size 432x288 with 2 Axes>"
      ]
     },
     "metadata": {
      "needs_background": "light"
     },
     "output_type": "display_data"
    }
   ],
   "source": [
    "\"\"\"\n",
    "Error with respect to true function\n",
    "\"\"\"\n",
    "error = torch.abs(Z_validation - Z_values/(2*np.pi**2))\n",
    "plt.pcolormesh(torch.reshape(error, (grid_length, grid_length)).detach().numpy(), cmap=\"seismic\")\n",
    "plt.colorbar()\n",
    "plt.axis(\"square\")"
   ]
  }
 ],
 "metadata": {
  "interpreter": {
   "hash": "26b45c5cec5584c177fec2c5d6e38e0576778aca4be813fe579506cdcff3d90a"
  },
  "kernelspec": {
   "display_name": "Python 3.8.8 ('base')",
   "language": "python",
   "name": "python3"
  },
  "language_info": {
   "codemirror_mode": {
    "name": "ipython",
    "version": 3
   },
   "file_extension": ".py",
   "mimetype": "text/x-python",
   "name": "python",
   "nbconvert_exporter": "python",
   "pygments_lexer": "ipython3",
   "version": "3.8.8"
  },
  "orig_nbformat": 4
 },
 "nbformat": 4,
 "nbformat_minor": 2
}
