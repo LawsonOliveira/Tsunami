{
 "cells": [
  {
   "cell_type": "code",
   "execution_count": 1,
   "metadata": {},
   "outputs": [],
   "source": [
    "import tensorflow as tf\n",
    "import keras\n",
    "import matplotlib.pyplot as plt\n",
    "import numpy as np"
   ]
  },
  {
   "cell_type": "code",
   "execution_count": 37,
   "metadata": {},
   "outputs": [],
   "source": [
    "__file__ = 'C:/Users/antie/Documents/Pole_recherche/Tsunami'"
   ]
  },
  {
   "cell_type": "code",
   "execution_count": 2,
   "metadata": {},
   "outputs": [],
   "source": [
    "__file__ = 'C:/Users/Gilles/CS/cours/PoleProjet/FormationRecherche/Tsunami/TP/sceance4/Tsunami'"
   ]
  },
  {
   "cell_type": "code",
   "execution_count": 3,
   "metadata": {},
   "outputs": [
    {
     "name": "stdout",
     "output_type": "stream",
     "text": [
      "c:\\Users\\Gilles\\CS\\cours\\PoleProjet\\FormationRecherche\\Tsunami\\TP\\sceance4\\Tsunami\\differentiate\n",
      "C:\\Users\\Gilles\\CS\\cours\\PoleProjet\\FormationRecherche\\Tsunami\\TP\\sceance4\\Tsunami\n"
     ]
    }
   ],
   "source": [
    "import os\n",
    "\n",
    "print(os.getcwd())\n",
    "os.chdir(__file__)\n",
    "print(os.getcwd())"
   ]
  },
  {
   "cell_type": "code",
   "execution_count": 21,
   "metadata": {},
   "outputs": [],
   "source": [
    "DTYPE = 'float32'\n",
    "tf.keras.backend.set_floatx(DTYPE)"
   ]
  },
  {
   "cell_type": "markdown",
   "metadata": {},
   "source": [
    "## Create the model"
   ]
  },
  {
   "cell_type": "code",
   "execution_count": 37,
   "metadata": {},
   "outputs": [],
   "source": [
    "# méthode API Sequential\n",
    "multilayer_perceptron = keras.models.Sequential([\n",
    "  keras.layers.Input(shape=(2)),\n",
    "  #keras.layers.GaussianNoise(stddev=1e-3),\n",
    "  keras.layers.Dense(20,activation='elu'),\n",
    "  keras.layers.Dense(20,activation='elu'),\n",
    "  keras.layers.Dense(20,activation='elu'),\n",
    "  keras.layers.Dense(1, use_bias=False)\n",
    "])"
   ]
  },
  {
   "cell_type": "code",
   "execution_count": 38,
   "metadata": {},
   "outputs": [
    {
     "name": "stdout",
     "output_type": "stream",
     "text": [
      "Model: \"sequential_5\"\n",
      "_________________________________________________________________\n",
      " Layer (type)                Output Shape              Param #   \n",
      "=================================================================\n",
      " dense_22 (Dense)            (None, 20)                60        \n",
      "                                                                 \n",
      " dense_23 (Dense)            (None, 20)                420       \n",
      "                                                                 \n",
      " dense_24 (Dense)            (None, 20)                420       \n",
      "                                                                 \n",
      " dense_25 (Dense)            (None, 1)                 20        \n",
      "                                                                 \n",
      "=================================================================\n",
      "Total params: 920\n",
      "Trainable params: 920\n",
      "Non-trainable params: 0\n",
      "_________________________________________________________________\n"
     ]
    }
   ],
   "source": [
    "multilayer_perceptron.summary()"
   ]
  },
  {
   "cell_type": "code",
   "execution_count": 30,
   "metadata": {},
   "outputs": [
    {
     "name": "stdout",
     "output_type": "stream",
     "text": [
      "8\n"
     ]
    }
   ],
   "source": [
    "print(len(multilayer_perceptron.trainable_variables))"
   ]
  },
  {
   "cell_type": "code",
   "execution_count": 11,
   "metadata": {},
   "outputs": [],
   "source": [
    "# Méthode à développer : API Subclassing\n",
    "# Voir https://www.tensorflow.org/guide/keras/custom_layers_and_models\n",
    "\n",
    "class PINN (keras.Model): \n",
    "    # Physics-informed neural network, très simple pour l'instant\n",
    "\n",
    "    def __init__(self,units=30,activation='relu',**kwargs):  \n",
    "        super().__init__(**kwargs) #gère les arguments standard (ex : name)\n",
    "        self.noise = keras.layers.GaussianNoise(stddev=0) # à modifier pour voir\n",
    "        self.hidden1 = keras.layers.Dense(units, activation = activation)\n",
    "        self.hidden2 = keras.layers.Dense(units, activation = activation)\n",
    "        self.main_output = keras.layers.Dense(1)\n",
    "    \n",
    "    def call(self, inputs):\n",
    "        noise = self.noise(inputs)\n",
    "        hidden1 = self.hidden1(noise)\n",
    "        hidden2 = self.hidden2(hidden1)\n",
    "        main_output = self.main_output(hidden2)\n",
    "        return main_output\n",
    "\n",
    "multilayer_perceptron = PINN(units=10,name=\"model d'API Subclassing pour PINN\")"
   ]
  },
  {
   "cell_type": "code",
   "execution_count": 32,
   "metadata": {},
   "outputs": [],
   "source": [
    "learning_rate = 0.01\n",
    "training_steps = 1\n",
    "batch_size = 10\n",
    "display_step = 1\n",
    "\n",
    "optimizer = tf.optimizers.Adam(lr=learning_rate)"
   ]
  },
  {
   "cell_type": "code",
   "execution_count": 8,
   "metadata": {},
   "outputs": [],
   "source": [
    "import Polynomials.polynome4students_v2 as Pstud\n",
    "\n",
    "frontier_coords = Pstud._set_coords_rectangle(1,1,40)\n",
    "\n",
    "F_xpy_real = Pstud._set_polynome_xpy_numpy_real(frontier_coords)\n",
    "F_expxpy_real = Pstud._set_polynome_expxpy_numpy_real(frontier_coords)\n",
    "F_sinxpy_real = Pstud._set_polynome_sinxpy_numpy_real(frontier_coords)\n",
    "\n",
    "F_xpy_cmplx = Pstud._set_polynome_xpy_numpy_cmplx(frontier_coords)"
   ]
  },
  {
   "cell_type": "code",
   "execution_count": 22,
   "metadata": {},
   "outputs": [],
   "source": [
    "\n",
    "# Universal Approximator\n",
    "def g(x):\n",
    "  # F_x = Pstud._eval_polynome_numpy(F_xpy_real,x[0,0],x[0,1])\n",
    "  N_x = multilayer_perceptron(x)\n",
    "  return N_x\n",
    "\n",
    "# Given EDO\n",
    "def f(x):\n",
    "  return 2*np.pi**2*np.sin(np.pi*x[0,0])*np.sin(np.pi*x[0,1])\n",
    "\n",
    "\n",
    "\n",
    "\n",
    "def differentiate(model,x):\n",
    "  with tf.GradientTape(persistent=True) as tape:\n",
    "    x1, x2 = x[:,0:1], x[:,1:2]\n",
    "    tape.watch(x1)\n",
    "    tape.watch(x2)\n",
    "    u = model(tf.stack([x1[:,0], x2[:,0]], axis=1))\n",
    "    du_dx = tape.gradient(u,x1)\n",
    "    du_dy = tape.gradient(u,x2)\n",
    "  du_dxx = tape.gradient(du_dx,x1) \n",
    "  du_dyy = tape.gradient(du_dy,x2)\n",
    "  return du_dxx,du_dyy\n",
    "\n",
    "\n",
    "\n",
    "\n",
    "X = np.linspace(0,1,100)\n",
    "Y = np.linspace(0,1,100)\n",
    "\n",
    "\n",
    "# Custom loss function to approximate the derivatives\n",
    "def custom_loss():\n",
    "  summation = []\n",
    "  for x in X:  # in mesh\n",
    "    for y in Y:\n",
    "      coord = tf.constant([[x,y]],dtype=DTYPE)\n",
    "      dg_dxx,dg_dyy = differentiate(g,coord)\n",
    "      summation.append((dg_dxx+dg_dyy + f(coord))**2)\n",
    "  return tf.sqrt(tf.reduce_mean(summation))"
   ]
  },
  {
   "cell_type": "markdown",
   "metadata": {},
   "source": [
    "## Train the model"
   ]
  },
  {
   "cell_type": "code",
   "execution_count": 39,
   "metadata": {},
   "outputs": [
    {
     "name": "stdout",
     "output_type": "stream",
     "text": [
      "epoch: 0\n",
      "gradients[-1] : \n",
      " tf.Tensor(\n",
      "[[ 0.10700806]\n",
      " [ 0.01671593]\n",
      " [ 0.07321557]\n",
      " [-0.09344117]\n",
      " [ 0.04326954]\n",
      " [-0.01090059]\n",
      " [ 0.10631577]\n",
      " [-0.11901538]\n",
      " [ 0.00210787]\n",
      " [ 0.13924003]\n",
      " [-0.09625447]\n",
      " [-0.05646411]\n",
      " [ 0.17283355]\n",
      " [ 0.06220049]\n",
      " [-0.2519085 ]\n",
      " [-0.04159015]\n",
      " [-0.09200423]\n",
      " [-0.03658623]\n",
      " [ 0.0898114 ]\n",
      " [ 0.09684898]], shape=(20, 1), dtype=float32) \n",
      "\n",
      "gradients[-2] : \n",
      " tf.Tensor(\n",
      "[-2.2911665e-03  7.2391466e-03 -5.3557628e-03  6.6766641e-03\n",
      "  1.8294968e-03  0.0000000e+00 -3.8142692e-02  0.0000000e+00\n",
      "  0.0000000e+00 -1.6940214e-02  0.0000000e+00  0.0000000e+00\n",
      " -7.6074041e-02 -1.0408238e-02  3.2845683e-06 -1.3335175e-03\n",
      "  1.9661358e-04  0.0000000e+00  1.2896430e-06 -2.4620164e-02], shape=(20,), dtype=float32) \n",
      "\n",
      "loss: 8.666660 \n"
     ]
    },
    {
     "data": {
      "image/png": "[encoded data removed]",
      "text/plain": [
       "<Figure size 432x288 with 1 Axes>"
      ]
     },
     "metadata": {
      "needs_background": "light"
     },
     "output_type": "display_data"
    }
   ],
   "source": [
    "def train_step():\n",
    "  with tf.GradientTape() as tape:\n",
    "      loss = custom_loss()\n",
    "  trainable_variables=multilayer_perceptron.trainable_variables\n",
    "  gradients = tape.gradient(loss, trainable_variables)\n",
    "  optimizer.apply_gradients(zip(gradients, trainable_variables))\n",
    "  print(\"gradients[-1] : \\n\", gradients[-1],'\\n')\n",
    "  print(\"gradients[-2] : \\n\", gradients[-2],'\\n')\n",
    "\n",
    "\n",
    "# Training the Model:\n",
    "\n",
    "all_losses = []\n",
    "for i in range(training_steps):\n",
    "  print ('epoch:',i)\n",
    "  train_step()\n",
    "  loss = custom_loss()\n",
    "  if i % display_step == 0:\n",
    "    print(\"loss: %f \" % (loss))\n",
    "  all_losses.append(loss)\n",
    "\n",
    "plt.plot(np.arange(0,training_steps),all_losses)\n",
    "plt.show()"
   ]
  },
  {
   "cell_type": "markdown",
   "metadata": {},
   "source": [
    "## Save the model"
   ]
  },
  {
   "cell_type": "code",
   "execution_count": 23,
   "metadata": {},
   "outputs": [
    {
     "name": "stdout",
     "output_type": "stream",
     "text": [
      "WARNING:tensorflow:Compiled the loaded model, but the compiled metrics have yet to be built. `model.compile_metrics` will be empty until you train or evaluate the model.\n"
     ]
    }
   ],
   "source": [
    "multilayer_perceptron.save('my_keras_model_0.h5')"
   ]
  },
  {
   "cell_type": "code",
   "execution_count": null,
   "metadata": {},
   "outputs": [],
   "source": [
    "# API Subclassing\n",
    "multilayer_perceptron.save_weights('weights_API_Subclassing_model')"
   ]
  },
  {
   "cell_type": "markdown",
   "metadata": {},
   "source": [
    "## Load the model"
   ]
  },
  {
   "cell_type": "code",
   "execution_count": 7,
   "metadata": {},
   "outputs": [
    {
     "name": "stdout",
     "output_type": "stream",
     "text": [
      "WARNING:tensorflow:No training configuration found in the save file, so the model was *not* compiled. Compile it manually.\n"
     ]
    }
   ],
   "source": [
    "multilayer_perceptron = keras.models.load_model('my_keras_model_0.h5')"
   ]
  },
  {
   "cell_type": "code",
   "execution_count": null,
   "metadata": {},
   "outputs": [],
   "source": [
    "# API Subclassing\n",
    "multilayer_perceptron = PINN()\n",
    "multilayer_perceptron.load_weights('weights_API_Subclassing_model')"
   ]
  },
  {
   "cell_type": "code",
   "execution_count": 12,
   "metadata": {},
   "outputs": [
    {
     "data": {
      "image/png": "[encoded data removed]",
      "text/plain": [
       "<Figure size 432x288 with 1 Axes>"
      ]
     },
     "metadata": {
      "needs_background": "light"
     },
     "output_type": "display_data"
    }
   ],
   "source": [
    "# True Solution (found analitically)\n",
    "def true_solution(x):\n",
    "  return x**2 + 1\n",
    "\n",
    "X = tf.constant(np.linspace(-1, 1, 200),dtype='float32')\n",
    "result = []\n",
    "for x in X:\n",
    "  # print(g(tf.reshape(x,[1])).numpy()[0])\n",
    "  result.append(g(tf.reshape(x,[1])).numpy()[0])\n",
    "\n",
    "S = true_solution(X)\n",
    "\n",
    "plt.plot(X, result, label='resultat')\n",
    "plt.plot(X, S, label='true result')\n",
    "plt.legend()\n",
    "plt.show()"
   ]
  },
  {
   "cell_type": "markdown",
   "metadata": {},
   "source": [
    "# Questions "
   ]
  },
  {
   "cell_type": "markdown",
   "metadata": {},
   "source": [
    "Quelle architecture ? \n",
    "\n",
    "Comment éviter l'overfitting ?\n",
    "\n",
    "Comment exploiter les avantages de l'IA ?\n",
    "\n",
    "Choix de l'optimizer + regularizer ? + Implémentation ?\n",
    "\n",
    "Implémentation de système d'EDP à plusieurs inconnues (étant des fonctions bien sûr) ?\n",
    "\n",
    "Plus rapide ? Comment enlever les boucles `for` ? => batch_gradient_descent ?\n",
    "\n",
    "Besoin de batch_normalization ? + autres hyperparamètres ?"
   ]
  },
  {
   "cell_type": "markdown",
   "metadata": {},
   "source": [
    "# Idées"
   ]
  },
  {
   "cell_type": "markdown",
   "metadata": {},
   "source": [
    "Ajout de bruit en entrée contre l'overfitting \n",
    "\n",
    "Une sortie par inconnue"
   ]
  }
 ],
 "metadata": {
  "interpreter": {
   "hash": "b9332023be3d0ac51f208965c608ec938465769da3e12a3a23e7ee02ae32d20e"
  },
  "kernelspec": {
   "display_name": "Python 3.9.1 64-bit",
   "language": "python",
   "name": "python3"
  },
  "language_info": {
   "codemirror_mode": {
    "name": "ipython",
    "version": 3
   },
   "file_extension": ".py",
   "mimetype": "text/x-python",
   "name": "python",
   "nbconvert_exporter": "python",
   "pygments_lexer": "ipython3",
   "version": "3.9.11"
  },
  "orig_nbformat": 4
 },
 "nbformat": 4,
 "nbformat_minor": 2
}
