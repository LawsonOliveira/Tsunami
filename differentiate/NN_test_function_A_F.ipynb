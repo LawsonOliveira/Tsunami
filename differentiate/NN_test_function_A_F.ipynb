{
 "cells": [
  {
   "cell_type": "code",
   "execution_count": 19,
   "metadata": {},
   "outputs": [],
   "source": [
    "import tensorflow as tf\n",
    "import keras\n",
    "import matplotlib.pyplot as plt\n",
    "import numpy as np"
   ]
  },
  {
   "cell_type": "code",
   "execution_count": 4,
   "metadata": {},
   "outputs": [],
   "source": [
    "__file__ = 'C:/Users/antie/Documents/Pole_recherche/Tsunami'"
   ]
  },
  {
   "cell_type": "code",
   "execution_count": 2,
   "metadata": {},
   "outputs": [],
   "source": [
    "__file__ = 'C:/Users/Gilles/CS/cours/PoleProjet/FormationRecherche/Tsunami/TP/sceance4/Tsunami'"
   ]
  },
  {
   "cell_type": "code",
   "execution_count": 4,
   "metadata": {},
   "outputs": [
    {
     "name": "stdout",
     "output_type": "stream",
     "text": [
      "C:\\Users\\Gilles\\CS\\cours\\PoleProjet\\FormationRecherche\\Tsunami\\TP\\sceance4\\Tsunami\n",
      "C:\\Users\\Gilles\\CS\\cours\\PoleProjet\\FormationRecherche\\Tsunami\\TP\\sceance4\\Tsunami\n"
     ]
    }
   ],
   "source": [
    "import os\n",
    "\n",
    "print(os.getcwd())\n",
    "os.chdir(__file__)\n",
    "print(os.getcwd())"
   ]
  },
  {
   "cell_type": "code",
   "execution_count": 5,
   "metadata": {},
   "outputs": [],
   "source": [
    "DTYPE = 'float32'\n",
    "tf.keras.backend.set_floatx(DTYPE)"
   ]
  },
  {
   "cell_type": "markdown",
   "metadata": {},
   "source": [
    "## Create the model"
   ]
  },
  {
   "cell_type": "code",
   "execution_count": 85,
   "metadata": {},
   "outputs": [
    {
     "name": "stdout",
     "output_type": "stream",
     "text": [
      "tf.Tensor(\n",
      "[[1. 1. 1. 1.]\n",
      " [1. 1. 1. 1.]\n",
      " [1. 1. 1. 1.]], shape=(3, 4), dtype=float32)\n",
      "tf.Tensor(\n",
      "[[1. 0. 0. 0.]\n",
      " [0. 1. 0. 0.]\n",
      " [0. 0. 1. 0.]], shape=(3, 4), dtype=float32)\n"
     ]
    }
   ],
   "source": [
    "# To fix weights or biases of layers\n",
    "class ConstantTensorInitializer(tf.keras.initializers.Initializer):\n",
    "  \"\"\"Initializes tensors to `t`.\"\"\"\n",
    "\n",
    "  def __init__(self, t):\n",
    "    self.t = t\n",
    "\n",
    "  def __call__(self, shape, dtype=None):\n",
    "    return self.t\n",
    "\n",
    "  def get_config(self):\n",
    "    # A constraint config is a Python dictionary (JSON-serializable) that can be used to reinstantiate the same object.\n",
    "    return {'t': self.t}\n",
    "\n",
    "class ConstantTensorConstraint(tf.keras.constraints.Constraint):\n",
    "  \"\"\"Constrains tensors to `t`.\"\"\"\n",
    "\n",
    "  def __init__(self, t):\n",
    "    self.t = t\n",
    "\n",
    "  def __call__(self, w):\n",
    "    return self.t\n",
    "\n",
    "  def get_config(self):\n",
    "    return {'t': self.t}\n",
    "\n",
    "\n",
    "# t could be :\n",
    "t = tf.ones((3,4))\n",
    "print(t)\n",
    "\n",
    "t1 = tf.eye(3,4)\n",
    "print(t1)"
   ]
  },
  {
   "cell_type": "code",
   "execution_count": 86,
   "metadata": {},
   "outputs": [],
   "source": [
    "def generate_model():\n",
    "  # méthode API Sequential\n",
    "  multilayer_perceptron = keras.models.Sequential([\n",
    "    keras.layers.Input(shape=(2)),\n",
    "    #keras.layers.GaussianNoise(stddev=1e-3),\n",
    "    keras.layers.Dense(20,activation='elu', kernel_initializer='he_normal'),\n",
    "    keras.layers.Dense(20,activation='elu', kernel_initializer='he_normal'),\n",
    "    keras.layers.Dense(1,use_bias=False)\n",
    "  ])\n",
    "  multilayer_perceptron.summary()\n",
    "  return multilayer_perceptron\n"
   ]
  },
  {
   "cell_type": "code",
   "execution_count": 76,
   "metadata": {},
   "outputs": [
    {
     "name": "stdout",
     "output_type": "stream",
     "text": [
      "Model: \"sequential_3\"\n",
      "_________________________________________________________________\n",
      " Layer (type)                Output Shape              Param #   \n",
      "=================================================================\n",
      " dense_9 (Dense)             (None, 20)                60        \n",
      "                                                                 \n",
      " dense_10 (Dense)            (None, 20)                420       \n",
      "                                                                 \n",
      " dense_11 (Dense)            (None, 1)                 20        \n",
      "                                                                 \n",
      "=================================================================\n",
      "Total params: 500\n",
      "Trainable params: 500\n",
      "Non-trainable params: 0\n",
      "_________________________________________________________________\n"
     ]
    }
   ],
   "source": [
    "# to check :\n",
    "multilayer_perceptron = generate_model()"
   ]
  },
  {
   "cell_type": "code",
   "execution_count": 75,
   "metadata": {},
   "outputs": [
    {
     "name": "stdout",
     "output_type": "stream",
     "text": [
      "len(multilayer_perceptron.trainable_variables): 5\n"
     ]
    }
   ],
   "source": [
    "print('len(multilayer_perceptron.trainable_variables):',len(multilayer_perceptron.trainable_variables))"
   ]
  },
  {
   "cell_type": "code",
   "execution_count": 12,
   "metadata": {},
   "outputs": [],
   "source": [
    "import Polynomials.polynome4students_v2 as Pstud\n",
    "\n",
    "frontier_coords = Pstud._set_coords_rectangle(1,1,40)\n",
    "\n",
    "F_xpy_real = Pstud._set_polynome_xpy_numpy_real(frontier_coords)\n",
    "F_expxpy_real = Pstud._set_polynome_expxpy_numpy_real(frontier_coords)\n",
    "F_sinxpy_real = Pstud._set_polynome_sinxpy_numpy_real(frontier_coords)\n",
    "\n",
    "F_xpy_cmplx = Pstud._set_polynome_xpy_numpy_cmplx(frontier_coords)"
   ]
  },
  {
   "cell_type": "markdown",
   "metadata": {},
   "source": [
    "F facile :"
   ]
  },
  {
   "cell_type": "code",
   "execution_count": null,
   "metadata": {},
   "outputs": [],
   "source": [
    "import sympy as sm\n",
    "x,y = sm.symbols('x,y')\n",
    "\n",
    "def expr_dummy_F():\n",
    "    return x*(1-x)*y*(1-y)\n",
    "\n",
    "expr_dummy_F = x*(1-x)*y*(1-y)\n",
    "dexpr_dummy_F_dx = ...\n"
   ]
  },
  {
   "cell_type": "code",
   "execution_count": 87,
   "metadata": {},
   "outputs": [],
   "source": [
    "# Given EDO\n",
    "def f(X):\n",
    "  return tf.sin(np.pi*X[:,0])*tf.sin(np.pi*X[:,1])\n",
    "\n",
    "\n",
    "def boundary_conditions(X):\n",
    "  return 0\n",
    "\n",
    "\n",
    "def residual(du_dxx,du_dyy,f_ind):\n",
    "  return du_dxx+du_dyy+f_ind\n",
    "\n",
    "\n",
    "def differentiate(model,x):\n",
    "  with tf.GradientTape(persistent=True) as tape:\n",
    "    x1, x2 = x[:,0:1], x[:,1:2]\n",
    "    tape.watch(x1)\n",
    "    tape.watch(x2)\n",
    "    u = model(tf.stack([x1[:,0], x2[:,0]], axis=1))\n",
    "    du_dx = tape.gradient(u,x1)\n",
    "    du_dy = tape.gradient(u,x2)\n",
    "  du_dxx = tape.gradient(du_dx,x1) \n",
    "  du_dyy = tape.gradient(du_dy,x2)\n",
    "  return du_dxx,du_dyy\n",
    "\n",
    "\n",
    "grid_length = 100\n",
    "\n",
    "\n",
    "X = np.linspace(0,1,grid_length, endpoint=True)\n",
    "Y = np.linspace(0,1,grid_length, endpoint=True)\n",
    "tf_coords = tf.convert_to_tensor([tf.constant([x,y],dtype=DTYPE) for x in X for y in Y])\n",
    "tf_boundary_coords = tf.convert_to_tensor([tf.constant([x,y],dtype=DTYPE) for x in [0,1] for y in Y ] + [tf.constant([x,y],dtype=DTYPE) for y in [0,1] for x in X ])  \n",
    "\n",
    "#print(boundary_coords.shape)\n",
    "\n"
   ]
  },
  {
   "cell_type": "markdown",
   "metadata": {},
   "source": [
    "## Method 1: mini-batch gradient descent with training to respect the boundary conditions at the same time of the one for the EDP"
   ]
  },
  {
   "cell_type": "code",
   "execution_count": 88,
   "metadata": {},
   "outputs": [
    {
     "name": "stdout",
     "output_type": "stream",
     "text": [
      "Model: \"sequential_8\"\n",
      "_________________________________________________________________\n",
      " Layer (type)                Output Shape              Param #   \n",
      "=================================================================\n",
      " dense_24 (Dense)            (None, 20)                60        \n",
      "                                                                 \n",
      " dense_25 (Dense)            (None, 20)                420       \n",
      "                                                                 \n",
      " dense_26 (Dense)            (None, 1)                 20        \n",
      "                                                                 \n",
      "=================================================================\n",
      "Total params: 500\n",
      "Trainable params: 500\n",
      "Non-trainable params: 0\n",
      "_________________________________________________________________\n"
     ]
    },
    {
     "name": "stderr",
     "output_type": "stream",
     "text": [
      "C:\\Users\\Gilles\\AppData\\Local\\Programs\\Python\\Python39\\lib\\site-packages\\keras\\optimizer_v2\\adam.py:105: UserWarning: The `lr` argument is deprecated, use `learning_rate` instead.\n",
      "  super(Adam, self).__init__(name, **kwargs)\n"
     ]
    }
   ],
   "source": [
    "# method 1: mini-batch gradient descent + (loss = MSE + MSE on all boundary) \n",
    "\n",
    "# a few train parameters to adjust\n",
    "learning_rate = 0.01\n",
    "training_steps = 200\n",
    "batch_size = 1000\n",
    "display_step = 100\n",
    "\n",
    "alpha = 15 # magnify the boundary condition in the loss\n",
    "\n",
    "optimizer = tf.optimizers.Adam(lr=learning_rate)\n",
    "\n",
    "# generate model\n",
    "multilayer_perceptron = generate_model()\n",
    "\n",
    "\n",
    "# Universal Approximator\n",
    "def g(x):\n",
    "  # F_x = Pstud._eval_polynome_numpy(F_xpy_real,x[0,0],x[0,1])\n",
    "  N_x = multilayer_perceptron(x)\n",
    "  return N_x\n",
    "\n",
    "\n",
    "# Custom loss function to approximate the derivatives\n",
    "\n",
    "def custom_loss_1():\n",
    "  indices = np.random.randint(tf_coords.shape[0],size=batch_size)\n",
    "  tf_sample_coords = tf.convert_to_tensor([tf_coords[i] for i in indices])\n",
    "\n",
    "  dg_dxx,dg_dyy = differentiate(g,tf_sample_coords)\n",
    "  f_r = tf.reshape(f(tf_sample_coords),[batch_size,1])\n",
    "  res = residual(dg_dxx,dg_dyy,f_r)\n",
    "\n",
    "  loss = tf.reduce_mean(tf.square(res)) + alpha*tf.reduce_mean(tf.square(g(tf_boundary_coords)-boundary_conditions(tf_boundary_coords)))\n",
    "  return loss\n",
    "\n",
    "# train of method 1: \n",
    "def train_step_1():\n",
    "  with tf.GradientTape() as tape:\n",
    "    loss = custom_loss_1()\n",
    "  trainable_variables=multilayer_perceptron.trainable_variables\n",
    "  gradients = tape.gradient(loss, trainable_variables)\n",
    "  optimizer.apply_gradients(zip(gradients, trainable_variables))\n"
   ]
  },
  {
   "cell_type": "code",
   "execution_count": 89,
   "metadata": {},
   "outputs": [
    {
     "name": "stdout",
     "output_type": "stream",
     "text": [
      "epoch: 0\n",
      "epoch: 1\n",
      "epoch: 2\n",
      "epoch: 3\n",
      "epoch: 4\n",
      "epoch: 5\n",
      "epoch: 6\n",
      "epoch: 7\n",
      "epoch: 8\n",
      "epoch: 9\n",
      "epoch: 10\n",
      "epoch: 11\n",
      "epoch: 12\n",
      "epoch: 13\n",
      "epoch: 14\n",
      "epoch: 15\n",
      "epoch: 16\n",
      "epoch: 17\n",
      "epoch: 18\n",
      "epoch: 19\n",
      "epoch: 20\n",
      "epoch: 21\n",
      "epoch: 22\n",
      "epoch: 23\n",
      "epoch: 24\n",
      "epoch: 25\n",
      "epoch: 26\n",
      "epoch: 27\n",
      "epoch: 28\n",
      "epoch: 29\n",
      "epoch: 30\n",
      "epoch: 31\n",
      "epoch: 32\n",
      "epoch: 33\n",
      "epoch: 34\n",
      "epoch: 35\n",
      "epoch: 36\n",
      "epoch: 37\n",
      "epoch: 38\n",
      "epoch: 39\n",
      "epoch: 40\n",
      "epoch: 41\n",
      "epoch: 42\n",
      "epoch: 43\n",
      "epoch: 44\n",
      "epoch: 45\n",
      "epoch: 46\n",
      "epoch: 47\n",
      "epoch: 48\n",
      "epoch: 49\n",
      "epoch: 50\n",
      "epoch: 51\n",
      "epoch: 52\n",
      "epoch: 53\n",
      "epoch: 54\n",
      "epoch: 55\n",
      "epoch: 56\n",
      "epoch: 57\n",
      "epoch: 58\n",
      "epoch: 59\n",
      "epoch: 60\n",
      "epoch: 61\n",
      "epoch: 62\n",
      "epoch: 63\n",
      "epoch: 64\n",
      "epoch: 65\n",
      "epoch: 66\n",
      "epoch: 67\n",
      "epoch: 68\n",
      "epoch: 69\n",
      "epoch: 70\n",
      "epoch: 71\n",
      "epoch: 72\n",
      "epoch: 73\n",
      "epoch: 74\n",
      "epoch: 75\n",
      "epoch: 76\n",
      "epoch: 77\n",
      "epoch: 78\n",
      "epoch: 79\n",
      "epoch: 80\n",
      "epoch: 81\n",
      "epoch: 82\n",
      "epoch: 83\n",
      "epoch: 84\n",
      "epoch: 85\n",
      "epoch: 86\n",
      "epoch: 87\n",
      "epoch: 88\n",
      "epoch: 89\n",
      "epoch: 90\n",
      "epoch: 91\n",
      "epoch: 92\n",
      "epoch: 93\n",
      "epoch: 94\n",
      "epoch: 95\n",
      "epoch: 96\n",
      "epoch: 97\n",
      "epoch: 98\n",
      "epoch: 99\n",
      "loss: tf.Tensor(0.061912287, shape=(), dtype=float32)\n",
      "epoch: 100\n",
      "epoch: 101\n",
      "epoch: 102\n",
      "epoch: 103\n",
      "epoch: 104\n",
      "epoch: 105\n",
      "epoch: 106\n",
      "epoch: 107\n",
      "epoch: 108\n",
      "epoch: 109\n",
      "epoch: 110\n",
      "epoch: 111\n",
      "epoch: 112\n",
      "epoch: 113\n",
      "epoch: 114\n",
      "epoch: 115\n",
      "epoch: 116\n",
      "epoch: 117\n",
      "epoch: 118\n",
      "epoch: 119\n",
      "epoch: 120\n",
      "epoch: 121\n",
      "epoch: 122\n"
     ]
    },
    {
     "ename": "KeyboardInterrupt",
     "evalue": "",
     "output_type": "error",
     "traceback": [
      "\u001b[1;31m---------------------------------------------------------------------------\u001b[0m",
      "\u001b[1;31mKeyboardInterrupt\u001b[0m                         Traceback (most recent call last)",
      "\u001b[1;32mc:\\Users\\Gilles\\CS\\cours\\PoleProjet\\FormationRecherche\\Tsunami\\TP\\sceance4\\Tsunami\\differentiate\\NN_test_function_A_F.ipynb Cell 17'\u001b[0m in \u001b[0;36m<cell line: 5>\u001b[1;34m()\u001b[0m\n\u001b[0;32m      <a href='vscode-notebook-cell:/c%3A/Users/Gilles/CS/cours/PoleProjet/FormationRecherche/Tsunami/TP/sceance4/Tsunami/differentiate/NN_test_function_A_F.ipynb#ch0000040?line=5'>6</a>\u001b[0m \u001b[39mprint\u001b[39m(\u001b[39m'\u001b[39m\u001b[39mepoch:\u001b[39m\u001b[39m'\u001b[39m,i)\n\u001b[0;32m      <a href='vscode-notebook-cell:/c%3A/Users/Gilles/CS/cours/PoleProjet/FormationRecherche/Tsunami/TP/sceance4/Tsunami/differentiate/NN_test_function_A_F.ipynb#ch0000040?line=6'>7</a>\u001b[0m train_step_1()\n\u001b[1;32m----> <a href='vscode-notebook-cell:/c%3A/Users/Gilles/CS/cours/PoleProjet/FormationRecherche/Tsunami/TP/sceance4/Tsunami/differentiate/NN_test_function_A_F.ipynb#ch0000040?line=7'>8</a>\u001b[0m loss \u001b[39m=\u001b[39m custom_loss_1()\n\u001b[0;32m      <a href='vscode-notebook-cell:/c%3A/Users/Gilles/CS/cours/PoleProjet/FormationRecherche/Tsunami/TP/sceance4/Tsunami/differentiate/NN_test_function_A_F.ipynb#ch0000040?line=8'>9</a>\u001b[0m \u001b[39mif\u001b[39;00m i \u001b[39m%\u001b[39m display_step \u001b[39m==\u001b[39m display_step\u001b[39m-\u001b[39m\u001b[39m1\u001b[39m:\n\u001b[0;32m     <a href='vscode-notebook-cell:/c%3A/Users/Gilles/CS/cours/PoleProjet/FormationRecherche/Tsunami/TP/sceance4/Tsunami/differentiate/NN_test_function_A_F.ipynb#ch0000040?line=9'>10</a>\u001b[0m   \u001b[39mprint\u001b[39m(\u001b[39m\"\u001b[39m\u001b[39mloss:\u001b[39m\u001b[39m\"\u001b[39m, loss)\n",
      "\u001b[1;32mc:\\Users\\Gilles\\CS\\cours\\PoleProjet\\FormationRecherche\\Tsunami\\TP\\sceance4\\Tsunami\\differentiate\\NN_test_function_A_F.ipynb Cell 16'\u001b[0m in \u001b[0;36mcustom_loss_1\u001b[1;34m()\u001b[0m\n\u001b[0;32m     <a href='vscode-notebook-cell:/c%3A/Users/Gilles/CS/cours/PoleProjet/FormationRecherche/Tsunami/TP/sceance4/Tsunami/differentiate/NN_test_function_A_F.ipynb#ch0000037?line=25'>26</a>\u001b[0m \u001b[39mdef\u001b[39;00m \u001b[39mcustom_loss_1\u001b[39m():\n\u001b[0;32m     <a href='vscode-notebook-cell:/c%3A/Users/Gilles/CS/cours/PoleProjet/FormationRecherche/Tsunami/TP/sceance4/Tsunami/differentiate/NN_test_function_A_F.ipynb#ch0000037?line=26'>27</a>\u001b[0m   indices \u001b[39m=\u001b[39m np\u001b[39m.\u001b[39mrandom\u001b[39m.\u001b[39mrandint(tf_coords\u001b[39m.\u001b[39mshape[\u001b[39m0\u001b[39m],size\u001b[39m=\u001b[39mbatch_size)\n\u001b[1;32m---> <a href='vscode-notebook-cell:/c%3A/Users/Gilles/CS/cours/PoleProjet/FormationRecherche/Tsunami/TP/sceance4/Tsunami/differentiate/NN_test_function_A_F.ipynb#ch0000037?line=27'>28</a>\u001b[0m   tf_sample_coords \u001b[39m=\u001b[39m tf\u001b[39m.\u001b[39mconvert_to_tensor([tf_coords[i] \u001b[39mfor\u001b[39;00m i \u001b[39min\u001b[39;00m indices])\n\u001b[0;32m     <a href='vscode-notebook-cell:/c%3A/Users/Gilles/CS/cours/PoleProjet/FormationRecherche/Tsunami/TP/sceance4/Tsunami/differentiate/NN_test_function_A_F.ipynb#ch0000037?line=29'>30</a>\u001b[0m   dg_dxx,dg_dyy \u001b[39m=\u001b[39m differentiate(g,tf_sample_coords)\n\u001b[0;32m     <a href='vscode-notebook-cell:/c%3A/Users/Gilles/CS/cours/PoleProjet/FormationRecherche/Tsunami/TP/sceance4/Tsunami/differentiate/NN_test_function_A_F.ipynb#ch0000037?line=30'>31</a>\u001b[0m   f_r \u001b[39m=\u001b[39m tf\u001b[39m.\u001b[39mreshape(f(tf_sample_coords),[batch_size,\u001b[39m1\u001b[39m])\n",
      "\u001b[1;32mc:\\Users\\Gilles\\CS\\cours\\PoleProjet\\FormationRecherche\\Tsunami\\TP\\sceance4\\Tsunami\\differentiate\\NN_test_function_A_F.ipynb Cell 16'\u001b[0m in \u001b[0;36m<listcomp>\u001b[1;34m(.0)\u001b[0m\n\u001b[0;32m     <a href='vscode-notebook-cell:/c%3A/Users/Gilles/CS/cours/PoleProjet/FormationRecherche/Tsunami/TP/sceance4/Tsunami/differentiate/NN_test_function_A_F.ipynb#ch0000037?line=25'>26</a>\u001b[0m \u001b[39mdef\u001b[39;00m \u001b[39mcustom_loss_1\u001b[39m():\n\u001b[0;32m     <a href='vscode-notebook-cell:/c%3A/Users/Gilles/CS/cours/PoleProjet/FormationRecherche/Tsunami/TP/sceance4/Tsunami/differentiate/NN_test_function_A_F.ipynb#ch0000037?line=26'>27</a>\u001b[0m   indices \u001b[39m=\u001b[39m np\u001b[39m.\u001b[39mrandom\u001b[39m.\u001b[39mrandint(tf_coords\u001b[39m.\u001b[39mshape[\u001b[39m0\u001b[39m],size\u001b[39m=\u001b[39mbatch_size)\n\u001b[1;32m---> <a href='vscode-notebook-cell:/c%3A/Users/Gilles/CS/cours/PoleProjet/FormationRecherche/Tsunami/TP/sceance4/Tsunami/differentiate/NN_test_function_A_F.ipynb#ch0000037?line=27'>28</a>\u001b[0m   tf_sample_coords \u001b[39m=\u001b[39m tf\u001b[39m.\u001b[39mconvert_to_tensor([tf_coords[i] \u001b[39mfor\u001b[39;00m i \u001b[39min\u001b[39;00m indices])\n\u001b[0;32m     <a href='vscode-notebook-cell:/c%3A/Users/Gilles/CS/cours/PoleProjet/FormationRecherche/Tsunami/TP/sceance4/Tsunami/differentiate/NN_test_function_A_F.ipynb#ch0000037?line=29'>30</a>\u001b[0m   dg_dxx,dg_dyy \u001b[39m=\u001b[39m differentiate(g,tf_sample_coords)\n\u001b[0;32m     <a href='vscode-notebook-cell:/c%3A/Users/Gilles/CS/cours/PoleProjet/FormationRecherche/Tsunami/TP/sceance4/Tsunami/differentiate/NN_test_function_A_F.ipynb#ch0000037?line=30'>31</a>\u001b[0m   f_r \u001b[39m=\u001b[39m tf\u001b[39m.\u001b[39mreshape(f(tf_sample_coords),[batch_size,\u001b[39m1\u001b[39m])\n",
      "File \u001b[1;32m~\\AppData\\Local\\Programs\\Python\\Python39\\lib\\site-packages\\tensorflow\\python\\util\\traceback_utils.py:150\u001b[0m, in \u001b[0;36mfilter_traceback.<locals>.error_handler\u001b[1;34m(*args, **kwargs)\u001b[0m\n\u001b[0;32m    <a href='file:///c%3A/Users/Gilles/AppData/Local/Programs/Python/Python39/lib/site-packages/tensorflow/python/util/traceback_utils.py?line=147'>148</a>\u001b[0m filtered_tb \u001b[39m=\u001b[39m \u001b[39mNone\u001b[39;00m\n\u001b[0;32m    <a href='file:///c%3A/Users/Gilles/AppData/Local/Programs/Python/Python39/lib/site-packages/tensorflow/python/util/traceback_utils.py?line=148'>149</a>\u001b[0m \u001b[39mtry\u001b[39;00m:\n\u001b[1;32m--> <a href='file:///c%3A/Users/Gilles/AppData/Local/Programs/Python/Python39/lib/site-packages/tensorflow/python/util/traceback_utils.py?line=149'>150</a>\u001b[0m   \u001b[39mreturn\u001b[39;00m fn(\u001b[39m*\u001b[39margs, \u001b[39m*\u001b[39m\u001b[39m*\u001b[39mkwargs)\n\u001b[0;32m    <a href='file:///c%3A/Users/Gilles/AppData/Local/Programs/Python/Python39/lib/site-packages/tensorflow/python/util/traceback_utils.py?line=150'>151</a>\u001b[0m \u001b[39mexcept\u001b[39;00m \u001b[39mException\u001b[39;00m \u001b[39mas\u001b[39;00m e:\n\u001b[0;32m    <a href='file:///c%3A/Users/Gilles/AppData/Local/Programs/Python/Python39/lib/site-packages/tensorflow/python/util/traceback_utils.py?line=151'>152</a>\u001b[0m   filtered_tb \u001b[39m=\u001b[39m _process_traceback_frames(e\u001b[39m.\u001b[39m__traceback__)\n",
      "File \u001b[1;32m~\\AppData\\Local\\Programs\\Python\\Python39\\lib\\site-packages\\tensorflow\\python\\util\\dispatch.py:1082\u001b[0m, in \u001b[0;36madd_dispatch_support.<locals>.decorator.<locals>.op_dispatch_handler\u001b[1;34m(*args, **kwargs)\u001b[0m\n\u001b[0;32m   <a href='file:///c%3A/Users/Gilles/AppData/Local/Programs/Python/Python39/lib/site-packages/tensorflow/python/util/dispatch.py?line=1079'>1080</a>\u001b[0m \u001b[39m# Fallback dispatch system (dispatch v1):\u001b[39;00m\n\u001b[0;32m   <a href='file:///c%3A/Users/Gilles/AppData/Local/Programs/Python/Python39/lib/site-packages/tensorflow/python/util/dispatch.py?line=1080'>1081</a>\u001b[0m \u001b[39mtry\u001b[39;00m:\n\u001b[1;32m-> <a href='file:///c%3A/Users/Gilles/AppData/Local/Programs/Python/Python39/lib/site-packages/tensorflow/python/util/dispatch.py?line=1081'>1082</a>\u001b[0m   \u001b[39mreturn\u001b[39;00m dispatch_target(\u001b[39m*\u001b[39margs, \u001b[39m*\u001b[39m\u001b[39m*\u001b[39mkwargs)\n\u001b[0;32m   <a href='file:///c%3A/Users/Gilles/AppData/Local/Programs/Python/Python39/lib/site-packages/tensorflow/python/util/dispatch.py?line=1082'>1083</a>\u001b[0m \u001b[39mexcept\u001b[39;00m (\u001b[39mTypeError\u001b[39;00m, \u001b[39mValueError\u001b[39;00m):\n\u001b[0;32m   <a href='file:///c%3A/Users/Gilles/AppData/Local/Programs/Python/Python39/lib/site-packages/tensorflow/python/util/dispatch.py?line=1083'>1084</a>\u001b[0m   \u001b[39m# Note: convert_to_eager_tensor currently raises a ValueError, not a\u001b[39;00m\n\u001b[0;32m   <a href='file:///c%3A/Users/Gilles/AppData/Local/Programs/Python/Python39/lib/site-packages/tensorflow/python/util/dispatch.py?line=1084'>1085</a>\u001b[0m   \u001b[39m# TypeError, when given unexpected types.  So we need to catch both.\u001b[39;00m\n\u001b[0;32m   <a href='file:///c%3A/Users/Gilles/AppData/Local/Programs/Python/Python39/lib/site-packages/tensorflow/python/util/dispatch.py?line=1085'>1086</a>\u001b[0m   result \u001b[39m=\u001b[39m dispatch(op_dispatch_handler, args, kwargs)\n",
      "\u001b[1;31mKeyboardInterrupt\u001b[0m: "
     ]
    }
   ],
   "source": [
    "# Training the Model of method 1:\n",
    "\n",
    "all_losses = []\n",
    "\n",
    "for i in range(training_steps):\n",
    "  print('epoch:',i)\n",
    "  train_step_1()\n",
    "  loss = custom_loss_1()\n",
    "  if i % display_step == display_step-1:\n",
    "    print(\"loss:\", loss)\n",
    "  all_losses.append(loss)\n",
    "\n",
    "plt.plot(np.arange(0,training_steps),all_losses)\n",
    "plt.show()"
   ]
  },
  {
   "cell_type": "markdown",
   "metadata": {},
   "source": [
    "## Method 2: MBGD with pretraining to respect the boundary condition"
   ]
  },
  {
   "cell_type": "code",
   "execution_count": 81,
   "metadata": {},
   "outputs": [
    {
     "name": "stdout",
     "output_type": "stream",
     "text": [
      "Model: \"sequential_6\"\n",
      "_________________________________________________________________\n",
      " Layer (type)                Output Shape              Param #   \n",
      "=================================================================\n",
      " dense_18 (Dense)            (None, 20)                60        \n",
      "                                                                 \n",
      " dense_19 (Dense)            (None, 20)                420       \n",
      "                                                                 \n",
      " dense_20 (Dense)            (None, 1)                 20        \n",
      "                                                                 \n",
      "=================================================================\n",
      "Total params: 500\n",
      "Trainable params: 500\n",
      "Non-trainable params: 0\n",
      "_________________________________________________________________\n"
     ]
    }
   ],
   "source": [
    "# method 2 : pretrain before on the boundary condition and after inside the boundary\n",
    "\n",
    "# a few train parameters to adjust\n",
    "learning_rate = 0.01\n",
    "training_steps_boundary = 200\n",
    "training_steps_global = 100\n",
    "batch_size = 1000\n",
    "display_step_boundary = 10\n",
    "display_step_global = 10\n",
    "\n",
    "alpha=0 # magnify the boundary condition in custom_loss_inside()\n",
    "\n",
    "optimizer = tf.optimizers.Adam(lr=learning_rate)\n",
    "\n",
    "# generate model\n",
    "multilayer_perceptron = generate_model()\n",
    "\n",
    "# Custom loss function to approximate the derivatives\n",
    "def custom_loss_2_boundary():\n",
    "  indices = np.random.randint(tf_boundary_coords.shape[0],size=batch_size)\n",
    "  tf_sample_boundary_coords = tf.convert_to_tensor([tf_boundary_coords[i] for i in indices])\n",
    "\n",
    "  loss = tf.reduce_mean(tf.square(g(tf_sample_boundary_coords)-boundary_conditions(tf_sample_boundary_coords)))\n",
    "  # print('loss :', loss)\n",
    "  return loss\n",
    "\n",
    "\n",
    "def custom_loss_2():\n",
    "  indices = np.random.randint(tf_coords.shape[0],size=batch_size)\n",
    "  tf_sample_coords = tf.convert_to_tensor([tf_coords[i] for i in indices])\n",
    "\n",
    "  dg_dxx,dg_dyy = differentiate(g,tf_sample_coords)\n",
    "  f_r = tf.reshape(f(tf_sample_coords),[batch_size,1])\n",
    "  res = residual(dg_dxx,dg_dyy,f_r)\n",
    "\n",
    "  loss = tf.reduce_mean(tf.square(res)) + alpha*tf.reduce_mean(tf.square(g(tf_boundary_coords)-boundary_conditions(tf_boundary_coords)))\n",
    "  return loss\n",
    "\n",
    "\n",
    "# train of method 2:\n",
    "def train_step_2_boundary():\n",
    "  with tf.GradientTape() as tape:\n",
    "    loss = custom_loss_2_boundary()\n",
    "  trainable_variables=multilayer_perceptron.trainable_variables\n",
    "  gradients = tape.gradient(loss, trainable_variables)\n",
    "  optimizer.apply_gradients(zip(gradients, trainable_variables))\n",
    "\n",
    "def train_step_2_inside():\n",
    "  with tf.GradientTape() as tape:\n",
    "    loss = custom_loss_2()\n",
    "  trainable_variables=multilayer_perceptron.trainable_variables\n",
    "  gradients = tape.gradient(loss, trainable_variables)\n",
    "  optimizer.apply_gradients(zip(gradients, trainable_variables))\n"
   ]
  },
  {
   "cell_type": "code",
   "execution_count": null,
   "metadata": {},
   "outputs": [],
   "source": [
    "# Training the Model of method 2:\n",
    "\n",
    "all_losses = []\n",
    "bound_losses = []\n",
    "b_global_losses=[]\n",
    "global_losses = []\n",
    "for i in range(training_steps_boundary):\n",
    "  print('epoch:',i)\n",
    "  train_step_2_boundary()\n",
    "  loss = custom_loss_2_boundary()\n",
    "  if i % display_step_boundary == display_step_boundary-1:\n",
    "    print(\"loss boundary: \", loss)\n",
    "  bound_losses.append(loss)\n",
    "  b_global_losses.append(custom_loss_2())\n",
    "\n",
    "for i in range(training_steps_global):\n",
    "  print('epoch:',i)\n",
    "  train_step_2_inside()\n",
    "  loss = custom_loss_2()\n",
    "  if i % display_step_global == display_step_global-1:\n",
    "        print(\"loss :\", loss)\n",
    "  global_losses.append(loss)\n",
    "\n",
    "\n",
    "\n",
    "plt.figure(1, figsize=(15, 5))\n",
    "\n",
    "plt.subplot(211)\n",
    "plt.plot(np.arange(0,training_steps_boundary),bound_losses, color='blue', label='loss on the boundary')\n",
    "plt.plot(np.arange(0,training_steps_boundary), b_global_losses, color='black', label='global loss during training on boundary')\n",
    "\n",
    "plt.subplot(212)\n",
    "plt.plot(np.arange(0,training_steps_global), global_losses, color='red', label='global loss during global training')\n",
    "\n",
    "plt.show() \n"
   ]
  },
  {
   "cell_type": "code",
   "execution_count": null,
   "metadata": {},
   "outputs": [],
   "source": [
    "def damp(t):\n",
    "    return np.exp(-t) * np.cos(2*np.pi*t)\n",
    "\n",
    "\n",
    "x1 = np.arange(0.0, 5.0, 0.1)\n",
    "x2 = np.arange(0.0, 5.0, 0.02)\n",
    "y2 = np.cos(2*np.pi*x2)\n",
    "\n",
    "\n",
    "plt.figure(1, figsize=(15, 5))\n",
    "\n",
    "plt.subplot(211)\n",
    "plt.plot(x1, damp(x1), color='blue', marker='o', label='data')\n",
    "plt.plot(x2, damp(x2), color='black', label='datapoints')\n",
    "\n",
    "plt.subplot(212)\n",
    "plt.plot(x2, y2, color='red', linestyle='--', label='signal')\n",
    "\n",
    "plt.show()  # doctest: +SKIP"
   ]
  },
  {
   "cell_type": "markdown",
   "metadata": {},
   "source": [
    "Remark for method 1: considering the low evolution after 100 epochs, we could have end it."
   ]
  },
  {
   "cell_type": "markdown",
   "metadata": {},
   "source": [
    "## Compare to the true solution"
   ]
  },
  {
   "cell_type": "code",
   "execution_count": 12,
   "metadata": {},
   "outputs": [],
   "source": [
    "from matplotlib import cm\n",
    "from matplotlib.colors import ListedColormap,LinearSegmentedColormap"
   ]
  },
  {
   "cell_type": "code",
   "execution_count": 13,
   "metadata": {},
   "outputs": [],
   "source": [
    "def true_function(X):\n",
    "    return tf.sin(np.pi*X[:,0])*tf.sin(np.pi*X[:,1])/(2*np.pi**2)\n",
    "\n",
    "def false_appro_function(X):\n",
    "    return tf.sin(np.pi*X[:,0])*tf.sin(np.pi*X[:,1])/(np.pi**2)+1"
   ]
  },
  {
   "cell_type": "code",
   "execution_count": 67,
   "metadata": {},
   "outputs": [
    {
     "name": "stdout",
     "output_type": "stream",
     "text": [
      "0.9950819\n",
      "(100, 100)\n"
     ]
    }
   ],
   "source": [
    "# print(tf.reshape(tf_coords,[100,100,2]))\n",
    "# print(tf.reshape(tf_coords,[100,100,2])[-1])\n",
    "\n",
    "# to check that the model is not overfitting\n",
    "# Rk: may blur the cmapping then\n",
    "noise = (tf.random.uniform((grid_length**2,2))-0.5)/grid_length\n",
    "\n",
    "tf_noisy_coords = tf_coords+noise\n",
    "\n",
    "true_values = tf.reshape(true_function(tf_noisy_coords),[100,100]).numpy()\n",
    "appro_values = tf.reshape(g(tf_noisy_coords),[100,100]).numpy()\n",
    "error = np.abs(true_values-appro_values)\n",
    "\n",
    "print(np.max(error))\n",
    "print(error.shape)"
   ]
  },
  {
   "cell_type": "code",
   "execution_count": 68,
   "metadata": {},
   "outputs": [
    {
     "data": {
      "text/plain": [
       "<matplotlib.colorbar.Colorbar at 0x1990d156190>"
      ]
     },
     "execution_count": 68,
     "metadata": {},
     "output_type": "execute_result"
    },
    {
     "data": {
      "image/png": "[encoded data removed]",
      "text/plain": [
       "<Figure size 432x288 with 2 Axes>"
      ]
     },
     "metadata": {
      "needs_background": "light"
     },
     "output_type": "display_data"
    }
   ],
   "source": [
    "seismic = cm.get_cmap('seismic', 1024)\n",
    "# visualize with the new_inferno colormaps\n",
    "plt.pcolormesh(error, cmap = seismic)\n",
    "plt.colorbar()\n"
   ]
  },
  {
   "cell_type": "code",
   "execution_count": 69,
   "metadata": {},
   "outputs": [
    {
     "data": {
      "text/plain": [
       "<matplotlib.colorbar.Colorbar at 0x1990d207a90>"
      ]
     },
     "execution_count": 69,
     "metadata": {},
     "output_type": "execute_result"
    },
    {
     "data": {
      "image/png": "[encoded data removed]",
      "text/plain": [
       "<Figure size 432x288 with 2 Axes>"
      ]
     },
     "metadata": {
      "needs_background": "light"
     },
     "output_type": "display_data"
    }
   ],
   "source": [
    "plt.pcolormesh(appro_values, cmap = seismic)\n",
    "plt.colorbar()"
   ]
  },
  {
   "cell_type": "code",
   "execution_count": 70,
   "metadata": {},
   "outputs": [
    {
     "data": {
      "text/plain": [
       "<matplotlib.colorbar.Colorbar at 0x1990d2b5f10>"
      ]
     },
     "execution_count": 70,
     "metadata": {},
     "output_type": "execute_result"
    },
    {
     "data": {
      "image/png": "[encoded data removed]",
      "text/plain": [
       "<Figure size 432x288 with 2 Axes>"
      ]
     },
     "metadata": {
      "needs_background": "light"
     },
     "output_type": "display_data"
    }
   ],
   "source": [
    "plt.pcolormesh(true_values, cmap = seismic)\n",
    "plt.colorbar()"
   ]
  },
  {
   "cell_type": "markdown",
   "metadata": {},
   "source": [
    "Les valeurs sont très petites aux bords. L'écart avec les conditions aux frontières doit être négligé. "
   ]
  },
  {
   "cell_type": "markdown",
   "metadata": {},
   "source": [
    "## Save the model"
   ]
  },
  {
   "cell_type": "code",
   "execution_count": 21,
   "metadata": {},
   "outputs": [
    {
     "name": "stdout",
     "output_type": "stream",
     "text": [
      "WARNING:tensorflow:Compiled the loaded model, but the compiled metrics have yet to be built. `model.compile_metrics` will be empty until you train or evaluate the model.\n"
     ]
    }
   ],
   "source": [
    "multilayer_perceptron.save('differentiate/model_EDP_2D.h5')"
   ]
  },
  {
   "cell_type": "markdown",
   "metadata": {},
   "source": [
    "## Load the model"
   ]
  },
  {
   "cell_type": "code",
   "execution_count": 18,
   "metadata": {},
   "outputs": [
    {
     "name": "stdout",
     "output_type": "stream",
     "text": [
      "WARNING:tensorflow:No training configuration found in the save file, so the model was *not* compiled. Compile it manually.\n"
     ]
    }
   ],
   "source": [
    "multilayer_perceptron = keras.models.load_model('differentiate/model_EDP_2D.h5')"
   ]
  },
  {
   "cell_type": "markdown",
   "metadata": {},
   "source": []
  },
  {
   "cell_type": "markdown",
   "metadata": {},
   "source": [
    "# Questions "
   ]
  },
  {
   "cell_type": "markdown",
   "metadata": {},
   "source": [
    "Quelle architecture ? \n",
    "\n",
    "Comment éviter l'overfitting ?\n",
    "\n",
    "Comment exploiter les avantages de l'IA ?\n",
    "\n",
    "Choix de l'optimizer + regularizer ? + Implémentation ?\n",
    "\n",
    "Implémentation de système d'EDP à plusieurs inconnues (étant des fonctions bien sûr) ? (Est-ce que c'est utile ça ? Par curiosité)\n",
    "\n",
    "Plus rapide ? Comment enlever les boucles `for` ? => mini_batch_gradient_descent ? done\n",
    "\n",
    "Besoin de batch_normalization ? + autres hyperparamètres ?"
   ]
  },
  {
   "cell_type": "markdown",
   "metadata": {},
   "source": [
    "# Idées"
   ]
  },
  {
   "cell_type": "markdown",
   "metadata": {},
   "source": [
    "Ajout de bruit en entrée contre l'overfitting \n",
    "\n",
    "Une sortie par inconnue"
   ]
  }
 ],
 "metadata": {
  "interpreter": {
   "hash": "b9332023be3d0ac51f208965c608ec938465769da3e12a3a23e7ee02ae32d20e"
  },
  "kernelspec": {
   "display_name": "Python 3.9.1 64-bit",
   "language": "python",
   "name": "python3"
  },
  "language_info": {
   "codemirror_mode": {
    "name": "ipython",
    "version": 3
   },
   "file_extension": ".py",
   "mimetype": "text/x-python",
   "name": "python",
   "nbconvert_exporter": "python",
   "pygments_lexer": "ipython3",
   "version": "3.9.11"
  },
  "orig_nbformat": 4
 },
 "nbformat": 4,
 "nbformat_minor": 2
}
