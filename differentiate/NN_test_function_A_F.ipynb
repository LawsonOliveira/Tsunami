{
 "cells": [
  {
   "cell_type": "code",
   "execution_count": 1,
   "metadata": {},
   "outputs": [],
   "source": [
    "import tensorflow as tf\n",
    "import keras\n",
    "import matplotlib.pyplot as plt\n",
    "import numpy as np"
   ]
  },
  {
   "cell_type": "code",
   "execution_count": 4,
   "metadata": {},
   "outputs": [],
   "source": [
    "__file__ = 'C:/Users/antie/Documents/Pole_recherche/Tsunami'"
   ]
  },
  {
   "cell_type": "code",
   "execution_count": 2,
   "metadata": {},
   "outputs": [],
   "source": [
    "__file__ = 'C:/Users/Gilles/CS/cours/PoleProjet/FormationRecherche/Tsunami/TP/sceance4/Tsunami'"
   ]
  },
  {
   "cell_type": "code",
   "execution_count": 3,
   "metadata": {},
   "outputs": [
    {
     "name": "stdout",
     "output_type": "stream",
     "text": [
      "c:\\Users\\Gilles\\CS\\cours\\PoleProjet\\FormationRecherche\\Tsunami\\TP\\sceance4\\Tsunami\\differentiate\n",
      "C:\\Users\\Gilles\\CS\\cours\\PoleProjet\\FormationRecherche\\Tsunami\\TP\\sceance4\\Tsunami\n"
     ]
    }
   ],
   "source": [
    "import os\n",
    "\n",
    "print(os.getcwd())\n",
    "os.chdir(__file__)\n",
    "print(os.getcwd())"
   ]
  },
  {
   "cell_type": "code",
   "execution_count": 4,
   "metadata": {},
   "outputs": [],
   "source": [
    "DTYPE = 'float32'\n",
    "tf.keras.backend.set_floatx(DTYPE)"
   ]
  },
  {
   "cell_type": "markdown",
   "metadata": {},
   "source": [
    "## Create the model"
   ]
  },
  {
   "cell_type": "code",
   "execution_count": 85,
   "metadata": {},
   "outputs": [
    {
     "name": "stdout",
     "output_type": "stream",
     "text": [
      "tf.Tensor(\n",
      "[[1. 1. 1. 1.]\n",
      " [1. 1. 1. 1.]\n",
      " [1. 1. 1. 1.]], shape=(3, 4), dtype=float32)\n",
      "tf.Tensor(\n",
      "[[1. 0. 0. 0.]\n",
      " [0. 1. 0. 0.]\n",
      " [0. 0. 1. 0.]], shape=(3, 4), dtype=float32)\n"
     ]
    }
   ],
   "source": [
    "# To fix weights or biases of layers\n",
    "class ConstantTensorInitializer(tf.keras.initializers.Initializer):\n",
    "  \"\"\"Initializes tensors to `t`.\"\"\"\n",
    "\n",
    "  def __init__(self, t):\n",
    "    self.t = t\n",
    "\n",
    "  def __call__(self, shape, dtype=None):\n",
    "    return self.t\n",
    "\n",
    "  def get_config(self):\n",
    "    # A constraint config is a Python dictionary (JSON-serializable) that can be used to reinstantiate the same object.\n",
    "    return {'t': self.t}\n",
    "\n",
    "class ConstantTensorConstraint(tf.keras.constraints.Constraint):\n",
    "  \"\"\"Constrains tensors to `t`.\"\"\"\n",
    "\n",
    "  def __init__(self, t):\n",
    "    self.t = t\n",
    "\n",
    "  def __call__(self, w):\n",
    "    return self.t\n",
    "\n",
    "  def get_config(self):\n",
    "    return {'t': self.t}\n",
    "\n",
    "\n",
    "# t could be :\n",
    "t = tf.ones((3,4))\n",
    "print(t)\n",
    "\n",
    "t1 = tf.eye(3,4)\n",
    "print(t1)"
   ]
  },
  {
   "cell_type": "code",
   "execution_count": 6,
   "metadata": {},
   "outputs": [],
   "source": [
    "def generate_model():\n",
    "  # méthode API Sequential\n",
    "  multilayer_perceptron = keras.models.Sequential([\n",
    "    keras.layers.Input(shape=(2)),\n",
    "    #keras.layers.GaussianNoise(stddev=1e-3),\n",
    "    keras.layers.Dense(20,activation='elu', kernel_initializer='he_normal'),\n",
    "    keras.layers.Dense(20,activation='elu', kernel_initializer='he_normal'),\n",
    "    keras.layers.Dense(1,use_bias=False)\n",
    "  ])\n",
    "  multilayer_perceptron.summary()\n",
    "  return multilayer_perceptron\n"
   ]
  },
  {
   "cell_type": "code",
   "execution_count": 7,
   "metadata": {},
   "outputs": [
    {
     "name": "stdout",
     "output_type": "stream",
     "text": [
      "Model: \"sequential\"\n",
      "_________________________________________________________________\n",
      " Layer (type)                Output Shape              Param #   \n",
      "=================================================================\n",
      " dense (Dense)               (None, 20)                60        \n",
      "                                                                 \n",
      " dense_1 (Dense)             (None, 20)                420       \n",
      "                                                                 \n",
      " dense_2 (Dense)             (None, 1)                 20        \n",
      "                                                                 \n",
      "=================================================================\n",
      "Total params: 500\n",
      "Trainable params: 500\n",
      "Non-trainable params: 0\n",
      "_________________________________________________________________\n"
     ]
    }
   ],
   "source": [
    "# to check :\n",
    "multilayer_perceptron = generate_model()"
   ]
  },
  {
   "cell_type": "code",
   "execution_count": 9,
   "metadata": {},
   "outputs": [],
   "source": [
    "# Given EDO\n",
    "def f(X):\n",
    "  return tf.sin(np.pi*X[:,0])*tf.sin(np.pi*X[:,1])\n",
    "\n",
    "\n",
    "def boundary_conditions(X):\n",
    "  return 0\n",
    "\n",
    "\n",
    "def residual(du_dxx,du_dyy,f_ind):\n",
    "  return du_dxx+du_dyy+f_ind\n",
    "\n",
    "\n",
    "def differentiate(model,x):\n",
    "  with tf.GradientTape(persistent=True) as tape:\n",
    "    x1, x2 = x[:,0:1], x[:,1:2]\n",
    "    tape.watch(x1)\n",
    "    tape.watch(x2)\n",
    "    u = model(tf.stack([x1[:,0], x2[:,0]], axis=1))\n",
    "    du_dx = tape.gradient(u,x1)\n",
    "    du_dy = tape.gradient(u,x2)\n",
    "  du_dxx = tape.gradient(du_dx,x1) \n",
    "  du_dyy = tape.gradient(du_dy,x2)\n",
    "  return du_dx, du_dxx, du_dy, du_dyy\n",
    "\n",
    "\n",
    "grid_length = 100\n",
    "\n",
    "\n",
    "X = np.linspace(0,1,grid_length, endpoint=True)\n",
    "Y = np.linspace(0,1,grid_length, endpoint=True)\n",
    "tf_coords = tf.convert_to_tensor([tf.constant([x,y],dtype=DTYPE) for x in X for y in Y])\n",
    "tf_boundary_coords = tf.convert_to_tensor([tf.constant([x,y],dtype=DTYPE) for x in [0,1] for y in Y ] + [tf.constant([x,y],dtype=DTYPE) for y in [0,1] for x in X ])  \n",
    "\n",
    "#print(boundary_coords.shape)\n",
    "\n"
   ]
  },
  {
   "cell_type": "markdown",
   "metadata": {},
   "source": [
    "## Method 1: mini-batch gradient descent with training to respect the boundary conditions at the same time of the one for the EDP"
   ]
  },
  {
   "cell_type": "markdown",
   "metadata": {},
   "source": [
    "Papier : 2019_A_unified_deep_artificial_neural_network_approach_to_PDE_in_complex_geometries.pdf"
   ]
  },
  {
   "cell_type": "code",
   "execution_count": 7,
   "metadata": {},
   "outputs": [
    {
     "name": "stdout",
     "output_type": "stream",
     "text": [
      "Model: \"sequential\"\n",
      "_________________________________________________________________\n",
      " Layer (type)                Output Shape              Param #   \n",
      "=================================================================\n",
      " dense (Dense)               (None, 20)                60        \n",
      "                                                                 \n",
      " dense_1 (Dense)             (None, 20)                420       \n",
      "                                                                 \n",
      " dense_2 (Dense)             (None, 1)                 20        \n",
      "                                                                 \n",
      "=================================================================\n",
      "Total params: 500\n",
      "Trainable params: 500\n",
      "Non-trainable params: 0\n",
      "_________________________________________________________________\n"
     ]
    },
    {
     "name": "stderr",
     "output_type": "stream",
     "text": [
      "C:\\Users\\Gilles\\AppData\\Local\\Programs\\Python\\Python39\\lib\\site-packages\\keras\\optimizer_v2\\adam.py:105: UserWarning: The `lr` argument is deprecated, use `learning_rate` instead.\n",
      "  super(Adam, self).__init__(name, **kwargs)\n"
     ]
    }
   ],
   "source": [
    "# method 1: mini-batch gradient descent + (loss = MSE + MSE on all boundary) \n",
    "\n",
    "# a few train parameters to adjust\n",
    "learning_rate = 0.01\n",
    "training_steps = 200\n",
    "batch_size = 1000\n",
    "display_step = 100\n",
    "\n",
    "alpha = 15 # magnify the boundary condition in the loss\n",
    "\n",
    "optimizer = tf.optimizers.Adam(lr=learning_rate)\n",
    "\n",
    "# generate model\n",
    "multilayer_perceptron = generate_model()\n",
    "\n",
    "\n",
    "# Universal Approximator\n",
    "def g_1(x):\n",
    "  # F_x = Pstud._eval_polynome_numpy(F_xpy_real,x[0,0],x[0,1])\n",
    "  N_x = multilayer_perceptron(x)\n",
    "  return N_x\n",
    "\n",
    "\n",
    "# Custom loss function to approximate the derivatives\n",
    "\n",
    "def custom_loss_1():\n",
    "  indices = np.random.randint(tf_coords.shape[0],size=batch_size)\n",
    "  tf_sample_coords = tf.convert_to_tensor([tf_coords[i] for i in indices])\n",
    "\n",
    "  _,dg_dxx,_,dg_dyy = differentiate(g,tf_sample_coords)\n",
    "  f_r = tf.reshape(f(tf_sample_coords),[batch_size,1])\n",
    "  res = residual(dg_dxx,dg_dyy,f_r)\n",
    "\n",
    "  loss = tf.reduce_mean(tf.square(res)) + alpha*tf.reduce_mean(tf.square(g(tf_boundary_coords)-boundary_conditions(tf_boundary_coords)))\n",
    "  return loss\n",
    "\n",
    "# train of method 1: \n",
    "def train_step_1():\n",
    "  with tf.GradientTape() as tape:\n",
    "    loss = custom_loss_1()\n",
    "  trainable_variables=multilayer_perceptron.trainable_variables\n",
    "  gradients = tape.gradient(loss, trainable_variables)\n",
    "  optimizer.apply_gradients(zip(gradients, trainable_variables))\n",
    "  return loss\n"
   ]
  },
  {
   "cell_type": "code",
   "execution_count": 37,
   "metadata": {},
   "outputs": [
    {
     "name": "stdout",
     "output_type": "stream",
     "text": [
      "epoch: 0\n",
      "epoch: 1\n",
      "epoch: 2\n",
      "epoch: 3\n",
      "epoch: 4\n",
      "epoch: 5\n",
      "epoch: 6\n",
      "epoch: 7\n",
      "epoch: 8\n",
      "epoch: 9\n",
      "epoch: 10\n",
      "epoch: 11\n",
      "epoch: 12\n",
      "epoch: 13\n",
      "epoch: 14\n",
      "epoch: 15\n",
      "epoch: 16\n",
      "epoch: 17\n",
      "epoch: 18\n",
      "epoch: 19\n",
      "epoch: 20\n",
      "epoch: 21\n",
      "epoch: 22\n",
      "epoch: 23\n",
      "epoch: 24\n",
      "epoch: 25\n",
      "epoch: 26\n",
      "epoch: 27\n",
      "epoch: 28\n",
      "epoch: 29\n",
      "epoch: 30\n",
      "epoch: 31\n",
      "epoch: 32\n",
      "epoch: 33\n",
      "epoch: 34\n",
      "epoch: 35\n",
      "epoch: 36\n",
      "epoch: 37\n",
      "epoch: 38\n",
      "epoch: 39\n",
      "epoch: 40\n",
      "epoch: 41\n",
      "epoch: 42\n",
      "epoch: 43\n",
      "epoch: 44\n",
      "epoch: 45\n",
      "epoch: 46\n",
      "epoch: 47\n",
      "epoch: 48\n",
      "epoch: 49\n",
      "epoch: 50\n",
      "epoch: 51\n",
      "epoch: 52\n",
      "epoch: 53\n",
      "epoch: 54\n",
      "epoch: 55\n",
      "epoch: 56\n",
      "epoch: 57\n",
      "epoch: 58\n",
      "epoch: 59\n",
      "epoch: 60\n",
      "epoch: 61\n",
      "epoch: 62\n",
      "epoch: 63\n",
      "epoch: 64\n",
      "epoch: 65\n",
      "epoch: 66\n",
      "epoch: 67\n",
      "epoch: 68\n",
      "epoch: 69\n",
      "epoch: 70\n",
      "epoch: 71\n",
      "epoch: 72\n",
      "epoch: 73\n",
      "epoch: 74\n",
      "epoch: 75\n",
      "epoch: 76\n",
      "epoch: 77\n",
      "epoch: 78\n",
      "epoch: 79\n",
      "epoch: 80\n",
      "epoch: 81\n",
      "epoch: 82\n",
      "epoch: 83\n",
      "epoch: 84\n",
      "epoch: 85\n",
      "epoch: 86\n",
      "epoch: 87\n",
      "epoch: 88\n",
      "epoch: 89\n",
      "epoch: 90\n",
      "epoch: 91\n",
      "epoch: 92\n",
      "epoch: 93\n",
      "epoch: 94\n",
      "epoch: 95\n",
      "epoch: 96\n",
      "epoch: 97\n",
      "epoch: 98\n",
      "epoch: 99\n",
      "loss: tf.Tensor(0.022825778, shape=(), dtype=float32)\n",
      "epoch: 100\n",
      "epoch: 101\n",
      "epoch: 102\n",
      "epoch: 103\n",
      "epoch: 104\n",
      "epoch: 105\n",
      "epoch: 106\n",
      "epoch: 107\n",
      "epoch: 108\n",
      "epoch: 109\n",
      "epoch: 110\n",
      "epoch: 111\n",
      "epoch: 112\n",
      "epoch: 113\n",
      "epoch: 114\n",
      "epoch: 115\n",
      "epoch: 116\n",
      "epoch: 117\n",
      "epoch: 118\n",
      "epoch: 119\n",
      "epoch: 120\n",
      "epoch: 121\n",
      "epoch: 122\n",
      "epoch: 123\n",
      "epoch: 124\n",
      "epoch: 125\n",
      "epoch: 126\n",
      "epoch: 127\n",
      "epoch: 128\n",
      "epoch: 129\n",
      "epoch: 130\n",
      "epoch: 131\n",
      "epoch: 132\n",
      "epoch: 133\n",
      "epoch: 134\n",
      "epoch: 135\n",
      "epoch: 136\n",
      "epoch: 137\n",
      "epoch: 138\n",
      "epoch: 139\n",
      "epoch: 140\n",
      "epoch: 141\n",
      "epoch: 142\n",
      "epoch: 143\n",
      "epoch: 144\n",
      "epoch: 145\n",
      "epoch: 146\n",
      "epoch: 147\n",
      "epoch: 148\n",
      "epoch: 149\n",
      "epoch: 150\n",
      "epoch: 151\n",
      "epoch: 152\n",
      "epoch: 153\n",
      "epoch: 154\n",
      "epoch: 155\n",
      "epoch: 156\n",
      "epoch: 157\n",
      "epoch: 158\n",
      "epoch: 159\n",
      "epoch: 160\n",
      "epoch: 161\n",
      "epoch: 162\n",
      "epoch: 163\n",
      "epoch: 164\n",
      "epoch: 165\n",
      "epoch: 166\n",
      "epoch: 167\n",
      "epoch: 168\n",
      "epoch: 169\n",
      "epoch: 170\n",
      "epoch: 171\n",
      "epoch: 172\n",
      "epoch: 173\n",
      "epoch: 174\n",
      "epoch: 175\n",
      "epoch: 176\n",
      "epoch: 177\n",
      "epoch: 178\n",
      "epoch: 179\n",
      "epoch: 180\n",
      "epoch: 181\n",
      "epoch: 182\n",
      "epoch: 183\n",
      "epoch: 184\n",
      "epoch: 185\n",
      "epoch: 186\n",
      "epoch: 187\n",
      "epoch: 188\n",
      "epoch: 189\n",
      "epoch: 190\n",
      "epoch: 191\n",
      "epoch: 192\n",
      "epoch: 193\n",
      "epoch: 194\n",
      "epoch: 195\n",
      "epoch: 196\n",
      "epoch: 197\n",
      "epoch: 198\n",
      "epoch: 199\n",
      "loss: tf.Tensor(0.014613089, shape=(), dtype=float32)\n"
     ]
    },
    {
     "data": {
      "image/png": "[encoded data removed]",
      "text/plain": [
       "<Figure size 432x288 with 1 Axes>"
      ]
     },
     "metadata": {
      "needs_background": "light"
     },
     "output_type": "display_data"
    }
   ],
   "source": [
    "# Training the Model of method 1:\n",
    "\n",
    "all_losses = []\n",
    "\n",
    "for i in range(training_steps):\n",
    "  print('epoch:',i)\n",
    "  loss = train_step_1()\n",
    "  if i % display_step == display_step-1:\n",
    "    print(\"loss:\", loss)\n",
    "  all_losses.append(loss)\n",
    "\n",
    "plt.plot(np.arange(0,training_steps),all_losses)\n",
    "plt.ylabel('loss')\n",
    "plt.xlabel('epoch')\n",
    "plt.show()"
   ]
  },
  {
   "cell_type": "markdown",
   "metadata": {},
   "source": [
    "## Method 2: MBGD with pretraining to respect the boundary condition"
   ]
  },
  {
   "cell_type": "code",
   "execution_count": 10,
   "metadata": {},
   "outputs": [
    {
     "name": "stdout",
     "output_type": "stream",
     "text": [
      "Model: \"sequential_2\"\n",
      "_________________________________________________________________\n",
      " Layer (type)                Output Shape              Param #   \n",
      "=================================================================\n",
      " dense_6 (Dense)             (None, 20)                60        \n",
      "                                                                 \n",
      " dense_7 (Dense)             (None, 20)                420       \n",
      "                                                                 \n",
      " dense_8 (Dense)             (None, 1)                 20        \n",
      "                                                                 \n",
      "=================================================================\n",
      "Total params: 500\n",
      "Trainable params: 500\n",
      "Non-trainable params: 0\n",
      "_________________________________________________________________\n"
     ]
    }
   ],
   "source": [
    "# method 2 : pretrain before on the boundary condition and after inside the boundary\n",
    "\n",
    "# a few train parameters to adjust\n",
    "learning_rate = 0.01\n",
    "training_steps_boundary = 30\n",
    "training_steps_global = 20\n",
    "batch_size = 1000\n",
    "display_step_boundary = 10\n",
    "display_step_global = 10\n",
    "\n",
    "alpha=0 # magnify the boundary condition in custom_loss_2()\n",
    "\n",
    "optimizer = tf.optimizers.Adam(lr=learning_rate)\n",
    "\n",
    "# Universal Approximator\n",
    "def g_2(x):\n",
    "  # F_x = Pstud._eval_polynome_numpy(F_xpy_real,x[0,0],x[0,1])\n",
    "  N_x = multilayer_perceptron(x)\n",
    "  return N_x\n",
    "\n",
    "# generate model\n",
    "multilayer_perceptron = generate_model()\n",
    "\n",
    "# Custom loss function to approximate the derivatives\n",
    "def custom_loss_2_boundary():\n",
    "  indices = np.random.randint(tf_boundary_coords.shape[0],size=batch_size)\n",
    "  tf_sample_boundary_coords = tf.convert_to_tensor([tf_boundary_coords[i] for i in indices])\n",
    "\n",
    "  loss = tf.reduce_mean(tf.square(g(tf_sample_boundary_coords)-boundary_conditions(tf_sample_boundary_coords)))\n",
    "  # print('loss :', loss)\n",
    "  return loss\n",
    "\n",
    "\n",
    "def custom_loss_2():\n",
    "  indices = np.random.randint(tf_coords.shape[0],size=batch_size)\n",
    "  tf_sample_coords = tf.convert_to_tensor([tf_coords[i] for i in indices])\n",
    "\n",
    "  _,dg_dxx,_,dg_dyy = differentiate(g,tf_sample_coords)\n",
    "  f_r = tf.reshape(f(tf_sample_coords),[batch_size,1])\n",
    "  res = residual(dg_dxx,dg_dyy,f_r)\n",
    "\n",
    "  loss = tf.reduce_mean(tf.square(res)) + alpha*tf.reduce_mean(tf.square(g(tf_boundary_coords)-boundary_conditions(tf_boundary_coords)))\n",
    "  return loss\n",
    "\n",
    "\n",
    "# train of method 2:\n",
    "def train_step_2_boundary():\n",
    "  with tf.GradientTape() as tape:\n",
    "    loss = custom_loss_2_boundary()\n",
    "  trainable_variables=multilayer_perceptron.trainable_variables\n",
    "  gradients = tape.gradient(loss, trainable_variables)\n",
    "  optimizer.apply_gradients(zip(gradients, trainable_variables))\n",
    "  return loss\n",
    "\n",
    "def train_step_2_inside():\n",
    "  with tf.GradientTape() as tape:\n",
    "    loss = custom_loss_2()\n",
    "  trainable_variables=multilayer_perceptron.trainable_variables\n",
    "  gradients = tape.gradient(loss, trainable_variables)\n",
    "  optimizer.apply_gradients(zip(gradients, trainable_variables))\n",
    "  return loss\n"
   ]
  },
  {
   "cell_type": "code",
   "execution_count": 18,
   "metadata": {},
   "outputs": [
    {
     "name": "stdout",
     "output_type": "stream",
     "text": [
      "epoch: 0\n",
      "epoch: 1\n",
      "epoch: 2\n",
      "epoch: 3\n",
      "epoch: 4\n",
      "epoch: 5\n",
      "epoch: 6\n",
      "epoch: 7\n",
      "epoch: 8\n",
      "epoch: 9\n",
      "loss boundary:  tf.Tensor(0.009290283, shape=(), dtype=float32)\n",
      "epoch: 10\n",
      "epoch: 11\n",
      "epoch: 12\n",
      "epoch: 13\n",
      "epoch: 14\n",
      "epoch: 15\n",
      "epoch: 16\n",
      "epoch: 17\n",
      "epoch: 18\n",
      "epoch: 19\n",
      "loss boundary:  tf.Tensor(0.0050273156, shape=(), dtype=float32)\n",
      "epoch: 20\n",
      "epoch: 21\n",
      "epoch: 22\n",
      "epoch: 23\n",
      "epoch: 24\n",
      "epoch: 25\n",
      "epoch: 26\n",
      "epoch: 27\n",
      "epoch: 28\n",
      "epoch: 29\n",
      "loss boundary:  tf.Tensor(0.001821531, shape=(), dtype=float32)\n",
      "epoch: 0\n",
      "epoch: 1\n",
      "epoch: 2\n",
      "epoch: 3\n",
      "epoch: 4\n",
      "epoch: 5\n",
      "epoch: 6\n",
      "epoch: 7\n",
      "epoch: 8\n",
      "epoch: 9\n",
      "loss : tf.Tensor(0.049290985, shape=(), dtype=float32)\n",
      "epoch: 10\n",
      "epoch: 11\n",
      "epoch: 12\n",
      "epoch: 13\n",
      "epoch: 14\n",
      "epoch: 15\n",
      "epoch: 16\n",
      "epoch: 17\n",
      "epoch: 18\n",
      "epoch: 19\n",
      "loss : tf.Tensor(0.03681835, shape=(), dtype=float32)\n"
     ]
    }
   ],
   "source": [
    "# Training the Model of method 2:\n",
    "\n",
    "bound_losses = []\n",
    "b_global_losses=[]\n",
    "global_losses = []\n",
    "for i in range(training_steps_boundary):\n",
    "  print('epoch:',i)\n",
    "  loss = train_step_2_boundary()\n",
    "  if i % display_step_boundary == display_step_boundary-1:\n",
    "    print(\"loss boundary: \", loss)\n",
    "  bound_losses.append(loss)\n",
    "  b_global_losses.append(custom_loss_2())\n",
    "\n",
    "for i in range(training_steps_global):\n",
    "  print('epoch:',i)\n",
    "  loss = train_step_2_inside()\n",
    "  if i % display_step_global == display_step_global-1:\n",
    "        print(\"loss :\", loss)\n",
    "  global_losses.append(loss)\n",
    "\n",
    "\n",
    "\n",
    "plt.figure(1, figsize=(15, 7))\n",
    "\n",
    "plt.subplot(211)\n",
    "plt.plot(np.arange(0,training_steps_boundary),bound_losses, color='blue', label='loss on the boundary')\n",
    "plt.plot(np.arange(0,training_steps_boundary), b_global_losses, color='black', label='global loss during training on the boundary')\n",
    "plt.ylabel('loss')\n",
    "\n",
    "plt.legend()\n",
    "\n",
    "plt.subplot(212)\n",
    "plt.plot(np.arange(0,training_steps_global+training_steps_boundary), b_global_losses+global_losses, color='red', label='global loss during global training')\n",
    "plt.ylabel('loss')\n",
    "plt.legend()\n",
    "plt.show() \n",
    "\n",
    "print('final loss on the boundary:', custom_loss_2_boundary())\n"
   ]
  },
  {
   "cell_type": "markdown",
   "metadata": {},
   "source": [
    "## Method 3: g automatically respects the boundary conditions"
   ]
  },
  {
   "cell_type": "markdown",
   "metadata": {},
   "source": [
    "article : 1997_Artificial_neural_networks_for_solving_ordinary_and_partial_differential_equations.pdf"
   ]
  },
  {
   "cell_type": "markdown",
   "metadata": {},
   "source": [
    "What is the fastest way to differentiate a sympy expr ?\n",
    "\n",
    "- see dynamic_diff.ipynb "
   ]
  },
  {
   "cell_type": "markdown",
   "metadata": {},
   "source": [
    "diff_gradually is better. Should be kept to differentiate F and A.\n",
    "\n",
    "[En cours => dynamic programming]"
   ]
  },
  {
   "cell_type": "markdown",
   "metadata": {},
   "source": [
    "Other libraries than sympy? autograd,..."
   ]
  },
  {
   "cell_type": "code",
   "execution_count": 16,
   "metadata": {},
   "outputs": [
    {
     "name": "stdout",
     "output_type": "stream",
     "text": [
      "ok\n"
     ]
    }
   ],
   "source": [
    "import Polynomials.polynome4students_v2 as Pstud\n",
    "from Polynomials.F_functions import F2D\n",
    "\n",
    "frontier_coords = Pstud._set_coords_rectangle(1,1,10)\n",
    "F = F2D(frontier_coords,'xpy_real')\n",
    "\n",
    "F.dynamic_diff_2D([(0, 2)])\n",
    "print('ok')\n",
    "\n",
    "# print(F.evaluate_derivative((0,0),(0,0)))\n",
    "# print(F.dico_derivation.keys())"
   ]
  },
  {
   "cell_type": "markdown",
   "metadata": {},
   "source": [
    "##### TODO: compare different methods according to speed of differentiation"
   ]
  },
  {
   "cell_type": "markdown",
   "metadata": {},
   "source": [
    "We need to compute :\n",
    "$\\Delta g = \\frac{\\partial^2 g}{\\partial x^2} + \\frac{\\partial^2 g}{\\partial y^2}$\n",
    "\n",
    "Since we set $ g(X) := A(X)+F(X)\\times N(x)$ with $ F_{|\\delta \\Omega} = 0 $ and $ A_{|\\delta \\Omega} = 0 $ to respect the homogeneous Dirichlet boundary condition, and $ N $ estimated by the model.\n",
    "\n",
    "We need to know :\n",
    "\n",
    "$ \\frac{\\partial^2 g}{\\partial x^2} = \\frac{\\partial^2 F}{\\partial x^2}N + 2\\frac{\\partial F}{\\partial x}\\frac{\\partial N}{\\partial x} + F\\frac{\\partial^2 N}{\\partial x^2} + \\frac{\\partial^2 A}{\\partial x^2} $\n",
    "\n",
    "and the same goes for the variable $ y $ "
   ]
  },
  {
   "cell_type": "code",
   "execution_count": 61,
   "metadata": {},
   "outputs": [],
   "source": [
    "# Set F here\n",
    "\n",
    "import sympy as sm\n",
    "from sympy import Matrix\n",
    "x,y = sm.symbols('x,y')\n",
    "\n",
    "def expr_dummy_F():\n",
    "    return x*(1-x)*y*(1-y)\n",
    "\n",
    "expr_F = expr_dummy_F()\n",
    "dexpr_F_dx = sm.diff(expr_F,x,1)\n",
    "dexpr_F_dxx = sm.diff(dexpr_F_dx,x,1)\n",
    "dexpr_F_dy = sm.diff(expr_F,y,1)\n",
    "dexpr_F_dyy = sm.diff(dexpr_F_dy,y,1)\n",
    "\n",
    "# print(dexpr_F_dx)\n",
    "# print(dexpr_F_dxx)\n",
    "\n",
    "expr_F = sm.lambdify([x, y], Matrix([expr_F]), 'numpy')\n",
    "dexpr_F_dx = sm.lambdify([x, y], Matrix([dexpr_F_dx]), 'numpy')\n",
    "dexpr_F_dxx = sm.lambdify([x, y], Matrix([dexpr_F_dxx]), 'numpy')\n",
    "dexpr_F_dy = sm.lambdify([x, y], Matrix([dexpr_F_dy]), 'numpy')\n",
    "dexpr_F_dyy = sm.lambdify([x, y], Matrix([dexpr_F_dyy]), 'numpy')\n"
   ]
  },
  {
   "cell_type": "code",
   "execution_count": 66,
   "metadata": {},
   "outputs": [],
   "source": [
    "def evaluate_F_and_diff(X):\n",
    "    F = tf.squeeze(tf.transpose(expr_F(X[:,0],X[:,1])),axis=-1)\n",
    "    dF_dx = tf.expand_dims(dexpr_F_dx(X[:,0],X[:,1]),axis=-1)\n",
    "    dF_dxx =  tf.expand_dims(dexpr_F_dxx(X[:,0],X[:,1]),axis=-1)\n",
    "    dF_dy = tf.expand_dims(dexpr_F_dy(X[:,0],X[:,1]),axis=-1)\n",
    "    dF_dyy = tf.expand_dims(dexpr_F_dyy(X[:,0],X[:,1]),axis=-1)\n",
    "    \n",
    "    return F,dF_dx,dF_dxx,dF_dy,dF_dyy\n",
    "\n",
    " # oddly enough expr_F and dexpr_F_d... do not have the same output"
   ]
  },
  {
   "cell_type": "code",
   "execution_count": 37,
   "metadata": {},
   "outputs": [],
   "source": [
    "# Set A here\n",
    "\n",
    "A = 0\n",
    "dA_dxx = 0\n",
    "dA_dyy= 0"
   ]
  },
  {
   "cell_type": "code",
   "execution_count": 72,
   "metadata": {},
   "outputs": [
    {
     "name": "stdout",
     "output_type": "stream",
     "text": [
      "Model: \"sequential_7\"\n",
      "_________________________________________________________________\n",
      " Layer (type)                Output Shape              Param #   \n",
      "=================================================================\n",
      " dense_21 (Dense)            (None, 20)                60        \n",
      "                                                                 \n",
      " dense_22 (Dense)            (None, 20)                420       \n",
      "                                                                 \n",
      " dense_23 (Dense)            (None, 1)                 20        \n",
      "                                                                 \n",
      "=================================================================\n",
      "Total params: 500\n",
      "Trainable params: 500\n",
      "Non-trainable params: 0\n",
      "_________________________________________________________________\n"
     ]
    }
   ],
   "source": [
    "# method 1: mini-batch gradient descent + (loss = MSE + MSE on all boundary) \n",
    "\n",
    "# a few train parameters to adjust\n",
    "learning_rate = 0.01\n",
    "training_steps = 100\n",
    "batch_size = 1000\n",
    "display_step = 10\n",
    "\n",
    "optimizer = tf.optimizers.Adam(lr=learning_rate)\n",
    "\n",
    "# generate model\n",
    "multilayer_perceptron = generate_model()\n",
    "\n",
    "\n",
    "# Universal Approximator\n",
    "def g_3(X):\n",
    "  # F_x = Pstud._eval_polynome_numpy(F_xpy_real,x[0,0],x[0,1])\n",
    "  N_X = multilayer_perceptron(X)\n",
    "  return tf.squeeze(tf.transpose(expr_F(X[:,0],X[:,1])),axis=-1)*N_X\n",
    "\n",
    "\n",
    "# Custom loss function to approximate the derivatives\n",
    "\n",
    "def custom_loss_3():\n",
    "  indices = np.random.randint(tf_coords.shape[0],size=batch_size)\n",
    "  tf_sample_coords = tf.convert_to_tensor([tf_coords[i] for i in indices])\n",
    "\n",
    "  dN_dx,dN_dxx,dN_dy,dN_dyy = differentiate(multilayer_perceptron,tf_sample_coords)\n",
    "  f_r = tf.reshape(f(tf_sample_coords),[batch_size,1])\n",
    "\n",
    "  F,dF_dx,dF_dxx,dF_dy,dF_dyy = evaluate_F_and_diff(tf_sample_coords)\n",
    "\n",
    "  dg_dxx = dF_dxx + 2*dF_dx*dN_dx + F*dN_dxx + dA_dxx\n",
    "  dg_dyy = dF_dyy + 2*dF_dy*dN_dy + F*dN_dyy + dA_dyy\n",
    "  res = residual(dg_dxx,dg_dyy,f_r)\n",
    "\n",
    "  loss = tf.reduce_mean(tf.square(res))\n",
    "  return loss\n",
    "\n",
    "# train of method 1: \n",
    "def train_step_3():\n",
    "  with tf.GradientTape() as tape:\n",
    "    loss = custom_loss_3()\n",
    "  trainable_variables=multilayer_perceptron.trainable_variables\n",
    "  gradients = tape.gradient(loss, trainable_variables)\n",
    "  optimizer.apply_gradients(zip(gradients, trainable_variables))\n",
    "  return loss\n"
   ]
  },
  {
   "cell_type": "code",
   "execution_count": 73,
   "metadata": {},
   "outputs": [
    {
     "name": "stdout",
     "output_type": "stream",
     "text": [
      "epoch: 0\n",
      "epoch: 1\n",
      "epoch: 2\n",
      "epoch: 3\n",
      "epoch: 4\n",
      "epoch: 5\n",
      "epoch: 6\n",
      "epoch: 7\n",
      "epoch: 8\n",
      "epoch: 9\n",
      "loss: tf.Tensor(0.09233908, shape=(), dtype=float32)\n",
      "epoch: 10\n",
      "epoch: 11\n",
      "epoch: 12\n",
      "epoch: 13\n",
      "epoch: 14\n",
      "epoch: 15\n",
      "epoch: 16\n",
      "epoch: 17\n",
      "epoch: 18\n",
      "epoch: 19\n",
      "loss: tf.Tensor(0.05571742, shape=(), dtype=float32)\n",
      "epoch: 20\n",
      "epoch: 21\n",
      "epoch: 22\n",
      "epoch: 23\n",
      "epoch: 24\n",
      "epoch: 25\n",
      "epoch: 26\n",
      "epoch: 27\n",
      "epoch: 28\n",
      "epoch: 29\n",
      "loss: tf.Tensor(0.046208594, shape=(), dtype=float32)\n",
      "epoch: 30\n",
      "epoch: 31\n",
      "epoch: 32\n",
      "epoch: 33\n",
      "epoch: 34\n",
      "epoch: 35\n",
      "epoch: 36\n",
      "epoch: 37\n",
      "epoch: 38\n",
      "epoch: 39\n",
      "loss: tf.Tensor(0.03507637, shape=(), dtype=float32)\n",
      "epoch: 40\n",
      "epoch: 41\n",
      "epoch: 42\n",
      "epoch: 43\n",
      "epoch: 44\n",
      "epoch: 45\n",
      "epoch: 46\n",
      "epoch: 47\n",
      "epoch: 48\n",
      "epoch: 49\n",
      "loss: tf.Tensor(0.034244318, shape=(), dtype=float32)\n",
      "epoch: 50\n",
      "epoch: 51\n",
      "epoch: 52\n",
      "epoch: 53\n",
      "epoch: 54\n",
      "epoch: 55\n",
      "epoch: 56\n",
      "epoch: 57\n",
      "epoch: 58\n",
      "epoch: 59\n",
      "loss: tf.Tensor(0.03154662, shape=(), dtype=float32)\n",
      "epoch: 60\n",
      "epoch: 61\n",
      "epoch: 62\n",
      "epoch: 63\n",
      "epoch: 64\n",
      "epoch: 65\n",
      "epoch: 66\n",
      "epoch: 67\n",
      "epoch: 68\n",
      "epoch: 69\n",
      "loss: tf.Tensor(0.031123063, shape=(), dtype=float32)\n",
      "epoch: 70\n",
      "epoch: 71\n",
      "epoch: 72\n",
      "epoch: 73\n",
      "epoch: 74\n",
      "epoch: 75\n",
      "epoch: 76\n",
      "epoch: 77\n",
      "epoch: 78\n",
      "epoch: 79\n",
      "loss: tf.Tensor(0.03000265, shape=(), dtype=float32)\n",
      "epoch: 80\n",
      "epoch: 81\n",
      "epoch: 82\n",
      "epoch: 83\n",
      "epoch: 84\n",
      "epoch: 85\n",
      "epoch: 86\n",
      "epoch: 87\n",
      "epoch: 88\n",
      "epoch: 89\n",
      "loss: tf.Tensor(0.030070178, shape=(), dtype=float32)\n",
      "epoch: 90\n",
      "epoch: 91\n",
      "epoch: 92\n",
      "epoch: 93\n",
      "epoch: 94\n",
      "epoch: 95\n",
      "epoch: 96\n",
      "epoch: 97\n",
      "epoch: 98\n",
      "epoch: 99\n",
      "loss: tf.Tensor(0.02912462, shape=(), dtype=float32)\n"
     ]
    },
    {
     "data": {
      "image/png": "[encoded data removed]",
      "text/plain": [
       "<Figure size 432x288 with 1 Axes>"
      ]
     },
     "metadata": {
      "needs_background": "light"
     },
     "output_type": "display_data"
    }
   ],
   "source": [
    "# Training the Model of method 1:\n",
    "\n",
    "all_losses = []\n",
    "\n",
    "for i in range(training_steps):\n",
    "  print('epoch:',i)\n",
    "  loss = train_step_3()\n",
    "  if i % display_step == display_step-1:\n",
    "    print(\"loss:\", loss)\n",
    "  all_losses.append(loss)\n",
    "\n",
    "plt.plot(np.arange(0,training_steps),all_losses)\n",
    "plt.ylabel('loss')\n",
    "plt.xlabel('epoch')\n",
    "plt.show()"
   ]
  },
  {
   "cell_type": "markdown",
   "metadata": {},
   "source": [
    "## Compare to the true solution"
   ]
  },
  {
   "cell_type": "markdown",
   "metadata": {},
   "source": [
    "Common to all the methods"
   ]
  },
  {
   "cell_type": "code",
   "execution_count": 74,
   "metadata": {},
   "outputs": [],
   "source": [
    "from matplotlib import cm\n",
    "from matplotlib.colors import ListedColormap,LinearSegmentedColormap"
   ]
  },
  {
   "cell_type": "code",
   "execution_count": 89,
   "metadata": {},
   "outputs": [
    {
     "name": "stdout",
     "output_type": "stream",
     "text": [
      "np.max(error): 0.0639056\n"
     ]
    },
    {
     "data": {
      "text/plain": [
       "<matplotlib.colorbar.Colorbar at 0x21a33742e50>"
      ]
     },
     "execution_count": 89,
     "metadata": {},
     "output_type": "execute_result"
    },
    {
     "data": {
      "image/png": "[encoded data removed]",
      "text/plain": [
       "<Figure size 1080x864 with 6 Axes>"
      ]
     },
     "metadata": {
      "needs_background": "light"
     },
     "output_type": "display_data"
    }
   ],
   "source": [
    "def true_function(X):\n",
    "    return tf.sin(np.pi*X[:,0])*tf.sin(np.pi*X[:,1])/(2*np.pi**2)\n",
    "\n",
    "# to check that the model is not overfitting\n",
    "# Rk: may blur the cmapping then\n",
    "noise = (tf.random.uniform((grid_length**2,2))-0.5)/grid_length\n",
    "\n",
    "tf_noisy_coords = tf_coords+noise\n",
    "\n",
    "true_values = tf.reshape(true_function(tf_noisy_coords),[100,100]).numpy()\n",
    "appro_values = tf.reshape(g_3(tf_noisy_coords),[100,100]).numpy()            # change g according to the method applied\n",
    "error = np.abs(true_values-appro_values)\n",
    "\n",
    "print('np.max(error):',np.max(error))\n",
    "#print(error.shape)\n",
    "\n",
    "\n",
    "seismic = cm.get_cmap('seismic', 1024)\n",
    "\n",
    "plt.figure(1, figsize=(15, 12))\n",
    "\n",
    "# fig, axes = plt.subplots(nrows=2, ncols=2, figsize=(15, 12))\n",
    "\n",
    "plt.subplot(221)\n",
    "plt.pcolormesh(error, cmap = seismic)\n",
    "plt.title('Graph of the error')\n",
    "plt.colorbar()\n",
    "\n",
    "plt.subplot(223)\n",
    "plt.pcolormesh(appro_values, cmap = seismic)\n",
    "plt.title('Graph of the estimated values')\n",
    "plt.colorbar()\n",
    "\n",
    "plt.subplot(224)\n",
    "plt.pcolormesh(true_values, cmap = seismic)\n",
    "plt.title('Graph of the true values')\n",
    "plt.colorbar()"
   ]
  },
  {
   "cell_type": "code",
   "execution_count": 88,
   "metadata": {},
   "outputs": [
    {
     "name": "stdout",
     "output_type": "stream",
     "text": [
      "AxesSubplot(0.125,0.536818;0.227941x0.343182)\n"
     ]
    },
    {
     "data": {
      "image/png": "[encoded data removed]",
      "text/plain": [
       "<Figure size 612x360 with 7 Axes>"
      ]
     },
     "metadata": {
      "needs_background": "light"
     },
     "output_type": "display_data"
    }
   ],
   "source": [
    "# code to set a uniform colorbar\n",
    "\n",
    "import matplotlib.pyplot as plt\n",
    "import numpy as np\n",
    "\n",
    "fig, axes = plt.subplots(nrows=2, ncols=3, figsize=(8.5, 5))\n",
    "\n",
    "print(axes.flat[0])\n",
    "for ax in axes.flat:\n",
    "    ax.set_axis_off()\n",
    "    im = ax.imshow(np.random.random((16, 16)), cmap='viridis',\n",
    "                   vmin=0, vmax=1)\n",
    "\n",
    "# notice that here we use ax param of figure.colorbar method instead of\n",
    "\n",
    "# the cax param as the above example\n",
    "\n",
    "cbar = fig.colorbar(im, ax=axes.ravel().tolist(), shrink=0.95)\n",
    "\n",
    "cbar.set_ticks(np.arange(0, 1.1, 0.5))\n",
    "# cbar.set_ticklabels(['low', 'medium', 'high'])\n",
    "\n",
    "plt.show()"
   ]
  },
  {
   "cell_type": "markdown",
   "metadata": {},
   "source": [
    "Les valeurs sont très petites aux bords. L'écart avec les conditions aux frontières doit être négligé. "
   ]
  },
  {
   "cell_type": "markdown",
   "metadata": {},
   "source": [
    "## Save the model"
   ]
  },
  {
   "cell_type": "code",
   "execution_count": 1,
   "metadata": {},
   "outputs": [
    {
     "ename": "NameError",
     "evalue": "name 'multilayer_perceptron' is not defined",
     "output_type": "error",
     "traceback": [
      "\u001b[1;31m---------------------------------------------------------------------------\u001b[0m",
      "\u001b[1;31mNameError\u001b[0m                                 Traceback (most recent call last)",
      "\u001b[1;32mc:\\Users\\Gilles\\CS\\cours\\PoleProjet\\FormationRecherche\\Tsunami\\TP\\sceance4\\Tsunami\\differentiate\\NN_test_function_A_F.ipynb Cell 27'\u001b[0m in \u001b[0;36m<cell line: 1>\u001b[1;34m()\u001b[0m\n\u001b[1;32m----> <a href='vscode-notebook-cell:/c%3A/Users/Gilles/CS/cours/PoleProjet/FormationRecherche/Tsunami/TP/sceance4/Tsunami/differentiate/NN_test_function_A_F.ipynb#ch0000026?line=0'>1</a>\u001b[0m multilayer_perceptron\u001b[39m.\u001b[39msave(\u001b[39m'\u001b[39m\u001b[39mdifferentiate/savings/model_EDP_2D.h5\u001b[39m\u001b[39m'\u001b[39m)\n",
      "\u001b[1;31mNameError\u001b[0m: name 'multilayer_perceptron' is not defined"
     ]
    }
   ],
   "source": [
    "multilayer_perceptron.save('differentiate/savings/model_EDP_2D.h5')"
   ]
  },
  {
   "cell_type": "markdown",
   "metadata": {},
   "source": [
    "## Load the model"
   ]
  },
  {
   "cell_type": "code",
   "execution_count": 18,
   "metadata": {},
   "outputs": [
    {
     "name": "stdout",
     "output_type": "stream",
     "text": [
      "WARNING:tensorflow:No training configuration found in the save file, so the model was *not* compiled. Compile it manually.\n"
     ]
    }
   ],
   "source": [
    "multilayer_perceptron = keras.models.load_model('differentiate/savings/model_EDP_2D.h5')"
   ]
  },
  {
   "cell_type": "markdown",
   "metadata": {},
   "source": [
    "# Questions "
   ]
  },
  {
   "cell_type": "markdown",
   "metadata": {},
   "source": [
    "Quelle architecture ? \n",
    "\n",
    "Comment éviter l'overfitting ?\n",
    "\n",
    "Comment exploiter les avantages de l'IA ?\n",
    "\n",
    "Choix de l'optimizer + regularizer ? + Implémentation ?\n",
    "\n",
    "Implémentation de système d'EDP à plusieurs inconnues (étant des fonctions bien sûr) ? (Est-ce que c'est utile ça ? Par curiosité)\n",
    "\n",
    "Plus rapide ? Comment enlever les boucles `for` ? => mini_batch_gradient_descent ? done\n",
    "\n",
    "Besoin de batch_normalization ? + autres hyperparamètres ?"
   ]
  },
  {
   "cell_type": "markdown",
   "metadata": {},
   "source": [
    "# Idées"
   ]
  },
  {
   "cell_type": "markdown",
   "metadata": {},
   "source": [
    "Ajout de bruit en entrée contre l'overfitting \n",
    "\n",
    "Une sortie par inconnue"
   ]
  }
 ],
 "metadata": {
  "interpreter": {
   "hash": "b9332023be3d0ac51f208965c608ec938465769da3e12a3a23e7ee02ae32d20e"
  },
  "kernelspec": {
   "display_name": "Python 3.9.1 64-bit",
   "language": "python",
   "name": "python3"
  },
  "language_info": {
   "codemirror_mode": {
    "name": "ipython",
    "version": 3
   },
   "file_extension": ".py",
   "mimetype": "text/x-python",
   "name": "python",
   "nbconvert_exporter": "python",
   "pygments_lexer": "ipython3",
   "version": "3.9.11"
  },
  "orig_nbformat": 4
 },
 "nbformat": 4,
 "nbformat_minor": 2
}
