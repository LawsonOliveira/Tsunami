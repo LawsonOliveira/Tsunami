{
 "cells": [
  {
   "cell_type": "code",
   "execution_count": 76,
   "metadata": {},
   "outputs": [],
   "source": [
    "import tensorflow as tf\n",
    "import keras\n",
    "import matplotlib.pyplot as plt\n",
    "import numpy as np"
   ]
  },
  {
   "cell_type": "code",
   "execution_count": 4,
   "metadata": {},
   "outputs": [],
   "source": [
    "__file__ = 'C:/Users/antie/Documents/Pole_recherche/Tsunami'"
   ]
  },
  {
   "cell_type": "code",
   "execution_count": 5,
   "metadata": {},
   "outputs": [],
   "source": [
    "__file__ = 'C:/Users/Gilles/CS/cours/PoleProjet/FormationRecherche/Tsunami/TP/sceance4/Tsunami'"
   ]
  },
  {
   "cell_type": "code",
   "execution_count": 6,
   "metadata": {},
   "outputs": [
    {
     "name": "stdout",
     "output_type": "stream",
     "text": [
      "c:\\Users\\Gilles\\CS\\cours\\PoleProjet\\FormationRecherche\\Tsunami\\TP\\sceance4\\Tsunami\\differentiate\n",
      "C:\\Users\\Gilles\\CS\\cours\\PoleProjet\\FormationRecherche\\Tsunami\\TP\\sceance4\\Tsunami\n"
     ]
    }
   ],
   "source": [
    "import os\n",
    "\n",
    "print(os.getcwd())\n",
    "os.chdir(__file__)\n",
    "print(os.getcwd())"
   ]
  },
  {
   "cell_type": "code",
   "execution_count": 7,
   "metadata": {},
   "outputs": [],
   "source": [
    "DTYPE = 'float32'\n",
    "tf.keras.backend.set_floatx(DTYPE)"
   ]
  },
  {
   "cell_type": "markdown",
   "metadata": {},
   "source": [
    "## Create the model"
   ]
  },
  {
   "cell_type": "code",
   "execution_count": 118,
   "metadata": {},
   "outputs": [],
   "source": [
    "# méthode API Sequential\n",
    "multilayer_perceptron = keras.models.Sequential([\n",
    "  keras.layers.Input(shape=(2)),\n",
    "  #keras.layers.GaussianNoise(stddev=1e-3),\n",
    "  keras.layers.Dense(20,activation='elu'),\n",
    "  keras.layers.Dense(20,activation='elu'),\n",
    "  keras.layers.Dense(20,activation='elu'),\n",
    "  keras.layers.Dense(1, use_bias=False)\n",
    "])"
   ]
  },
  {
   "cell_type": "code",
   "execution_count": 9,
   "metadata": {},
   "outputs": [
    {
     "name": "stdout",
     "output_type": "stream",
     "text": [
      "Model: \"sequential\"\n",
      "_________________________________________________________________\n",
      " Layer (type)                Output Shape              Param #   \n",
      "=================================================================\n",
      " dense (Dense)               (None, 20)                60        \n",
      "                                                                 \n",
      " dense_1 (Dense)             (None, 20)                420       \n",
      "                                                                 \n",
      " dense_2 (Dense)             (None, 20)                420       \n",
      "                                                                 \n",
      " dense_3 (Dense)             (None, 1)                 20        \n",
      "                                                                 \n",
      "=================================================================\n",
      "Total params: 920\n",
      "Trainable params: 920\n",
      "Non-trainable params: 0\n",
      "_________________________________________________________________\n"
     ]
    }
   ],
   "source": [
    "multilayer_perceptron.summary()"
   ]
  },
  {
   "cell_type": "code",
   "execution_count": 113,
   "metadata": {},
   "outputs": [
    {
     "name": "stdout",
     "output_type": "stream",
     "text": [
      "8\n"
     ]
    }
   ],
   "source": [
    "print(len(multilayer_perceptron.trainable_variables))"
   ]
  },
  {
   "cell_type": "code",
   "execution_count": 114,
   "metadata": {},
   "outputs": [
    {
     "name": "stderr",
     "output_type": "stream",
     "text": [
      "C:\\Users\\Gilles\\AppData\\Local\\Programs\\Python\\Python39\\lib\\site-packages\\keras\\optimizer_v2\\adam.py:105: UserWarning: The `lr` argument is deprecated, use `learning_rate` instead.\n",
      "  super(Adam, self).__init__(name, **kwargs)\n"
     ]
    }
   ],
   "source": [
    "learning_rate = 0.01\n",
    "training_steps = 1\n",
    "batch_size = 2\n",
    "display_step = 1\n",
    "\n",
    "optimizer = tf.optimizers.Adam(lr=learning_rate)"
   ]
  },
  {
   "cell_type": "code",
   "execution_count": 12,
   "metadata": {},
   "outputs": [],
   "source": [
    "import Polynomials.polynome4students_v2 as Pstud\n",
    "\n",
    "frontier_coords = Pstud._set_coords_rectangle(1,1,40)\n",
    "\n",
    "F_xpy_real = Pstud._set_polynome_xpy_numpy_real(frontier_coords)\n",
    "F_expxpy_real = Pstud._set_polynome_expxpy_numpy_real(frontier_coords)\n",
    "F_sinxpy_real = Pstud._set_polynome_sinxpy_numpy_real(frontier_coords)\n",
    "\n",
    "F_xpy_cmplx = Pstud._set_polynome_xpy_numpy_cmplx(frontier_coords)"
   ]
  },
  {
   "cell_type": "code",
   "execution_count": 115,
   "metadata": {},
   "outputs": [],
   "source": [
    "\n",
    "# Universal Approximator\n",
    "def g(x):\n",
    "  # F_x = Pstud._eval_polynome_numpy(F_xpy_real,x[0,0],x[0,1])\n",
    "  N_x = multilayer_perceptron(x)\n",
    "  return N_x\n",
    "\n",
    "# Given EDO\n",
    "def f(X):\n",
    "  return tf.sin(np.pi*X[:,0])*tf.sin(np.pi*X[:,1])\n",
    "\n",
    "def residual(du_dxx,du_dyy,f_ind):\n",
    "  return du_dxx+du_dyy+f_ind\n",
    "\n",
    "\n",
    "def differentiate(model,x):\n",
    "  with tf.GradientTape(persistent=True) as tape:\n",
    "    x1, x2 = x[:,0:1], x[:,1:2]\n",
    "    tape.watch(x1)\n",
    "    tape.watch(x2)\n",
    "    u = model(tf.stack([x1[:,0], x2[:,0]], axis=1))\n",
    "    du_dx = tape.gradient(u,x1)\n",
    "    du_dy = tape.gradient(u,x2)\n",
    "  du_dxx = tape.gradient(du_dx,x1) \n",
    "  du_dyy = tape.gradient(du_dy,x2)\n",
    "  return du_dxx,du_dyy\n",
    "\n",
    "\n",
    "\n",
    "\n",
    "X = np.linspace(0,1,100)\n",
    "Y = np.linspace(0,1,100)\n",
    "coords = [tf.constant([x,y],dtype=DTYPE) for x in X for y in Y]\n",
    "\n",
    "# Custom loss function to approximate the derivatives\n",
    "def custom_loss():\n",
    "  indices = np.random.randint(len(coords),size=batch_size)\n",
    "  sample_coords = [coords[i] for i in indices]\n",
    "\n",
    "  tf_sample_coords = tf.convert_to_tensor(sample_coords)\n",
    "\n",
    "  dg_dxx,dg_dyy = differentiate(g,tf_sample_coords)\n",
    "  # print(dg_dxx,dg_dyy)\n",
    "  f_r = tf.reshape(f(tf_sample_coords),[batch_size,1])\n",
    "  # print(tf.concat([dg_dxx+dg_dyy,f_r],axis=1))\n",
    "  print('dg_dxx\\n', dg_dxx)\n",
    "  print('f_r \\n',f_r)\n",
    "  res = residual(dg_dxx,dg_dyy,f_r)\n",
    "  # choose an L2 norm ? Could we find other losses ?\n",
    "  print('concat;\\n', tf.concat([dg_dxx+dg_dyy,-f_r],axis=1))\n",
    "  loss = tf.reduce_mean(tf.square(res))\n",
    "  print('loss :', loss)\n",
    "  return loss"
   ]
  },
  {
   "cell_type": "code",
   "execution_count": 116,
   "metadata": {},
   "outputs": [
    {
     "name": "stdout",
     "output_type": "stream",
     "text": [
      "tf.Tensor(\n",
      "[[0.969697   0.42424244]\n",
      " [0.8080808  0.959596  ]], shape=(2, 2), dtype=float32)\n"
     ]
    }
   ],
   "source": [
    "indices = np.random.randint(len(coords),size=batch_size)\n",
    "sample_coords = [coords[i] for i in indices]\n",
    "\n",
    "tf_sample_coords = tf.convert_to_tensor(sample_coords)\n",
    "print(tf_sample_coords)"
   ]
  },
  {
   "cell_type": "markdown",
   "metadata": {},
   "source": [
    "## Train the model"
   ]
  },
  {
   "cell_type": "code",
   "execution_count": 117,
   "metadata": {},
   "outputs": [
    {
     "name": "stdout",
     "output_type": "stream",
     "text": [
      "epoch: 0\n",
      "dg_dxx\n",
      " tf.Tensor(\n",
      "[[-0.0686704 ]\n",
      " [-0.17708547]], shape=(2, 1), dtype=float32)\n",
      "f_r \n",
      " tf.Tensor(\n",
      "[[0.03179343]\n",
      " [0.50503844]], shape=(2, 1), dtype=float32)\n",
      "concat;\n",
      " tf.Tensor(\n",
      "[[-0.33172005 -0.03179343]\n",
      " [-0.54677314 -0.50503844]], shape=(2, 2), dtype=float32)\n",
      "loss : tf.Tensor(0.045848876, shape=(), dtype=float32)\n",
      "WARNING:tensorflow:Gradients do not exist for variables ['dense_7/bias:0'] when minimizing the loss. If you're using `model.compile()`, did you forget to provide a `loss`argument?\n",
      "dg_dxx\n",
      " tf.Tensor(\n",
      "[[0.03790201]\n",
      " [0.02751628]], shape=(2, 1), dtype=float32)\n",
      "f_r \n",
      " tf.Tensor(\n",
      "[[0.6734966]\n",
      " [0.4671732]], shape=(2, 1), dtype=float32)\n",
      "concat;\n",
      " tf.Tensor(\n",
      "[[-0.08907005 -0.6734966 ]\n",
      " [-0.12633745 -0.4671732 ]], shape=(2, 2), dtype=float32)\n",
      "loss : tf.Tensor(0.22886169, shape=(), dtype=float32)\n",
      "loss: 0.228862 \n"
     ]
    },
    {
     "data": {
      "image/png": "[encoded data removed]",
      "text/plain": [
       "<Figure size 432x288 with 1 Axes>"
      ]
     },
     "metadata": {
      "needs_background": "light"
     },
     "output_type": "display_data"
    }
   ],
   "source": [
    "def train_step():\n",
    "  with tf.GradientTape() as tape:\n",
    "      loss = custom_loss()\n",
    "  trainable_variables=multilayer_perceptron.trainable_variables\n",
    "  gradients = tape.gradient(loss, trainable_variables)\n",
    "  optimizer.apply_gradients(zip(gradients, trainable_variables))\n",
    "\n",
    "\n",
    "# Training the Model:\n",
    "\n",
    "all_losses = []\n",
    "for i in range(training_steps):\n",
    "  print ('epoch:',i)\n",
    "  train_step()\n",
    "  loss = custom_loss()\n",
    "  if i % display_step == 0:\n",
    "    print(\"loss: %f \" % (loss))\n",
    "  all_losses.append(loss)\n",
    "\n",
    "plt.plot(np.arange(0,training_steps),all_losses)\n",
    "plt.show()"
   ]
  },
  {
   "cell_type": "markdown",
   "metadata": {},
   "source": [
    "## Compare to the true solution"
   ]
  },
  {
   "cell_type": "code",
   "execution_count": 22,
   "metadata": {},
   "outputs": [],
   "source": [
    "from matplotlib import cm\n",
    "from matplotlib.colors import ListedColormap,LinearSegmentedColormap"
   ]
  },
  {
   "cell_type": "code",
   "execution_count": 67,
   "metadata": {},
   "outputs": [],
   "source": [
    "def true_function(X):\n",
    "    return -tf.sin(np.pi*X[:,0])*tf.sin(np.pi*X[:,1])/(np.pi**2)\n",
    "\n",
    "def false_appro_function(X):\n",
    "    return -tf.sin(np.pi*X[:,0])*tf.sin(np.pi*X[:,1])/(np.pi**2)+1"
   ]
  },
  {
   "cell_type": "code",
   "execution_count": 110,
   "metadata": {},
   "outputs": [
    {
     "name": "stdout",
     "output_type": "stream",
     "text": [
      "(100, 100)\n"
     ]
    }
   ],
   "source": [
    "tf_coords = tf.convert_to_tensor(coords)\n",
    "# print(tf.reshape(tf_coords,[100,100,2]))\n",
    "# print(tf.reshape(tf_coords,[100,100,2])[-1])\n",
    "\n",
    "true_values = tf.reshape(true_function(tf_coords),[100,100]).numpy()\n",
    "appro_values = tf.reshape(g(tf_coords),[100,100]).numpy()\n",
    "error = np.abs(true_values-appro_values)\n",
    "\n",
    "print(error.shape)"
   ]
  },
  {
   "cell_type": "code",
   "execution_count": 111,
   "metadata": {},
   "outputs": [
    {
     "data": {
      "text/plain": [
       "<matplotlib.colorbar.Colorbar at 0x1f935c32220>"
      ]
     },
     "execution_count": 111,
     "metadata": {},
     "output_type": "execute_result"
    },
    {
     "data": {
      "image/png": "[encoded data removed]",
      "text/plain": [
       "<Figure size 432x288 with 2 Axes>"
      ]
     },
     "metadata": {
      "needs_background": "light"
     },
     "output_type": "display_data"
    }
   ],
   "source": [
    "new_inferno = cm.get_cmap('seismic', 1024)\n",
    "# visualize with the new_inferno colormaps\n",
    "plt.pcolormesh(error, cmap = new_inferno)\n",
    "plt.colorbar()"
   ]
  },
  {
   "cell_type": "markdown",
   "metadata": {},
   "source": [
    "## Save the model"
   ]
  },
  {
   "cell_type": "code",
   "execution_count": 21,
   "metadata": {},
   "outputs": [
    {
     "name": "stdout",
     "output_type": "stream",
     "text": [
      "WARNING:tensorflow:Compiled the loaded model, but the compiled metrics have yet to be built. `model.compile_metrics` will be empty until you train or evaluate the model.\n"
     ]
    }
   ],
   "source": [
    "multilayer_perceptron.save('differentiate/model_EDP_2D.h5')"
   ]
  },
  {
   "cell_type": "markdown",
   "metadata": {},
   "source": [
    "## Load the model"
   ]
  },
  {
   "cell_type": "code",
   "execution_count": 18,
   "metadata": {},
   "outputs": [
    {
     "name": "stdout",
     "output_type": "stream",
     "text": [
      "WARNING:tensorflow:No training configuration found in the save file, so the model was *not* compiled. Compile it manually.\n"
     ]
    }
   ],
   "source": [
    "multilayer_perceptron = keras.models.load_model('differentiate/model_EDP_2D.h5')"
   ]
  },
  {
   "cell_type": "markdown",
   "metadata": {},
   "source": []
  },
  {
   "cell_type": "markdown",
   "metadata": {},
   "source": [
    "# Questions "
   ]
  },
  {
   "cell_type": "markdown",
   "metadata": {},
   "source": [
    "Quelle architecture ? \n",
    "\n",
    "Comment éviter l'overfitting ?\n",
    "\n",
    "Comment exploiter les avantages de l'IA ?\n",
    "\n",
    "Choix de l'optimizer + regularizer ? + Implémentation ?\n",
    "\n",
    "Implémentation de système d'EDP à plusieurs inconnues (étant des fonctions bien sûr) ?\n",
    "\n",
    "Plus rapide ? Comment enlever les boucles `for` ? => batch_gradient_descent ?\n",
    "\n",
    "Besoin de batch_normalization ? + autres hyperparamètres ?"
   ]
  },
  {
   "cell_type": "markdown",
   "metadata": {},
   "source": [
    "# Idées"
   ]
  },
  {
   "cell_type": "markdown",
   "metadata": {},
   "source": [
    "Ajout de bruit en entrée contre l'overfitting \n",
    "\n",
    "Une sortie par inconnue"
   ]
  }
 ],
 "metadata": {
  "interpreter": {
   "hash": "b9332023be3d0ac51f208965c608ec938465769da3e12a3a23e7ee02ae32d20e"
  },
  "kernelspec": {
   "display_name": "Python 3.9.1 64-bit",
   "language": "python",
   "name": "python3"
  },
  "language_info": {
   "codemirror_mode": {
    "name": "ipython",
    "version": 3
   },
   "file_extension": ".py",
   "mimetype": "text/x-python",
   "name": "python",
   "nbconvert_exporter": "python",
   "pygments_lexer": "ipython3",
   "version": "3.9.11"
  },
  "orig_nbformat": 4
 },
 "nbformat": 4,
 "nbformat_minor": 2
}
