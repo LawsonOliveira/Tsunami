{
 "cells": [
  {
   "cell_type": "code",
   "execution_count": 3,
   "metadata": {},
   "outputs": [
    {
     "name": "stdout",
     "output_type": "stream",
     "text": [
      "c:\\Users\\Gilles\\CS\\cours\\PoleProjet\\FormationRecherche\\Tsunami\\TP\\sceance4\\Tsunami\\differentiate\n"
     ]
    }
   ],
   "source": [
    "import sympy as sm\n",
    "import numpy as np\n",
    "import os \n",
    "\n",
    "print(os.getcwd())"
   ]
  },
  {
   "cell_type": "code",
   "execution_count": 2,
   "metadata": {},
   "outputs": [
    {
     "name": "stdout",
     "output_type": "stream",
     "text": [
      "(x**2 - x + 1)**20\n",
      "9.394887400000002\n",
      "0.9346837999999984\n",
      "x**1048576\n",
      "0.4959321999999986\n",
      "0.5476672000000029\n",
      "exp(20*x**2 - 20)\n",
      "4.188609400000001\n",
      "0.6795217999999998\n",
      "sin(x**2 - 1)**20\n",
      "13.136855099999998\n",
      "1.1482468000000026\n"
     ]
    }
   ],
   "source": [
    "import sympy as sm\n",
    "\n",
    "x = sm.Symbol('x')\n",
    "\n",
    "def diff_all_at_once(expr_0):\n",
    "    return sm.diff(expr_0,x,4)\n",
    "\n",
    "def diff_gradually(expr_0):\n",
    "    expr_1 = sm.diff(expr_0,x,1)\n",
    "    expr_2 = sm.diff(expr_1,x,1)\n",
    "    expr_3 = sm.diff(expr_2,x,1)\n",
    "    expr_4 = sm.diff(expr_3,x,1)\n",
    "    return expr_4\n",
    "\n",
    "# expr_0 = (x**2-x+1)**20\n",
    "# print(sm.expand(diff_gradually(expr_0)),'\\n \\n',sm.expand(diff_all_at_once(expr_0)))\n",
    "# print(diff_gradually(expr_0)==diff_all_at_once(expr_0)) # this comparison does not work\n",
    "\n",
    "from timeit import timeit\n",
    "expr_0 = (x**2-x+1)**20\n",
    "print(expr_0)\n",
    "print(timeit(lambda : diff_all_at_once(expr_0),number=1000))\n",
    "print(timeit(lambda : diff_gradually(expr_0),number=1000))\n",
    "\n",
    "expr_0 = x**2**20\n",
    "print(expr_0)\n",
    "print(timeit(lambda : diff_all_at_once(expr_0),number=1000))\n",
    "print(timeit(lambda : diff_gradually(expr_0),number=1000))\n",
    "\n",
    "expr_0 = sm.exp(x**2-1)**20\n",
    "print(expr_0)\n",
    "print(timeit(lambda : diff_all_at_once(expr_0),number=1000))\n",
    "print(timeit(lambda : diff_gradually(expr_0),number=1000))\n",
    "\n",
    "expr_0 = sm.sin(x**2-1)**20\n",
    "print(expr_0)\n",
    "print(timeit(lambda : diff_all_at_once(expr_0),number=1000))\n",
    "print(timeit(lambda : diff_gradually(expr_0),number=1000))"
   ]
  },
  {
   "cell_type": "markdown",
   "metadata": {},
   "source": [
    "One can `lambdify` lists but not arrays. "
   ]
  },
  {
   "cell_type": "code",
   "execution_count": 17,
   "metadata": {},
   "outputs": [
    {
     "name": "stdout",
     "output_type": "stream",
     "text": [
      "1\n",
      "[[2], [4]]\n"
     ]
    }
   ],
   "source": [
    "x,y = sm.symbols('x,y')\n",
    "variables = [x,y]\n",
    "\n",
    "A = [[x],[x**2]]\n",
    "print(sm.diff(A[0][0],x,1))\n",
    "A = sm.lambdify([x],[[x],[x**2]], 'numpy')\n",
    "print(A(2))"
   ]
  },
  {
   "cell_type": "code",
   "execution_count": 31,
   "metadata": {},
   "outputs": [
    {
     "name": "stdout",
     "output_type": "stream",
     "text": [
      "[[2, 4, 1], [1, [3]]]\n",
      "[[2, 4, 1], [1, [3]]]\n"
     ]
    }
   ],
   "source": [
    "A = [[y,y**2,x],[x**2,[y+1]]]\n",
    "B = sm.lambdify(variables,A,'numpy')\n",
    "\n",
    "print(B(1,2))\n",
    "A[0][0] = x\n",
    "A[1][1] = y\n",
    "print(B(1,2)) # no 'effet de bord'\n",
    "# print(A.evalf(subs={x: 1, y: 2})) => has to choose one A[.][.] before"
   ]
  },
  {
   "cell_type": "code",
   "execution_count": 5,
   "metadata": {},
   "outputs": [],
   "source": [
    "def dynamic_diff_2D(expr_00, l_orders, tab_diff = []):\n",
    "    if not(len(tab_diff)):\n",
    "        tab_diff = [[expr_00]]\n",
    "    for t_order in l_orders:\n",
    "        a,b=(t_order)\n",
    "        for i in range(1,a+1):\n",
    "            if len(tab_diff)<=i:\n",
    "                tab_diff.append([sm.diff(tab_diff[i-1][0],x)])\n",
    "        for j in range(1,b+1):\n",
    "            if len(tab_diff[a])<=j:\n",
    "                tab_diff[a].append(sm.diff(tab_diff[a][j-1],y))\n",
    "    return tab_diff[a][b]\n",
    "\n",
    "def diff_all_at_once_2D(expr_00,t_order):\n",
    "    dfn = expr_00\n",
    "    for i, var in enumerate(variables):\n",
    "        dfn = sm.diff(dfn, var, t_order[i])\n",
    "    return dfn"
   ]
  },
  {
   "cell_type": "code",
   "execution_count": 6,
   "metadata": {},
   "outputs": [
    {
     "name": "stdout",
     "output_type": "stream",
     "text": [
      "(x**2 - x + y**3 + 1)**20\n",
      "30.775216300000004\n",
      "2.325136400000005\n",
      "x**1048576*y**1048576\n",
      "0.6674624000000051\n",
      "0.6651176000000021\n",
      "exp(20*x**2 + 20*y**3 - 20)\n",
      "8.795723899999999\n",
      "2.1101788\n",
      "sin(x**2 + y**3 - 1)**20\n",
      "146.22511329999998\n",
      "5.539002600000003\n"
     ]
    }
   ],
   "source": [
    "from timeit import timeit\n",
    "\n",
    "t_order = (2,5)\n",
    "\n",
    "expr_00 = (x**2-x+1+y**3)**20\n",
    "print(expr_00)\n",
    "print(timeit(lambda : diff_all_at_once_2D(expr_00,t_order),number=1000))\n",
    "print(timeit(lambda : dynamic_diff_2D(expr_00,[t_order]),number=1000))\n",
    "\n",
    "expr_00 = (x*y)**2**20\n",
    "print(expr_00)\n",
    "print(timeit(lambda : diff_all_at_once_2D(expr_00,t_order),number=1000))\n",
    "print(timeit(lambda : dynamic_diff_2D(expr_00,[t_order]),number=1000))\n",
    "\n",
    "expr_00 = sm.exp(x**2-1+y**3)**20\n",
    "print(expr_00)\n",
    "print(timeit(lambda : diff_all_at_once_2D(expr_00,t_order),number=1000))\n",
    "print(timeit(lambda : dynamic_diff_2D(expr_00,[t_order]),number=1000))\n",
    "\n",
    "expr_00 = sm.sin(x**2-1+y**3)**20\n",
    "print(expr_00)\n",
    "print(timeit(lambda : diff_all_at_once_2D(expr_00,t_order),number=1000))\n",
    "print(timeit(lambda : dynamic_diff_2D(expr_00,[t_order]),number=1000))\n"
   ]
  },
  {
   "cell_type": "code",
   "execution_count": 14,
   "metadata": {},
   "outputs": [
    {
     "data": {
      "text/plain": [
       "2.592638299999976"
      ]
     },
     "execution_count": 14,
     "metadata": {},
     "output_type": "execute_result"
    }
   ],
   "source": [
    "timeit(lambda: dynamic_diff_2D((x**2-x+1+y**3)**20,[(2,5)]*50),number=1000) # almost the same time (considering deviation)"
   ]
  }
 ],
 "metadata": {
  "interpreter": {
   "hash": "b9332023be3d0ac51f208965c608ec938465769da3e12a3a23e7ee02ae32d20e"
  },
  "kernelspec": {
   "display_name": "Python 3.9.11 64-bit",
   "language": "python",
   "name": "python3"
  },
  "language_info": {
   "codemirror_mode": {
    "name": "ipython",
    "version": 3
   },
   "file_extension": ".py",
   "mimetype": "text/x-python",
   "name": "python",
   "nbconvert_exporter": "python",
   "pygments_lexer": "ipython3",
   "version": "3.9.11"
  },
  "orig_nbformat": 4
 },
 "nbformat": 4,
 "nbformat_minor": 2
}
