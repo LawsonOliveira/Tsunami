{
  "cells": [
    {
      "cell_type": "markdown",
      "source": [
        "Imports"
      ],
      "metadata": {
        "id": "gBKFgMKa8SL7"
      }
    },
    {
      "cell_type": "code",
      "source": [
        "\"\"\"Collection of general utility functions.\"\"\"\n",
        "import os\n",
        "from typing import Tuple, Text, Dict, Union, Any\n",
        "\n",
        "import numpy as np\n",
        "from jax.experimental import sparse\n",
        "from absl import logging\n",
        "from jax import random, vmap, jit, grad, numpy as jnp\n",
        "from jax.nn import softmax, relu\n",
        "#from jax.ops import index_update, index DEPRECATED: replace with jax.numpy.ndarray.at in the corresponding code\n",
        "from jax.scipy.linalg import expm\n",
        "from scipy.optimize import minimize\n",
        "\n",
        "Params = Tuple[jnp.ndarray, ...]\n",
        "Results = Dict[Text, Union[jnp.ndarray, list, float]]\n",
        "Tup = Tuple[float, float]\n",
        "\n"
      ],
      "metadata": {
        "id": "7L_xKX0tGV6O"
      },
      "execution_count": 1,
      "outputs": []
    },
    {
      "cell_type": "markdown",
      "source": [
        "Intialise"
      ],
      "metadata": {
        "id": "Rq1EXES3qMAu"
      }
    },
    {
      "cell_type": "code",
      "source": [
        "def init_params(key: jnp.ndarray, n: int, f: int, m: int,\n",
        "                sigma_weights: float = 0, init_spectrum: float = 1,\n",
        "                sigma_spectrum: float = 0) -> Params:\n",
        "  \"\"\"Initialize optimization parameters.\n",
        "  Args:\n",
        "    key: The random key.\n",
        "    n: The spin dimension.\n",
        "    f: The number of particles.\n",
        "    m: The cardinality of the support of the discrete measure.\n",
        "    sigma_weights: The standard deviation of the noise to be added to the fixed\n",
        "      initialization of weights.\n",
        "    init_spectrum: The initial absolute value of the mean of the negative\n",
        "      eigenvalues. We will add 1/n to this value for each of the positive\n",
        "      eigenvalues to ensure trace = 1.\n",
        "    sigma_spectrum: The standard deviation of the noise to be added to the fixed\n",
        "      initialization of the spectra.\n",
        "\n",
        "  Returns:\n",
        "    a 5-tuple of initial parameters:\n",
        "        weights: The weights of the discrete measure (m,); real\n",
        "        pos_spectrum: initial log values of pos spectrum (m, n); real\n",
        "        neg_spectrum: initial log values of pos spectrum (m, n); real\n",
        "        alphas: initial values of the alpha angles used to define the unitary (m,2n(f-n)-n): real\n",
        "        betas: initial values of the beta angles used to define the unitary (m,2n(f-n)-n): real\n",
        "  \"\"\"\n",
        "  subkeys = random.split(key, 5)\n",
        "  weights = sigma_weights * random.normal(subkeys[0], (m,))\n",
        "  # Initial pos spectra are all (init_spectrum + 1 / n) and\n",
        "  # negative ones are all (init_spectrum)\n",
        "  # We work with logs of desired spectra to ensure the correct signs later\n",
        "  pos_spectrum = jnp.log(init_spectrum + 1. / n)\n",
        "  pos_spectrum += sigma_spectrum * random.normal(subkeys[1], (m, n))\n",
        "  neg_spectrum = jnp.log(init_spectrum)\n",
        "  neg_spectrum += sigma_spectrum * random.normal(subkeys[2], (m, n))\n",
        "  alphas = random.uniform(subkeys[3],(m,2*n*(f-n)-n), minval = 0, maxval = 4*jnp.pi)\n",
        "  betas = random.uniform(subkeys[4],(m,2*n*(f-n)-n), minval = 0, maxval = jnp.pi/2)\n",
        "  return weights, pos_spectrum, neg_spectrum, alphas, betas"
      ],
      "metadata": {
        "id": "yNgblX-wqNOH"
      },
      "execution_count": 188,
      "outputs": []
    },
    {
      "cell_type": "markdown",
      "source": [
        "Make spectra"
      ],
      "metadata": {
        "id": "e_T1M3TGqTez"
      }
    },
    {
      "cell_type": "code",
      "source": [
        "def make_spectra(pos_spectrum: jnp.ndarray,\n",
        "                 neg_spectrum: jnp.ndarray) -> jnp.ndarray:\n",
        "  \"\"\"Compute actual spectra from optimization parameters.\n",
        "\n",
        "  The spectra have to have n positive and n negative eigenvalues\n",
        "  and satisfy the trace constraint, which we ensure here.\n",
        "\n",
        "  Args:\n",
        "    pos_spectrum: Optimization parameters for positive eigenvalues.\n",
        "    neg_spectrum: Optimization parameters for negative eigenvalues.\n",
        "\n",
        "  Returns:\n",
        "    Full (m, 2 n) array of the m spectra\n",
        "  \"\"\"\n",
        "  spectra = jnp.concatenate((jnp.exp(pos_spectrum), - jnp.exp(neg_spectrum)), 1)\n",
        "  return spectra / jnp.sum(spectra, axis=1)[..., jnp.newaxis]"
      ],
      "metadata": {
        "id": "XXN5c1nqqU-R"
      },
      "execution_count": 192,
      "outputs": []
    },
    {
      "cell_type": "markdown",
      "source": [
        "Make the unitary matrix"
      ],
      "metadata": {
        "id": "ZgcnejK0qV8-"
      }
    },
    {
      "cell_type": "code",
      "source": [
        "#masks\n",
        "def make_masks(f,band_number):\n",
        "\n",
        "  \"\"\"build\n",
        "\n",
        "  Args:\n",
        "    f: the number of particles\n",
        "    band_number: index of the band in the unitary decomposition (ranges from 1 to number of nonzero eigenvalues)\n",
        "  Returns:\n",
        "  3 arrays of masks of shape (f-band_number,f)\n",
        "  \"\"\"\n",
        "\n",
        "  term_index = jnp.arange(f-band_number)[:,jnp.newaxis, jnp.newaxis]\n",
        "  row_index = jnp.arange(f)[jnp.newaxis,:, jnp.newaxis]\n",
        "  col_index = jnp.arange(f)[jnp.newaxis,jnp.newaxis,:]\n",
        "\n",
        "  #conditions\n",
        "  mask_cos_exp_pos = (row_index == term_index + band_number-1) & (band_number-1 <= col_index) & (col_index <= row_index)\n",
        "  mask_cos_exp_neg = (col_index == term_index + band_number) & (row_index >= col_index)\n",
        "  mask_sin = ((band_number-1 <= col_index) & (col_index <= term_index + band_number-1) & (row_index >= term_index + band_number)|\n",
        "((row_index == term_index + band_number-1) & (col_index == row_index +1)))\n",
        "\n",
        "  return mask_cos_exp_pos, mask_cos_exp_neg,mask_sin\n",
        "\n"
      ],
      "metadata": {
        "id": "Vq3X07aej-Ti"
      },
      "execution_count": 189,
      "outputs": []
    },
    {
      "cell_type": "code",
      "source": [
        "def get_building_blocks(alphas:jnp.ndarray, betas:jnp.ndarray):\n",
        "  \"\"\"convert the arrays of angles into arrays of trigonometric functions which are \"building blocks\" of the band unitaries\n",
        "\n",
        "  Args:\n",
        "    alphas: Values of the alpha angles used to define the unitary (m,2n(f-n-1/2)): real\n",
        "    betas: Values of the beta angles used to define the unitary (m,2n(f-n-1/2)): real\n",
        "  Returns:\n",
        "  3 \"building blocks\" terms, basic trigonometric functions of the alphas and betas of the same size\n",
        "  (m,2n(f-n)-n)\n",
        "  \"\"\"\n",
        "  exp_alphas = jnp.exp(1J*alphas)\n",
        "  cos_betas = jnp.cos(betas)\n",
        "  sin_betas = jnp.sin(betas)\n",
        "  cos_betas_exp_pos_alphas = exp_alphas*cos_betas\n",
        "  cos_betas_exp_neg_alphas = jnp.conj(exp_alphas)* cos_betas\n",
        "\n",
        "  return cos_betas_exp_pos_alphas, cos_betas_exp_neg_alphas, sin_betas\n"
      ],
      "metadata": {
        "id": "e3YNgH3YkOmd"
      },
      "execution_count": 3,
      "outputs": []
    },
    {
      "cell_type": "code",
      "source": [
        "def make_single_band_unitary(alphas_band,betas_band,f):\n",
        "  \"\"\"Use the angle parameters and the masks to generate a unitary band matrix\n",
        "\n",
        "    Args:\n",
        "    f: dimension of the matrix (number of  particles)\n",
        "    alphas_band: shape (f-band_number,)\n",
        "    betas_band: shape (f-band_number,)\n",
        "\n",
        "  Returns:\n",
        "    (f, f) band  unitary matrix\n",
        "    \"\"\"\n",
        "  band_number = f - len(alphas_band)\n",
        "\n",
        "  #extract the building blocks and masks\n",
        "  building_blocks = get_building_blocks(alphas_band, betas_band)\n",
        "  masks = make_masks(f,band_number)\n",
        "\n",
        "  #initialise the band matrix with a matrix with ones on lower triangle and superdiagonal\n",
        "  ones_tril= jnp.tril(jnp.ones((f,f))) + jnp.eye(f,k = 1)\n",
        "  band_matrix= ones_tril.copy()\n",
        "\n",
        "  #iterate over the different masks for each building block\n",
        "  num_building_blocks= len(building_blocks)\n",
        "  for building_block_index in range(num_building_blocks):\n",
        "    mask = masks[building_block_index] #shape (f-band_number,f,f)\n",
        "    building_block = building_blocks[building_block_index]\n",
        "    band_matrix_building_block = mask*building_block[:,jnp.newaxis,jnp.newaxis]\n",
        "\n",
        "    #add ones in the lower triangle and superdiagonal before multiplying  the matrices\n",
        "    band_matrix_building_block += ones_tril - mask\n",
        "\n",
        "    #multiply the matrices together\n",
        "    band_matrix_building_block = jnp.prod(band_matrix_building_block, axis =0)\n",
        "\n",
        "    #multiply the different  building blocks together\n",
        "    band_matrix *=band_matrix_building_block\n",
        "\n",
        " #multiply by a final mask\n",
        "  final_mask = jnp.tril(jnp.concatenate((jnp.zeros((f, band_number-1)), jnp.ones((f, f - band_number+1))), axis=1), k=-1)# zeros in first band_number-1  columns\n",
        "  final_mask += jnp.eye(f) #add ones on the diagonal\n",
        "  super_diagonal_terms = jnp.concatenate((jnp.zeros(band_number-1),jnp.ones(f-band_number)))\n",
        "  final_mask -= jnp.diag(super_diagonal_terms, k = 1) #-1 on the superdiagonal to represent  the negative  sines\n",
        "  band_matrix *= final_mask #shape (f,n_col)\n",
        "\n",
        "\n",
        "\n",
        "  return band_matrix\n",
        "\n",
        "  make_band_unitary = vmap(make_single_band_unitary, in_axes=(0, 0, None))"
      ],
      "metadata": {
        "id": "SAK4OYLTmA56"
      },
      "execution_count": 179,
      "outputs": []
    },
    {
      "cell_type": "markdown",
      "source": [
        "Random test for band unitary"
      ],
      "metadata": {
        "id": "inOaKvYksodX"
      }
    },
    {
      "cell_type": "code",
      "source": [
        "f = 5 ;n = 1; band_number = 2\n",
        "alphas = jnp.array([0.1,0.2,0.3])\n",
        "betas = jnp.array([0.4,0.5,0.6])\n",
        "#alphas = np.random.uniform(low=0, high=4*np.pi, size=(f-band_number))\n",
        "#betas = np.random.uniform(low=0, high=np.pi/2, size=(f-band_number))\n",
        "print('alphas: ',alphas)\n",
        "print('betas: ',betas)\n",
        "print(\"band unitary: \", make_single_band_unitary(alphas,betas,f))"
      ],
      "metadata": {
        "id": "--kIvRs6sqc_",
        "outputId": "2b922f2b-e069-4cfd-8967-922e28ddcf3f",
        "colab": {
          "base_uri": "https://localhost:8080/"
        }
      },
      "execution_count": 225,
      "outputs": [
        {
          "output_type": "stream",
          "name": "stdout",
          "text": [
            "alphas:  [0.1 0.2 0.3]\n",
            "betas:  [0.4 0.5 0.6]\n",
            "band unitary:  [[ 1.        +0.j          0.        +0.j          0.        +0.j\n",
            "   0.        +0.j          0.        +0.j        ]\n",
            " [ 0.        +0.j          0.9164595 +0.09195267j -0.38941833+0.j\n",
            "   0.        +0.j          0.        +0.j        ]\n",
            " [ 0.        +0.j          0.33493456+0.06789459j  0.8042689 +0.08069605j\n",
            "  -0.47942555+0.j          0.        +0.j        ]\n",
            " [ 0.        +0.j          0.14720567+0.04553605j  0.35718706+0.07240541j\n",
            "   0.7206817 +0.07230937j -0.5646425 +0.j        ]\n",
            " [ 0.        +0.j          0.10541711+0.j          0.24808928-0.02489196j\n",
            "   0.485643  -0.09844471j  0.78847325-0.24390337j]]\n"
          ]
        }
      ]
    },
    {
      "cell_type": "markdown",
      "source": [
        "suggestion: instead of having three different masks ocver we iterate, vectorise a function for a single mask"
      ],
      "metadata": {
        "id": "CX9LEUN7r9Xw"
      }
    },
    {
      "cell_type": "code",
      "source": [
        "f = 3\n",
        "c = [jnp.pi,jnp.pi/2,2*jnp.pi]\n",
        "d = [jnp.pi/4, jnp.pi/6, jnp.pi/3]\n",
        "\n",
        "make_band_unitary = vmap(make_single_band_unitary, in_axes=(0, 0, None))\n",
        "alphas = jnp.array([[jnp.pi,jnp.pi/2],[jnp.pi,jnp.pi/2]])\n",
        "betas = jnp.array([[0,0],[0,0]])\n",
        "\n",
        "alphas = jnp.array([[jnp.pi,jnp.pi/2]] )\n",
        "betas = jnp.array([[0,0]])\n",
        "\n",
        "print(jnp.int_(make_band_unitary(alphas,betas,f))+1J*jnp.int_((-1J)*make_band_unitary(alphas,betas,f)))\n",
        "\n"
      ],
      "metadata": {
        "colab": {
          "base_uri": "https://localhost:8080/"
        },
        "id": "VCgeQOLbpsCu",
        "outputId": "5b2505ae-3ee7-4937-ea69-1dcd3e0f3981"
      },
      "execution_count": 6,
      "outputs": [
        {
          "output_type": "stream",
          "name": "stdout",
          "text": [
            "[[[-1.+0.j  0.+0.j  0.+0.j]\n",
            "  [ 0.+0.j  0.-1.j  0.+0.j]\n",
            "  [ 0.+0.j  0.+0.j  0.-1.j]]]\n"
          ]
        },
        {
          "output_type": "stream",
          "name": "stderr",
          "text": [
            "/usr/local/lib/python3.10/dist-packages/jax/_src/numpy/lax_numpy.py:152: UserWarning: Explicitly requested dtype int64 requested in asarray is not available, and will be truncated to dtype int32. To enable more dtypes, set the jax_enable_x64 configuration option or the JAX_ENABLE_X64 shell environment variable. See https://github.com/google/jax#current-gotchas for more.\n",
            "  return asarray(x, dtype=self.dtype)\n",
            "/usr/local/lib/python3.10/dist-packages/jax/_src/numpy/lax_numpy.py:2197: ComplexWarning: Casting complex values to real discards the imaginary part\n",
            "  out_array: Array = lax_internal._convert_element_type(\n"
          ]
        }
      ]
    },
    {
      "cell_type": "code",
      "source": [
        "def make_single_unitary(alphas,betas,f, n):\n",
        "  \"\"\"Use the angle parameters to build a unitary matrix through\n",
        "  the matrix product of  successive band unitary band matrices\n",
        "  Note: This is not any unitary but a unitary corresponding to the change of basis into\n",
        "  the eigenvector basis of a matrix with n non zero eigenvalues counted with their multiplicity\n",
        "\n",
        "    Args:\n",
        "    f: dimension of the matrix (number of  particles)\n",
        "    n: total number of eigenvalues\n",
        "    alphas: shape (2n(f-n)-n,) WRONG BECAUSE DIFF DEF OF N\n",
        "    betas: shape (2n(f-n)-n,) SAME HERE\n",
        "\n",
        "  Returns:\n",
        "    (f, f) unitary matrix\n",
        "    \"\"\"\n",
        "  #extract all the parameters\n",
        "  building_blocks = get_building_blocks(alphas, betas)\n",
        "\n",
        "  #initialise the unitary\n",
        "  unitary = jnp.eye(f)\n",
        "\n",
        "  #iterate over the bands\n",
        "  end_index = 0\n",
        "  for band_number in range(1,n+1):\n",
        "    #extract the correct alphas and betas\n",
        "    start_index = end_index\n",
        "    end_index =start_index + f - band_number\n",
        "    alphas_band, betas_band = alphas[start_index:end_index],betas[start_index:end_index]\n",
        "\n",
        "    #build the band unitary\n",
        "    band_matrix = make_single_band_unitary(alphas_band,betas_band,f)\n",
        "\n",
        "    #multiply the different unitaries together\n",
        "    unitary = jnp.dot(unitary,band_matrix)\n",
        "\n",
        "  return unitary\n",
        "\n",
        "  #vectorize\n",
        "  make_unitary = vmap(make_single_unitary, in_axes=(0, 0, None, None))"
      ],
      "metadata": {
        "id": "tJxWgPGPkWZi"
      },
      "execution_count": 28,
      "outputs": []
    },
    {
      "cell_type": "code",
      "source": [
        "f = 4\n",
        "n = 2\n",
        "alphas = jnp.array([jnp.pi,jnp.pi/2,3/2*jnp.pi, 2*jnp.pi, jnp.pi])\n",
        "betas = jnp.array([0,0,0,0,0])\n",
        "\n",
        "print(alphas)\n",
        "\n",
        "print(jnp.int_(make_single_unitary(alphas,betas,f,n))+1J*jnp.int_((-1J)*make_single_unitary(alphas,betas,f,n)))\n"
      ],
      "metadata": {
        "colab": {
          "base_uri": "https://localhost:8080/"
        },
        "id": "q-D-zf98Acon",
        "outputId": "5fc0f7e8-1250-4556-86a4-28f19a7c2a5e"
      },
      "execution_count": 8,
      "outputs": [
        {
          "output_type": "stream",
          "name": "stdout",
          "text": [
            "[3.1415927 1.5707964 4.712389  6.2831855 3.1415927]\n",
            "[[-2.+0.j  1.+0.j  0.+0.j  0.+0.j]\n",
            " [ 0.-1.j  0.-1.j  0.+0.j  0.+0.j]\n",
            " [-1.+0.j  0.+0.j  1.+0.j  0.+0.j]\n",
            " [ 0.+1.j  0.+0.j  0.+0.j  0.-1.j]]\n"
          ]
        },
        {
          "output_type": "stream",
          "name": "stderr",
          "text": [
            "/usr/local/lib/python3.10/dist-packages/jax/_src/numpy/lax_numpy.py:152: UserWarning: Explicitly requested dtype int64 requested in asarray is not available, and will be truncated to dtype int32. To enable more dtypes, set the jax_enable_x64 configuration option or the JAX_ENABLE_X64 shell environment variable. See https://github.com/google/jax#current-gotchas for more.\n",
            "  return asarray(x, dtype=self.dtype)\n",
            "/usr/local/lib/python3.10/dist-packages/jax/_src/numpy/lax_numpy.py:2197: ComplexWarning: Casting complex values to real discards the imaginary part\n",
            "  out_array: Array = lax_internal._convert_element_type(\n"
          ]
        }
      ]
    },
    {
      "cell_type": "markdown",
      "source": [
        "Random test, total unitary"
      ],
      "metadata": {
        "id": "MAzuWlF7teuY"
      }
    },
    {
      "cell_type": "code",
      "source": [
        "f = 5; n = 1\n",
        "alphas = np.random.uniform(low=0, high=4*np.pi, size=(n*(2*f-2*n-1)))\n",
        "betas = np.random.uniform(low=0, high=np.pi/2, size=(n*(2*f-2*n-1)))\n",
        "print('alphas: ',alphas)\n",
        "print('betas: ',betas)\n",
        "print(\"Unitary: \", make_single_unitary(alphas,betas,f,n))\n"
      ],
      "metadata": {
        "id": "yZwRUyCct53E",
        "outputId": "fea6ec70-a44f-4189-c0d5-6760efc247a5",
        "colab": {
          "base_uri": "https://localhost:8080/"
        }
      },
      "execution_count": 16,
      "outputs": [
        {
          "output_type": "stream",
          "name": "stdout",
          "text": [
            "alphas:  [ 1.7041011   0.9618042   2.70441546  2.79945505  2.91583542  0.88146734\n",
            " 12.4149835 ]\n",
            "betas:  [0.40743155 0.55728247 0.09842417 0.16788414 0.34641495 0.2499538\n",
            " 0.16757512]\n",
            "Unitary:  [[-0.12203047+0.9099959j  -0.39625242+0.j          0.        +0.j\n",
            "   0.        +0.j          0.        +0.j        ]\n",
            " [ 0.19237606+0.27583975j  0.5742231 -0.52674073j -0.5288818 +0.j\n",
            "   0.        +0.j          0.        +0.j        ]\n",
            " [-0.18894178+0.08829939j  0.26096684+0.406713j   -0.14439999+0.83215237j\n",
            "  -0.09826533+0.j          0.        +0.j        ]\n",
            " [-0.01912717+0.00681202j  0.02153428+0.04182782j -0.02168258+0.07931449j\n",
            "   0.9767409 +0.09310954j -0.16709661+0.j        ]\n",
            " [ 0.00344111+0.j         -0.00105973-0.00790253j  0.00797163-0.01143018j\n",
            "  -0.15064861-0.07040359j -0.9287951 -0.3307845j ]]\n"
          ]
        }
      ]
    },
    {
      "cell_type": "markdown",
      "source": [
        "Adapt for  eigenvector"
      ],
      "metadata": {
        "id": "1rP8Pq6IGKdH"
      }
    },
    {
      "cell_type": "code",
      "source": [
        "\n",
        "#masks\n",
        "\n",
        "def make_masks_cfs(f,n_col, band_number):\n",
        "\n",
        "  \"\"\"build\n",
        "\n",
        "  Args:\n",
        "    f: the number of particles\n",
        "    n_col: the number of columns of the masks we want to build. To build a full matrix we will want n_col = f\n",
        "    band_number: index of the band in the unitary decomposition (ranges from 1 to number of nonzero eigenvalues)\n",
        "  Returns:\n",
        "  3 arrays of masks of shape (f-band_number,f,n_col)\n",
        "  \"\"\"\n",
        "\n",
        "  term_index = jnp.arange(f-band_number)[:,jnp.newaxis, jnp.newaxis]\n",
        "  row_index = jnp.arange(f)[jnp.newaxis,:, jnp.newaxis]\n",
        "  col_index = jnp.arange(n_col)[jnp.newaxis,jnp.newaxis,:]\n",
        "\n",
        "  #conditions\n",
        "  mask_cos_exp_pos = (row_index == term_index + band_number-1) & (band_number-1 <= col_index) & (col_index <= row_index)\n",
        "  mask_cos_exp_neg = (col_index == term_index + band_number) & (row_index >= col_index)\n",
        "  mask_sin = ((band_number-1 <= col_index) & (col_index <= term_index + band_number-1) & (row_index >= term_index + band_number)|\n",
        "((row_index == term_index + band_number-1) & (col_index == row_index +1)))\n",
        "\n",
        "  return mask_cos_exp_pos, mask_cos_exp_neg,mask_sin\n"
      ],
      "metadata": {
        "id": "4l1xeoMdGL5Z"
      },
      "execution_count": 62,
      "outputs": []
    },
    {
      "cell_type": "code",
      "source": [
        "print(1*make_masks_cfs(5,3,2)[2])"
      ],
      "metadata": {
        "colab": {
          "base_uri": "https://localhost:8080/"
        },
        "id": "wm1c3aJMKy8o",
        "outputId": "0fe583fc-8af4-494f-93d6-ac25cd12c9bd"
      },
      "execution_count": 84,
      "outputs": [
        {
          "output_type": "stream",
          "name": "stdout",
          "text": [
            "[[[0 0 0]\n",
            "  [0 0 1]\n",
            "  [0 1 0]\n",
            "  [0 1 0]\n",
            "  [0 1 0]]\n",
            "\n",
            " [[0 0 0]\n",
            "  [0 0 0]\n",
            "  [0 0 0]\n",
            "  [0 1 1]\n",
            "  [0 1 1]]\n",
            "\n",
            " [[0 0 0]\n",
            "  [0 0 0]\n",
            "  [0 0 0]\n",
            "  [0 0 0]\n",
            "  [0 1 1]]]\n"
          ]
        }
      ]
    },
    {
      "cell_type": "code",
      "source": [
        "def make_single_band_unitary_cfs(alphas_band,betas_band,f,n_col):\n",
        "  \"\"\"Use the angle parameters and the masks to generate a unitary band matrix\n",
        "\n",
        "    Args:\n",
        "\n",
        "    alphas_band: shape (f-band_number,)\n",
        "    betas_band: shape (f-band_number,)\n",
        "    f: dimension of the matrix (number of  particles)\n",
        "    n_col: number of columns of the unitary which we want to build\n",
        "\n",
        "  Returns:\n",
        "    (f, n_col) band  unitary matrix\n",
        "    \"\"\"\n",
        "  band_number = f - len(alphas_band)\n",
        "\n",
        "  #extract the building blocks and masks\n",
        "  building_blocks = get_building_blocks(alphas_band, betas_band)\n",
        "  masks = make_masks_cfs(f,n_col,band_number)\n",
        "\n",
        "  #initialise the band matrix with a matrix with ones on lower triangle and superdiagonal\n",
        "  ones_tril= jnp.tril(jnp.ones((f,f))) + jnp.eye(f,k = 1)\n",
        "  ones_tril = ones_tril[:,:n_col]\n",
        "  band_matrix= ones_tril.copy()\n",
        "\n",
        "  #iterate over the different masks for each building block\n",
        "  num_masks = len(masks)\n",
        "  for building_block_index in range(num_masks):\n",
        "    mask = masks[building_block_index] #shape (f-band_number,f,f)\n",
        "    building_block = building_blocks[building_block_index]\n",
        "    band_matrix_building_block = mask*building_block[:,jnp.newaxis,jnp.newaxis]\n",
        "\n",
        "    #add ones in the lower triangle and superdiagonal before multiplying  the matrices\n",
        "    band_matrix_building_block += ones_tril - mask\n",
        "\n",
        "    #multiply the matrices together\n",
        "    band_matrix_building_block = jnp.prod(band_matrix_building_block, axis =0)\n",
        "\n",
        "    #multiply the different  building blocks together\n",
        "    band_matrix *=band_matrix_building_block\n",
        "\n",
        "  #multiply by a final mask\n",
        "  final_mask = jnp.tril(jnp.concatenate((jnp.zeros((f, band_number-1)), jnp.ones((f, f - band_number+1))), axis=1), k=-1)# zeros in first band_number-1  columns\n",
        "  final_mask += jnp.eye(f) #add ones on the diagonal\n",
        "  super_diagonal_terms = jnp.concatenate((jnp.zeros(band_number-1),jnp.ones(f-band_number)))\n",
        "  final_mask -= jnp.diag(super_diagonal_terms, k = 1) #-1 on the superdiagonal to represent  the negative  sines\n",
        "  band_matrix *= final_mask[:,:n_col] #shape (f,n_col)\n",
        "\n",
        "  return band_matrix\n",
        "\n",
        "  make_band_unitary = vmap(make_single_band_unitary_cfs, in_axes=(0, 0, None,None))"
      ],
      "metadata": {
        "id": "f-IuxuAVGY8k"
      },
      "execution_count": 174,
      "outputs": []
    },
    {
      "cell_type": "code",
      "source": [
        "f = 4\n",
        "n_col = 4\n",
        "alphas = jnp.array([jnp.pi,jnp.pi, jnp.pi])\n",
        "betas = jnp.array([0,0,0])\n",
        "\n",
        "print(alphas)\n",
        "\n",
        "print(jnp.int_(make_single_band_unitary_cfs(alphas,betas,f,n_col))-1J*jnp.int_(1J*make_single_band_unitary_cfs(alphas,betas,f,n_col)))"
      ],
      "metadata": {
        "colab": {
          "base_uri": "https://localhost:8080/"
        },
        "id": "ocHlSU1fLM2j",
        "outputId": "d9ff8700-03e5-4753-cc80-46ac92b8d741"
      },
      "execution_count": 175,
      "outputs": [
        {
          "output_type": "stream",
          "name": "stdout",
          "text": [
            "[3.1415927 3.1415927 3.1415927]\n",
            "[[-1.+0.j  0.+0.j  0.+0.j  0.+0.j]\n",
            " [ 0.+0.j  1.+0.j  0.+0.j  0.+0.j]\n",
            " [ 0.+0.j  0.+0.j  1.+0.j  0.+0.j]\n",
            " [ 0.+0.j  0.+0.j  0.+0.j -1.+0.j]]\n"
          ]
        },
        {
          "output_type": "stream",
          "name": "stderr",
          "text": [
            "/usr/local/lib/python3.10/dist-packages/jax/_src/numpy/lax_numpy.py:152: UserWarning: Explicitly requested dtype int64 requested in asarray is not available, and will be truncated to dtype int32. To enable more dtypes, set the jax_enable_x64 configuration option or the JAX_ENABLE_X64 shell environment variable. See https://github.com/google/jax#current-gotchas for more.\n",
            "  return asarray(x, dtype=self.dtype)\n",
            "/usr/local/lib/python3.10/dist-packages/jax/_src/numpy/lax_numpy.py:2197: ComplexWarning: Casting complex values to real discards the imaginary part\n",
            "  out_array: Array = lax_internal._convert_element_type(\n"
          ]
        }
      ]
    },
    {
      "cell_type": "code",
      "source": [
        "def make_single_eigenvectors(alphas,betas,f, n):\n",
        "  \"\"\"Use the angle parameters to build the 2n first eigenvectors of a spacetime point  x\n",
        "\n",
        "    Args:\n",
        "    f: dimension of the matrix (number of  particles)\n",
        "    n: spin number hence  2n is total number of eigenvalues\n",
        "    alphas: shape (2n(f-n)-n)\n",
        "    betas: shape (2n(f-n)-n)\n",
        "\n",
        "  Returns:\n",
        "    (f,2n) matrix\n",
        "    \"\"\"\n",
        "  #extract all the parameters\n",
        "  num_alphas = len(alphas)\n",
        "  building_blocks = get_building_blocks(alphas, betas)\n",
        "\n",
        "  #initialise the eigenvectors:\n",
        "  start_index = len(alphas)-(f-2*n)\n",
        "  end_index = len(alphas)\n",
        "  alphas_band, betas_band = alphas[start_index:end_index],betas[start_index:end_index]\n",
        "  eigenvectors = make_single_band_unitary_cfs(alphas_band,betas_band,f,n_col = 2*n)\n",
        "\n",
        "  #iterate over the remaining 2n-1 bands\n",
        "  for band_number in range(2*n-1,0,-1):\n",
        "    #extract the correct alphas and betas\n",
        "    end_index = start_index\n",
        "    start_index = end_index - (f - band_number)\n",
        "    alphas_band, betas_band = alphas[start_index:end_index],betas[start_index:end_index]\n",
        "\n",
        "    #build the band unitary\n",
        "    band_matrix = make_single_band_unitary_cfs(alphas_band,betas_band,f,n_col = f)\n",
        "\n",
        "    #multiply the unitaries and the vectors\n",
        "    eigenvectors = jnp.dot(band_matrix,eigenvectors)\n",
        "\n",
        "  return eigenvectors\n",
        "\n",
        "  #vectorize\n",
        "  make_eigenvectors = vmap(make_single_eigenvectors, in_axes=(0, 0, None,None))\n",
        "\n"
      ],
      "metadata": {
        "id": "MKytCkDlG_Ey"
      },
      "execution_count": 187,
      "outputs": []
    },
    {
      "cell_type": "code",
      "source": [
        "f = 4\n",
        "\n",
        "alphas = jnp.array([jnp.pi,jnp.pi/2,3/2*jnp.pi,2*jnp.pi,jnp.pi])\n",
        "betas = jnp.array([0,0,0,0,0])\n",
        "\n",
        "\n",
        "print(jnp.int_(make_single_eigenvectors(alphas,betas,f,n=1))+1J*jnp.int_((-1J)*make_single_eigenvectors(alphas,betas,f,n = 1)))"
      ],
      "metadata": {
        "colab": {
          "base_uri": "https://localhost:8080/"
        },
        "id": "Gws44OxkNFUv",
        "outputId": "9832df87-8db0-4a91-df82-1ba7b6dd0db1"
      },
      "execution_count": 137,
      "outputs": [
        {
          "output_type": "stream",
          "name": "stdout",
          "text": [
            "eigenvectors initial [[ 1.+0.0000000e+00j -1.+0.0000000e+00j]\n",
            " [ 0.+0.0000000e+00j  1.+1.7484555e-07j]\n",
            " [ 0.+0.0000000e+00j  0.+0.0000000e+00j]\n",
            " [ 0.+0.0000000e+00j  0.+0.0000000e+00j]]\n",
            "eigenvectors initial [[ 1.+0.0000000e+00j -1.+0.0000000e+00j]\n",
            " [ 0.+0.0000000e+00j  1.+1.7484555e-07j]\n",
            " [ 0.+0.0000000e+00j  0.+0.0000000e+00j]\n",
            " [ 0.+0.0000000e+00j  0.+0.0000000e+00j]]\n",
            "[[-1.+0.j  1.+0.j]\n",
            " [ 0.+0.j  0.-1.j]\n",
            " [ 0.+0.j  0.+0.j]\n",
            " [ 0.+0.j  0.+0.j]]\n"
          ]
        }
      ]
    },
    {
      "cell_type": "markdown",
      "source": [
        "Random Test Eigenvectors"
      ],
      "metadata": {
        "id": "OEtI54KFHcsh"
      }
    },
    {
      "cell_type": "code",
      "source": [
        "f = 8; n = 2\n",
        "alphas = np.random.uniform(low=0, high=4*np.pi, size=(n*(2*f-2*n-1)))\n",
        "betas = np.random.uniform(low=0, high=np.pi/2, size=(n*(2*f-2*n-1)))\n",
        "\n",
        "print('alphas: ',alphas)\n",
        "print('betas: ',betas)\n",
        "print(\"Unitary: \", make_single_unitary(alphas,betas,f,n)[:,:2*n])\n",
        "\n",
        "print( \"eigenvectors\", make_single_eigenvectors(alphas,betas,f,n))\n",
        "\n",
        "\n"
      ],
      "metadata": {
        "id": "7jx1Jr9wHbe3",
        "outputId": "1b78fa23-556c-43a2-ef7d-1dd7fe93cbcb",
        "colab": {
          "base_uri": "https://localhost:8080/"
        }
      },
      "execution_count": 178,
      "outputs": [
        {
          "output_type": "stream",
          "name": "stdout",
          "text": [
            "alphas:  [11.83454483  4.7001774  11.88405135  5.30077314 11.31669712  9.82417698\n",
            "  9.92689272 10.33022909  8.69606062 11.78894435 11.43511158  3.37789308\n",
            "  0.50561575 10.65022845 12.49114432  7.03986528 10.67774546  3.92685007\n",
            "  1.30326135  4.13147884  4.45699129  4.89403326]\n",
            "betas:  [0.78087431 1.56967989 1.27859307 0.52718766 0.06210627 0.31798072\n",
            " 0.60153587 1.11806767 0.40708618 0.98322888 1.2222888  0.31441328\n",
            " 0.0816592  1.28775437 0.05949248 0.82857341 0.23230854 1.28421272\n",
            " 1.32681702 1.3691796  0.74273294 1.0627137 ]\n",
            "Unitary:  [[ 5.2843058e-01-0.47464183j -3.3835381e-01+0.7168686j\n",
            "   6.3298756e-01+0.j          0.0000000e+00+0.j        ]\n",
            " [-9.5968126e-06-0.00078583j  6.1570972e-01-0.549123j\n",
            "   2.4967952e-02+0.401404j    3.9593509e-01+0.j        ]\n",
            " [ 1.5737031e-01-0.12786411j -3.4403908e-01+0.1873368j\n",
            "  -1.9395868e-01-0.1005514j   4.8680219e-01-0.02383385j]\n",
            " [ 3.2332128e-01-0.48458123j -5.2641547e-01+0.3308674j\n",
            "  -5.1346707e-01+0.13053705j  1.4168407e-03-0.00833675j]\n",
            " [ 1.0683219e-01-0.32116845j -2.0821454e-01+0.15489984j\n",
            "  -2.3594186e-01+0.19914213j -2.6092222e-01+0.1473864j ]\n",
            " [-1.8419484e-02-0.00777458j -9.3317345e-02+0.23968181j\n",
            "  -4.5644313e-02-0.09209476j  5.9207880e-01-0.24586923j]\n",
            " [-4.7558821e-03-0.00261122j  2.5311043e-02+0.1046887j\n",
            "  -4.3222334e-02-0.01704039j  1.2980573e-01-0.23002008j]\n",
            " [ 3.7240831e-03+0.j         -5.7282433e-02-0.05052528j\n",
            "   3.2308463e-02-0.00811578j  1.9302797e-02+0.18621509j]]\n",
            "eigenvectors initial [[ 1.        +0.j          0.        +0.j          0.        +0.j\n",
            "   0.        +0.j        ]\n",
            " [ 0.        +0.j          1.        +0.j          0.        +0.j\n",
            "   0.        +0.j        ]\n",
            " [ 0.        +0.j          0.        +0.j          1.        +0.j\n",
            "   0.        +0.j        ]\n",
            " [ 0.        +0.j          0.        +0.j          0.        +0.j\n",
            "   0.06385913+0.23297238j]\n",
            " [ 0.        +0.j          0.        +0.j          0.        +0.j\n",
            "  -0.10664152-0.16244689j]\n",
            " [ 0.        +0.j          0.        +0.j          0.        +0.j\n",
            "  -0.17692418-0.6776117j ]\n",
            " [ 0.        +0.j          0.        +0.j          0.        +0.j\n",
            "   0.05650864-0.30766577j]\n",
            " [ 0.        +0.j          0.        +0.j          0.        +0.j\n",
            "   0.56175894+0.j        ]]\n",
            "eigenvectors [[ 5.28430581e-01-0.47464183j  1.90076768e-01+0.24222675j\n",
            "  -5.98437153e-02-0.16634203j -3.88136543e-02-0.14160089j]\n",
            " [-9.59681256e-06-0.00078583j  6.15700126e-01-0.5499088j\n",
            "   4.81558979e-01-0.07303285j  6.41105324e-02-0.02644347j]\n",
            " [ 1.57370314e-01-0.12786411j -1.86668783e-01+0.0594727j\n",
            "   4.77846026e-01+0.02374279j  8.83528739e-02+0.35080844j]\n",
            " [ 3.23321283e-01-0.48458123j -2.03094184e-01-0.15371382j\n",
            "   6.69931844e-02+0.09116444j -1.23020984e-01+0.31077585j]\n",
            " [ 1.06832191e-01-0.32116845j -1.01382345e-01-0.16626862j\n",
            "  -1.43677622e-01+0.23120889j  9.49615687e-02-0.4901252j ]\n",
            " [-1.84194837e-02-0.00777458j -1.11736827e-01+0.23190723j\n",
            "   5.18019319e-01-0.2542054j  -2.81504810e-01-0.506221j  ]\n",
            " [-4.75588208e-03-0.00261122j  2.05551628e-02+0.10207748j\n",
            "   1.00448892e-01-0.20749015j  1.74693152e-01-0.00815131j]\n",
            " [ 3.72408307e-03+0.j         -5.35583496e-02-0.05052528j\n",
            "   2.10942477e-02+0.17077553j -3.39797825e-01+0.01589912j]]\n"
          ]
        }
      ]
    },
    {
      "cell_type": "markdown",
      "source": [
        "test band  unitary vs band unitary for cfs"
      ],
      "metadata": {
        "id": "-VzKT9MlJqax"
      }
    },
    {
      "cell_type": "code",
      "source": [
        "f = 8 ;n = 2; band_number = 4\n",
        "alphas = np.random.uniform(low=0, high=4*np.pi, size=(f-band_number))\n",
        "betas = np.random.uniform(low=0, high=np.pi/2, size=(f-band_number))\n",
        "\n",
        "print('alphas: ',alphas)\n",
        "print('betas: ',betas)\n",
        "\n",
        "print(make_single_band_unitary_cfs(alphas,betas,f,n_col=f) == make_single_band_unitary(alphas,betas,f))"
      ],
      "metadata": {
        "id": "5YsE-3rkJCjv",
        "outputId": "0b7c48bb-4c24-4941-8a09-07fe26ccdfb9",
        "colab": {
          "base_uri": "https://localhost:8080/"
        }
      },
      "execution_count": 184,
      "outputs": [
        {
          "output_type": "stream",
          "name": "stdout",
          "text": [
            "alphas:  [12.41127559 11.34728954  0.40510808 11.86795894]\n",
            "betas:  [1.21733967 0.12445021 1.3335901  1.5623361 ]\n",
            "[[ True  True  True  True  True  True  True  True]\n",
            " [ True  True  True  True  True  True  True  True]\n",
            " [ True  True  True  True  True  True  True  True]\n",
            " [ True  True  True  True  True  True  True  True]\n",
            " [ True  True  True  True  True  True  True  True]\n",
            " [ True  True  True  True  True  True  True  True]\n",
            " [ True  True  True  True  True  True  True  True]\n",
            " [ True  True  True  True  True  True  True  True]]\n"
          ]
        }
      ]
    },
    {
      "cell_type": "markdown",
      "source": [
        "Build Lagrangian\n",
        ""
      ],
      "metadata": {
        "id": "-CojjmTh9Ght"
      }
    },
    {
      "cell_type": "code",
      "source": [
        "\n",
        "\n",
        "def make_lagrangian_1(spectra,eigenvectors, i: int, j: int) -> float:\n",
        "  \"\"\"The Lagrangian for a single pair of spacetime points for n = 1.\n",
        "\n",
        "  Args:\n",
        "    spectra: (m,2n)\n",
        "    eigenvectors: (m,f,2n)\n",
        "    i: Index for first point.\n",
        "    j: Index for second point.\n",
        "\n",
        "  Returns:\n",
        "    value of the Lagrangian\n",
        "  \"\"\"\n",
        "  gram = jnp.dot(jnp.conj(eigenvectors[i].T),eigenvectors[j])\n",
        "  eigenvalue_products = jnp.outer(spectra[i],spectra[j])\n",
        "  xy_product = jnp.dot(gram *eigenvalue_products, jnp.conj(gram.T)) #not exactly xy but an isospectral matrix, M in write up\n",
        "  D = 0.5*(jnp.real(xy_product[0,0])-jnp.real(xy_product[1,1]))**2 + 2*jnp.real(xy_product[0,1]*xy_product[1,0])\n",
        "\n",
        "  #R = jnp.trace(xy_product@xy_product) - 0.5*(jnp.trace(xy_product))**2\n",
        "  return relu(D)\n",
        "\n",
        "\n"
      ],
      "metadata": {
        "id": "d-Ksefaw9FZd"
      },
      "execution_count": 248,
      "outputs": []
    },
    {
      "cell_type": "markdown",
      "source": [
        "test Make_lagrangian_1d"
      ],
      "metadata": {
        "id": "ffFjbudEo1El"
      }
    },
    {
      "cell_type": "code",
      "source": [
        "seed_value = 34\n",
        "key = random.PRNGKey(seed_value)\n",
        "f = 5\n",
        "n = 1\n",
        "m = 3\n",
        "\n",
        "#initialise values\n",
        "\n",
        "sigma_spectrum = 0.01\n",
        "init_spectrum = 1\n",
        "sigma_weights = 0.01\n",
        "\n",
        "weights, pos_spectrum, neg_spectrum, alphas, betas = init_params(key,n,f,m,sigma_weights,init_spectrum,sigma_spectrum)\n"
      ],
      "metadata": {
        "id": "bk6MvdwwrwjR"
      },
      "execution_count": 228,
      "outputs": []
    },
    {
      "cell_type": "code",
      "source": [
        "spectra = make_spectra(pos_spectrum,neg_spectrum)\n",
        "make_eigenvectors = vmap(make_single_eigenvectors, in_axes=(0, 0, None,None))\n",
        "eigenvectors = make_eigenvectors(alphas,betas,f,n)\n",
        "\n",
        "print(make_lagrangian_1(spectra,eigenvectors,0,1))\n",
        "\n"
      ],
      "metadata": {
        "id": "xkIFBcyVo34f",
        "outputId": "c9e13bd1-df45-4193-e411-678f170175ce",
        "colab": {
          "base_uri": "https://localhost:8080/"
        }
      },
      "execution_count": 249,
      "outputs": [
        {
          "output_type": "stream",
          "name": "stdout",
          "text": [
            "eigenvalue_products:  [[ 4.008974  -1.9972023]\n",
            " [-2.016216   1.0044444]]\n",
            "xy_products:  (-0.3905294+2.9802322e-08j)\n",
            "xy_products:  [[ 0.24903847+2.9802322e-08j  1.2698573 -1.6396946e-01j]\n",
            " [-0.63864386-8.2464427e-02j -0.3905294 +2.9802322e-08j]]\n",
            "(Array(1.1920929e-07-6.803816e-08j, dtype=complex64), Array(-1.4444928, dtype=float32), Array(-1.4444929+6.803816e-08j, dtype=complex64), Array(-1.4444928+7.063845e-08j, dtype=complex64))\n"
          ]
        }
      ]
    },
    {
      "cell_type": "markdown",
      "source": [
        "Action"
      ],
      "metadata": {
        "id": "uhegKRU0LZDH"
      }
    },
    {
      "cell_type": "code",
      "source": [
        "def action(params: Params) -> float:\n",
        "  \"\"\"The action.\n",
        "\n",
        "  Args:\n",
        "    params: The 5-tuple of parameters (weights, positive spectrum,\n",
        "        negative spectrum, block_ul, block_ur).\n",
        "\n",
        "  Returns:\n",
        "    single float for the value of the action\n",
        "  \"\"\"\n",
        "  xs, weights = make_xs_and_weights(params)\n",
        "  # weighted sum of Lagrangian for pairs\n",
        "  m, n, _ = params[-2].shape\n",
        "  if n == 1:\n",
        "    make_lag = vmap(make_lagrangian_1, (None, 0, 0, None))\n",
        "  #else:\n",
        "    #make_lag = vmap(make_lagrangian_n, (None, 0, 0, None))\n",
        "\n",
        "  # Only looking at upper triangle (without diagonal)\n",
        "  rows, cols = jnp.triu_indices(m, k=1)\n",
        "  lag_ij = make_lag(xs, rows, cols, two_n)\n",
        "  act = 2 * jnp.sum(weights[rows] * weights[cols] * lag_ij)\n",
        "  # Add diagonal\n",
        "  diag = jnp.arange(m)\n",
        "  lag_ij = make_lag(xs, diag, diag, two_n)\n",
        "  act += jnp.sum(weights ** 2 * lag_ij)\n",
        "  return act"
      ],
      "metadata": {
        "id": "q1ALvTk5L9RE"
      },
      "execution_count": null,
      "outputs": []
    },
    {
      "cell_type": "markdown",
      "source": [
        "Boundedness functional"
      ],
      "metadata": {
        "id": "z2Pw5U8KL_3V"
      }
    },
    {
      "cell_type": "code",
      "source": [
        "def boundedness(params: Params) -> float:\n",
        "  \"\"\"The boundedness functional.\n",
        "\n",
        "  Args:\n",
        "    params: The 5-tuple of parameters (weights, positive spectrum,\n",
        "        negative spectrum, block_ul, block_ur).\n",
        "\n",
        "  Returns:\n",
        "    single float for the value of the action\n",
        "  \"\"\"\n",
        "  xs, weights = make_xs_and_weights(params)\n",
        "  # weighted sum of Lagrangian for pairs\n",
        "  m, two_n, _ = params[-2].shape\n",
        "\n",
        "  def _boundedness(_xs, _i, _j, _two_n):\n",
        "    xij = _xs[_i] @ _xs[_j]\n",
        "    spec = jnp.sort(jnp.abs(jnp.linalg.eigvals(xij)))[-_two_n:]\n",
        "    _bnd = jnp.sum(spec) ** 2\n",
        "    return _bnd\n",
        "\n",
        "  make_bnd = vmap(_boundedness, (None, 0, 0, None))\n",
        "  # Only looking at upper triangle (without diagonal)\n",
        "  rows, cols = jnp.triu_indices(m, k=1)\n",
        "  bnd_ij, _ = make_bnd(xs, rows, cols, two_n)\n",
        "  bnd = 2 * jnp.sum(weights[rows] * weights[cols] * bnd_ij)\n",
        "  # Add diagonal\n",
        "  diag = jnp.arange(m)\n",
        "  bnd_ij, _ = make_bnd(xs, diag, diag, two_n)\n",
        "  bnd += jnp.sum(weights ** 2 * bnd_ij)\n",
        "  return bnd\n"
      ],
      "metadata": {
        "id": "s3oFynAWMCAV"
      },
      "execution_count": null,
      "outputs": []
    }
  ],
  "metadata": {
    "colab": {
      "provenance": []
    },
    "language_info": {
      "name": "python"
    },
    "kernelspec": {
      "name": "python3",
      "display_name": "Python 3"
    }
  },
  "nbformat": 4,
  "nbformat_minor": 0
}