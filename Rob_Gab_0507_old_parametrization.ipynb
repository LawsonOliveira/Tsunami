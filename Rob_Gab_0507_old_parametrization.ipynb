{
  "cells": [
    {
      "cell_type": "markdown",
      "source": [
        "Imports"
      ],
      "metadata": {
        "id": "gBKFgMKa8SL7"
      }
    },
    {
      "cell_type": "code",
      "source": [
        "\"\"\"Collection of general utility functions.\"\"\"\n",
        "import os\n",
        "from typing import Tuple, Text, Dict, Union, Any\n",
        "\n",
        "import numpy as np\n",
        "from jax.experimental import sparse\n",
        "from absl import logging\n",
        "from jax import random, vmap, jit, grad, numpy as jnp\n",
        "from jax.nn import softmax, relu\n",
        "#from jax.ops import index_update, index DEPRECATED: replace with jax.numpy.ndarray.at in the corresponding code\n",
        "from jax.scipy.linalg import expm\n",
        "from scipy.optimize import minimize\n",
        "\n",
        "Params = Tuple[jnp.ndarray, ...]\n",
        "Results = Dict[Text, Union[jnp.ndarray, list, float]]\n",
        "Tup = Tuple[float, float]\n",
        "\n"
      ],
      "metadata": {
        "id": "7L_xKX0tGV6O"
      },
      "execution_count": 2,
      "outputs": []
    },
    {
      "cell_type": "markdown",
      "source": [
        "RESULT COLLECTION AND CHECKPOINTING"
      ],
      "metadata": {
        "id": "xPxSRTgWT5lz"
      }
    },
    {
      "cell_type": "code",
      "source": [
        "# =============================================================================\n",
        "# RESULT COLLECTION AND CHECKPOINTING\n",
        "# =============================================================================\n",
        "\n",
        "def collect_results(params: Params) -> Results:\n",
        "  \"\"\"Create results dictionary from parameters at a given step.\n",
        "\n",
        "  Args:\n",
        "    params: The parameters to add to the results dictionary.\n",
        "\n",
        "  Returns:\n",
        "    results dictionary\n",
        "  \"\"\"\n",
        "  results = {}\n",
        "  weights, pos_spectrum, neg_spectrum, block_ul, block_ur = params\n",
        "  results['weights'] = softmax(weights)\n",
        "  spectra = make_spectra(pos_spectrum, neg_spectrum)\n",
        "  results['spectra'] = spectra\n",
        "  results['hamiltonian'] = make_hamiltonian(block_ul, block_ur)\n",
        "  results['avg_neg_spec'] = jnp.mean(spectra[:, 1])\n",
        "  results['avg_pos_spec'] = jnp.mean(spectra[:, 0])\n",
        "  results['xs'] = make_xs(results['spectra'], results['hamiltonian'])\n",
        "  return {k: np.array(v) for k, v in results.items()}\n",
        "\n",
        "\n",
        "def write_checkpoint(params: Params,\n",
        "                     name: Text,\n",
        "                     out_dir: Text,\n",
        "                     results: Dict = None) -> None:\n",
        "  \"\"\"Checkpoint current optimization parameters.\n",
        "\n",
        "  Args:\n",
        "    params: The current parameter tuple.\n",
        "    name: The name under which to store the parameter checkpoint.\n",
        "    out_dir: The directory where to store the parameters.\n",
        "    results: If this result dictionary is not `None`, add the parameters (in\n",
        "        their interpretable form) to the result dictionary and store this as\n",
        "        in the same directory as `results.npz`.\n",
        "  \"\"\"\n",
        "  result_path = os.path.join(out_dir, f\"{name}.npz\")\n",
        "  weights, pos_spectrum, neg_spectrum, block_ul, block_ur = params\n",
        "  np.savez(result_path, weights=weights, pos_spectrum=pos_spectrum,\n",
        "           neg_spectrum=neg_spectrum, block_ul=block_ul, block_ur=block_ur)\n",
        "  if results is not None:\n",
        "    results.update(collect_results(params))\n",
        "    result_path = os.path.join(out_dir, \"results.npz\")\n",
        "    np.savez(result_path, **results)\n"
      ],
      "metadata": {
        "id": "8xkTft2fT50n"
      },
      "execution_count": 3,
      "outputs": []
    },
    {
      "cell_type": "markdown",
      "source": [
        "Intialise"
      ],
      "metadata": {
        "id": "Rq1EXES3qMAu"
      }
    },
    {
      "cell_type": "code",
      "source": [
        "def init_params(key: jnp.ndarray, n: int, f: int, m: int,\n",
        "                sigma_weights: float = 0, init_spectrum: float = 1,\n",
        "                sigma_spectrum: float = 0) -> Params:\n",
        "  \"\"\"Initialize optimization parameters.\n",
        "\n",
        "  Args:\n",
        "    key: The random key.\n",
        "    n: The spin dimension.\n",
        "    f: The number of particles.\n",
        "    m: The cardinality of the support of the discrete measure.\n",
        "    sigma_weights: The standard deviation of the noise to be added to the fixed\n",
        "      initialization of weights.\n",
        "    init_spectrum: The initial absolute value of the mean of the negative\n",
        "      eigenvalues. We will add 1/n to this value for each of the positive\n",
        "      eigenvalues to ensure trace = 1.\n",
        "    sigma_spectrum: The standard deviation of the noise to be added to the fixed\n",
        "      initialization of the spectra.\n",
        "\n",
        "  Returns:\n",
        "    a 5-tuple of initial parameters:\n",
        "        weights: The weights of the discrete measure (m,); real\n",
        "        pos_spectrum: initial log values of pos spectrum (m, n); real\n",
        "        neg_spectrum: initial log values of pos spectrum (m, n); real\n",
        "        block_ul: the upper left block of H (m, 2n, 2n); complex\n",
        "        block_ur: the upper right block of H (m, 2n, f - 2n); complex\n",
        "  \"\"\"\n",
        "  subkeys = random.split(key, 7)\n",
        "  weights = sigma_weights * random.normal(subkeys[0], (m,))\n",
        "  # Initial pos spectra are all (init_spectrum + 1 / n) and\n",
        "  # negative ones are all (init_spectrum)\n",
        "  # We work with logs of desired spectra to ensure the correct signs later\n",
        "  pos_spectrum = jnp.log(init_spectrum + 1. / n)\n",
        "  pos_spectrum += sigma_spectrum * random.normal(subkeys[1], (m, n))\n",
        "  neg_spectrum = jnp.log(init_spectrum)\n",
        "  neg_spectrum += sigma_spectrum * random.normal(subkeys[2], (m, n))\n",
        "  # Upper right block of Hermitian uniformly at random from\n",
        "  # \\{x + i y | -pi \\le x, y \\le pi \\}\n",
        "  # Compute lower left as conjugate transpose\n",
        "  block_ur = random.uniform(subkeys[3], (m, 2 * n, f - 2 * n),\n",
        "                            minval=-jnp.pi, maxval=jnp.pi)\n",
        "  block_ur += 1J * random.uniform(subkeys[4], (m, 2 * n, f - 2 * n),\n",
        "                                  minval=-jnp.pi, maxval=jnp.pi)\n",
        "  # Upper left block paramaterized as block_ul + block_ul^{\\dagger}\n",
        "  # will set diagonal to zero explicitly\n",
        "  block_ul = random.uniform(subkeys[5], (m, 2 * n, 2 * n),\n",
        "                            minval=-jnp.pi, maxval=jnp.pi)\n",
        "  block_ul += 1J * random.uniform(subkeys[6], (m, 2 * n, 2 * n),\n",
        "                                  minval=-jnp.pi, maxval=jnp.pi)\n",
        "  return weights, pos_spectrum, neg_spectrum, block_ul, block_ur"
      ],
      "metadata": {
        "id": "yNgblX-wqNOH"
      },
      "execution_count": 4,
      "outputs": []
    },
    {
      "cell_type": "markdown",
      "source": [
        "Make Hamiltonian"
      ],
      "metadata": {
        "id": "6wrxbfeI-L3l"
      }
    },
    {
      "cell_type": "code",
      "source": [
        "def make_hamiltonian(block_ul: jnp.ndarray,\n",
        "                     block_ur: jnp.ndarray) -> jnp.ndarray:\n",
        "  \"\"\"Put together the full Hamiltonian from blocks.\n",
        "\n",
        "  We ensure that Hamiltonians H are hermitian.\n",
        "  Thereby, - i H are anti-hermitian and exp(-i H) is unitary.\n",
        "\n",
        "  Args:\n",
        "    block_ul: The upper left block is of shape (m, 2n, 2n)\n",
        "    block_ur: The upper right block is of shape (m, 2n, f - 2n)\n",
        "\n",
        "  Returns:\n",
        "    The stack of full Hamiltonians of shape (m, f, f)\n",
        "  \"\"\"\n",
        "  m = block_ul.shape[0]\n",
        "  two_n = block_ul.shape[-1]\n",
        "  f = block_ur.shape[-1] + two_n\n",
        "  # compute upper left block as A + A^{\\dagger} and set diag to 0\n",
        "  block_ul = block_ul + jnp.swapaxes(jnp.conj(block_ul), 1, 2)\n",
        "  block_ul *= (1 - jnp.eye(two_n)[jnp.newaxis, ...])\n",
        "  # put pieces together\n",
        "  hamiltonian = jnp.zeros((m, f, f), dtype=jnp.complex64)\n",
        "  hamiltonian = hamiltonian.at[:, :two_n, :two_n].set(block_ul)\n",
        "  hamiltonian = hamiltonian.at[:, :two_n, two_n:].set(block_ur)\n",
        "  block_ur = jnp.swapaxes(jnp.conj(block_ur), 1, 2)\n",
        "  hamiltonian = hamiltonian.at[:, two_n:, :two_n].set(block_ur)\n",
        "  return hamiltonian"
      ],
      "metadata": {
        "id": "h3EjXftx-Mv3"
      },
      "execution_count": 5,
      "outputs": []
    },
    {
      "cell_type": "markdown",
      "source": [
        "Make spectra"
      ],
      "metadata": {
        "id": "e_T1M3TGqTez"
      }
    },
    {
      "cell_type": "code",
      "source": [
        "def make_spectra(pos_spectrum: jnp.ndarray,\n",
        "                 neg_spectrum: jnp.ndarray) -> jnp.ndarray:\n",
        "  \"\"\"Compute actual spectra from optimization parameters.\n",
        "\n",
        "  The spectra have to have n positive and n negative eigenvalues\n",
        "  and satisfy the trace constraint, which we ensure here.\n",
        "\n",
        "  Args:\n",
        "    pos_spectrum: Optimization parameters for positive eigenvalues.\n",
        "    neg_spectrum: Optimization parameters for negative eigenvalues.\n",
        "\n",
        "  Returns:\n",
        "    Full (m, 2 n) array of the m spectra\n",
        "  \"\"\"\n",
        "  spectra = jnp.concatenate((jnp.exp(pos_spectrum), - jnp.exp(neg_spectrum)), 1)\n",
        "  return spectra / jnp.sum(spectra, axis=1)[..., jnp.newaxis]"
      ],
      "metadata": {
        "id": "XXN5c1nqqU-R"
      },
      "execution_count": 6,
      "outputs": []
    },
    {
      "cell_type": "markdown",
      "source": [
        "Action"
      ],
      "metadata": {
        "id": "uhegKRU0LZDH"
      }
    },
    {
      "cell_type": "code",
      "source": [
        "def make_xs(spectra: jnp.ndarray, hamiltonian: jnp.ndarray) -> jnp.ndarray:\n",
        "  \"\"\"Generate the m spacetime points.\n",
        "\n",
        "  Args:\n",
        "    spectra: The spectra of the m points.\n",
        "    hamiltonian: The Hamiltonian matrices.\n",
        "\n",
        "  Returns:\n",
        "    (m, f, f) stack of m spacetime points\n",
        "  \"\"\"\n",
        "  m, two_n = spectra.shape\n",
        "  f = hamiltonian.shape[-1]\n",
        "  # (m, f, f), unitary <- expm(anti-hermitian)\n",
        "  unitary = vmap(expm)(- 1J * hamiltonian)\n",
        "  # (m, f)\n",
        "  xs = vmap(jnp.diag)(jnp.concatenate((spectra, jnp.zeros((m, f - two_n))), 1))\n",
        "  # (m, f, f), hermitian (U_i x_i U_i^{\\dagger})\n",
        "  xs = jnp.einsum('...ij,...jk,...lk->...il', unitary, xs, jnp.conj(unitary))\n",
        "  return xs\n",
        "\n",
        "\n",
        "def make_xs_and_weights(params: Params) -> Tuple[jnp.ndarray, jnp.ndarray]:\n",
        "  \"\"\"Get the spacetime points from the current parameters.\n",
        "\n",
        "  Args:\n",
        "    params: The tuple of parameters (weights, positive spectrum,\n",
        "        negative spectrum, block_ul, block_ur).\n",
        "\n",
        "  Returns:\n",
        "    (m, f, f) array with a stack of m spacetime points of dimensions (f, f)\n",
        "  \"\"\"\n",
        "  # (m, n), (m, n), (m, 2n, 2n), (m, 2n, f - 2n)\n",
        "  weights, pos_spectrum, neg_spectrum, block_ul, block_ur = params\n",
        "  # Scale weights into [0,1] and sum to 1\n",
        "  weights = softmax(weights)\n",
        "  # (m, 2n)\n",
        "  spectra = make_spectra(pos_spectrum, neg_spectrum)\n",
        "  # (m, f, f), hermitian\n",
        "  hamiltonian = make_hamiltonian(block_ul, block_ur)\n",
        "  # (m, f, f), hermitian\n",
        "  return make_xs(spectra, hamiltonian), weights\n",
        "\n",
        "\n",
        "def make_lagrangian_n(xs: jnp.ndarray, i: int, j: int, two_n: int) -> float:\n",
        "  \"\"\"The Lagrangian for a single pair of spacetime points for n >= 1.\n",
        "\n",
        "  Args:\n",
        "    xs: (m, f, f) array of all the spacetime points.\n",
        "    i: Index for first point.\n",
        "    j: Index for second point.\n",
        "    two_n: 2n (2 times the spin dimension)\n",
        "\n",
        "  Returns:\n",
        "    value of the Lagrangian\n",
        "  \"\"\"\n",
        "  xij = xs[i] @ xs[j]\n",
        "  spec = jnp.sort(jnp.abs(jnp.linalg.eigvals(xij)))[-two_n:]\n",
        "  bnd = jnp.sum(spec) ** 2\n",
        "  return jnp.sum(spec ** 2) - bnd / two_n\n",
        "\n",
        "\n",
        "def make_lagrangian_1(xs: jnp.ndarray, i: int, j: int, two_n: int) -> float:\n",
        "  \"\"\"The Lagrangian for a single pair of spacetime points for n = 1.\n",
        "\n",
        "  Args:\n",
        "    xs: (m, f, f) array of all the spacetime points.\n",
        "    i: Index for first point.\n",
        "    j: Index for second point.\n",
        "    two_n: 2n (2 times the spin dimension); unused here, kept for compatibility.\n",
        "\n",
        "  Returns:\n",
        "    value of the Lagrangian\n",
        "  \"\"\"\n",
        "  xij = xs[i] @ xs[j]\n",
        "  tmp = jnp.real(jnp.trace(xij) ** 2)\n",
        "  return relu(jnp.real(jnp.trace(xij @ xij)) - tmp / 2.)\n",
        "\n",
        "\n",
        "def action(params: Params) -> float:\n",
        "  \"\"\"The action.\n",
        "\n",
        "  Args:\n",
        "    params: The 5-tuple of parameters (weights, positive spectrum,\n",
        "        negative spectrum, block_ul, block_ur).\n",
        "\n",
        "  Returns:\n",
        "    single float for the value of the action\n",
        "  \"\"\"\n",
        "  xs, weights = make_xs_and_weights(params)\n",
        "  # weighted sum of Lagrangian for pairs\n",
        "  m, two_n, _ = params[-2].shape\n",
        "  if two_n == 2:\n",
        "    make_lag = vmap(make_lagrangian_1, (None, 0, 0, None))\n",
        "  else:\n",
        "    make_lag = vmap(make_lagrangian_n, (None, 0, 0, None))\n",
        "  # Only looking at upper triangle (without diagonal)\n",
        "  rows, cols = jnp.triu_indices(m, k=1)\n",
        "  lag_ij = make_lag(xs, rows, cols, two_n)\n",
        "  act = 2 * jnp.sum(weights[rows] * weights[cols] * lag_ij)\n",
        "  # Add diagonal\n",
        "  diag = jnp.arange(m)\n",
        "  lag_ij = make_lag(xs, diag, diag, two_n)\n",
        "  act += jnp.sum(weights ** 2 * lag_ij)\n",
        "  return act\n",
        "\n",
        "\n",
        "def boundedness(params: Params) -> float:\n",
        "  \"\"\"The boundedness functional.\n",
        "\n",
        "  Args:\n",
        "    params: The 5-tuple of parameters (weights, positive spectrum,\n",
        "        negative spectrum, block_ul, block_ur).\n",
        "\n",
        "  Returns:\n",
        "    single float for the value of the action\n",
        "  \"\"\"\n",
        "  xs, weights = make_xs_and_weights(params)\n",
        "  # weighted sum of Lagrangian for pairs\n",
        "  m, two_n, _ = params[-2].shape\n",
        "\n",
        "  def _boundedness(_xs, _i, _j, _two_n):\n",
        "    xij = _xs[_i] @ _xs[_j]\n",
        "    spec = jnp.sort(jnp.abs(jnp.linalg.eigvals(xij)))[-_two_n:]\n",
        "    _bnd = jnp.sum(spec) ** 2\n",
        "    return _bnd\n",
        "\n",
        "  make_bnd = vmap(_boundedness, (None, 0, 0, None))\n",
        "  # Only looking at upper triangle (without diagonal)\n",
        "  rows, cols = jnp.triu_indices(m, k=1)\n",
        "  bnd_ij, _ = make_bnd(xs, rows, cols, two_n)\n",
        "  bnd = 2 * jnp.sum(weights[rows] * weights[cols] * bnd_ij)\n",
        "  # Add diagonal\n",
        "  diag = jnp.arange(m)\n",
        "  bnd_ij, _ = make_bnd(xs, diag, diag, two_n)\n",
        "  bnd += jnp.sum(weights ** 2 * bnd_ij)\n",
        "  return bnd\n",
        "\n",
        "\n",
        "# =============================================================================\n",
        "# OPTIMIZATION\n",
        "# =============================================================================\n",
        "\n",
        "def _flatten_params(params: Params) -> jnp.ndarray:\n",
        "  \"\"\"Flatten all (complex) optimization parameters into single (real) vector.\"\"\"\n",
        "  all_params = []\n",
        "  for p in params:\n",
        "    if p.dtype in [jnp.float32, jnp.float64]:\n",
        "      all_params.append(p.ravel())\n",
        "    else:\n",
        "      all_params.append(jnp.real(p.ravel()))\n",
        "      all_params.append(jnp.imag(p.ravel()))\n",
        "  return jnp.concatenate(all_params)\n",
        "\n",
        "\n",
        "def _reconstruct_params(params: jnp.ndarray, n: int, f: int, m: int) -> Params:\n",
        "  \"\"\"Rearrange parameters into original shape from flat (real) vector.\n",
        "\n",
        "  Returns:\n",
        "    a 5-tuple of initial parameters:\n",
        "        weights: The weights of the discrete measure (m,); real\n",
        "        pos_spectrum: initial log values of pos spectrum (m, n); real\n",
        "        neg_spectrum: initial log values of pos spectrum (m, n); real\n",
        "        block_ul: the upper left block of H (m, 2n, 2n); complex\n",
        "        block_ur: the upper right block of H (m, 2n, f - 2n); complex\n",
        "  \"\"\"\n",
        "  n_w = m\n",
        "  n_pos = n_w + n * m\n",
        "  n_neg = n_pos + n * m\n",
        "  n_ul_r = n_neg + m * 4 * n ** 2\n",
        "  n_ul_i = n_ul_r + m * 4 * n ** 2\n",
        "  n_ur_r = n_ul_i + m * 2 * n * (f - 2 * n)\n",
        "  splits = [n_w, n_pos, n_neg, n_ul_r, n_ul_i, n_ur_r]\n",
        "  (weights,\n",
        "   pos_spectrum,\n",
        "   neg_spectrum,\n",
        "   block_ul_r,\n",
        "   block_ul_i,\n",
        "   block_ur_r,\n",
        "   block_ur_i) = jnp.split(params, splits)\n",
        "  pos_spectrum = pos_spectrum.reshape(m, n)\n",
        "  neg_spectrum = neg_spectrum.reshape(m, n)\n",
        "  block_ul = (block_ul_r + 1J * block_ul_i).reshape(m, 2 * n, 2 * n)\n",
        "  block_ur = (block_ur_r + 1J * block_ur_i).reshape(m, 2 * n, f - 2 * n)\n",
        "  return weights, pos_spectrum, neg_spectrum, block_ul, block_ur\n",
        "\n",
        "\n",
        "def _action_flat_params(params: jnp.ndarray, n: int, f: int, m: int) -> float:\n",
        "  \"\"\"Action computation for bfgs optimization.\"\"\"\n",
        "  params = _reconstruct_params(params, n, f, m)\n",
        "  return action(params)"
      ],
      "metadata": {
        "id": "A_F10EV1_K-4"
      },
      "execution_count": 7,
      "outputs": []
    },
    {
      "cell_type": "code",
      "source": [
        "#initialise parameters\n",
        "\n",
        "sigma_weights = 0.01\n",
        "sigma_spectrum = 0.01\n",
        "lbfgs_maxiter = 10000\n",
        "lbfgs_gtol = 1e-7\n",
        "lbfgs_ftol = 1e-9\n",
        "lbfgs_maxcor = 70\n",
        "lbfgs_maxls = 20\n",
        "bfgs_maxiter = 5000\n",
        "bfgs_gtol = 1e-7\n",
        "max_m_bfgs = 1000\n",
        "seed = 543\n",
        "\n",
        "key = random.PRNGKey(seed)"
      ],
      "metadata": {
        "id": "LfQVr5MlxsCu"
      },
      "execution_count": 8,
      "outputs": []
    },
    {
      "cell_type": "code",
      "source": [
        "def n1_f2_neg_spectrum_from_m(m):\n",
        "  \"\"\"In the n=1, f=2 scenario, get the abs value of the neg eigenvalue at opt\n",
        "  for 2-dim sphere.\n",
        "\n",
        "  For the case n=1, f=2 *without* the boundedness constraint, the optimal\n",
        "  solution is to send pos and neg eigenvalues to pos / neg infinity as m goes to\n",
        "  infinity.\n",
        "  We can compute these values for the positive and negative eigenvalues\n",
        "  analytically.\n",
        "\n",
        "  Returns:\n",
        "    the absolute value of the negative eigenvalue at the optimum.\n",
        "  \"\"\"\n",
        "  return (3 ** (1. / 4.) * jnp.sqrt(m / (2 * jnp.pi)) - 1.) / 4"
      ],
      "metadata": {
        "id": "7EFyqWjB5fm1"
      },
      "execution_count": 9,
      "outputs": []
    },
    {
      "cell_type": "code",
      "source": [],
      "metadata": {
        "id": "NckFjkoViQyp"
      },
      "execution_count": 9,
      "outputs": []
    },
    {
      "cell_type": "markdown",
      "source": [
        "optimise"
      ],
      "metadata": {
        "id": "mMvdbEilgf8G"
      }
    },
    {
      "cell_type": "code",
      "source": [
        "def optimize(params: Params,\n",
        "             n: int,\n",
        "             f: int,\n",
        "             m: int,\n",
        "             lbfgs_options: Dict[Text, Any],\n",
        "             bfgs_options: Dict[Text, Any],\n",
        "             ) -> Tuple[Params, Results]:\n",
        "  \"\"\"Wrapper around the scipy BFGS minimizer that also collects results.\n",
        "\n",
        "  Args:\n",
        "    params: The tuple of optimization parameters.\n",
        "    n: The desired spin dimension.\n",
        "    f: The desired number of particles.\n",
        "    m: The desired cardinality of the support of the discrete measure.\n",
        "    lbfgs_options: The options to pass to L-BFGS. If the argument is None or the\n",
        "        maxiter option is 0, don't run L-BFGS at all.\n",
        "    bfgs_options: The options to pass to BFGS. If the argument is None or the\n",
        "        maxiter option is 0, don't run BFGS at all.\n",
        "  \"\"\"\n",
        "\n",
        "  if ((bfgs_options is None or bfgs_options['maxiter'] <= 0) and\n",
        "      (lbfgs_options is None or lbfgs_options['maxiter'] <= 0)):\n",
        "    raise ValueError(\"Run either bfgs or lbfgs for at least 1 iteration.\")\n",
        "\n",
        "  results = {\n",
        "    'action': [],\n",
        "    'boundedness': [],\n",
        "    # 'n_iterations': [],\n",
        "    'n': n,\n",
        "    'f': f,\n",
        "    'm': m\n",
        "  }\n",
        "  first_iteration_time = None\n",
        "  iteration_counter = 0\n",
        "  def callback_function(xk):\n",
        "      nonlocal first_iteration_time, iteration_counter\n",
        "      iteration_counter += 1  # Increment the counter\n",
        "      if iteration_counter == 1:  # Check if it's the first iteration\n",
        "          first_iteration_time = time.time() - start_time  # Calculate the time taken\n",
        "\n",
        "\n",
        "  # ---------------------------------------------------------------------------\n",
        "  # Initialization and setup\n",
        "  # ---------------------------------------------------------------------------\n",
        "  params0 = _flatten_params(params)\n",
        "\n",
        "  # ---------------------------------------------------------------------------\n",
        "  # L-BFGS (scipy)\n",
        "  # ---------------------------------------------------------------------------\n",
        "  start_time = time.time()\n",
        "\n",
        "  f_act = jit(_action_flat_params, static_argnums=(1, 2, 3))\n",
        "  func_grad = jit(grad(_action_flat_params), static_argnums=(1, 2, 3))\n",
        "  g_act = lambda x, _n, _f, _m: np.array(func_grad(x, _n, _f, _m))\n",
        "  res = None\n",
        "  if lbfgs_options is not None and lbfgs_options['maxiter'] > 0:\n",
        "    res = minimize(f_act, params0, args=(n, f, m), method=\"l-bfgs-b\", jac=g_act, options=lbfgs_options, callback=callback_function)\n",
        "    #results = _log_and_update_results(\"LBFGS\", res, results)\n",
        "\n",
        "  # ---------------------------------------------------------------------------\n",
        "  # BFGS scipy\n",
        "  # ---------------------------------------------------------------------------\n",
        "  if bfgs_options is not None and bfgs_options['maxiter'] > 0:\n",
        "    if res is not None:\n",
        "      params0 = res.x\n",
        "    res = minimize(f_act, params0, args=(n, f, m), method=\"bfgs\", jac=g_act, options=bfgs_options, callback=callback_function)\n",
        "  #results = _log_and_update_results(\"BFGS\", res, results)\n",
        "\n",
        "  # ---------------------------------------------------------------------------\n",
        "  # Final results reporting\n",
        "  # ---------------------------------------------------------------------------\n",
        "  final_params = _reconstruct_params(res.x, n, f, m)\n",
        "  act = action(final_params)\n",
        "  #bnd = boundedness(final_params)\n",
        "  results['action'].append(act)\n",
        "  #results['boundedness'].append(bnd)\n",
        "  return final_params, {k: np.array(v) for k, v in results.items()},first_iteration_time\n"
      ],
      "metadata": {
        "id": "5kVrn3zugeK4"
      },
      "execution_count": 10,
      "outputs": []
    },
    {
      "cell_type": "code",
      "source": [
        "# ---------------------------------------------------------------------------\n",
        "# Optimization and writing results\n",
        "# ---------------------------------------------------------------------------\n",
        "#n = 1, f = 2\n",
        "\n",
        "import matplotlib.pyplot as plt\n",
        "\n",
        "def main(n,f,m_sweep):\n",
        "\n",
        "  # Parameter and result initialization\n",
        "  # ---------------------------------------------------------------------------\n",
        "  key2, subkey = random.split(key)\n",
        "\n",
        "  # Setup (L)BFGS options\n",
        "  # ---------------------------------------------------------------------------\n",
        "\n",
        "  def make_options(m):\n",
        "    lbfgs_options = {\n",
        "      \"maxiter\": lbfgs_maxiter,\n",
        "      \"maxfun\": 2 * lbfgs_maxiter,\n",
        "      \"disp\": 50,\n",
        "      \"gtol\": lbfgs_gtol,\n",
        "      \"ftol\": lbfgs_ftol,\n",
        "      \"maxcor\": lbfgs_maxcor,\n",
        "      \"maxls\": lbfgs_maxls,\n",
        "    }\n",
        "\n",
        "    if max_m_bfgs < m:\n",
        "      bfgs_options = None\n",
        "    else:\n",
        "      bfgs_options = {\n",
        "        \"maxiter\": bfgs_maxiter,\n",
        "        \"disp\": True,\n",
        "        \"gtol\": bfgs_gtol,\n",
        "      }\n",
        "    return lbfgs_options,bfgs_options\n",
        "\n",
        "\n",
        "  actions = []\n",
        "\n",
        "  for m in m_sweep:\n",
        "    lbfgs_options,bfgs_options = make_options(m)\n",
        "\n",
        "    init_spectrum = 5*n1_f2_neg_spectrum_from_m(m)\n",
        "\n",
        "    params_0 = init_params(subkey, n, f, m,\n",
        "                            sigma_weights, init_spectrum,\n",
        "                            sigma_spectrum)\n",
        "\n",
        "    final_params, bfgs_res = optimize(\n",
        "    params_0, n, f, m, lbfgs_options, bfgs_options)\n",
        "\n",
        "    actions.append(bfgs_res[\"action\"])\n",
        "\n",
        "  plt.scatter(m_sweep,actions)\n",
        "\n",
        "  plt.show()\n",
        "\n"
      ],
      "metadata": {
        "id": "feTpIZRotpCh"
      },
      "execution_count": 11,
      "outputs": []
    },
    {
      "cell_type": "code",
      "source": [
        "# ---------------------------------------------------------------------------\n",
        "# Measure running time\n",
        "# ---------------------------------------------------------------------------\n",
        "#n = 1, f = 2\n",
        "import time\n",
        "import matplotlib.pyplot as plt\n",
        "\n",
        "def measure_single_time(key,n,f,m):\n",
        "\n",
        "  # Parameter and result initialization\n",
        "  # ---------------------------------------------------------------------------\n",
        "  key2, subkey = random.split(key)\n",
        "\n",
        "  # Setup (L)BFGS options\n",
        "  # ---------------------------------------------------------------------------\n",
        "\n",
        "  def make_options(m):\n",
        "    lbfgs_options = {\n",
        "      \"maxiter\": lbfgs_maxiter,\n",
        "      \"maxfun\": 2 * lbfgs_maxiter,\n",
        "      \"disp\": 50,\n",
        "      \"gtol\": lbfgs_gtol,\n",
        "      \"ftol\": lbfgs_ftol,\n",
        "      \"maxcor\": lbfgs_maxcor,\n",
        "      \"maxls\": lbfgs_maxls,\n",
        "    }\n",
        "\n",
        "    bfgs_options = {\n",
        "        \"maxiter\": bfgs_maxiter,\n",
        "        \"disp\": True,\n",
        "        \"gtol\": bfgs_gtol,\n",
        "      }\n",
        "    return lbfgs_options,bfgs_options\n",
        "\n",
        "  lbfgs_options,bfgs_options = make_options(m)\n",
        "\n",
        "  init_spectrum = 5*n1_f2_neg_spectrum_from_m(m)\n",
        "\n",
        "  params_0 = init_params(subkey, n, f, m,\n",
        "                          sigma_weights, init_spectrum,\n",
        "                          sigma_spectrum)\n",
        "  #measure time\n",
        "\n",
        "  start_time = time.time()\n",
        "  final_params, bfgs_res, first_optimisation_time = optimize(\n",
        "  params_0, n, f, m, lbfgs_options, bfgs_options)\n",
        "  end_time = time.time()\n",
        "  elapsed_time = end_time - start_time\n",
        "\n",
        "  return elapsed_time, first_optimisation_time\n",
        "\n",
        "\n"
      ],
      "metadata": {
        "id": "0PIQ-fVCVbkY"
      },
      "execution_count": 12,
      "outputs": []
    },
    {
      "cell_type": "code",
      "source": [
        "f_array = np.array([2,4,8])\n",
        "m_array = np.array([16,32,64])\n",
        "\n",
        "elapsed_times = np.zeros((len(m_array),len(f_array)))\n",
        "first_optimisation_times = np.zeros((len(m_array),len(f_array)))\n",
        "\n",
        "for i in np.arange(len(m_array)):\n",
        "  for j in np.arange(len(f_array)):\n",
        "    f = f_array[i]\n",
        "    m = m_array[j]\n",
        "    elapsed_times[i,j],first_optimisation_times[i,j] = measure_single_time(key,1,f,m)\n",
        "\n",
        "\n",
        "\n",
        "from mpl_toolkits.mplot3d import Axes3D\n",
        "X, Y = np.meshgrid(f_array, m_array)\n",
        "\n",
        "Z = elapsed_times\n",
        "\n",
        "fig = plt.figure()\n",
        "ax = fig.add_subplot(111, projection='3d')\n",
        "\n",
        "# Plot the surface\n",
        "ax.plot_surface(X, Y, Z, cmap='viridis')\n",
        "\n",
        "# Add labels\n",
        "ax.set_xlabel('f')\n",
        "ax.set_ylabel('m axis')\n",
        "ax.set_zlabel('time')\n",
        "\n",
        "# Show the plot\n",
        "plt.show()"
      ],
      "metadata": {
        "id": "BYK-f3kiKKOs",
        "outputId": "63c6f5fd-dcae-4b79-a377-2bfa6e95e77d",
        "colab": {
          "base_uri": "https://localhost:8080/",
          "height": 1000
        }
      },
      "execution_count": 13,
      "outputs": [
        {
          "output_type": "stream",
          "name": "stderr",
          "text": [
            "/usr/local/lib/python3.10/dist-packages/jax/_src/lax/lax.py:2740: ComplexWarning: Casting complex values to real discards the imaginary part\n",
            "  x_bar = _convert_element_type(x_bar, x.aval.dtype, x.aval.weak_type)\n",
            "/usr/local/lib/python3.10/dist-packages/scipy/optimize/_minimize.py:705: OptimizeWarning: Desired error not necessarily achieved due to precision loss.\n",
            "  res = _minimize_bfgs(fun, x0, args, jac, callback, **options)\n"
          ]
        },
        {
          "output_type": "stream",
          "name": "stdout",
          "text": [
            "         Current function value: 0.166444\n",
            "         Iterations: 1\n",
            "         Function evaluations: 59\n",
            "         Gradient evaluations: 47\n"
          ]
        },
        {
          "output_type": "stream",
          "name": "stderr",
          "text": [
            "/usr/local/lib/python3.10/dist-packages/jax/_src/lax/lax.py:2740: ComplexWarning: Casting complex values to real discards the imaginary part\n",
            "  x_bar = _convert_element_type(x_bar, x.aval.dtype, x.aval.weak_type)\n",
            "/usr/local/lib/python3.10/dist-packages/scipy/optimize/_minimize.py:705: OptimizeWarning: Desired error not necessarily achieved due to precision loss.\n",
            "  res = _minimize_bfgs(fun, x0, args, jac, callback, **options)\n"
          ]
        },
        {
          "output_type": "stream",
          "name": "stdout",
          "text": [
            "         Current function value: 0.157918\n",
            "         Iterations: 0\n",
            "         Function evaluations: 51\n",
            "         Gradient evaluations: 39\n"
          ]
        },
        {
          "output_type": "stream",
          "name": "stderr",
          "text": [
            "/usr/local/lib/python3.10/dist-packages/jax/_src/lax/lax.py:2740: ComplexWarning: Casting complex values to real discards the imaginary part\n",
            "  x_bar = _convert_element_type(x_bar, x.aval.dtype, x.aval.weak_type)\n",
            "/usr/local/lib/python3.10/dist-packages/scipy/optimize/_minimize.py:705: OptimizeWarning: Desired error not necessarily achieved due to precision loss.\n",
            "  res = _minimize_bfgs(fun, x0, args, jac, callback, **options)\n"
          ]
        },
        {
          "output_type": "stream",
          "name": "stdout",
          "text": [
            "         Current function value: 0.146385\n",
            "         Iterations: 0\n",
            "         Function evaluations: 57\n",
            "         Gradient evaluations: 45\n"
          ]
        },
        {
          "output_type": "stream",
          "name": "stderr",
          "text": [
            "/usr/local/lib/python3.10/dist-packages/jax/_src/lax/lax.py:2740: ComplexWarning: Casting complex values to real discards the imaginary part\n",
            "  x_bar = _convert_element_type(x_bar, x.aval.dtype, x.aval.weak_type)\n",
            "/usr/local/lib/python3.10/dist-packages/scipy/optimize/_minimize.py:705: OptimizeWarning: Desired error not necessarily achieved due to precision loss.\n",
            "  res = _minimize_bfgs(fun, x0, args, jac, callback, **options)\n"
          ]
        },
        {
          "output_type": "stream",
          "name": "stdout",
          "text": [
            "         Current function value: 0.050000\n",
            "         Iterations: 0\n",
            "         Function evaluations: 59\n",
            "         Gradient evaluations: 47\n"
          ]
        },
        {
          "output_type": "stream",
          "name": "stderr",
          "text": [
            "/usr/local/lib/python3.10/dist-packages/jax/_src/lax/lax.py:2740: ComplexWarning: Casting complex values to real discards the imaginary part\n",
            "  x_bar = _convert_element_type(x_bar, x.aval.dtype, x.aval.weak_type)\n",
            "/usr/local/lib/python3.10/dist-packages/scipy/optimize/_minimize.py:705: OptimizeWarning: Desired error not necessarily achieved due to precision loss.\n",
            "  res = _minimize_bfgs(fun, x0, args, jac, callback, **options)\n"
          ]
        },
        {
          "output_type": "stream",
          "name": "stdout",
          "text": [
            "         Current function value: 0.050000\n",
            "         Iterations: 0\n",
            "         Function evaluations: 66\n",
            "         Gradient evaluations: 55\n"
          ]
        },
        {
          "output_type": "stream",
          "name": "stderr",
          "text": [
            "/usr/local/lib/python3.10/dist-packages/jax/_src/lax/lax.py:2740: ComplexWarning: Casting complex values to real discards the imaginary part\n",
            "  x_bar = _convert_element_type(x_bar, x.aval.dtype, x.aval.weak_type)\n",
            "/usr/local/lib/python3.10/dist-packages/scipy/optimize/_minimize.py:705: OptimizeWarning: Desired error not necessarily achieved due to precision loss.\n",
            "  res = _minimize_bfgs(fun, x0, args, jac, callback, **options)\n"
          ]
        },
        {
          "output_type": "stream",
          "name": "stdout",
          "text": [
            "         Current function value: 0.050000\n",
            "         Iterations: 0\n",
            "         Function evaluations: 66\n",
            "         Gradient evaluations: 54\n"
          ]
        },
        {
          "output_type": "stream",
          "name": "stderr",
          "text": [
            "/usr/local/lib/python3.10/dist-packages/jax/_src/lax/lax.py:2740: ComplexWarning: Casting complex values to real discards the imaginary part\n",
            "  x_bar = _convert_element_type(x_bar, x.aval.dtype, x.aval.weak_type)\n",
            "/usr/local/lib/python3.10/dist-packages/scipy/optimize/_minimize.py:705: OptimizeWarning: Desired error not necessarily achieved due to precision loss.\n",
            "  res = _minimize_bfgs(fun, x0, args, jac, callback, **options)\n"
          ]
        },
        {
          "output_type": "stream",
          "name": "stdout",
          "text": [
            "         Current function value: 0.033335\n",
            "         Iterations: 0\n",
            "         Function evaluations: 74\n",
            "         Gradient evaluations: 63\n"
          ]
        },
        {
          "output_type": "stream",
          "name": "stderr",
          "text": [
            "/usr/local/lib/python3.10/dist-packages/jax/_src/lax/lax.py:2740: ComplexWarning: Casting complex values to real discards the imaginary part\n",
            "  x_bar = _convert_element_type(x_bar, x.aval.dtype, x.aval.weak_type)\n",
            "/usr/local/lib/python3.10/dist-packages/scipy/optimize/_minimize.py:705: OptimizeWarning: Desired error not necessarily achieved due to precision loss.\n",
            "  res = _minimize_bfgs(fun, x0, args, jac, callback, **options)\n"
          ]
        },
        {
          "output_type": "stream",
          "name": "stdout",
          "text": [
            "         Current function value: 0.020223\n",
            "         Iterations: 0\n",
            "         Function evaluations: 76\n",
            "         Gradient evaluations: 65\n"
          ]
        },
        {
          "output_type": "stream",
          "name": "stderr",
          "text": [
            "/usr/local/lib/python3.10/dist-packages/jax/_src/lax/lax.py:2740: ComplexWarning: Casting complex values to real discards the imaginary part\n",
            "  x_bar = _convert_element_type(x_bar, x.aval.dtype, x.aval.weak_type)\n",
            "/usr/local/lib/python3.10/dist-packages/scipy/optimize/_minimize.py:705: OptimizeWarning: Desired error not necessarily achieved due to precision loss.\n",
            "  res = _minimize_bfgs(fun, x0, args, jac, callback, **options)\n"
          ]
        },
        {
          "output_type": "stream",
          "name": "stdout",
          "text": [
            "         Current function value: 0.014253\n",
            "         Iterations: 0\n",
            "         Function evaluations: 76\n",
            "         Gradient evaluations: 64\n"
          ]
        },
        {
          "output_type": "display_data",
          "data": {
            "text/plain": [
              "<Figure size 640x480 with 1 Axes>"
            ],
            "image/png": "[encoded data removed]"
          },
          "metadata": {}
        }
      ]
    },
    {
      "cell_type": "code",
      "source": [
        "print(\"total_times:\", elapsed_times)\n",
        "print(\"first compilation time:\", first_optimisation_times)\n",
        "print(\"total_time/first_time: \", elapsed_times/first_optimisation_times)\n",
        "A = [[(m_array[i], f_array[j]) for j in range(len(f_array))]for i in range(len(m_array))]\n",
        "print(\"parameters:\", A)"
      ],
      "metadata": {
        "id": "VsBQh2hC9AFA",
        "outputId": "f82f2bc8-a2e9-4fdf-da3a-f135552084c6",
        "colab": {
          "base_uri": "https://localhost:8080/"
        }
      },
      "execution_count": 14,
      "outputs": [
        {
          "output_type": "stream",
          "name": "stdout",
          "text": [
            "total_times: [[11.66071367 14.75662136 57.3273921 ]\n",
            " [ 6.35590792  7.52259898  8.84311676]\n",
            " [ 9.22421026 13.02777004 26.58713984]]\n",
            "first compilation time: [[5.20887518 4.3785665  5.49111128]\n",
            " [4.9354012  5.82814574 5.24224997]\n",
            " [6.48149514 7.98070765 8.14682293]]\n",
            "total_time/first_time:  [[ 2.23862413  3.37019464 10.44003467]\n",
            " [ 1.28781991  1.29073625  1.68689338]\n",
            " [ 1.42316087  1.63240788  3.26349794]]\n",
            "parameters: [[(16, 2), (16, 4), (16, 8)], [(32, 2), (32, 4), (32, 8)], [(64, 2), (64, 4), (64, 8)]]\n"
          ]
        }
      ]
    },
    {
      "cell_type": "markdown",
      "source": [
        "vectoriser mes fonctions  dans action avant de run"
      ],
      "metadata": {
        "id": "H8b7qjuX9wgY"
      }
    }
  ],
  "metadata": {
    "colab": {
      "provenance": []
    },
    "language_info": {
      "name": "python"
    },
    "kernelspec": {
      "name": "python3",
      "display_name": "Python 3"
    }
  },
  "nbformat": 4,
  "nbformat_minor": 0
}