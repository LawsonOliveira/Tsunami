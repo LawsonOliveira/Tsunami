{
  "cells": [
    {
      "cell_type": "markdown",
      "source": [
        "Imports"
      ],
      "metadata": {
        "id": "gBKFgMKa8SL7"
      }
    },
    {
      "cell_type": "code",
      "source": [
        "\"\"\"Collection of general utility functions.\"\"\"\n",
        "import os\n",
        "from typing import Tuple, Text, Dict, Union, Any\n",
        "\n",
        "import numpy as np\n",
        "from jax.experimental import sparse\n",
        "from absl import logging\n",
        "from jax import random, vmap, jit, grad, numpy as jnp\n",
        "from jax.nn import softmax, relu\n",
        "#from jax.ops import index_update, index DEPRECATED: replace with jax.numpy.ndarray.at in the corresponding code\n",
        "from jax.scipy.linalg import expm\n",
        "from scipy.optimize import minimize\n",
        "\n",
        "Params = Tuple[jnp.ndarray, ...]\n",
        "Results = Dict[Text, Union[jnp.ndarray, list, float]]\n",
        "Tup = Tuple[float, float]\n",
        "\n"
      ],
      "metadata": {
        "id": "7L_xKX0tGV6O"
      },
      "execution_count": 84,
      "outputs": []
    },
    {
      "cell_type": "markdown",
      "source": [
        "RESULT COLLECTION AND CHECKPOINTING"
      ],
      "metadata": {
        "id": "xPxSRTgWT5lz"
      }
    },
    {
      "cell_type": "code",
      "source": [
        "# =============================================================================\n",
        "# RESULT COLLECTION AND CHECKPOINTING\n",
        "# =============================================================================\n",
        "\n",
        "def collect_results(params: Params) -> Results:\n",
        "  \"\"\"Create results dictionary from parameters at a given step.\n",
        "\n",
        "  Args:\n",
        "    params: The parameters to add to the results dictionary.\n",
        "\n",
        "  Returns:\n",
        "    results dictionary\n",
        "  \"\"\"\n",
        "  results = {}\n",
        "  weights, pos_spectrum, neg_spectrum, block_ul, block_ur = params\n",
        "  results['weights'] = softmax(weights)\n",
        "  spectra = make_spectra(pos_spectrum, neg_spectrum)\n",
        "  results['spectra'] = spectra\n",
        "  results['hamiltonian'] = make_hamiltonian(block_ul, block_ur)\n",
        "  results['avg_neg_spec'] = jnp.mean(spectra[:, 1])\n",
        "  results['avg_pos_spec'] = jnp.mean(spectra[:, 0])\n",
        "  results['xs'] = make_xs(results['spectra'], results['hamiltonian'])\n",
        "  return {k: np.array(v) for k, v in results.items()}\n",
        "\n",
        "\n",
        "def write_checkpoint(params: Params,\n",
        "                     name: Text,\n",
        "                     out_dir: Text,\n",
        "                     results: Dict = None) -> None:\n",
        "  \"\"\"Checkpoint current optimization parameters.\n",
        "\n",
        "  Args:\n",
        "    params: The current parameter tuple.\n",
        "    name: The name under which to store the parameter checkpoint.\n",
        "    out_dir: The directory where to store the parameters.\n",
        "    results: If this result dictionary is not `None`, add the parameters (in\n",
        "        their interpretable form) to the result dictionary and store this as\n",
        "        in the same directory as `results.npz`.\n",
        "  \"\"\"\n",
        "  result_path = os.path.join(out_dir, f\"{name}.npz\")\n",
        "  weights, pos_spectrum, neg_spectrum, block_ul, block_ur = params\n",
        "  np.savez(result_path, weights=weights, pos_spectrum=pos_spectrum,\n",
        "           neg_spectrum=neg_spectrum, block_ul=block_ul, block_ur=block_ur)\n",
        "  if results is not None:\n",
        "    results.update(collect_results(params))\n",
        "    result_path = os.path.join(out_dir, \"results.npz\")\n",
        "    np.savez(result_path, **results)\n"
      ],
      "metadata": {
        "id": "8xkTft2fT50n"
      },
      "execution_count": 85,
      "outputs": []
    },
    {
      "cell_type": "markdown",
      "source": [
        "Intialise"
      ],
      "metadata": {
        "id": "Rq1EXES3qMAu"
      }
    },
    {
      "cell_type": "code",
      "source": [
        "def init_params(key: jnp.ndarray, n: int, f: int, m: int,\n",
        "                sigma_weights: float = 0, init_spectrum: float = 1,\n",
        "                sigma_spectrum: float = 0) -> Params:\n",
        "  \"\"\"Initialize optimization parameters.\n",
        "  Args:\n",
        "    key: The random key.\n",
        "    n: The spin dimension.\n",
        "    f: The number of particles.\n",
        "    m: The cardinality of the support of the discrete measure.\n",
        "    sigma_weights: The standard deviation of the noise to be added to the fixed\n",
        "      initialization of weights.\n",
        "    init_spectrum: The initial absolute value of the mean of the negative\n",
        "      eigenvalues. We will add 1/n to this value for each of the positive\n",
        "      eigenvalues to ensure trace = 1.\n",
        "    sigma_spectrum: The standard deviation of the noise to be added to the fixed\n",
        "      initialization of the spectra.\n",
        "\n",
        "  Returns:\n",
        "    a 5-tuple of initial parameters:\n",
        "        weights: The weights of the discrete measure (m,); real\n",
        "        pos_spectrum: initial log values of pos spectrum (m, n); real\n",
        "        neg_spectrum: initial log values of pos spectrum (m, n); real\n",
        "        alphas: initial values of the alpha angles used to define the unitary (m,2n(f-n)-n): real\n",
        "        betas: initial values of the beta angles used to define the unitary (m,2n(f-n)-n): real\n",
        "  \"\"\"\n",
        "  subkeys = random.split(key, 5)\n",
        "  weights = sigma_weights * random.normal(subkeys[0], (m,))\n",
        "  # Initial pos spectra are all (init_spectrum + 1 / n) and\n",
        "  # negative ones are all (init_spectrum)\n",
        "  # We work with logs of desired spectra to ensure the correct signs later\n",
        "  pos_spectrum = jnp.log(init_spectrum + 1. / n)\n",
        "  pos_spectrum += sigma_spectrum * random.normal(subkeys[1], (m, n))\n",
        "  neg_spectrum = jnp.log(init_spectrum)\n",
        "  neg_spectrum += sigma_spectrum * random.normal(subkeys[2], (m, n))\n",
        "  alphas = random.uniform(subkeys[3],(m,n*(2*f-2*n-1)), minval = 0, maxval = 4*jnp.pi)\n",
        "  betas = random.uniform(subkeys[4],(m,n*(2*f-2*n-1)), minval = 0, maxval = jnp.pi/2)\n",
        "  return weights, pos_spectrum, neg_spectrum, alphas, betas"
      ],
      "metadata": {
        "id": "yNgblX-wqNOH"
      },
      "execution_count": 86,
      "outputs": []
    },
    {
      "cell_type": "markdown",
      "source": [
        "Make spectra"
      ],
      "metadata": {
        "id": "e_T1M3TGqTez"
      }
    },
    {
      "cell_type": "code",
      "source": [
        "def make_spectra(pos_spectrum: jnp.ndarray,\n",
        "                 neg_spectrum: jnp.ndarray) -> jnp.ndarray:\n",
        "  \"\"\"Compute actual spectra from optimization parameters.\n",
        "\n",
        "  The spectra have to have n positive and n negative eigenvalues\n",
        "  and satisfy the trace constraint, which we ensure here.\n",
        "\n",
        "  Args:\n",
        "    pos_spectrum: Optimization parameters for positive eigenvalues.\n",
        "    neg_spectrum: Optimization parameters for negative eigenvalues.\n",
        "\n",
        "  Returns:\n",
        "    Full (m, 2 n) array of the m spectra\n",
        "  \"\"\"\n",
        "  spectra = jnp.concatenate((jnp.exp(pos_spectrum), - jnp.exp(neg_spectrum)), 1)\n",
        "  return spectra / jnp.sum(spectra, axis=1)[..., jnp.newaxis]"
      ],
      "metadata": {
        "id": "XXN5c1nqqU-R"
      },
      "execution_count": 87,
      "outputs": []
    },
    {
      "cell_type": "markdown",
      "source": [
        "Make the unitary matrix"
      ],
      "metadata": {
        "id": "ZgcnejK0qV8-"
      }
    },
    {
      "cell_type": "code",
      "source": [
        "def get_building_blocks(alphas:jnp.ndarray, betas:jnp.ndarray):\n",
        "  \"\"\"convert the arrays of angles into arrays of trigonometric functions which are \"building blocks\" of the band unitaries\n",
        "\n",
        "  Args:\n",
        "    alphas: Values of the alpha angles used to define the unitary (m,2n(f-n-1/2)): real\n",
        "    betas: Values of the beta angles used to define the unitary (m,2n(f-n-1/2)): real\n",
        "  Returns:\n",
        "  3 \"building blocks\" terms, basic trigonometric functions of the alphas and betas of the same size\n",
        "  (m,2n(f-n)-n)\n",
        "  \"\"\"\n",
        "  exp_alphas = jnp.exp(1J*alphas)\n",
        "  cos_betas = jnp.cos(betas)\n",
        "  sin_betas = jnp.sin(betas)\n",
        "  cos_betas_exp_pos_alphas = exp_alphas*cos_betas\n",
        "  cos_betas_exp_neg_alphas = jnp.conj(exp_alphas)* cos_betas\n",
        "\n",
        "  return cos_betas_exp_pos_alphas, cos_betas_exp_neg_alphas, sin_betas\n"
      ],
      "metadata": {
        "id": "e3YNgH3YkOmd"
      },
      "execution_count": 88,
      "outputs": []
    },
    {
      "cell_type": "code",
      "source": [
        "#masks\n",
        "\n",
        "def make_masks(f,n_col, band_number):\n",
        "\n",
        "  \"\"\"build\n",
        "\n",
        "  Args:\n",
        "    f: the number of particles\n",
        "    n_col: the number of columns of the masks we want to build. To build a full matrix we will want n_col = f\n",
        "    band_number: index of the band in the unitary decomposition (ranges from 1 to number of nonzero eigenvalues)\n",
        "  Returns:\n",
        "  3 arrays of masks of shape (f-band_number,f,n_col)\n",
        "  \"\"\"\n",
        "\n",
        "  term_index = jnp.arange(f-band_number)[:,jnp.newaxis, jnp.newaxis]\n",
        "  row_index = jnp.arange(f)[jnp.newaxis,:, jnp.newaxis]\n",
        "  col_index = jnp.arange(n_col)[jnp.newaxis,jnp.newaxis,:]\n",
        "\n",
        "  #conditions\n",
        "  mask_cos_exp_pos = (row_index == term_index + band_number-1) & (band_number-1 <= col_index) & (col_index <= row_index)\n",
        "  mask_cos_exp_neg = (col_index == term_index + band_number) & (row_index >= col_index)\n",
        "  mask_sin = ((band_number-1 <= col_index) & (col_index <= term_index + band_number-1) & (row_index >= term_index + band_number)|\n",
        "((row_index == term_index + band_number-1) & (col_index == row_index +1)))\n",
        "\n",
        "  return mask_cos_exp_pos, mask_cos_exp_neg,mask_sin\n"
      ],
      "metadata": {
        "id": "4l1xeoMdGL5Z"
      },
      "execution_count": 89,
      "outputs": []
    },
    {
      "cell_type": "code",
      "source": [
        "def make_single_band_unitary(alphas_band,betas_band,f,n_col):\n",
        "  \"\"\"Use the angle parameters and the masks to generate a unitary band matrix\n",
        "\n",
        "    Args:\n",
        "\n",
        "    alphas_band: shape (f-band_number,)\n",
        "    betas_band: shape (f-band_number,)\n",
        "    f: dimension of the matrix (number of  particles)\n",
        "    n_col: number of columns of the unitary which we want to build\n",
        "\n",
        "  Returns:\n",
        "    (f, n_col) band  unitary matrix\n",
        "    \"\"\"\n",
        "  band_number = f - len(alphas_band)\n",
        "\n",
        "  #extract the building blocks and masks\n",
        "  building_blocks = get_building_blocks(alphas_band, betas_band)\n",
        "  masks = make_masks(f,n_col,band_number)\n",
        "\n",
        "  #initialise the band matrix with a matrix with ones on lower triangle and superdiagonal\n",
        "  ones_tril= jnp.tril(jnp.ones((f,f))) + jnp.eye(f,k = 1)\n",
        "  ones_tril = ones_tril[:,:n_col]\n",
        "  band_matrix= ones_tril.copy()\n",
        "\n",
        "  #iterate over the different masks for each building block\n",
        "  num_masks = len(masks)\n",
        "  for building_block_index in range(num_masks):\n",
        "    mask = masks[building_block_index] #shape (f-band_number,f,f)\n",
        "    building_block = building_blocks[building_block_index]\n",
        "    band_matrix_building_block = mask*building_block[:,jnp.newaxis,jnp.newaxis]\n",
        "\n",
        "    #add ones in the lower triangle and superdiagonal before multiplying  the matrices\n",
        "    band_matrix_building_block += ones_tril - mask\n",
        "\n",
        "    #multiply the matrices together\n",
        "    band_matrix_building_block = jnp.prod(band_matrix_building_block, axis =0)\n",
        "\n",
        "    #multiply the different  building blocks together\n",
        "    band_matrix *=band_matrix_building_block\n",
        "\n",
        "  #multiply by a final mask\n",
        "  final_mask = jnp.tril(jnp.concatenate((jnp.zeros((f, band_number-1)), jnp.ones((f, f - band_number+1))), axis=1), k=-1)# zeros in first band_number-1  columns\n",
        "  final_mask += jnp.eye(f) #add ones on the diagonal\n",
        "  super_diagonal_terms = jnp.concatenate((jnp.zeros(band_number-1),jnp.ones(f-band_number)))\n",
        "  final_mask -= jnp.diag(super_diagonal_terms, k = 1) #-1 on the superdiagonal to represent  the negative  sines\n",
        "  band_matrix *= final_mask[:,:n_col] #shape (f,n_col)\n",
        "\n",
        "  return band_matrix\n",
        "\n",
        "  make_band_unitary = vmap(make_single_band_unitary, in_axes=(0, 0, None,None))"
      ],
      "metadata": {
        "id": "f-IuxuAVGY8k"
      },
      "execution_count": 90,
      "outputs": []
    },
    {
      "cell_type": "code",
      "source": [
        "def make_single_eigenvectors(alphas,betas,f, n):\n",
        "  \"\"\"Use the angle parameters to build the 2n first eigenvectors of a spacetime point  x\n",
        "\n",
        "    Args:\n",
        "    f: dimension of the matrix (number of  particles)\n",
        "    n: spin number hence  2n is total number of eigenvalues\n",
        "    alphas: shape (2n(f-n)-n)\n",
        "    betas: shape (2n(f-n)-n)\n",
        "\n",
        "  Returns:\n",
        "    (f,2n) matrix\n",
        "    \"\"\"\n",
        "  #extract all the parameters\n",
        "  num_alphas = len(alphas)\n",
        "  building_blocks = get_building_blocks(alphas, betas)\n",
        "\n",
        "  #initialise the eigenvectors:\n",
        "  start_index = len(alphas)-(f-2*n)\n",
        "  end_index = len(alphas)\n",
        "  alphas_band, betas_band = alphas[start_index:end_index],betas[start_index:end_index]\n",
        "  eigenvectors = make_single_band_unitary(alphas_band,betas_band,f,n_col = 2*n)\n",
        "\n",
        "  #iterate over the remaining 2n-1 bands\n",
        "  for band_number in range(2*n-1,0,-1):\n",
        "    #extract the correct alphas and betas\n",
        "    end_index = start_index\n",
        "    start_index = end_index - (f - band_number)\n",
        "    alphas_band, betas_band = alphas[start_index:end_index],betas[start_index:end_index]\n",
        "\n",
        "    #build the band unitary\n",
        "    band_matrix = make_single_band_unitary(alphas_band,betas_band,f,n_col = f)\n",
        "\n",
        "    #multiply the unitaries and the vectors\n",
        "    eigenvectors = jnp.dot(band_matrix,eigenvectors)\n",
        "\n",
        "  return eigenvectors\n",
        "\n",
        "  #vectorize\n",
        "  make_eigenvectors = vmap(make_single_eigenvectors, in_axes=(0, 0, None,None))\n",
        "\n"
      ],
      "metadata": {
        "id": "MKytCkDlG_Ey"
      },
      "execution_count": 91,
      "outputs": []
    },
    {
      "cell_type": "markdown",
      "source": [
        "Build Lagrangian\n",
        ""
      ],
      "metadata": {
        "id": "-CojjmTh9Ght"
      }
    },
    {
      "cell_type": "code",
      "source": [
        "def make_lagrangian_1(spectra,eigenvectors, i: int, j: int) -> float:\n",
        "  \"\"\"The Lagrangian for a single pair of spacetime points for n = 1.\n",
        "\n",
        "  Args:\n",
        "    spectra: (m,2n)\n",
        "    eigenvectors: (m,f,2n)\n",
        "    i: Index for first point.\n",
        "    j: Index for second point.\n",
        "\n",
        "  Returns:\n",
        "    value of the Lagrangian\n",
        "  \"\"\"\n",
        "  gram = jnp.dot(jnp.conj(eigenvectors[i].T),eigenvectors[j])\n",
        "  eigenvalue_products = jnp.outer(spectra[i],spectra[j])\n",
        "  xy_product = jnp.dot(gram *eigenvalue_products, jnp.conj(gram.T)) #not exactly xy but an isospectral matrix, M in write up\n",
        "  D = 0.5*(jnp.real(xy_product[0,0])-jnp.real(xy_product[1,1]))**2 + 2*jnp.real(xy_product[0,1]*xy_product[1,0])\n",
        "  #R = jnp.trace(xy_product@xy_product) - 0.5*(jnp.trace(xy_product))**2\n",
        "  return relu(D)\n",
        "\n",
        "def make_lagrangian_n(spectra,eigenvectors, i: int, j: int) -> float:\n",
        "  \"\"\"The Lagrangian for a single pair of spacetime points for any n\n",
        "\n",
        "  Args:\n",
        "    spectra: (m,2n)\n",
        "    eigenvectors: (m,f,2n)\n",
        "    i: Index for first point.\n",
        "    j: Index for second point.\n",
        "\n",
        "  Returns:\n",
        "    value of the Lagrangian\n",
        "  \"\"\"\n",
        "  gram = jnp.dot(jnp.conj(eigenvectors[i].T),eigenvectors[j])\n",
        "  two_n = gram.shape[0]\n",
        "  eigenvalue_products = jnp.outer(spectra[i],spectra[j])\n",
        "  xy_product = jnp.dot(gram *eigenvalue_products, jnp.conj(gram.T)) #not exactly xy but an isospectral matrix, M in write up\n",
        "\n",
        "  spec = jnp.sort(jnp.abs(jnp.linalg.eigvals(xy_product)))\n",
        "  bnd = jnp.sum(spec) ** 2\n",
        "\n",
        "  return jnp.sum(spec ** 2) - bnd / (two_n)\n",
        "\n",
        "\n"
      ],
      "metadata": {
        "id": "d-Ksefaw9FZd"
      },
      "execution_count": 99,
      "outputs": []
    },
    {
      "cell_type": "markdown",
      "source": [
        "test Make_lagrangian_1d"
      ],
      "metadata": {
        "id": "ffFjbudEo1El"
      }
    },
    {
      "cell_type": "code",
      "source": [
        "seed_value = 4\n",
        "key = random.PRNGKey(seed_value)\n",
        "f = 5\n",
        "n = 1\n",
        "m = 2\n",
        "\n",
        "#initialise values\n",
        "\n",
        "sigma_spectrum = 0.01\n",
        "init_spectrum = 1\n",
        "sigma_weights = 0.01\n",
        "\n",
        "weights, pos_spectrum, neg_spectrum, alphas, betas = init_params(key,n,f,m,sigma_weights,init_spectrum,sigma_spectrum)\n"
      ],
      "metadata": {
        "id": "bk6MvdwwrwjR"
      },
      "execution_count": 122,
      "outputs": []
    },
    {
      "cell_type": "code",
      "source": [
        "spectra = make_spectra(pos_spectrum,neg_spectrum)\n",
        "make_eigenvectors = vmap(make_single_eigenvectors, in_axes=(0, 0, None,None))\n",
        "eigenvectors = make_eigenvectors(alphas,betas,f,n)\n",
        "\n",
        "print(make_lagrangian_1(spectra,eigenvectors,0,1))\n",
        "print(make_lagrangian_n(spectra,eigenvectors,0,1))"
      ],
      "metadata": {
        "colab": {
          "base_uri": "https://localhost:8080/"
        },
        "id": "xkIFBcyVo34f",
        "outputId": "bdd2c9a9-2ed6-4ac3-9117-9b51fc640932"
      },
      "execution_count": 101,
      "outputs": [
        {
          "output_type": "stream",
          "name": "stdout",
          "text": [
            "0.0\n",
            "0.0\n"
          ]
        }
      ]
    },
    {
      "cell_type": "markdown",
      "source": [
        "Action"
      ],
      "metadata": {
        "id": "uhegKRU0LZDH"
      }
    },
    {
      "cell_type": "code",
      "source": [
        "def action(params: Params) -> float:\n",
        "  \"\"\"The action.\n",
        "\n",
        "  Args:\n",
        "    params: The 5-tuple of parameters (weights, positive spectrum,\n",
        "        negative spectrum, alphas, betas).\n",
        "\n",
        "  Returns:\n",
        "    single float for the value of the action\n",
        "  \"\"\"\n",
        "  weights, pos_spectrum, neg_spectrum, alphas, betas = params\n",
        "  weights = softmax(weights)\n",
        "  spectra = make_spectra(pos_spectrum, neg_spectrum)\n",
        "  m, n = pos_spectrum.shape\n",
        "\n",
        "  make_eigenvectors = vmap(make_single_eigenvectors, in_axes=(0, 0, None,None))\n",
        "  eigenvectors = make_eigenvectors(alphas, betas, f, n)\n",
        "\n",
        "  # weighted sum of Lagrangian for pairs\n",
        "\n",
        "  if n == 1:\n",
        "    make_lag = vmap(make_lagrangian_1, (None, None, 0, 0))\n",
        "  else:\n",
        "    make_lag = vmap(make_lagrangian_n, (None, None, 0, 0))\n",
        "\n",
        "  # Only looking at upper triangle (without diagonal)\n",
        "  rows, cols = jnp.triu_indices(m, k=1)\n",
        "  lag_ij = make_lag(spectra,eigenvectors, rows, cols)\n",
        "  act = 2 * jnp.sum(weights[rows] * weights[cols] * lag_ij)\n",
        "  # Add diagonal\n",
        "  diag = jnp.arange(m)\n",
        "  lag_ij = make_lag(spectra,eigenvectors, diag, diag)\n",
        "  act += jnp.sum(weights ** 2 * lag_ij)\n",
        "  return act"
      ],
      "metadata": {
        "id": "q1ALvTk5L9RE"
      },
      "execution_count": 116,
      "outputs": []
    },
    {
      "cell_type": "code",
      "source": [
        "print(action([weights, pos_spectrum, neg_spectrum, alphas, betas]))"
      ],
      "metadata": {
        "colab": {
          "base_uri": "https://localhost:8080/"
        },
        "id": "pUGehVURv5TJ",
        "outputId": "6d8eefa9-e75a-473b-a1fc-918b1c9a4817"
      },
      "execution_count": 119,
      "outputs": [
        {
          "output_type": "stream",
          "name": "stdout",
          "text": [
            "2.246978\n"
          ]
        }
      ]
    },
    {
      "cell_type": "markdown",
      "source": [
        "Boundedness functional"
      ],
      "metadata": {
        "id": "z2Pw5U8KL_3V"
      }
    },
    {
      "cell_type": "code",
      "source": [
        "# def boundedness_summand_1(spectra,eigenvectors, i: int, j: int) -> float:\n",
        "#   \"\"\"The summand involved in the computation of the boundary functinal, for a given single pair of spacetime points for n = 1.\n",
        "#   Args:\n",
        "#     spectra: (m,2n)\n",
        "#     eigenvectors: (m,f,2n)\n",
        "#     i: Index for first point.\n",
        "#     j: Index for second point.\n",
        "\n",
        "#   Returns:\n",
        "#     value of the Lagrangian\n",
        "#   \"\"\"\n",
        "#   gram = jnp.dot(jnp.conj(eigenvectors[i].T),eigenvectors[j])\n",
        "#   eigenvalue_products = jnp.outer(spectra[i],spectra[j])\n",
        "#   print(eigenvalue_products)\n",
        "#   trace = jnp.sum(jnp.conj(gram)*gram*eigenvalue_products)\n",
        "#   _bnd = jnp.real(trace**2)\n",
        "#   return relu(_bnd)\n",
        "\n",
        "def boundedness_summand(spectra,eigenvectors, i: int, j: int) -> float:\n",
        "  \"\"\"The summand involved in the computation of the boundary functinal, for a given single pair of spacetime points\n",
        "  Args:\n",
        "    spectra: (m,2n)\n",
        "    eigenvectors: (m,f,2n)\n",
        "    i: Index for first point.\n",
        "    j: Index for second point.\n",
        "\n",
        "  Returns:\n",
        "    value of the summand\n",
        "  \"\"\"\n",
        "  gram = jnp.dot(jnp.conj(eigenvectors[i].T),eigenvectors[j])\n",
        "  eigenvalue_products = jnp.outer(spectra[i],spectra[j])\n",
        "  xy_product = jnp.dot(gram *eigenvalue_products, jnp.conj(gram.T)) #not exactly xy but an isospectral matrix, M in write up\n",
        "  spec = jnp.sort(jnp.abs(jnp.linalg.eigvals(xy_product)))\n",
        "  _bnd = jnp.sum(spec) ** 2\n",
        "  return _bnd\n",
        "\n",
        ""
      ],
      "metadata": {
        "id": "dB3tlSJSCVqu"
      },
      "execution_count": 105,
      "outputs": []
    },
    {
      "cell_type": "code",
      "source": [
        "def boundedness(params: Params) -> float:\n",
        "  \"\"\"The boundedness functional.\n",
        "\n",
        "  Args:\n",
        "    params: The 5-tuple of parameters (weights, positive spectrum,\n",
        "        negative spectrum, alphas, betas).\n",
        "\n",
        "  Returns:\n",
        "    single float for the value of the action\n",
        "  \"\"\"\n",
        "  weights, pos_spectrum, neg_spectrum, alphas, betas = params\n",
        "  weights = softmax(weights)\n",
        "  spectra = make_spectra(pos_spectrum, neg_spectrum)\n",
        "  m, n = pos_spectrum.shape\n",
        "\n",
        "  make_eigenvectors = vmap(make_single_eigenvectors, in_axes=(0, 0, None,None))\n",
        "  eigenvectors = make_eigenvectors(alphas, betas, f, n)\n",
        "\n",
        "  make_bnd = vmap(boundedness_summand, (None, None, 0, 0))\n",
        "\n",
        "  # Only looking at upper triangle (without diagonal)\n",
        "  rows, cols = jnp.triu_indices(m, k=1)\n",
        "  bnd_ij = make_bnd(spectra,eigenvectors, rows, cols)\n",
        "  bnd = 2 * jnp.sum(weights[rows] * weights[cols] * bnd_ij)\n",
        "  # Add diagonal\n",
        "  diag = jnp.arange(m)\n",
        "  bnd_ij = make_bnd(spectra,eigenvectors, diag, diag)\n",
        "  bnd += jnp.sum(weights ** 2 * bnd_ij)\n",
        "  return bnd\n"
      ],
      "metadata": {
        "id": "s3oFynAWMCAV"
      },
      "execution_count": 139,
      "outputs": []
    },
    {
      "cell_type": "code",
      "source": [
        "print(boundedness([weights, pos_spectrum, neg_spectrum, alphas, betas]))\n"
      ],
      "metadata": {
        "colab": {
          "base_uri": "https://localhost:8080/"
        },
        "id": "drTyMCBbyhn_",
        "outputId": "445944f6-a1f2-46f3-ca7b-e073fe090662"
      },
      "execution_count": 123,
      "outputs": [
        {
          "output_type": "stream",
          "name": "stdout",
          "text": [
            "13.918187\n"
          ]
        }
      ]
    },
    {
      "cell_type": "markdown",
      "source": [
        "Optimisation"
      ],
      "metadata": {
        "id": "1sXQC2BNTrm2"
      }
    },
    {
      "cell_type": "code",
      "source": [
        "def _flatten_params(params: Params) -> jnp.ndarray:\n",
        "  \"\"\"Flatten all (complex) optimization parameters into single (real) vector.\"\"\"\n",
        "  all_params = []\n",
        "  for p in params:\n",
        "    if p.dtype in [jnp.float32, jnp.float64]:\n",
        "      all_params.append(p.ravel())\n",
        "    else:\n",
        "      all_params.append(jnp.real(p.ravel()))\n",
        "      all_params.append(jnp.imag(p.ravel()))\n",
        "  return jnp.concatenate(all_params)\n",
        "\n",
        "\n",
        "def _reconstruct_params(params: jnp.ndarray, n: int, f: int, m: int) -> Params:\n",
        "  \"\"\"Rearrange parameters into original shape from flat (real) vector.\n",
        "\n",
        "  Returns:\n",
        "    a 5-tuple of initial parameters:\n",
        "        weights: The weights of the discrete measure (m,); real\n",
        "        pos_spectrum: initial log values of pos spectrum (m, n); real\n",
        "        neg_spectrum: initial log values of pos spectrum (m, n); real\n",
        "        alphas: angle parameters for band unitaries (m, n(2f-2n-1)); real\n",
        "        betas: angle parameters for band unitaries (m, n (2f-2n-1)); real\n",
        "  \"\"\"\n",
        "  n_w = m\n",
        "  n_pos = n_w + n * m\n",
        "  n_neg = n_pos + n * m\n",
        "  n_alphas = n_neg + m * (n*(2*f-2*n-1))\n",
        "  splits = [n_w, n_pos, n_neg, n_alphas]\n",
        "  (weights,\n",
        "   pos_spectrum,\n",
        "   neg_spectrum,\n",
        "   alphas,\n",
        "   betas) = jnp.split(params, splits)\n",
        "  pos_spectrum = pos_spectrum.reshape(m, n)\n",
        "  neg_spectrum = neg_spectrum.reshape(m, n)\n",
        "  alphas = alphas.reshape(m,n*(2*f-2*n-1))\n",
        "  betas = betas.reshape(m,n*(2*f-2*n-1))\n",
        "  return weights, pos_spectrum, neg_spectrum, alphas, betas\n",
        "\n",
        "\n",
        "def _action_flat_params(params: jnp.ndarray, n: int, f: int, m: int) -> float:\n",
        "  \"\"\"Action computation for bfgs optimization.\"\"\"\n",
        "  params = _reconstruct_params(params, n, f, m)\n",
        "  return action(params)\n",
        "\n",
        "\n",
        "\n"
      ],
      "metadata": {
        "id": "vL_hEzJgTtJb"
      },
      "execution_count": 124,
      "outputs": []
    },
    {
      "cell_type": "markdown",
      "source": [
        "Optimise simply\n",
        "\n",
        "- initial parameters\n",
        "- gradient descent function\n",
        "- give optimised parameters and value of the action\n",
        "- plot action as a function of m for n = 1, f = 2"
      ],
      "metadata": {
        "id": "192KirMXgifS"
      }
    },
    {
      "cell_type": "code",
      "source": [
        "#initialise parameters\n",
        "\n",
        "sigma_weights = 0.01\n",
        "sigma_spectrum = 0.01\n",
        "lbfgs_maxiter = 10000\n",
        "lbfgs_gtol = 1e-7\n",
        "lbfgs_ftol = 1e-9\n",
        "lbfgs_maxcor = 70\n",
        "lbfgs_maxls = 20\n",
        "bfgs_maxiter = 5000\n",
        "bfgs_gtol = 1e-7\n",
        "max_m_bfgs = 1000\n",
        "seed = 543\n",
        "\n",
        "key = random.PRNGKey(seed)"
      ],
      "metadata": {
        "id": "LfQVr5MlxsCu"
      },
      "execution_count": 136,
      "outputs": []
    },
    {
      "cell_type": "code",
      "source": [
        "def n1_f2_neg_spectrum_from_m(m):\n",
        "  \"\"\"In the n=1, f=2 scenario, get the abs value of the neg eigenvalue at opt\n",
        "  for 2-dim sphere.\n",
        "\n",
        "  For the case n=1, f=2 *without* the boundedness constraint, the optimal\n",
        "  solution is to send pos and neg eigenvalues to pos / neg infinity as m goes to\n",
        "  infinity.\n",
        "  We can compute these values for the positive and negative eigenvalues\n",
        "  analytically.\n",
        "\n",
        "  Returns:\n",
        "    the absolute value of the negative eigenvalue at the optimum.\n",
        "  \"\"\"\n",
        "  return (3 ** (1. / 4.) * jnp.sqrt(m / (2 * jnp.pi)) - 1.) / 4"
      ],
      "metadata": {
        "id": "7EFyqWjB5fm1"
      },
      "execution_count": 126,
      "outputs": []
    },
    {
      "cell_type": "code",
      "source": [],
      "metadata": {
        "id": "NckFjkoViQyp"
      },
      "execution_count": null,
      "outputs": []
    },
    {
      "cell_type": "markdown",
      "source": [
        "optimise"
      ],
      "metadata": {
        "id": "mMvdbEilgf8G"
      }
    },
    {
      "cell_type": "code",
      "source": [
        "def optimize(params: Params,\n",
        "             n: int,\n",
        "             f: int,\n",
        "             m: int,\n",
        "             lbfgs_options: Dict[Text, Any],\n",
        "             bfgs_options: Dict[Text, Any],\n",
        "             ) -> Tuple[Params, Results]:\n",
        "  \"\"\"Wrapper around the scipy BFGS minimizer that also collects results.\n",
        "\n",
        "  Args:\n",
        "    params: The tuple of optimization parameters.\n",
        "    n: The desired spin dimension.\n",
        "    f: The desired number of particles.\n",
        "    m: The desired cardinality of the support of the discrete measure.\n",
        "    lbfgs_options: The options to pass to L-BFGS. If the argument is None or the\n",
        "        maxiter option is 0, don't run L-BFGS at all.\n",
        "    bfgs_options: The options to pass to BFGS. If the argument is None or the\n",
        "        maxiter option is 0, don't run BFGS at all.\n",
        "  \"\"\"\n",
        "\n",
        "  if ((bfgs_options is None or bfgs_options['maxiter'] <= 0) and\n",
        "      (lbfgs_options is None or lbfgs_options['maxiter'] <= 0)):\n",
        "    raise ValueError(\"Run either bfgs or lbfgs for at least 1 iteration.\")\n",
        "\n",
        "  results = {\n",
        "    'action': [],\n",
        "    'boundedness': [],\n",
        "    # 'n_iterations': [],\n",
        "    'n': n,\n",
        "    'f': f,\n",
        "    'm': m\n",
        "  }\n",
        "\n",
        "  # ---------------------------------------------------------------------------\n",
        "  # Initialization and setup\n",
        "  # ---------------------------------------------------------------------------\n",
        "  params0 = _flatten_params(params)\n",
        "\n",
        "  # ---------------------------------------------------------------------------\n",
        "  # L-BFGS (scipy)\n",
        "  # ---------------------------------------------------------------------------\n",
        "  f_act = jit(_action_flat_params, static_argnums=(1, 2, 3))\n",
        "  func_grad = jit(grad(_action_flat_params), static_argnums=(1, 2, 3))\n",
        "  g_act = lambda x, _n, _f, _m: np.array(func_grad(x, _n, _f, _m))\n",
        "  res = None\n",
        "  if lbfgs_options is not None and lbfgs_options['maxiter'] > 0:\n",
        "    res = minimize(f_act, params0, args=(n, f, m), method=\"l-bfgs-b\", jac=g_act, options=lbfgs_options)\n",
        "    #results = _log_and_update_results(\"LBFGS\", res, results)\n",
        "\n",
        "  # ---------------------------------------------------------------------------\n",
        "  # BFGS scipy\n",
        "  # ---------------------------------------------------------------------------\n",
        "  if bfgs_options is not None and bfgs_options['maxiter'] > 0:\n",
        "    if res is not None:\n",
        "      params0 = res.x\n",
        "    res = minimize(f_act, params0, args=(n, f, m), method=\"bfgs\", jac=g_act, options=bfgs_options)\n",
        "  #results = _log_and_update_results(\"BFGS\", res, results)\n",
        "\n",
        "  # ---------------------------------------------------------------------------\n",
        "  # Final results reporting\n",
        "  # ---------------------------------------------------------------------------\n",
        "  final_params = _reconstruct_params(res.x, n, f, m)\n",
        "  act = action(final_params)\n",
        "  #bnd = boundedness(final_params)\n",
        "  results['action'].append(act)\n",
        "  #results['boundedness'].append(bnd)\n",
        "  return final_params, {k: np.array(v) for k, v in results.items()}\n",
        "\n",
        "\n",
        "  #J'AI RETIRE LE CALLBACK!! PAREIL POUR BFGS y compris la référence dans les fonctions minimize, l'appell au callback, et tous les logs"
      ],
      "metadata": {
        "id": "5kVrn3zugeK4"
      },
      "execution_count": 145,
      "outputs": []
    },
    {
      "cell_type": "code",
      "source": [
        "# ---------------------------------------------------------------------------\n",
        "# Optimization and writing results\n",
        "# ---------------------------------------------------------------------------\n",
        "#n = 1, f = 2\n",
        "\n",
        "import matplotlib.pyplot as plt\n",
        "\n",
        "def main(n,f,m_sweep):\n",
        "\n",
        "  # Parameter and result initialization\n",
        "  # ---------------------------------------------------------------------------\n",
        "  key2, subkey = random.split(key)\n",
        "\n",
        "  # Setup (L)BFGS options\n",
        "  # ---------------------------------------------------------------------------\n",
        "\n",
        "  def make_options(m):\n",
        "    lbfgs_options = {\n",
        "      \"maxiter\": lbfgs_maxiter,\n",
        "      \"maxfun\": 2 * lbfgs_maxiter,\n",
        "      \"disp\": 50,\n",
        "      \"gtol\": lbfgs_gtol,\n",
        "      \"ftol\": lbfgs_ftol,\n",
        "      \"maxcor\": lbfgs_maxcor,\n",
        "      \"maxls\": lbfgs_maxls,\n",
        "    }\n",
        "\n",
        "    if max_m_bfgs < m:\n",
        "      bfgs_options = None\n",
        "    else:\n",
        "      bfgs_options = {\n",
        "        \"maxiter\": bfgs_maxiter,\n",
        "        \"disp\": True,\n",
        "        \"gtol\": bfgs_gtol,\n",
        "      }\n",
        "    return lbfgs_options,bfgs_options\n",
        "\n",
        "\n",
        "  actions = []\n",
        "\n",
        "  for m in m_sweep:\n",
        "    lbfgs_options,bfgs_options = make_options(m)\n",
        "\n",
        "    init_spectrum = 5*n1_f2_neg_spectrum_from_m(m)\n",
        "\n",
        "    params_0 = init_params(subkey, n, f, m,\n",
        "                            sigma_weights, init_spectrum,\n",
        "                            sigma_spectrum)\n",
        "\n",
        "    final_params, bfgs_res = optimize(\n",
        "    params_0, n, f, m, lbfgs_options, bfgs_options)\n",
        "\n",
        "    actions.append(bfgs_res[\"action\"])\n",
        "\n",
        "  plt.scatter(m_sweep,actions)\n",
        "\n",
        "  plt.show()\n",
        "\n",
        "m_sweep = [4, 8, 16, 32, 64,128,256]\n",
        "n = 1\n",
        "f = 2\n",
        "\n",
        "main(n,f,m_sweep)\n"
      ],
      "metadata": {
        "colab": {
          "base_uri": "https://localhost:8080/",
          "height": 1000
        },
        "id": "feTpIZRotpCh",
        "outputId": "b111453f-cc6f-4cc9-c9ce-9a7e915cdb76"
      },
      "execution_count": 147,
      "outputs": [
        {
          "output_type": "stream",
          "name": "stderr",
          "text": [
            "/usr/local/lib/python3.10/dist-packages/scipy/optimize/_minimize.py:705: OptimizeWarning: Desired error not necessarily achieved due to precision loss.\n",
            "  res = _minimize_bfgs(fun, x0, args, jac, callback, **options)\n"
          ]
        },
        {
          "output_type": "stream",
          "name": "stdout",
          "text": [
            "         Current function value: 0.166667\n",
            "         Iterations: 1\n",
            "         Function evaluations: 65\n",
            "         Gradient evaluations: 54\n"
          ]
        },
        {
          "output_type": "stream",
          "name": "stderr",
          "text": [
            "/usr/local/lib/python3.10/dist-packages/scipy/optimize/_minimize.py:705: OptimizeWarning: Desired error not necessarily achieved due to precision loss.\n",
            "  res = _minimize_bfgs(fun, x0, args, jac, callback, **options)\n"
          ]
        },
        {
          "output_type": "stream",
          "name": "stdout",
          "text": [
            "         Current function value: 0.166668\n",
            "         Iterations: 0\n",
            "         Function evaluations: 61\n",
            "         Gradient evaluations: 49\n"
          ]
        },
        {
          "output_type": "stream",
          "name": "stderr",
          "text": [
            "/usr/local/lib/python3.10/dist-packages/scipy/optimize/_minimize.py:705: OptimizeWarning: Desired error not necessarily achieved due to precision loss.\n",
            "  res = _minimize_bfgs(fun, x0, args, jac, callback, **options)\n"
          ]
        },
        {
          "output_type": "stream",
          "name": "stdout",
          "text": [
            "         Current function value: 0.168998\n",
            "         Iterations: 4\n",
            "         Function evaluations: 59\n",
            "         Gradient evaluations: 47\n"
          ]
        },
        {
          "output_type": "stream",
          "name": "stderr",
          "text": [
            "/usr/local/lib/python3.10/dist-packages/scipy/optimize/_minimize.py:705: OptimizeWarning: Desired error not necessarily achieved due to precision loss.\n",
            "  res = _minimize_bfgs(fun, x0, args, jac, callback, **options)\n"
          ]
        },
        {
          "output_type": "stream",
          "name": "stdout",
          "text": [
            "         Current function value: 0.147585\n",
            "         Iterations: 4\n",
            "         Function evaluations: 91\n",
            "         Gradient evaluations: 78\n"
          ]
        },
        {
          "output_type": "stream",
          "name": "stderr",
          "text": [
            "/usr/local/lib/python3.10/dist-packages/scipy/optimize/_minimize.py:705: OptimizeWarning: Desired error not necessarily achieved due to precision loss.\n",
            "  res = _minimize_bfgs(fun, x0, args, jac, callback, **options)\n"
          ]
        },
        {
          "output_type": "stream",
          "name": "stdout",
          "text": [
            "         Current function value: 0.145239\n",
            "         Iterations: 5\n",
            "         Function evaluations: 59\n",
            "         Gradient evaluations: 47\n"
          ]
        },
        {
          "output_type": "stream",
          "name": "stderr",
          "text": [
            "/usr/local/lib/python3.10/dist-packages/scipy/optimize/_minimize.py:705: OptimizeWarning: Desired error not necessarily achieved due to precision loss.\n",
            "  res = _minimize_bfgs(fun, x0, args, jac, callback, **options)\n"
          ]
        },
        {
          "output_type": "stream",
          "name": "stdout",
          "text": [
            "         Current function value: 0.143447\n",
            "         Iterations: 64\n",
            "         Function evaluations: 145\n",
            "         Gradient evaluations: 134\n"
          ]
        },
        {
          "output_type": "stream",
          "name": "stderr",
          "text": [
            "/usr/local/lib/python3.10/dist-packages/scipy/optimize/_minimize.py:705: OptimizeWarning: Desired error not necessarily achieved due to precision loss.\n",
            "  res = _minimize_bfgs(fun, x0, args, jac, callback, **options)\n"
          ]
        },
        {
          "output_type": "stream",
          "name": "stdout",
          "text": [
            "         Current function value: 0.144383\n",
            "         Iterations: 4\n",
            "         Function evaluations: 64\n",
            "         Gradient evaluations: 52\n"
          ]
        },
        {
          "output_type": "display_data",
          "data": {
            "text/plain": [
              "<Figure size 640x480 with 1 Axes>"
            ],
            "image/png": "[encoded data removed]"
          },
          "metadata": {}
        }
      ]
    },
    {
      "cell_type": "code",
      "source": [],
      "metadata": {
        "id": "BYK-f3kiKKOs",
        "outputId": "de213f73-0fbe-4414-8949-9d9f876098e5",
        "colab": {
          "base_uri": "https://localhost:8080/"
        }
      },
      "execution_count": 132,
      "outputs": [
        {
          "output_type": "stream",
          "name": "stdout",
          "text": [
            "[  0 543]\n"
          ]
        }
      ]
    },
    {
      "cell_type": "markdown",
      "source": [
        "vectoriser mes fonctions  dans action avant de run"
      ],
      "metadata": {
        "id": "H8b7qjuX9wgY"
      }
    }
  ],
  "metadata": {
    "colab": {
      "provenance": []
    },
    "language_info": {
      "name": "python"
    },
    "kernelspec": {
      "name": "python3",
      "display_name": "Python 3"
    }
  },
  "nbformat": 4,
  "nbformat_minor": 0
}