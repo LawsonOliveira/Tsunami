{
 "cells": [
  {
   "attachments": {},
   "cell_type": "markdown",
   "metadata": {},
   "source": [
    "# Creation of a classical and more scalable GCN"
   ]
  },
  {
   "cell_type": "markdown",
   "metadata": {},
   "source": [
    "source: https://colab.research.google.com/github/deepmind/educational/blob/master/colabs/summer_schools/intro_to_graph_nets_tutorial_with_jraph.ipynb#scrollTo=KkkOolOVh3nR"
   ]
  },
  {
   "cell_type": "code",
   "execution_count": 2,
   "metadata": {},
   "outputs": [],
   "source": [
    "%load_ext autoreload\n",
    "%autoreload 2"
   ]
  },
  {
   "cell_type": "code",
   "execution_count": 81,
   "metadata": {},
   "outputs": [],
   "source": [
    "%reload_ext autoreload"
   ]
  },
  {
   "cell_type": "markdown",
   "metadata": {},
   "source": [
    "## Create a graph"
   ]
  },
  {
   "cell_type": "code",
   "execution_count": 82,
   "metadata": {},
   "outputs": [],
   "source": [
    "# commented to avoid unwanted installation\n",
    "# !pip install git+https://github.com/deepmind/jraph.git\n",
    "# !pip install flax\n",
    "# !pip install dm-haiku\n",
    "# !pip install networkx"
   ]
  },
  {
   "cell_type": "code",
   "execution_count": 3,
   "metadata": {},
   "outputs": [],
   "source": [
    "# Imports\n",
    "%matplotlib inline\n",
    "import functools\n",
    "import matplotlib.pyplot as plt\n",
    "import jax\n",
    "from jax import value_and_grad,vmap,jit,jacfwd\n",
    "from functools import partial \n",
    "import jax.numpy as jnp\n",
    "from jax import random as jran\n",
    "import jax.tree_util as tree\n",
    "import jraph\n",
    "import flax\n",
    "import haiku as hk\n",
    "import optax\n",
    "import pickle\n",
    "import numpy as onp\n",
    "import networkx as nx\n",
    "from copy import deepcopy\n",
    "from typing import Any, Callable, Dict, List, Optional, Tuple"
   ]
  },
  {
   "cell_type": "code",
   "execution_count": 4,
   "metadata": {},
   "outputs": [],
   "source": [
    "import element_mesh_fractal\n",
    "import element_mesh\n",
    "import utils"
   ]
  },
  {
   "cell_type": "code",
   "execution_count": 5,
   "metadata": {},
   "outputs": [
    {
     "name": "stdout",
     "output_type": "stream",
     "text": [
      "1.23.5\n"
     ]
    }
   ],
   "source": [
    "import numpy\n",
    "print(numpy.version.version)"
   ]
  },
  {
   "cell_type": "code",
   "execution_count": 6,
   "metadata": {},
   "outputs": [],
   "source": [
    "def build_jraph_graph(l_node_coords,edges,senders,receivers,globals):\n",
    "    '''\n",
    "    Build a jraph.GraphsTuple from a\n",
    "    Args:\n",
    "    -l_node_coords (list of features in jnp.array type)\n",
    "    ...\n",
    "    Returns:\n",
    "    -graph (jraph.GraphTuple)\n",
    "    '''\n",
    "    new_l_node_coords = deepcopy(l_node_coords)\n",
    "    for i in range(len(new_l_node_coords)):\n",
    "        if len(new_l_node_coords.shape)==1:\n",
    "            new_l_node_coords[i] = jnp.expand_dims(new_l_node_coords[i],axis=1)\n",
    "        \n",
    "    node_features = jnp.concatenate(new_l_node_coords,axis=-1)\n",
    "\n",
    "    n_node = jnp.array([node_features.shape[0]])\n",
    "    n_edge = jnp.array([edges.shape[0]])\n",
    "    \n",
    "    graph = jraph.GraphsTuple(\n",
    "        nodes=node_features,\n",
    "        edges=edges,\n",
    "        senders=senders,\n",
    "        receivers=receivers,\n",
    "        n_node=n_node,\n",
    "        n_edge=n_edge,\n",
    "        globals=globals\n",
    "        )\n",
    "    \n",
    "    return graph"
   ]
  },
  {
   "cell_type": "code",
   "execution_count": 7,
   "metadata": {},
   "outputs": [
    {
     "name": "stderr",
     "output_type": "stream",
     "text": [
      "WARNING:jax._src.lib.xla_bridge:No GPU/TPU found, falling back to CPU. (Set TF_CPP_MIN_LOG_LEVEL=0 and rerun for more info.)\n"
     ]
    }
   ],
   "source": [
    "def convert_elem_mesh2undirected_graph(node_coords,p_elem2nodes,elem2nodes)-> jraph.GraphsTuple:\n",
    "  node_features = jnp.array(node_coords)\n",
    "\n",
    "  for idstart in range(p_elem2nodes.shape[0]-1):\n",
    "    nodes_elem = elem2nodes[p_elem2nodes[idstart]:p_elem2nodes[idstart+1]]\n",
    "     \n",
    "    for j_node in range(nodes_elem.shape[0]):\n",
    "      new_edge = jnp.array([[nodes_elem[j_node],nodes_elem[(j_node+1)%nodes_elem.shape[0]]]])\n",
    "      if idstart==0 and j_node==0:\n",
    "        edges = new_edge\n",
    "      elif not(utils.check_new_row_already_exists_in_matrix(edges,new_edge)):\n",
    "        edges = jnp.concatenate([edges,new_edge],axis=0)\n",
    "    \n",
    "  # undirected graph\n",
    "  edges = jnp.concatenate([edges,edges[:,::-1]],axis=0)\n",
    "  senders = edges[:,0]\n",
    "  receivers = edges[:,1]\n",
    "\n",
    "  # optinal : add edge features\n",
    "  edge_features = jnp.zeros((edges.shape[0],))\n",
    "  for i in range(edges.shape[0]):\n",
    "    dist = utils.get_norm_L2(node_coords[edges[i,0],:]-node_coords[edges[i,1],:])\n",
    "    edge_features= edge_features.at[i].set(dist)\n",
    "  \n",
    "\n",
    "  \n",
    "  # We then save the number of nodes and the number of edges.\n",
    "  # This information is used to make running GNNs over multiple graphs\n",
    "  # in a GraphsTuple possible.\n",
    "  n_node = jnp.array([node_coords.shape[0]])\n",
    "  n_edge = jnp.array([edges.shape[0]])\n",
    "\n",
    "\n",
    "  graph = jraph.GraphsTuple(\n",
    "    nodes=node_features,\n",
    "    edges=edge_features,\n",
    "    senders=senders,\n",
    "    receivers=receivers,\n",
    "    n_node=n_node,\n",
    "    n_edge=n_edge,\n",
    "    globals=None\n",
    "    ) \n",
    "  return graph\n",
    "\n",
    "\n",
    "def build_toy_graph(n_subdivision=2):\n",
    "  node_coords, _, p_elem2nodes, elem2nodes, boundary2nodes = element_mesh_fractal.set_simple_mesh()\n",
    "  node_coords, p_elem2nodes, elem2nodes, boundary2nodes = element_mesh_fractal.subdivide_all(node_coords, p_elem2nodes, elem2nodes, boundary2nodes, n_subdivision=n_subdivision)\n",
    "  graph = convert_elem_mesh2undirected_graph(node_coords,p_elem2nodes,elem2nodes)\n",
    "  return graph\n",
    "\n",
    "graph = build_toy_graph(n_subdivision=2)"
   ]
  },
  {
   "cell_type": "code",
   "execution_count": 8,
   "metadata": {},
   "outputs": [
    {
     "name": "stdout",
     "output_type": "stream",
     "text": [
      "Number of nodes [9]\n",
      "Number of edges [32]\n",
      "Node features [[0.  0.  0. ]\n",
      " [1.  0.  0. ]\n",
      " [0.  1.  0. ]\n",
      " [1.  1.  0. ]\n",
      " [0.5 0.  0. ]\n",
      " [0.  0.5 0. ]\n",
      " [0.5 0.5 0. ]\n",
      " [1.  0.5 0. ]\n",
      " [0.5 1.  0. ]]\n",
      "Edge features [0.25 0.25 0.25 0.25 0.25 0.25 0.25 0.25 0.25 0.25 0.25 0.25 0.25 0.25\n",
      " 0.25 0.25 0.25 0.25 0.25 0.25 0.25 0.25 0.25 0.25 0.25 0.25 0.25 0.25\n",
      " 0.25 0.25 0.25 0.25]\n",
      "senders [0 4 6 5 5 6 8 2 4 1 7 6 6 7 3 8 4 6 5 0 6 8 2 5 1 7 6 4 7 3 8 6]\n",
      "receivers [4 6 5 0 6 8 2 5 1 7 6 4 7 3 8 6 0 4 6 5 5 6 8 2 4 1 7 6 6 7 3 8]\n",
      "Graph-level features None\n"
     ]
    }
   ],
   "source": [
    "# Number of nodes\n",
    "# Note that `n_node` returns an array. The length of `n_node` corresponds to\n",
    "# the number of graphs stored in one `GraphsTuple`.\n",
    "# In this case, we only have one graph, so n_node has length 1.\n",
    "print(\"Number of nodes\",graph.n_node)\n",
    "\n",
    "# Number of edges\n",
    "print(\"Number of edges\",graph.n_edge)\n",
    "\n",
    "# Node features\n",
    "print(\"Node features\",graph.nodes)\n",
    "\n",
    "# Edge features\n",
    "print(\"Edge features\",graph.edges)\n",
    "\n",
    "# Edges\n",
    "print(\"senders\",graph.senders)\n",
    "\n",
    "print(\"receivers\",graph.receivers)\n",
    "\n",
    "# Graph-level features\n",
    "print(\"Graph-level features\",graph.globals)"
   ]
  },
  {
   "cell_type": "markdown",
   "metadata": {},
   "source": [
    "## plot it "
   ]
  },
  {
   "cell_type": "code",
   "execution_count": 9,
   "metadata": {},
   "outputs": [],
   "source": [
    "def convert_jraph_to_networkx_graph(jraph_graph: jraph.GraphsTuple) -> nx.Graph:\n",
    "  nodes, edges, receivers, senders, _, _, _ = jraph_graph\n",
    "  nx_graph = nx.DiGraph()\n",
    "  if nodes is None:\n",
    "    for n in range(jraph_graph.n_node[0]):\n",
    "      nx_graph.add_node(n)\n",
    "  else:\n",
    "    for n in range(jraph_graph.n_node[0]):\n",
    "      nx_graph.add_node(n, node_feature=nodes[n])\n",
    "  if edges is None:\n",
    "    for e in range(jraph_graph.n_edge[0]):\n",
    "      nx_graph.add_edge(int(senders[e]), int(receivers[e]))\n",
    "  else:\n",
    "    for e in range(jraph_graph.n_edge[0]):\n",
    "      nx_graph.add_edge(\n",
    "          int(senders[e]), int(receivers[e]), edge_feature=edges[e])\n",
    "  return nx_graph\n",
    "\n",
    "\n",
    "def draw_jraph_graph_structure(jraph_graph: jraph.GraphsTuple) -> None:\n",
    "  nx_graph = convert_jraph_to_networkx_graph(jraph_graph)\n",
    "  pos = nx.spring_layout(nx_graph)\n",
    "  \n",
    "  \n",
    "  # edge weight labels\n",
    "  edge_labels = nx.get_edge_attributes(nx_graph, \"edge_feature\")\n",
    "  nx.draw_networkx_edge_labels(nx_graph, pos, edge_labels)\n",
    "\n",
    "  nx.draw(\n",
    "      nx_graph, pos=pos, with_labels=True, node_size=500, font_color='yellow')\n"
   ]
  },
  {
   "cell_type": "code",
   "execution_count": 10,
   "metadata": {},
   "outputs": [
    {
     "data": {
      "image/png": "[encoded data removed]",
      "text/plain": [
       "<Figure size 640x480 with 1 Axes>"
      ]
     },
     "metadata": {},
     "output_type": "display_data"
    }
   ],
   "source": [
    "draw_jraph_graph_structure(graph)"
   ]
  },
  {
   "cell_type": "markdown",
   "metadata": {},
   "source": [
    "## Code GNN"
   ]
  },
  {
   "cell_type": "code",
   "execution_count": 11,
   "metadata": {},
   "outputs": [
    {
     "data": {
      "text/plain": [
       "DeviceArray([[0.5, 0.5, 0. ],\n",
       "             [1.5, 0.5, 0. ],\n",
       "             [0.5, 1.5, 0. ],\n",
       "             [1.5, 1.5, 0. ],\n",
       "             [2. , 1. , 0. ],\n",
       "             [1. , 2. , 0. ],\n",
       "             [4. , 4. , 0. ],\n",
       "             [3. , 2. , 0. ],\n",
       "             [2. , 3. , 0. ]], dtype=float32)"
      ]
     },
     "execution_count": 11,
     "metadata": {},
     "output_type": "execute_result"
    }
   ],
   "source": [
    "def apply_simplified_gcn(graph: jraph.GraphsTuple) -> jraph.GraphsTuple:\n",
    "  # Unpack GraphsTuple\n",
    "  nodes, _, receivers, senders, _, _, _ = graph\n",
    "\n",
    "  # 1. Update node features\n",
    "  # For simplicity, we will first use an identify function here, and replace it\n",
    "  # with a trainable MLP block later.\n",
    "  update_node_fn = lambda nodes: nodes\n",
    "  nodes = update_node_fn(nodes)\n",
    "\n",
    "  # 2. Aggregate node features over nodes in neighborhood\n",
    "  # Equivalent to jnp.sum(n_node), but jittable\n",
    "  total_num_nodes = tree.tree_leaves(nodes)[0].shape[0]\n",
    "  aggregate_nodes_fn = jax.ops.segment_sum\n",
    "\n",
    "  # Compute new node features by aggregating messages from neighboring nodes\n",
    "  nodes = tree.tree_map(lambda x: aggregate_nodes_fn(x[senders], receivers,\n",
    "                                        total_num_nodes), nodes)\n",
    "  out_graph = graph._replace(nodes=nodes)\n",
    "  return out_graph\n",
    "\n",
    "graph = build_toy_graph()\n",
    "out_graph = apply_simplified_gcn(graph)\n",
    "out_graph.nodes"
   ]
  },
  {
   "cell_type": "code",
   "execution_count": 12,
   "metadata": {},
   "outputs": [
    {
     "data": {
      "text/plain": [
       "DeviceArray([[0.        ],\n",
       "             [0.2020613 ],\n",
       "             [0.59043956],\n",
       "             [0.97206557],\n",
       "             [0.10103065],\n",
       "             [0.29521978],\n",
       "             [0.48603278],\n",
       "             [0.6566619 ],\n",
       "             [0.78125256]], dtype=float32)"
      ]
     },
     "execution_count": 12,
     "metadata": {},
     "output_type": "execute_result"
    }
   ],
   "source": [
    "class MLP(hk.Module):\n",
    "  def __init__(self, features: jnp.ndarray):\n",
    "    super().__init__()\n",
    "    self.features = features\n",
    "\n",
    "  def __call__(self, x: jnp.ndarray) -> jnp.ndarray:\n",
    "    layers = []\n",
    "    for feat in self.features[:-1]:\n",
    "      layers.append(hk.Linear(feat))\n",
    "      layers.append(jax.nn.relu)\n",
    "    layers.append(hk.Linear(self.features[-1]))\n",
    "\n",
    "    mlp = hk.Sequential(layers)\n",
    "    return mlp(x)\n",
    "\n",
    "# Use MLP block to define the update node function\n",
    "update_node_fn = lambda x: MLP(features=[8, 1])(x)\n",
    "\n",
    "graph = build_toy_graph()\n",
    "update_node_module = hk.without_apply_rng(hk.transform(update_node_fn))\n",
    "params = update_node_module.init(jax.random.PRNGKey(42), graph.nodes)\n",
    "out = update_node_module.apply(params, graph.nodes)\n",
    "out"
   ]
  },
  {
   "cell_type": "code",
   "execution_count": 13,
   "metadata": {},
   "outputs": [],
   "source": [
    "def add_self_edges_fn(receivers: jnp.ndarray, senders: jnp.ndarray,\n",
    "                      total_num_nodes: int) -> Tuple[jnp.ndarray, jnp.ndarray]:\n",
    "  \"\"\"Adds self edges. Assumes self edges are not in the graph yet.\"\"\"\n",
    "  receivers = jnp.concatenate((receivers, jnp.arange(total_num_nodes)), axis=0)\n",
    "  senders = jnp.concatenate((senders, jnp.arange(total_num_nodes)), axis=0)\n",
    "  return receivers, senders"
   ]
  },
  {
   "cell_type": "markdown",
   "metadata": {},
   "source": [
    "### One layer"
   ]
  },
  {
   "cell_type": "code",
   "execution_count": 14,
   "metadata": {},
   "outputs": [],
   "source": [
    "# Adapted from https://github.com/deepmind/jraph/blob/master/jraph/_src/models.py#L506\n",
    "def GraphConvolution(update_node_fn: Callable,\n",
    "                     aggregate_nodes_fn: Callable = jax.ops.segment_sum,\n",
    "                     add_self_edges: bool = False,\n",
    "                     symmetric_normalization: bool = True) -> Callable:\n",
    "  \"\"\"Returns a method that applies a Graph Convolution layer.\n",
    "\n",
    "  Graph Convolutional layer as in https://arxiv.org/abs/1609.02907,\n",
    "  NOTE: This implementation does not add an activation after aggregation.\n",
    "  If you are stacking layers, you may want to add an activation between\n",
    "  each layer.\n",
    "  Args:\n",
    "    update_node_fn: function used to update the nodes. In the paper a single\n",
    "      layer MLP is used.\n",
    "    aggregate_nodes_fn: function used to aggregates the sender nodes.\n",
    "    add_self_edges: whether to add self edges to nodes in the graph as in the\n",
    "      paper definition of GCN. Defaults to False.\n",
    "    symmetric_normalization: whether to use symmetric normalization. Defaults to\n",
    "      True.\n",
    "\n",
    "  Returns:\n",
    "    A method that applies a Graph Convolution layer.\n",
    "  \"\"\"\n",
    "\n",
    "  def _ApplyGCN(graph: jraph.GraphsTuple) -> jraph.GraphsTuple:\n",
    "    \"\"\"Applies a Graph Convolution layer.\"\"\"\n",
    "    nodes, _, receivers, senders, _, _, _ = graph\n",
    "\n",
    "    # First pass nodes through the node updater.\n",
    "    nodes = update_node_fn(nodes)\n",
    "    \n",
    "    # Equivalent to jnp.sum(n_node), but jittable\n",
    "    total_num_nodes = tree.tree_leaves(nodes)[0].shape[0]\n",
    "    if add_self_edges:\n",
    "      # We add self edges to the senders and receivers so that each node\n",
    "      # includes itself in aggregation.\n",
    "      # In principle, a `GraphsTuple` should partition by n_edge, but in\n",
    "      # this case it is not required since a GCN is agnostic to whether\n",
    "      # the `GraphsTuple` is a batch of graphs or a single large graph.\n",
    "      conv_receivers, conv_senders = add_self_edges_fn(receivers, senders,\n",
    "                                                       total_num_nodes)\n",
    "    else:\n",
    "      conv_senders = senders\n",
    "      conv_receivers = receivers\n",
    "\n",
    "    # pylint: disable=g-long-lambda\n",
    "    if symmetric_normalization:\n",
    "      # Calculate the normalization values.\n",
    "      count_edges = lambda x: jax.ops.segment_sum(\n",
    "          jnp.ones_like(conv_senders), x, total_num_nodes)\n",
    "      sender_degree = count_edges(conv_senders)\n",
    "      receiver_degree = count_edges(conv_receivers)\n",
    "\n",
    "      # Pre normalize by sqrt sender degree.\n",
    "      # Avoid dividing by 0 by taking maximum of (degree, 1).\n",
    "      nodes = tree.tree_map(\n",
    "          lambda x: x * jax.lax.rsqrt(jnp.maximum(sender_degree, 1.0))[:, None],\n",
    "          nodes,\n",
    "      )\n",
    "      # Aggregate the pre-normalized nodes.\n",
    "      nodes = tree.tree_map(\n",
    "          lambda x: aggregate_nodes_fn(x[conv_senders], conv_receivers,\n",
    "                                       total_num_nodes), nodes)\n",
    "      # Post normalize by sqrt receiver degree.\n",
    "      # Avoid dividing by 0 by taking maximum of (degree, 1).\n",
    "      nodes = tree.tree_map(\n",
    "          lambda x:\n",
    "          (x * jax.lax.rsqrt(jnp.maximum(receiver_degree, 1.0))[:, None]),\n",
    "          nodes,\n",
    "      )\n",
    "    else:\n",
    "      nodes = tree.tree_map(\n",
    "          lambda x: aggregate_nodes_fn(x[conv_senders], conv_receivers,\n",
    "                                       total_num_nodes), nodes)\n",
    "    # pylint: enable=g-long-lambda\n",
    "    return graph._replace(nodes=nodes)\n",
    "\n",
    "  return _ApplyGCN"
   ]
  },
  {
   "cell_type": "code",
   "execution_count": 15,
   "metadata": {},
   "outputs": [
    {
     "data": {
      "text/plain": [
       "DeviceArray([[0.10231142],\n",
       "             [0.26298916],\n",
       "             [0.47475716],\n",
       "             [0.6952898 ],\n",
       "             [0.21728513],\n",
       "             [0.3564018 ],\n",
       "             [0.60084593],\n",
       "             [0.5793976 ],\n",
       "             [0.7045945 ]], dtype=float32)"
      ]
     },
     "execution_count": 15,
     "metadata": {},
     "output_type": "execute_result"
    }
   ],
   "source": [
    "gcn_layer = GraphConvolution(\n",
    "    update_node_fn=lambda n: MLP(features=[8, 1])(n),\n",
    "    aggregate_nodes_fn=jax.ops.segment_sum,\n",
    "    add_self_edges=True,\n",
    "    symmetric_normalization=True\n",
    ")\n",
    "\n",
    "graph = build_toy_graph()\n",
    "network = hk.without_apply_rng(hk.transform(gcn_layer))\n",
    "params = network.init(jax.random.PRNGKey(42), graph)\n",
    "out_graph = network.apply(params, graph)\n",
    "out_graph.nodes"
   ]
  },
  {
   "cell_type": "markdown",
   "metadata": {},
   "source": [
    "### Multiple layers GCN"
   ]
  },
  {
   "cell_type": "code",
   "execution_count": 16,
   "metadata": {},
   "outputs": [
    {
     "data": {
      "text/plain": [
       "DeviceArray([[0.30332157],\n",
       "             [0.34365693],\n",
       "             [0.5200698 ],\n",
       "             [0.56040514],\n",
       "             [0.45847186],\n",
       "             [0.6052144 ],\n",
       "             [0.86372674],\n",
       "             [0.6703508 ],\n",
       "             [0.8170934 ]], dtype=float32)"
      ]
     },
     "execution_count": 16,
     "metadata": {},
     "output_type": "execute_result"
    }
   ],
   "source": [
    "class GCN(hk.Module):\n",
    "  \"\"\"Defines a graph neural network with GCN layers.  \"\"\"\n",
    "  def __init__(self, features: jnp.ndarray):\n",
    "    super().__init__()\n",
    "    self.features = features\n",
    "  \n",
    "  def __call__(self, graph: jraph.GraphsTuple) -> jraph.GraphsTuple:\n",
    "    layers = []\n",
    "    for feat in self.features[:-1]:\n",
    "      layers.append(GraphConvolution(\n",
    "        update_node_fn=lambda n: jax.nn.tanh(hk.Linear(feat)(n)),\n",
    "        add_self_edges=True))\n",
    "    layers.append(GraphConvolution(\n",
    "      update_node_fn=hk.Linear(self.features[-1])))\n",
    "\n",
    "    gcn = hk.Sequential(layers)\n",
    "    return gcn(graph)\n",
    "\n",
    "\n",
    "# Use GCN model to define the update node function\n",
    "update_node_fn = lambda x: GCN(features=[8, 1])(x)\n",
    "\n",
    "graph = build_toy_graph()\n",
    "update_node_module = hk.without_apply_rng(hk.transform(update_node_fn))\n",
    "params = update_node_module.init(jax.random.PRNGKey(42), graph)\n",
    "out_graph = update_node_module.apply(params, graph)\n",
    "out_graph.nodes"
   ]
  },
  {
   "cell_type": "markdown",
   "metadata": {},
   "source": [
    "### Solve Poisson equations"
   ]
  },
  {
   "cell_type": "code",
   "execution_count": 17,
   "metadata": {},
   "outputs": [],
   "source": [
    "def optimize_club(network: hk.Transformed, num_steps: int) -> jnp.ndarray:\n",
    "  \"\"\"Solves the karate club problem by optimizing the assignments of students.\"\"\"\n",
    "  graph = build_toy_graph()\n",
    "  labels = get_ground_truth_assignments_for_zacharys_karate_club()\n",
    "  params = network.init(jax.random.PRNGKey(42), graph)\n",
    "\n",
    "  @jax.jit\n",
    "  def predict(params: hk.Params) -> jnp.ndarray:\n",
    "    decoded_graph = network.apply(params, graph)\n",
    "    return decoded_graph.nodes\n",
    "\n",
    "  @jax.jit\n",
    "  def prediction_loss(params: hk.Params) -> jnp.ndarray:\n",
    "    decoded_graph = network.apply(params, graph)\n",
    "    # We interpret the decoded nodes as a pair of logits for each node.\n",
    "    log_prob = jax.nn.log_softmax(decoded_graph.nodes)\n",
    "    # The only two assignments we know a-priori are those of Mr. Hi (Node 0)\n",
    "    # and John A (Node 33).\n",
    "    return -(log_prob[0, 0] + log_prob[33, 1])\n",
    "\n",
    "  # jax_opt instead of optax ?\n",
    "  opt_init, opt_update,get_params = optax.adam(1e-2) \n",
    "  opt_state = opt_init(params)\n",
    "  \n",
    "  opt_init, opt_update = optax.adam(1e-2)\n",
    "  opt_state = opt_init(params)\n",
    "\n",
    "  @jax.jit\n",
    "  def update(params: hk.Params, opt_state) -> Tuple[hk.Params, Any]:\n",
    "    \"\"\"Returns updated params and state.\"\"\"\n",
    "    g = jax.grad(prediction_loss)(params)\n",
    "    updates, opt_state = opt_update(g, opt_state)\n",
    "    return optax.apply_updates(params, updates), opt_state\n",
    "\n",
    "  @jax.jit\n",
    "  def accuracy(params: hk.Params) -> jnp.ndarray:\n",
    "    decoded_graph = network.apply(params, zacharys_karate_club)\n",
    "    return jnp.mean(jnp.argmax(decoded_graph.nodes, axis=1) == labels)\n",
    "\n",
    "  for step in range(num_steps):\n",
    "    print(f\"step {step} accuracy {accuracy(params).item():.2f}\")\n",
    "    params, opt_state = update(params, opt_state)\n",
    "\n",
    "  return predict(params)"
   ]
  },
  {
   "cell_type": "code",
   "execution_count": 38,
   "metadata": {},
   "outputs": [],
   "source": [
    "class PDE_operators2d_graph:\n",
    "    \"\"\"\n",
    "        Class with the most common operators used to solve PDEs\n",
    "    Input:\n",
    "        A function that we want to compute the respective operator\n",
    "    \"\"\"\n",
    "    \n",
    "    # Class initialization\n",
    "    def __init__(self,function):\n",
    "        '''\n",
    "        Args:\n",
    "        - function : a function taking params and jraph.GraphTuple as args'''\n",
    "        self.function=function\n",
    "\n",
    "    # Compute the two dimensional laplacian\n",
    "    def laplacian_2d(self,params,input_graph):\n",
    "        fun = lambda params,x,y: self.function(params, input_graph._replace(nodes=jnp.concatenate([x,y],axis=1))).nodes\n",
    "        @partial(jit)    \n",
    "        def action(params,x,y):\n",
    "            u_xx = jacfwd(jacfwd(fun, 1), 1)(params,x,y)\n",
    "            u_yy = jacfwd(jacfwd(fun, 2), 2)(params,x,y)\n",
    "            return u_xx + u_yy\n",
    "        print(\"came here laplacian 2D\")\n",
    "        vec_fun = vmap(action, in_axes = (None, 0, 0))\n",
    "        print('came here laplacian 2D 1')\n",
    "        laplacian = vec_fun(params, input_graph.nodes[:,0:1], input_graph.nodes[:,1:2])\n",
    "        print('came here laplacian 2D 2')\n",
    "        return laplacian\n",
    "\n",
    "\n",
    "############################### Physics Informed Neural Networks ###############################\n",
    "class PIGNN:\n",
    "    \"\"\"\n",
    "    Solve a PDE using Physics Informed Graph Neural Networks\n",
    "    Input:\n",
    "        The evaluation function of the neural network\n",
    "    \"\"\"\n",
    "\n",
    "    # Class initialization\n",
    "    def __init__(self,update_node_fn,not_memorized_graph):\n",
    "        self.operators=PDE_operators2d_graph(self.solution)\n",
    "        self.laplacian=self.operators.laplacian_2d\n",
    "        self.update_node_module = hk.without_apply_rng(hk.transform(update_node_fn))\n",
    "        self.params = update_node_module.init(jax.random.PRNGKey(42), not_memorized_graph)\n",
    "\n",
    "    # Definition of the function A(x,y) mentioned above\n",
    "    @partial(jit, static_argnums=(0,))    \n",
    "    def A_function(self,inputX,inputY):\n",
    "        return jnp.zeros_like(inputX)\n",
    "\n",
    "    # Definition of the function F(x,y) mentioned above   \n",
    "    @partial(jit, static_argnums=(0,))    \n",
    "    def F_function(self,inputX,inputY):\n",
    "        F1=jnp.multiply(jnp.sin(inputX),jnp.sin(inputX-jnp.ones_like(inputX)))\n",
    "        F2=jnp.multiply(jnp.sin(inputY),jnp.sin(inputY-jnp.ones_like(inputY)))\n",
    "        return jnp.multiply(F1,F2).reshape((-1,1))\n",
    "\n",
    "    # Definition of the function f(x,y) mentioned above   \n",
    "    @partial(jit, static_argnums=(0,))    \n",
    "    def target_function(self,inputs):\n",
    "        return 2*jnp.pi**2*jnp.sin(jnp.pi*inputs[:,0:1])*jnp.sin(jnp.pi*inputs[:,1:2])\n",
    "\n",
    "    # Compute the solution of the PDE on the points (x,y)\n",
    "    @partial(jit, static_argnums=(0,))    \n",
    "    def solution(self,input_graph):\n",
    "        out_graph = self.update_node_module.apply(self.params, input_graph)\n",
    "        NN = out_graph.nodes\n",
    "\n",
    "        inputX,inputY = input_graph.nodes[:,0:1],input_graph.nodes[:,1:2]\n",
    "\n",
    "        F=self.F_function(inputX,inputY)\n",
    "        A=self.A_function(inputX,inputY)\n",
    "        return jnp.add(jnp.multiply(F,NN),A)\n",
    "\n",
    "    # Compute the loss function\n",
    "    @partial(jit, static_argnums=(0,))    \n",
    "    def loss_function(self,params,input_graph):\n",
    "        targets=self.target_function(input_graph.nodes)\n",
    "        print(\"came here loss 0\")\n",
    "        preds=self.laplacian(params,input_graph)\n",
    "        print(\"came here loss 1\")\n",
    "        return jnp.linalg.norm(preds+targets)/input_graph.nodes.shape[0]   \n",
    "\n",
    "    # Train step\n",
    "    # @partial(jit, static_argnums=(0,))    \n",
    "    def train_step(self, opt_update, opt_state, input_graph):\n",
    "        print(\"came here 0\")\n",
    "        loss, grad = value_and_grad(self.loss_function)(self.params,input_graph)\n",
    "        updates, opt_state = opt_update(grad, opt_state, self.params)\n",
    "        self.params,opt_state = optax.apply_updates(self.params, updates)\n",
    "        print(\"came here 1\")\n",
    "        return loss,self.params,opt_state\n",
    "\n",
    "    # Adapted from https://github.com/deepmind/jraph/blob/master/jraph/ogb_examples/train.py\n",
    "    def train(self, input_graph: jraph.GraphsTuple, num_train_steps: int) -> Tuple[Dict,hk.Params]:\n",
    "        \"\"\"Training loop.\"\"\"\n",
    "        # Initialize the optimizer.\n",
    "        opt_init, opt_update = optax.adam(1e-4)\n",
    "        opt_state = opt_init(self.params)\n",
    "        \n",
    "        history = {\"loss\":[]}\n",
    "        for idx in range(num_train_steps):\n",
    "            loss,self.params,opt_state = self.train_step(opt_update,opt_state, input_graph)\n",
    "            history[\"loss\"].append(loss)\n",
    "            if idx % 1 == 0:\n",
    "                print(f'step: {idx}, loss: {loss}')\n",
    "        print('Training is over')\n",
    "        return history, self.params\n"
   ]
  },
  {
   "cell_type": "code",
   "execution_count": 37,
   "metadata": {},
   "outputs": [],
   "source": [
    "############################### Initialize neural network ###############################\n",
    "# Neural network parameters\n",
    "SEED = 351\n",
    "n_origin_features, n_targets = 2, 1            # Input and output dimension\n",
    "features = [n_origin_features,30,n_targets]      # Layers structure\n",
    "\n",
    "# Initialization\n",
    "#   Use GCN model to define the update node function\n",
    "update_node_fn = lambda x: GCN(features=features)(x)\n",
    "\n",
    "graph = build_toy_graph()\n",
    "solver=PIGNN(update_node_fn,graph)"
   ]
  },
  {
   "cell_type": "code",
   "execution_count": 39,
   "metadata": {},
   "outputs": [
    {
     "name": "stdout",
     "output_type": "stream",
     "text": [
      "came here 0\n",
      "came here loss 0\n",
      "came here laplacian 2D\n",
      "came here laplacian 2D 1\n"
     ]
    },
    {
     "ename": "ValueError",
     "evalue": "axis 1 is out of bounds for array of dimension 1",
     "output_type": "error",
     "traceback": [
      "\u001b[0;31m---------------------------------------------------------------------------\u001b[0m",
      "\u001b[0;31mValueError\u001b[0m                                Traceback (most recent call last)",
      "Cell \u001b[0;32mIn[39], line 1\u001b[0m\n\u001b[0;32m----> 1\u001b[0m solver\u001b[39m.\u001b[39;49mtrain(graph,\u001b[39m1\u001b[39;49m)\n",
      "Cell \u001b[0;32mIn[38], line 103\u001b[0m, in \u001b[0;36mPIGNN.train\u001b[0;34m(self, input_graph, num_train_steps)\u001b[0m\n\u001b[1;32m    101\u001b[0m history \u001b[39m=\u001b[39m {\u001b[39m\"\u001b[39m\u001b[39mloss\u001b[39m\u001b[39m\"\u001b[39m:[]}\n\u001b[1;32m    102\u001b[0m \u001b[39mfor\u001b[39;00m idx \u001b[39min\u001b[39;00m \u001b[39mrange\u001b[39m(num_train_steps):\n\u001b[0;32m--> 103\u001b[0m     loss,\u001b[39mself\u001b[39m\u001b[39m.\u001b[39mparams,opt_state \u001b[39m=\u001b[39m \u001b[39mself\u001b[39;49m\u001b[39m.\u001b[39;49mtrain_step(opt_update,opt_state, input_graph)\n\u001b[1;32m    104\u001b[0m     history[\u001b[39m\"\u001b[39m\u001b[39mloss\u001b[39m\u001b[39m\"\u001b[39m]\u001b[39m.\u001b[39mappend(loss)\n\u001b[1;32m    105\u001b[0m     \u001b[39mif\u001b[39;00m idx \u001b[39m%\u001b[39m \u001b[39m1\u001b[39m \u001b[39m==\u001b[39m \u001b[39m0\u001b[39m:\n",
      "Cell \u001b[0;32mIn[38], line 88\u001b[0m, in \u001b[0;36mPIGNN.train_step\u001b[0;34m(self, opt_update, opt_state, input_graph)\u001b[0m\n\u001b[1;32m     86\u001b[0m \u001b[39mdef\u001b[39;00m \u001b[39mtrain_step\u001b[39m(\u001b[39mself\u001b[39m, opt_update, opt_state, input_graph):\n\u001b[1;32m     87\u001b[0m     \u001b[39mprint\u001b[39m(\u001b[39m\"\u001b[39m\u001b[39mcame here 0\u001b[39m\u001b[39m\"\u001b[39m)\n\u001b[0;32m---> 88\u001b[0m     loss, grad \u001b[39m=\u001b[39m value_and_grad(\u001b[39mself\u001b[39;49m\u001b[39m.\u001b[39;49mloss_function)(\u001b[39mself\u001b[39;49m\u001b[39m.\u001b[39;49mparams,input_graph)\n\u001b[1;32m     89\u001b[0m     updates, opt_state \u001b[39m=\u001b[39m opt_update(grad, opt_state, \u001b[39mself\u001b[39m\u001b[39m.\u001b[39mparams)\n\u001b[1;32m     90\u001b[0m     \u001b[39mself\u001b[39m\u001b[39m.\u001b[39mparams,opt_state \u001b[39m=\u001b[39m optax\u001b[39m.\u001b[39mapply_updates(\u001b[39mself\u001b[39m\u001b[39m.\u001b[39mparams, updates)\n",
      "    \u001b[0;31m[... skipping hidden 25 frame]\u001b[0m\n",
      "Cell \u001b[0;32mIn[38], line 80\u001b[0m, in \u001b[0;36mPIGNN.loss_function\u001b[0;34m(self, params, input_graph)\u001b[0m\n\u001b[1;32m     78\u001b[0m targets\u001b[39m=\u001b[39m\u001b[39mself\u001b[39m\u001b[39m.\u001b[39mtarget_function(input_graph\u001b[39m.\u001b[39mnodes)\n\u001b[1;32m     79\u001b[0m \u001b[39mprint\u001b[39m(\u001b[39m\"\u001b[39m\u001b[39mcame here loss 0\u001b[39m\u001b[39m\"\u001b[39m)\n\u001b[0;32m---> 80\u001b[0m preds\u001b[39m=\u001b[39m\u001b[39mself\u001b[39;49m\u001b[39m.\u001b[39;49mlaplacian(params,input_graph)\n\u001b[1;32m     81\u001b[0m \u001b[39mprint\u001b[39m(\u001b[39m\"\u001b[39m\u001b[39mcame here loss 1\u001b[39m\u001b[39m\"\u001b[39m)\n\u001b[1;32m     82\u001b[0m \u001b[39mreturn\u001b[39;00m jnp\u001b[39m.\u001b[39mlinalg\u001b[39m.\u001b[39mnorm(preds\u001b[39m+\u001b[39mtargets)\u001b[39m/\u001b[39minput_graph\u001b[39m.\u001b[39mnodes\u001b[39m.\u001b[39mshape[\u001b[39m0\u001b[39m]\n",
      "Cell \u001b[0;32mIn[38], line 26\u001b[0m, in \u001b[0;36mPDE_operators2d_graph.laplacian_2d\u001b[0;34m(self, params, input_graph)\u001b[0m\n\u001b[1;32m     24\u001b[0m vec_fun \u001b[39m=\u001b[39m vmap(action, in_axes \u001b[39m=\u001b[39m (\u001b[39mNone\u001b[39;00m, \u001b[39m0\u001b[39m, \u001b[39m0\u001b[39m))\n\u001b[1;32m     25\u001b[0m \u001b[39mprint\u001b[39m(\u001b[39m'\u001b[39m\u001b[39mcame here laplacian 2D 1\u001b[39m\u001b[39m'\u001b[39m)\n\u001b[0;32m---> 26\u001b[0m laplacian \u001b[39m=\u001b[39m vec_fun(params, input_graph\u001b[39m.\u001b[39;49mnodes[:,\u001b[39m0\u001b[39;49m:\u001b[39m1\u001b[39;49m], input_graph\u001b[39m.\u001b[39;49mnodes[:,\u001b[39m1\u001b[39;49m:\u001b[39m2\u001b[39;49m])\n\u001b[1;32m     27\u001b[0m \u001b[39mprint\u001b[39m(\u001b[39m'\u001b[39m\u001b[39mcame here laplacian 2D 2\u001b[39m\u001b[39m'\u001b[39m)\n\u001b[1;32m     28\u001b[0m \u001b[39mreturn\u001b[39;00m laplacian\n",
      "    \u001b[0;31m[... skipping hidden 14 frame]\u001b[0m\n",
      "Cell \u001b[0;32mIn[38], line 20\u001b[0m, in \u001b[0;36mPDE_operators2d_graph.laplacian_2d.<locals>.action\u001b[0;34m(params, x, y)\u001b[0m\n\u001b[1;32m     18\u001b[0m \u001b[39m@partial\u001b[39m(jit)    \n\u001b[1;32m     19\u001b[0m \u001b[39mdef\u001b[39;00m \u001b[39maction\u001b[39m(params,x,y):\n\u001b[0;32m---> 20\u001b[0m     u_xx \u001b[39m=\u001b[39m jacfwd(jacfwd(fun, \u001b[39m1\u001b[39;49m), \u001b[39m1\u001b[39;49m)(params,x,y)\n\u001b[1;32m     21\u001b[0m     u_yy \u001b[39m=\u001b[39m jacfwd(jacfwd(fun, \u001b[39m2\u001b[39m), \u001b[39m2\u001b[39m)(params,x,y)\n\u001b[1;32m     22\u001b[0m     \u001b[39mreturn\u001b[39;00m u_xx \u001b[39m+\u001b[39m u_yy\n",
      "    \u001b[0;31m[... skipping hidden 12 frame]\u001b[0m\n",
      "Cell \u001b[0;32mIn[38], line 17\u001b[0m, in \u001b[0;36mPDE_operators2d_graph.laplacian_2d.<locals>.<lambda>\u001b[0;34m(params, x, y)\u001b[0m\n\u001b[1;32m     16\u001b[0m \u001b[39mdef\u001b[39;00m \u001b[39mlaplacian_2d\u001b[39m(\u001b[39mself\u001b[39m,params,input_graph):\n\u001b[0;32m---> 17\u001b[0m     fun \u001b[39m=\u001b[39m \u001b[39mlambda\u001b[39;00m params,x,y: \u001b[39mself\u001b[39m\u001b[39m.\u001b[39mfunction(params, input_graph\u001b[39m.\u001b[39m_replace(nodes\u001b[39m=\u001b[39mjnp\u001b[39m.\u001b[39;49mconcatenate([x,y],axis\u001b[39m=\u001b[39;49m\u001b[39m1\u001b[39;49m)))\u001b[39m.\u001b[39mnodes\n\u001b[1;32m     18\u001b[0m     \u001b[39m@partial\u001b[39m(jit)    \n\u001b[1;32m     19\u001b[0m     \u001b[39mdef\u001b[39;00m \u001b[39maction\u001b[39m(params,x,y):\n\u001b[1;32m     20\u001b[0m         u_xx \u001b[39m=\u001b[39m jacfwd(jacfwd(fun, \u001b[39m1\u001b[39m), \u001b[39m1\u001b[39m)(params,x,y)\n",
      "File \u001b[0;32m~/MLprojects/Tsunami/venv_tsunami/lib/python3.10/site-packages/jax/_src/numpy/lax_numpy.py:1781\u001b[0m, in \u001b[0;36mconcatenate\u001b[0;34m(arrays, axis, dtype)\u001b[0m\n\u001b[1;32m   1779\u001b[0m \u001b[39mif\u001b[39;00m \u001b[39mhasattr\u001b[39m(arrays[\u001b[39m0\u001b[39m], \u001b[39m\"\u001b[39m\u001b[39mconcatenate\u001b[39m\u001b[39m\"\u001b[39m):\n\u001b[1;32m   1780\u001b[0m   \u001b[39mreturn\u001b[39;00m arrays[\u001b[39m0\u001b[39m]\u001b[39m.\u001b[39mconcatenate(arrays[\u001b[39m1\u001b[39m:], axis, dtype\u001b[39m=\u001b[39mdtype)  \u001b[39m# type: ignore[union-attr]\u001b[39;00m\n\u001b[0;32m-> 1781\u001b[0m axis \u001b[39m=\u001b[39m _canonicalize_axis(axis, ndim(arrays[\u001b[39m0\u001b[39;49m]))\n\u001b[1;32m   1782\u001b[0m \u001b[39mif\u001b[39;00m dtype \u001b[39mis\u001b[39;00m \u001b[39mNone\u001b[39;00m:\n\u001b[1;32m   1783\u001b[0m   arrays_out \u001b[39m=\u001b[39m _promote_dtypes(\u001b[39m*\u001b[39marrays)\n",
      "File \u001b[0;32m~/MLprojects/Tsunami/venv_tsunami/lib/python3.10/site-packages/jax/_src/util.py:351\u001b[0m, in \u001b[0;36mcanonicalize_axis\u001b[0;34m(axis, num_dims)\u001b[0m\n\u001b[1;32m    349\u001b[0m axis \u001b[39m=\u001b[39m operator\u001b[39m.\u001b[39mindex(axis)\n\u001b[1;32m    350\u001b[0m \u001b[39mif\u001b[39;00m \u001b[39mnot\u001b[39;00m \u001b[39m-\u001b[39mnum_dims \u001b[39m<\u001b[39m\u001b[39m=\u001b[39m axis \u001b[39m<\u001b[39m num_dims:\n\u001b[0;32m--> 351\u001b[0m   \u001b[39mraise\u001b[39;00m \u001b[39mValueError\u001b[39;00m(\u001b[39mf\u001b[39m\u001b[39m\"\u001b[39m\u001b[39maxis \u001b[39m\u001b[39m{\u001b[39;00maxis\u001b[39m}\u001b[39;00m\u001b[39m is out of bounds for array of dimension \u001b[39m\u001b[39m{\u001b[39;00mnum_dims\u001b[39m}\u001b[39;00m\u001b[39m\"\u001b[39m)\n\u001b[1;32m    352\u001b[0m \u001b[39mif\u001b[39;00m axis \u001b[39m<\u001b[39m \u001b[39m0\u001b[39m:\n\u001b[1;32m    353\u001b[0m   axis \u001b[39m=\u001b[39m axis \u001b[39m+\u001b[39m num_dims\n",
      "\u001b[0;31mValueError\u001b[0m: axis 1 is out of bounds for array of dimension 1"
     ]
    }
   ],
   "source": [
    "solver.train(graph,1)"
   ]
  },
  {
   "cell_type": "code",
   "execution_count": null,
   "metadata": {},
   "outputs": [],
   "source": [
    "\n",
    "############################### Train parameters ###############################\n",
    "batch_size = 50\n",
    "num_batches = 100000\n",
    "report_steps=1000\n",
    "loss_history = []\n",
    "\n",
    "############################### Adam optimizer ###############################\n",
    "# It's possible to continue the last training if we use options=1\n",
    "opt_init, opt_update = optax.adam(1e-2)\n",
    "opt_state = opt_init(params)\n",
    "\n",
    "\n",
    "loss_history = []\n",
    "loss, opt_state = solver.train(input_graph=graph,num_train_steps=1)\n",
    "loss_history.append(float(loss))\n",
    "\n",
    "\n",
    "\n",
    "############################### Plot loss function ###############################\n",
    "fig, ax = plt.subplots(1, 1)\n",
    "__=ax.plot(loss_history)\n",
    "xlabel = ax.set_xlabel(r'${\\rm Step}$')\n",
    "ylabel = ax.set_ylabel(r'${\\rm (loss_function)}$')\n",
    "title = ax.set_title(r'${\\rm Training}$')\n",
    "plt.show\n",
    "\n",
    "############################### Approximated solution ###############################\n",
    "# We plot the solution obtained with our NN\n",
    "plt.figure()\n",
    "params=get_params(opt_state)\n",
    "n_points=100000\n",
    "ran_key, batch_key = jran.split(key)\n",
    "XY_test = jran.uniform(batch_key, shape=(n_points, n_features), minval=0, maxval=1)\n",
    "\n",
    "predictions = solver.solution(params,XY_test[:,0],XY_test[:,1])\n",
    "plt.scatter(XY_test[:,0],XY_test[:,1], c=predictions, cmap=\"hot\",s=10)\n",
    "plt.clim(vmin=jnp.min(predictions),vmax=jnp.max(predictions))\n",
    "plt.colorbar()\n",
    "plt.title(\"NN solution\")\n",
    "plt.show()\n",
    "\n",
    "############################### True solution ###############################\n",
    "# We plot the true solution, its form was mentioned above\n",
    "def true_solution(inputs):\n",
    "    return jnp.sin(jnp.pi*inputs[:,0])*jnp.sin(jnp.pi*inputs[:,1])\n",
    "\n",
    "plt.figure()\n",
    "n_points=100000\n",
    "ran_key, batch_key = jran.split(key)\n",
    "XY_test = jran.uniform(batch_key, shape=(n_points, n_features), minval=0, maxval=1)\n",
    "\n",
    "true_sol = true_solution(XY_test)\n",
    "plt.scatter(XY_test[:,0],XY_test[:,1], c=true_sol, cmap=\"hot\",s=10)\n",
    "plt.clim(vmin=jnp.min(true_sol),vmax=jnp.max(true_sol))\n",
    "plt.colorbar()\n",
    "plt.title(\"True solution\")\n",
    "plt.show()\n",
    "\n",
    "############################### Absolut error ###############################\n",
    "# We plot the absolut error, it's |true solution - neural network output|\n",
    "plt.figure()\n",
    "params=get_params(opt_state)\n",
    "n_points=100000\n",
    "ran_key, batch_key = jran.split(key)\n",
    "XY_test = jran.uniform(batch_key, shape=(n_points, n_features), minval=0, maxval=1)\n",
    "\n",
    "predictions = solver.solution(params,XY_test[:,0],XY_test[:,1])[:,0]\n",
    "true_sol = true_solution(XY_test)\n",
    "error=abs(true_sol-predictions)\n",
    "\n",
    "plt.scatter(XY_test[:,0],XY_test[:,1], c=error, cmap=\"viridis\",s=10)\n",
    "plt.clim(vmin=0,vmax=jnp.max(error))\n",
    "plt.colorbar()\n",
    "plt.title(\"Absolut error\")\n",
    "plt.show()"
   ]
  }
 ],
 "metadata": {
  "kernelspec": {
   "display_name": "Python 3.10.6 ('venv_tsunami': venv)",
   "language": "python",
   "name": "python3"
  },
  "language_info": {
   "codemirror_mode": {
    "name": "ipython",
    "version": 3
   },
   "file_extension": ".py",
   "mimetype": "text/x-python",
   "name": "python",
   "nbconvert_exporter": "python",
   "pygments_lexer": "ipython3",
   "version": "3.10.6 (main, Nov 14 2022, 16:10:14) [GCC 11.3.0]"
  },
  "orig_nbformat": 4,
  "vscode": {
   "interpreter": {
    "hash": "f6c7b57d88d8753a0dda6f9104f2db2bc0403207cad02130baef919256cc113f"
   }
  }
 },
 "nbformat": 4,
 "nbformat_minor": 2
}
