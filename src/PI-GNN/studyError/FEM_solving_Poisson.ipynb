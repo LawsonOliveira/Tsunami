{
 "cells": [
  {
   "cell_type": "markdown",
   "metadata": {},
   "source": [
    "Poisson equation:\n",
    "$$-\\Delta u  = f$$\n",
    "$$ \\partial u = 0 \\text{ on $\\partial\\Omega$}$$\n",
    "\n",
    "We set :\n",
    "$$u_{sol}=sin(\\pi x) sin(\\pi y)$$\n",
    "$$\\Delta u_{sol} = -2\\pi^2*sin(\\pi x) sin(\\pi y)$$\n",
    "\n",
    "So we will set $f := -\\Delta u_{sol} = +2\\pi^2 sin(\\pi x) sin(\\pi y)$ "
   ]
  },
  {
   "cell_type": "markdown",
   "metadata": {},
   "source": []
  }
 ],
 "metadata": {
  "kernelspec": {
   "display_name": "venv_tsunami",
   "language": "python",
   "name": "python3"
  },
  "language_info": {
   "name": "python",
   "version": "3.10.6 (main, Nov 14 2022, 16:10:14) [GCC 11.3.0]"
  },
  "orig_nbformat": 4,
  "vscode": {
   "interpreter": {
    "hash": "f6c7b57d88d8753a0dda6f9104f2db2bc0403207cad02130baef919256cc113f"
   }
  }
 },
 "nbformat": 4,
 "nbformat_minor": 2
}
