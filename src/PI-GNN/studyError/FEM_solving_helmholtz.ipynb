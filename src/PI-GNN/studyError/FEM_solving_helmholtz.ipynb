{
 "cells": [
  {
   "cell_type": "markdown",
   "metadata": {},
   "source": [
    "Helmholtz equation:\n",
    "$$-\\Delta u - k^2 u = f$$\n",
    "$$ \\partial u = ... [\\text{see solution chosen}] \\text{ on $\\partial\\Omega$}$$\n",
    "with $k$ the wavenumber \n",
    "\n",
    "We set:\n",
    "$$u_{sol}=exp(jk(x+y))$$\n",
    "$$\\Delta u_{sol} = -2k^2*exp(jk(x+y))$$\n",
    "\n",
    "So we will set $f := -\\Delta u_{sol} - k^2 u_{sol} = 2k^2*exp(jk(x+y))-k^2 exp(jk(x+y)) = k^2 exp(jk(x+y))$ "
   ]
  },
  {
   "cell_type": "markdown",
   "metadata": {},
   "source": []
  }
 ],
 "metadata": {
  "kernelspec": {
   "display_name": "Python 3.10.6 64-bit",
   "language": "python",
   "name": "python3"
  },
  "language_info": {
   "name": "python",
   "version": "3.10.6"
  },
  "orig_nbformat": 4,
  "vscode": {
   "interpreter": {
    "hash": "369f2c481f4da34e4445cda3fffd2e751bd1c4d706f27375911949ba6bb62e1c"
   }
  }
 },
 "nbformat": 4,
 "nbformat_minor": 2
}
