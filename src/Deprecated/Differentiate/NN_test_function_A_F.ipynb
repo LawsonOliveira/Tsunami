{
 "cells": [
  {
   "cell_type": "code",
   "execution_count": 1,
   "metadata": {},
   "outputs": [],
   "source": [
    "import tensorflow as tf\n",
    "import keras\n",
    "import matplotlib.pyplot as plt\n",
    "import numpy as np\n",
    "import os\n",
    "import json"
   ]
  },
  {
   "cell_type": "code",
   "execution_count": 4,
   "metadata": {},
   "outputs": [],
   "source": [
    "__file__ = 'C:/Users/antie/Documents/Pole_recherche/Tsunami'"
   ]
  },
  {
   "cell_type": "code",
   "execution_count": 2,
   "metadata": {},
   "outputs": [],
   "source": [
    "__file__ = 'C:/Users/jtros/CS/cours/PoleProjet/FormationRecherche/Tsunami/TP/sceance4/Tsunami'"
   ]
  },
  {
   "cell_type": "code",
   "execution_count": 3,
   "metadata": {},
   "outputs": [
    {
     "name": "stdout",
     "output_type": "stream",
     "text": [
      "Num GPUs Available:  1\n",
      "[name: \"/device:CPU:0\"\n",
      "device_type: \"CPU\"\n",
      "memory_limit: 268435456\n",
      "locality {\n",
      "}\n",
      "incarnation: 6998348340310143893\n",
      "xla_global_id: -1\n",
      ", name: \"/device:GPU:0\"\n",
      "device_type: \"GPU\"\n",
      "memory_limit: 5730467840\n",
      "locality {\n",
      "  bus_id: 1\n",
      "  links {\n",
      "  }\n",
      "}\n",
      "incarnation: 3736458735570633869\n",
      "physical_device_desc: \"device: 0, name: NVIDIA GeForce RTX 3080 Laptop GPU, pci bus id: 0000:01:00.0, compute capability: 8.6\"\n",
      "xla_global_id: 416903419\n",
      "]\n",
      "INFO:tensorflow:Using MirroredStrategy with devices ('/job:localhost/replica:0/task:0/device:GPU:0',)\n",
      "\n",
      " cwd: c:\\Users\\jtros\\CS\\cours\\PoleProjet\\FormationRecherche\\Tsunami\\TP\\sceance4\\Tsunami\\differentiate\n",
      "changed to: C:\\Users\\jtros\\CS\\cours\\PoleProjet\\FormationRecherche\\Tsunami\\TP\\sceance4\\Tsunami \n",
      "\n"
     ]
    }
   ],
   "source": [
    "from tensorflow.python.client import device_lib\n",
    "physical_devices = tf.config.list_physical_devices(\"GPU\")\n",
    "print(\"Num GPUs Available: \", len(physical_devices))\n",
    "print(device_lib.list_local_devices())\n",
    "# what if empty...\n",
    "tf.config.experimental.set_memory_growth(physical_devices[0], True)\n",
    "# On windows systems you cannont install NCCL that is required for multi GPU\n",
    "# So we need to follow hierarchical copy method or reduce to single GPU (less efficient than the former)\n",
    "strategy = tf.distribute.MirroredStrategy(\n",
    "    devices=['GPU:0'], cross_device_ops=tf.distribute.HierarchicalCopyAllReduce())\n",
    "\n",
    "DTYPE = 'float32'\n",
    "\n",
    "tf.keras.backend.set_floatx(DTYPE)\n",
    "\n",
    "__file__ = 'C:/Users/jtros/CS/cours/PoleProjet/FormationRecherche/Tsunami/TP/sceance4/Tsunami'\n",
    "\n",
    "print('\\n cwd:', os.getcwd())\n",
    "os.chdir(__file__)\n",
    "print('changed to:', os.getcwd(), '\\n')"
   ]
  },
  {
   "cell_type": "markdown",
   "metadata": {},
   "source": [
    "## Create the model"
   ]
  },
  {
   "cell_type": "code",
   "execution_count": 85,
   "metadata": {},
   "outputs": [
    {
     "name": "stdout",
     "output_type": "stream",
     "text": [
      "tf.Tensor(\n",
      "[[1. 1. 1. 1.]\n",
      " [1. 1. 1. 1.]\n",
      " [1. 1. 1. 1.]], shape=(3, 4), dtype=float32)\n",
      "tf.Tensor(\n",
      "[[1. 0. 0. 0.]\n",
      " [0. 1. 0. 0.]\n",
      " [0. 0. 1. 0.]], shape=(3, 4), dtype=float32)\n"
     ]
    }
   ],
   "source": [
    "# To fix weights or biases of layers\n",
    "class ConstantTensorInitializer(tf.keras.initializers.Initializer):\n",
    "  \"\"\"Initializes tensors to `t`.\"\"\"\n",
    "\n",
    "  def __init__(self, t):\n",
    "    self.t = t\n",
    "\n",
    "  def __call__(self, shape, dtype=None):\n",
    "    return self.t\n",
    "\n",
    "  def get_config(self):\n",
    "    # A constraint config is a Python dictionary (JSON-serializable) that can be used to reinstantiate the same object.\n",
    "    return {'t': self.t}\n",
    "\n",
    "class ConstantTensorConstraint(tf.keras.constraints.Constraint):\n",
    "  \"\"\"Constrains tensors to `t`.\"\"\"\n",
    "\n",
    "  def __init__(self, t):\n",
    "    self.t = t\n",
    "\n",
    "  def __call__(self, w):\n",
    "    return self.t\n",
    "\n",
    "  def get_config(self):\n",
    "    return {'t': self.t}\n",
    "\n",
    "\n",
    "# t could be :\n",
    "t = tf.ones((3,4))\n",
    "print(t)\n",
    "\n",
    "t1 = tf.eye(3,4)\n",
    "print(t1)"
   ]
  },
  {
   "cell_type": "code",
   "execution_count": 4,
   "metadata": {},
   "outputs": [],
   "source": [
    "def generate_model(l_units,noise=False):\n",
    "  # méthode API Sequential\n",
    "  n_hidden = len(l_units)\n",
    "  multilayer_perceptron = keras.models.Sequential([\n",
    "    keras.layers.Input(shape=(2))\n",
    "  ])\n",
    "  if noise:\n",
    "    multilayer_perceptron.add(keras.layers.GaussianNoise(stddev=1e-4))\n",
    "  for i in range(n_hidden):\n",
    "        multilayer_perceptron.add(keras.layers.Dense(l_units[i],activation='elu', kernel_initializer='he_normal'))\n",
    "  multilayer_perceptron.add(keras.layers.Dense(1,use_bias=False))\n",
    "  multilayer_perceptron.summary()\n",
    "  return multilayer_perceptron\n"
   ]
  },
  {
   "cell_type": "code",
   "execution_count": 34,
   "metadata": {},
   "outputs": [
    {
     "name": "stdout",
     "output_type": "stream",
     "text": [
      "Model: \"sequential_10\"\n",
      "_________________________________________________________________\n",
      " Layer (type)                Output Shape              Param #   \n",
      "=================================================================\n",
      " dense_30 (Dense)            (None, 20)                60        \n",
      "                                                                 \n",
      " dense_31 (Dense)            (None, 20)                420       \n",
      "                                                                 \n",
      " dense_32 (Dense)            (None, 1)                 20        \n",
      "                                                                 \n",
      "=================================================================\n",
      "Total params: 500\n",
      "Trainable params: 500\n",
      "Non-trainable params: 0\n",
      "_________________________________________________________________\n"
     ]
    }
   ],
   "source": [
    "# to check :\n",
    "multilayer_perceptron = generate_model()"
   ]
  },
  {
   "cell_type": "code",
   "execution_count": 5,
   "metadata": {},
   "outputs": [],
   "source": [
    "# Given EDO\n",
    "def f(X):\n",
    "  return tf.sin(np.pi*X[:,0])*tf.sin(np.pi*X[:,1])\n",
    "\n",
    "\n",
    "def boundary_conditions(X):\n",
    "  return 0\n",
    "\n",
    "\n",
    "def residual(du_dxx,du_dyy,f_ind):\n",
    "  return du_dxx+du_dyy+f_ind\n",
    "\n",
    "\n",
    "def differentiate(model,x):\n",
    "  with tf.GradientTape(persistent=True) as tape:\n",
    "    x1, x2 = x[:,0:1], x[:,1:2]\n",
    "    tape.watch(x1)\n",
    "    tape.watch(x2)\n",
    "    u = model(tf.stack([x1[:,0], x2[:,0]], axis=1))\n",
    "    du_dx = tape.gradient(u,x1)\n",
    "    du_dy = tape.gradient(u,x2)\n",
    "  du_dxx = tape.gradient(du_dx,x1) \n",
    "  du_dyy = tape.gradient(du_dy,x2)\n",
    "  return du_dx, du_dxx, du_dy, du_dyy\n",
    "\n",
    "grid_length = 100\n",
    "\n",
    "X = np.linspace(0,1,grid_length, endpoint=True)\n",
    "Y = np.linspace(0,1,grid_length, endpoint=True)\n",
    "tf_coords = tf.convert_to_tensor([tf.constant([x,y],dtype=DTYPE) for x in X for y in Y])\n",
    "tf_boundary_coords = tf.convert_to_tensor([tf.constant([x,y],dtype=DTYPE) for x in [0,1] for y in Y ] + [tf.constant([x,y],dtype=DTYPE) for y in [0,1] for x in X ])  \n",
    "\n",
    "#print(boundary_coords.shape)\n",
    "\n"
   ]
  },
  {
   "cell_type": "markdown",
   "metadata": {},
   "source": [
    "## Method 1: mini-batch gradient descent with training to respect the boundary conditions at the same time of the one for the EDP"
   ]
  },
  {
   "cell_type": "markdown",
   "metadata": {},
   "source": [
    "Papier : 2019_A_unified_deep_artificial_neural_network_approach_to_PDE_in_complex_geometries.pdf"
   ]
  },
  {
   "cell_type": "code",
   "execution_count": 13,
   "metadata": {},
   "outputs": [
    {
     "name": "stdout",
     "output_type": "stream",
     "text": [
      "Model: \"sequential_1\"\n",
      "_________________________________________________________________\n",
      " Layer (type)                Output Shape              Param #   \n",
      "=================================================================\n",
      " dense_3 (Dense)             (None, 20)                60        \n",
      "                                                                 \n",
      " dense_4 (Dense)             (None, 20)                420       \n",
      "                                                                 \n",
      " dense_5 (Dense)             (None, 1)                 20        \n",
      "                                                                 \n",
      "=================================================================\n",
      "Total params: 500\n",
      "Trainable params: 500\n",
      "Non-trainable params: 0\n",
      "_________________________________________________________________\n"
     ]
    },
    {
     "name": "stderr",
     "output_type": "stream",
     "text": [
      "c:\\Users\\jtros\\CS\\cours\\PoleProjet\\FormationRecherche\\Tsunami\\TP\\sceance4\\Tsunami\\venv_tsunami\\lib\\site-packages\\keras\\optimizers\\optimizer_v2\\adam.py:110: UserWarning: The `lr` argument is deprecated, use `learning_rate` instead.\n",
      "  super(Adam, self).__init__(name, **kwargs)\n"
     ]
    }
   ],
   "source": [
    "# method 1: mini-batch gradient descent + (loss = MSE + MSE on all boundary) \n",
    "\n",
    "# a few train parameters to adjust\n",
    "learning_rate = 0.01\n",
    "epochs = 200\n",
    "batch_size = 1000\n",
    "display_step = 100\n",
    "\n",
    "alpha = 15 # magnify the boundary condition in the loss\n",
    "\n",
    "optimizer = tf.optimizers.Adam(lr=learning_rate)\n",
    "\n",
    "# generate model\n",
    "multilayer_perceptron = generate_model()\n",
    "\n",
    "\n",
    "# Universal Approximator\n",
    "def g_1(x):\n",
    "  # F_x = Pstud._eval_polynome_numpy(F_xpy_real,x[0,0],x[0,1])\n",
    "  N_x = multilayer_perceptron(x)\n",
    "  return N_x\n",
    "\n",
    "\n",
    "# Custom loss function to approximate the derivatives\n",
    "\n",
    "def custom_loss_1():\n",
    "  indices = np.random.randint(tf_coords.shape[0],size=batch_size)\n",
    "  tf_sample_coords = tf.convert_to_tensor([tf_coords[i] for i in indices])\n",
    "\n",
    "  _,dg_dxx,_,dg_dyy = differentiate(g_1,tf_sample_coords)\n",
    "  f_r = tf.reshape(f(tf_sample_coords),[batch_size,1])\n",
    "  res = residual(dg_dxx,dg_dyy,f_r)\n",
    "\n",
    "  loss = tf.reduce_mean(tf.square(res)) + alpha*tf.reduce_mean(tf.square(g_1(tf_boundary_coords)-boundary_conditions(tf_boundary_coords)))\n",
    "  return loss\n",
    "\n",
    "# train of method 1: \n",
    "def train_step_1():\n",
    "  with tf.GradientTape() as tape:\n",
    "    loss = custom_loss_1()\n",
    "  trainable_variables=multilayer_perceptron.trainable_variables\n",
    "  gradients = tape.gradient(loss, trainable_variables)\n",
    "  optimizer.apply_gradients(zip(gradients, trainable_variables))\n",
    "  return loss\n"
   ]
  },
  {
   "cell_type": "code",
   "execution_count": null,
   "metadata": {},
   "outputs": [],
   "source": [
    "# Training the Model of method 1:\n",
    "\n",
    "all_losses = []\n",
    "\n",
    "for i in range(epochs):\n",
    "  print('epoch:',i)\n",
    "  loss = train_step_1()\n",
    "  if i % display_step == display_step-1:\n",
    "    print(\"loss:\", loss)\n",
    "  all_losses.append(loss)\n",
    "\n",
    "plt.plot(np.arange(0,epochs),all_losses)\n",
    "plt.ylabel('loss')\n",
    "plt.xlabel('epoch')\n",
    "plt.show()"
   ]
  },
  {
   "cell_type": "markdown",
   "metadata": {},
   "source": [
    "## Method 2: MBGD with pretraining to respect the boundary condition"
   ]
  },
  {
   "cell_type": "code",
   "execution_count": 14,
   "metadata": {},
   "outputs": [
    {
     "name": "stdout",
     "output_type": "stream",
     "text": [
      "Model: \"sequential_4\"\n",
      "_________________________________________________________________\n",
      " Layer (type)                Output Shape              Param #   \n",
      "=================================================================\n",
      " dense_12 (Dense)            (None, 20)                60        \n",
      "                                                                 \n",
      " dense_13 (Dense)            (None, 20)                420       \n",
      "                                                                 \n",
      " dense_14 (Dense)            (None, 1)                 20        \n",
      "                                                                 \n",
      "=================================================================\n",
      "Total params: 500\n",
      "Trainable params: 500\n",
      "Non-trainable params: 0\n",
      "_________________________________________________________________\n"
     ]
    },
    {
     "name": "stderr",
     "output_type": "stream",
     "text": [
      "c:\\Users\\Gilles\\AppData\\Local\\Programs\\Python\\Python39\\lib\\site-packages\\keras\\optimizer_v2\\adam.py:105: UserWarning: The `lr` argument is deprecated, use `learning_rate` instead.\n",
      "  super(Adam, self).__init__(name, **kwargs)\n"
     ]
    }
   ],
   "source": [
    "# method 2 : pretrain before on the boundary condition and after inside the boundary\n",
    "\n",
    "# a few train parameters to adjust\n",
    "learning_rate = 0.01\n",
    "training_steps_boundary = 30\n",
    "training_steps_global = 20\n",
    "batch_size = 1000\n",
    "display_step_boundary = 10\n",
    "display_step_global = 10\n",
    "\n",
    "alpha=0 # magnify the boundary condition in custom_loss_2()\n",
    "\n",
    "optimizer = tf.optimizers.Adam(lr=learning_rate)\n",
    "\n",
    "# Universal Approximator\n",
    "def g_2(x):\n",
    "  # F_x = Pstud._eval_polynome_numpy(F_xpy_real,x[0,0],x[0,1])\n",
    "  N_x = multilayer_perceptron(x)\n",
    "  return N_x\n",
    "\n",
    "# generate model\n",
    "multilayer_perceptron = generate_model()\n",
    "\n",
    "# Custom loss function to approximate the derivatives\n",
    "def custom_loss_2_boundary():\n",
    "  indices = np.random.randint(tf_boundary_coords.shape[0],size=batch_size)\n",
    "  tf_sample_boundary_coords = tf.convert_to_tensor([tf_boundary_coords[i] for i in indices])\n",
    "\n",
    "  loss = tf.reduce_mean(tf.square(g_2(tf_sample_boundary_coords)-boundary_conditions(tf_sample_boundary_coords)))\n",
    "  # print('loss :', loss)\n",
    "  return loss\n",
    "\n",
    "\n",
    "def custom_loss_2():\n",
    "  indices = np.random.randint(tf_coords.shape[0],size=batch_size)\n",
    "  tf_sample_coords = tf.convert_to_tensor([tf_coords[i] for i in indices])\n",
    "\n",
    "  _,dg_dxx,_,dg_dyy = differentiate(g_2,tf_sample_coords)\n",
    "  f_r = tf.reshape(f(tf_sample_coords),[batch_size,1])\n",
    "  res = residual(dg_dxx,dg_dyy,f_r)\n",
    "\n",
    "  loss = tf.reduce_mean(tf.square(res)) + alpha*tf.reduce_mean(tf.square(g_2(tf_boundary_coords)-boundary_conditions(tf_boundary_coords)))\n",
    "  return loss\n",
    "\n",
    "\n",
    "# train of method 2:\n",
    "def train_step_2_boundary():\n",
    "  with tf.GradientTape() as tape:\n",
    "    loss = custom_loss_2_boundary()\n",
    "  trainable_variables=multilayer_perceptron.trainable_variables\n",
    "  gradients = tape.gradient(loss, trainable_variables)\n",
    "  optimizer.apply_gradients(zip(gradients, trainable_variables))\n",
    "  return loss\n",
    "\n",
    "def train_step_2_inside():\n",
    "  with tf.GradientTape() as tape:\n",
    "    loss = custom_loss_2()\n",
    "  trainable_variables=multilayer_perceptron.trainable_variables\n",
    "  gradients = tape.gradient(loss, trainable_variables)\n",
    "  optimizer.apply_gradients(zip(gradients, trainable_variables))\n",
    "  return loss\n"
   ]
  },
  {
   "cell_type": "code",
   "execution_count": null,
   "metadata": {},
   "outputs": [],
   "source": [
    "# Training the Model of method 2:\n",
    "\n",
    "bound_losses = []\n",
    "b_global_losses=[]\n",
    "global_losses = []\n",
    "for i in range(training_steps_boundary):\n",
    "  print('epoch:',i)\n",
    "  loss = train_step_2_boundary()\n",
    "  if i % display_step_boundary == display_step_boundary-1:\n",
    "    print(\"loss boundary: \", loss)\n",
    "  bound_losses.append(loss)\n",
    "  b_global_losses.append(custom_loss_2())\n",
    "\n",
    "for i in range(training_steps_global):\n",
    "  print('epoch:',i)\n",
    "  loss = train_step_2_inside()\n",
    "  if i % display_step_global == display_step_global-1:\n",
    "        print(\"loss :\", loss)\n",
    "  global_losses.append(loss)\n",
    "\n",
    "\n",
    "\n",
    "plt.figure(1, figsize=(15, 7))\n",
    "\n",
    "plt.subplot(211)\n",
    "plt.plot(np.arange(0,training_steps_boundary),bound_losses, color='blue', label='loss on the boundary')\n",
    "plt.plot(np.arange(0,training_steps_boundary), b_global_losses, color='black', label='global loss during training on the boundary')\n",
    "plt.ylabel('loss')\n",
    "\n",
    "plt.legend()\n",
    "\n",
    "plt.subplot(212)\n",
    "plt.plot(np.arange(0,training_steps_global+training_steps_boundary), b_global_losses+global_losses, color='red', label='global loss during global training')\n",
    "plt.ylabel('loss')\n",
    "plt.legend()\n",
    "plt.show() \n",
    "\n",
    "print('final loss on the boundary:', custom_loss_2_boundary())\n"
   ]
  },
  {
   "cell_type": "markdown",
   "metadata": {},
   "source": [
    "## Method 3: g automatically respects the boundary conditions"
   ]
  },
  {
   "cell_type": "markdown",
   "metadata": {},
   "source": [
    "article : 1997_Artificial_neural_networks_for_solving_ordinary_and_partial_differential_equations.pdf"
   ]
  },
  {
   "cell_type": "markdown",
   "metadata": {},
   "source": [
    "What is the fastest way to differentiate a sympy expr ?\n",
    "\n",
    "- see dynamic_diff.ipynb "
   ]
  },
  {
   "cell_type": "markdown",
   "metadata": {},
   "source": [
    "diff_gradually is better. Should be kept to differentiate F and A.\n",
    "\n",
    "--- done"
   ]
  },
  {
   "cell_type": "markdown",
   "metadata": {},
   "source": [
    "Other libraries than sympy? autograd,..."
   ]
  },
  {
   "cell_type": "markdown",
   "metadata": {},
   "source": [
    "##### TODO: compare different methods according to speed of differentiation\n",
    "\n",
    "--- done in dynamic_diff.ipynb"
   ]
  },
  {
   "cell_type": "markdown",
   "metadata": {},
   "source": [
    "We need to compute :\n",
    "$\\Delta g = \\frac{\\partial^2 g}{\\partial x^2} + \\frac{\\partial^2 g}{\\partial y^2}$\n",
    "\n",
    "Since we set $ g(X) := A(X)+F(X)\\times N(x)$ with $ F_{|\\delta \\Omega} = 0 $ and $ A_{|\\delta \\Omega} = 0 $ to respect the homogeneous Dirichlet boundary condition, and $ N $ estimated by the model.\n",
    "\n",
    "We need to know :\n",
    "\n",
    "$ \\frac{\\partial^2 g}{\\partial x^2} = \\frac{\\partial^2 F}{\\partial x^2}N + 2\\frac{\\partial F}{\\partial x}\\frac{\\partial N}{\\partial x} + F\\frac{\\partial^2 N}{\\partial x^2} + \\frac{\\partial^2 A}{\\partial x^2} $\n",
    "\n",
    "and the same goes for the variable $ y $ "
   ]
  },
  {
   "cell_type": "markdown",
   "metadata": {},
   "source": [
    "#### Dummy F"
   ]
  },
  {
   "cell_type": "code",
   "execution_count": 6,
   "metadata": {},
   "outputs": [],
   "source": [
    "# Set F here\n",
    "\n",
    "import sympy as sm\n",
    "from sympy import Matrix\n",
    "x,y = sm.symbols('x,y')\n",
    "\n",
    "def expr_dummy_F():\n",
    "    return x*(1-x)*y*(1-y)\n",
    "\n",
    "expr_F = expr_dummy_F()\n",
    "dexpr_F_dx = sm.diff(expr_F,x,1)\n",
    "dexpr_F_dxx = sm.diff(dexpr_F_dx,x,1)\n",
    "dexpr_F_dy = sm.diff(expr_F,y,1)\n",
    "dexpr_F_dyy = sm.diff(dexpr_F_dy,y,1)\n",
    "\n",
    "# print(dexpr_F_dx)\n",
    "# print(dexpr_F_dxx)\n",
    "\n",
    "# You can forget a no lambdified expression => here we greatly avoid 'for' loops \n",
    "\n",
    "expr_F = sm.lambdify([x, y], Matrix([expr_F]), 'numpy')\n",
    "dexpr_F_dx = sm.lambdify([x, y], Matrix([dexpr_F_dx]), 'numpy')\n",
    "dexpr_F_dxx = sm.lambdify([x, y], Matrix([dexpr_F_dxx]), 'numpy')\n",
    "dexpr_F_dy = sm.lambdify([x, y], Matrix([dexpr_F_dy]), 'numpy')\n",
    "dexpr_F_dyy = sm.lambdify([x, y], Matrix([dexpr_F_dyy]), 'numpy')\n",
    "\n",
    "\n",
    "def evaluate_F_and_diff(X):\n",
    "    F = tf.squeeze(tf.transpose(expr_F(X[:,0],X[:,1])),axis=-1)\n",
    "    dF_dx = tf.expand_dims(dexpr_F_dx(X[:,0],X[:,1]),axis=-1)\n",
    "    dF_dxx =  tf.expand_dims(dexpr_F_dxx(X[:,0],X[:,1]),axis=-1)\n",
    "    dF_dy = tf.expand_dims(dexpr_F_dy(X[:,0],X[:,1]),axis=-1)\n",
    "    dF_dyy = tf.expand_dims(dexpr_F_dyy(X[:,0],X[:,1]),axis=-1)\n",
    "    \n",
    "    return F,dF_dx,dF_dxx,dF_dy,dF_dyy\n",
    "\n",
    " # oddly enough expr_F and dexpr_F_d... do not have the same output"
   ]
  },
  {
   "cell_type": "markdown",
   "metadata": {},
   "source": [
    "#### F of F_functions"
   ]
  },
  {
   "cell_type": "code",
   "execution_count": 58,
   "metadata": {},
   "outputs": [],
   "source": [
    "import Polynomials.polynome4students_v2 as Pstud\n",
    "from Polynomials.F_functions import F2D\n",
    "import sympy as sm\n",
    "from sympy import Matrix\n",
    "\n",
    "frontier_coords = Pstud._set_coords_rectangle(1,1,10)\n",
    "\n",
    "l_orders = [(1,0),(2,0),(0,1),(0, 2)]\n",
    "strfn = 'sinxpy_real'\n",
    "F = F2D(frontier_coords,strfn,l_orders=l_orders)\n",
    "\n",
    "# prepare to infer on large matrices :\n",
    "F.expr = sm.lambdify(F.variables, Matrix([F.expr]), 'numpy')\n",
    "for t_order in l_orders:\n",
    "    F.reduced_tab_diff[F.dico_order_to_index[t_order]] = sm.lambdify(F.variables, F.reduced_tab_diff[F.dico_order_to_index[t_order]], 'numpy')\n",
    "\n",
    "\n",
    "def evaluate_F_and_diff(X):\n",
    "    '''\n",
    "    evaluate F and its differentiates get in F.reduced_tab_diff\n",
    "    Variables:\n",
    "    -X: an array or tensor tf of the coordinates\n",
    "\n",
    "    Returns:\n",
    "    -l_eval: list of the evaluations. To know which element corresponds to which order, use F.dico_order_to_index and increment the values of 1.\n",
    "\n",
    "    remark: to add to F2D class \n",
    "    '''\n",
    "    l_eval = [tf.squeeze(tf.transpose(F.expr(X[:,0],X[:,1])),axis=-1)]\n",
    "    \n",
    "    for i,t_order in enumerate(F.reduced_tab_diff):\n",
    "        l_eval.append(tf.expand_dims(F.reduced_tab_diff[i](X[:,0],X[:,1]),axis=-1))\n",
    "    \n",
    "    return l_eval\n",
    "\n",
    "# remark : you can assign like this : a,b,c = [0,1,2]"
   ]
  },
  {
   "cell_type": "code",
   "execution_count": 7,
   "metadata": {},
   "outputs": [],
   "source": [
    "# Set A here\n",
    "\n",
    "A = 0\n",
    "dA_dxx = 0\n",
    "dA_dyy= 0"
   ]
  },
  {
   "cell_type": "code",
   "execution_count": 13,
   "metadata": {},
   "outputs": [
    {
     "name": "stdout",
     "output_type": "stream",
     "text": [
      "{'l_units': [10, 15, 25, 10], 'noise': False, 'learning_rate': 0.001, 'optimizer': <keras.optimizers.optimizer_v2.adam.Adam object at 0x0000022EFF643280>}\n",
      "Model: \"sequential_2\"\n",
      "_________________________________________________________________\n",
      " Layer (type)                Output Shape              Param #   \n",
      "=================================================================\n",
      " dense_10 (Dense)            (None, 10)                30        \n",
      "                                                                 \n",
      " dense_11 (Dense)            (None, 15)                165       \n",
      "                                                                 \n",
      " dense_12 (Dense)            (None, 25)                400       \n",
      "                                                                 \n",
      " dense_13 (Dense)            (None, 10)                260       \n",
      "                                                                 \n",
      " dense_14 (Dense)            (None, 1)                 10        \n",
      "                                                                 \n",
      "=================================================================\n",
      "Total params: 865\n",
      "Trainable params: 865\n",
      "Non-trainable params: 0\n",
      "_________________________________________________________________\n"
     ]
    }
   ],
   "source": [
    "# method 1: mini-batch gradient descent + (loss = MSE + MSE on all boundary) \n",
    "\n",
    "# a few train parameters to adjust\n",
    "# use learning_rate = 1e-2, batch_size = 1000 for dummy F\n",
    "\n",
    "config_model = {\n",
    "  'l_units' : [10,15,25,10],\n",
    "  'noise' : False,\n",
    "  'learning_rate': 1e-3,\n",
    "  'optimizer': tf.optimizers.Adam(lr=1e-3)\n",
    "}\n",
    "\n",
    "l_units = config_model['l_units']\n",
    "noise = config_model['noise']\n",
    "learning_rate = config_model['learning_rate']\n",
    "optimizer = config_model['optimizer']\n",
    "\n",
    "learning_rate = config_model['learning_rate']\n",
    "\n",
    "print(config_model)\n",
    "\n",
    "# generate model\n",
    "multilayer_perceptron = generate_model(l_units,noise=noise)\n",
    "\n",
    "\n",
    "# Universal Approximator\n",
    "# @tf.function\n",
    "def g_3(X,training=True):\n",
    "  # F_x = Pstud._eval_polynome_numpy(F_xpy_real,x[0,0],x[0,1])\n",
    "  N_X = multilayer_perceptron(X,training=training)\n",
    "  return tf.squeeze(tf.transpose(expr_F(X[:,0],X[:,1])),axis=-1)*N_X\n",
    "\n",
    "\n",
    "# Custom loss function to approximate the derivatives\n",
    "\n",
    "def custom_loss_3(tf_sample_coords):\n",
    "  dN_dx,dN_dxx,dN_dy,dN_dyy = differentiate(multilayer_perceptron,tf_sample_coords)\n",
    "  f_r = tf.reshape(f(tf_sample_coords),[batch_size,1])\n",
    "\n",
    "  F,dF_dx,dF_dxx,dF_dy,dF_dyy = evaluate_F_and_diff(tf_sample_coords)\n",
    "\n",
    "  dg_dxx = dF_dxx + 2*dF_dx*dN_dx + F*dN_dxx + dA_dxx\n",
    "  dg_dyy = dF_dyy + 2*dF_dy*dN_dy + F*dN_dyy + dA_dyy\n",
    "  res = residual(dg_dxx,dg_dyy,f_r)\n",
    "\n",
    "  loss = tf.reduce_mean(tf.square(res))\n",
    "  return loss\n",
    "\n",
    "# train of method 1: \n",
    "def train_step_3(tf_sample_coords):\n",
    "  with tf.GradientTape() as tape:\n",
    "    loss = custom_loss_3(tf_sample_coords)\n",
    "  trainable_variables=multilayer_perceptron.trainable_variables\n",
    "  gradients = tape.gradient(loss, trainable_variables)\n",
    "  optimizer.apply_gradients(zip(gradients, trainable_variables))\n",
    "  return loss\n",
    "\n",
    "mae_metric = tf.keras.metrics.MeanAbsoluteError(name=\"mean_absolute_error\", dtype=None)\n",
    "\n",
    "\n",
    "def validate(validation_coords):\n",
    "    _, dg_dxx, _, dg_dyy = differentiate(g_3, validation_coords)\n",
    "    f_r = tf.reshape(f(validation_coords), [tf.shape(validation_coords)[0], 1])\n",
    "    res = residual(dg_dxx, dg_dyy, f_r)\n",
    "    val_mae = mae_metric(res, tf.zeros(tf.shape(res))).numpy()\n",
    "    return val_mae"
   ]
  },
  {
   "cell_type": "code",
   "execution_count": 16,
   "metadata": {},
   "outputs": [
    {
     "name": "stdout",
     "output_type": "stream",
     "text": [
      "epoch: 1 ........................."
     ]
    },
    {
     "ename": "KeyboardInterrupt",
     "evalue": "",
     "output_type": "error",
     "traceback": [
      "\u001b[1;31m---------------------------------------------------------------------------\u001b[0m",
      "\u001b[1;31mKeyboardInterrupt\u001b[0m                         Traceback (most recent call last)",
      "\u001b[1;32mc:\\Users\\jtros\\CS\\cours\\PoleProjet\\FormationRecherche\\Tsunami\\TP\\sceance4\\Tsunami\\differentiate\\NN_test_function_A_F.ipynb Cell 30'\u001b[0m in \u001b[0;36m<cell line: 36>\u001b[1;34m()\u001b[0m\n\u001b[0;32m     <a href='vscode-notebook-cell:/c%3A/Users/jtros/CS/cours/PoleProjet/FormationRecherche/Tsunami/TP/sceance4/Tsunami/differentiate/NN_test_function_A_F.ipynb#ch0000029?line=42'>43</a>\u001b[0m     \u001b[39mif\u001b[39;00m \u001b[39mnot\u001b[39;00m(k\u001b[39m%\u001b[39mdisplay_step):\n\u001b[0;32m     <a href='vscode-notebook-cell:/c%3A/Users/jtros/CS/cours/PoleProjet/FormationRecherche/Tsunami/TP/sceance4/Tsunami/differentiate/NN_test_function_A_F.ipynb#ch0000029?line=43'>44</a>\u001b[0m         \u001b[39mprint\u001b[39m(\u001b[39m'\u001b[39m\u001b[39m.\u001b[39m\u001b[39m'\u001b[39m,end\u001b[39m=\u001b[39m\u001b[39m'\u001b[39m\u001b[39m'\u001b[39m)\n\u001b[1;32m---> <a href='vscode-notebook-cell:/c%3A/Users/jtros/CS/cours/PoleProjet/FormationRecherche/Tsunami/TP/sceance4/Tsunami/differentiate/NN_test_function_A_F.ipynb#ch0000029?line=44'>45</a>\u001b[0m     losses\u001b[39m.\u001b[39mappend(train_step_3(tf_sample_coords))\n\u001b[0;32m     <a href='vscode-notebook-cell:/c%3A/Users/jtros/CS/cours/PoleProjet/FormationRecherche/Tsunami/TP/sceance4/Tsunami/differentiate/NN_test_function_A_F.ipynb#ch0000029?line=45'>46</a>\u001b[0m loss \u001b[39m=\u001b[39m np\u001b[39m.\u001b[39mmean(losses)\n\u001b[0;32m     <a href='vscode-notebook-cell:/c%3A/Users/jtros/CS/cours/PoleProjet/FormationRecherche/Tsunami/TP/sceance4/Tsunami/differentiate/NN_test_function_A_F.ipynb#ch0000029?line=47'>48</a>\u001b[0m indices \u001b[39m=\u001b[39m np\u001b[39m.\u001b[39mrandom\u001b[39m.\u001b[39mrandint(tf_coords\u001b[39m.\u001b[39mshape[\u001b[39m0\u001b[39m], size\u001b[39m=\u001b[39m\u001b[39m100\u001b[39m)\n",
      "\u001b[1;32mc:\\Users\\jtros\\CS\\cours\\PoleProjet\\FormationRecherche\\Tsunami\\TP\\sceance4\\Tsunami\\differentiate\\NN_test_function_A_F.ipynb Cell 29'\u001b[0m in \u001b[0;36mtrain_step_3\u001b[1;34m(tf_sample_coords)\u001b[0m\n\u001b[0;32m     <a href='vscode-notebook-cell:/c%3A/Users/jtros/CS/cours/PoleProjet/FormationRecherche/Tsunami/TP/sceance4/Tsunami/differentiate/NN_test_function_A_F.ipynb#ch0000028?line=49'>50</a>\u001b[0m \u001b[39mdef\u001b[39;00m \u001b[39mtrain_step_3\u001b[39m(tf_sample_coords):\n\u001b[0;32m     <a href='vscode-notebook-cell:/c%3A/Users/jtros/CS/cours/PoleProjet/FormationRecherche/Tsunami/TP/sceance4/Tsunami/differentiate/NN_test_function_A_F.ipynb#ch0000028?line=50'>51</a>\u001b[0m   \u001b[39mwith\u001b[39;00m tf\u001b[39m.\u001b[39mGradientTape() \u001b[39mas\u001b[39;00m tape:\n\u001b[1;32m---> <a href='vscode-notebook-cell:/c%3A/Users/jtros/CS/cours/PoleProjet/FormationRecherche/Tsunami/TP/sceance4/Tsunami/differentiate/NN_test_function_A_F.ipynb#ch0000028?line=51'>52</a>\u001b[0m     loss \u001b[39m=\u001b[39m custom_loss_3(tf_sample_coords)\n\u001b[0;32m     <a href='vscode-notebook-cell:/c%3A/Users/jtros/CS/cours/PoleProjet/FormationRecherche/Tsunami/TP/sceance4/Tsunami/differentiate/NN_test_function_A_F.ipynb#ch0000028?line=52'>53</a>\u001b[0m   trainable_variables\u001b[39m=\u001b[39mmultilayer_perceptron\u001b[39m.\u001b[39mtrainable_variables\n\u001b[0;32m     <a href='vscode-notebook-cell:/c%3A/Users/jtros/CS/cours/PoleProjet/FormationRecherche/Tsunami/TP/sceance4/Tsunami/differentiate/NN_test_function_A_F.ipynb#ch0000028?line=53'>54</a>\u001b[0m   gradients \u001b[39m=\u001b[39m tape\u001b[39m.\u001b[39mgradient(loss, trainable_variables)\n",
      "\u001b[1;32mc:\\Users\\jtros\\CS\\cours\\PoleProjet\\FormationRecherche\\Tsunami\\TP\\sceance4\\Tsunami\\differentiate\\NN_test_function_A_F.ipynb Cell 29'\u001b[0m in \u001b[0;36mcustom_loss_3\u001b[1;34m(tf_sample_coords)\u001b[0m\n\u001b[0;32m     <a href='vscode-notebook-cell:/c%3A/Users/jtros/CS/cours/PoleProjet/FormationRecherche/Tsunami/TP/sceance4/Tsunami/differentiate/NN_test_function_A_F.ipynb#ch0000028?line=36'>37</a>\u001b[0m dN_dx,dN_dxx,dN_dy,dN_dyy \u001b[39m=\u001b[39m differentiate(multilayer_perceptron,tf_sample_coords)\n\u001b[0;32m     <a href='vscode-notebook-cell:/c%3A/Users/jtros/CS/cours/PoleProjet/FormationRecherche/Tsunami/TP/sceance4/Tsunami/differentiate/NN_test_function_A_F.ipynb#ch0000028?line=37'>38</a>\u001b[0m f_r \u001b[39m=\u001b[39m tf\u001b[39m.\u001b[39mreshape(f(tf_sample_coords),[batch_size,\u001b[39m1\u001b[39m])\n\u001b[1;32m---> <a href='vscode-notebook-cell:/c%3A/Users/jtros/CS/cours/PoleProjet/FormationRecherche/Tsunami/TP/sceance4/Tsunami/differentiate/NN_test_function_A_F.ipynb#ch0000028?line=39'>40</a>\u001b[0m F,dF_dx,dF_dxx,dF_dy,dF_dyy \u001b[39m=\u001b[39m evaluate_F_and_diff(tf_sample_coords)\n\u001b[0;32m     <a href='vscode-notebook-cell:/c%3A/Users/jtros/CS/cours/PoleProjet/FormationRecherche/Tsunami/TP/sceance4/Tsunami/differentiate/NN_test_function_A_F.ipynb#ch0000028?line=41'>42</a>\u001b[0m dg_dxx \u001b[39m=\u001b[39m dF_dxx \u001b[39m+\u001b[39m \u001b[39m2\u001b[39m\u001b[39m*\u001b[39mdF_dx\u001b[39m*\u001b[39mdN_dx \u001b[39m+\u001b[39m F\u001b[39m*\u001b[39mdN_dxx \u001b[39m+\u001b[39m dA_dxx\n\u001b[0;32m     <a href='vscode-notebook-cell:/c%3A/Users/jtros/CS/cours/PoleProjet/FormationRecherche/Tsunami/TP/sceance4/Tsunami/differentiate/NN_test_function_A_F.ipynb#ch0000028?line=42'>43</a>\u001b[0m dg_dyy \u001b[39m=\u001b[39m dF_dyy \u001b[39m+\u001b[39m \u001b[39m2\u001b[39m\u001b[39m*\u001b[39mdF_dy\u001b[39m*\u001b[39mdN_dy \u001b[39m+\u001b[39m F\u001b[39m*\u001b[39mdN_dyy \u001b[39m+\u001b[39m dA_dyy\n",
      "\u001b[1;32mc:\\Users\\jtros\\CS\\cours\\PoleProjet\\FormationRecherche\\Tsunami\\TP\\sceance4\\Tsunami\\differentiate\\NN_test_function_A_F.ipynb Cell 25'\u001b[0m in \u001b[0;36mevaluate_F_and_diff\u001b[1;34m(X)\u001b[0m\n\u001b[0;32m     <a href='vscode-notebook-cell:/c%3A/Users/jtros/CS/cours/PoleProjet/FormationRecherche/Tsunami/TP/sceance4/Tsunami/differentiate/NN_test_function_A_F.ipynb#ch0000024?line=29'>30</a>\u001b[0m dF_dx \u001b[39m=\u001b[39m tf\u001b[39m.\u001b[39mexpand_dims(dexpr_F_dx(X[:,\u001b[39m0\u001b[39m],X[:,\u001b[39m1\u001b[39m]),axis\u001b[39m=\u001b[39m\u001b[39m-\u001b[39m\u001b[39m1\u001b[39m)\n\u001b[0;32m     <a href='vscode-notebook-cell:/c%3A/Users/jtros/CS/cours/PoleProjet/FormationRecherche/Tsunami/TP/sceance4/Tsunami/differentiate/NN_test_function_A_F.ipynb#ch0000024?line=30'>31</a>\u001b[0m dF_dxx \u001b[39m=\u001b[39m  tf\u001b[39m.\u001b[39mexpand_dims(dexpr_F_dxx(X[:,\u001b[39m0\u001b[39m],X[:,\u001b[39m1\u001b[39m]),axis\u001b[39m=\u001b[39m\u001b[39m-\u001b[39m\u001b[39m1\u001b[39m)\n\u001b[1;32m---> <a href='vscode-notebook-cell:/c%3A/Users/jtros/CS/cours/PoleProjet/FormationRecherche/Tsunami/TP/sceance4/Tsunami/differentiate/NN_test_function_A_F.ipynb#ch0000024?line=31'>32</a>\u001b[0m dF_dy \u001b[39m=\u001b[39m tf\u001b[39m.\u001b[39mexpand_dims(dexpr_F_dy(X[:,\u001b[39m0\u001b[39m],X[:,\u001b[39m1\u001b[39;49m]),axis\u001b[39m=\u001b[39m\u001b[39m-\u001b[39m\u001b[39m1\u001b[39m)\n\u001b[0;32m     <a href='vscode-notebook-cell:/c%3A/Users/jtros/CS/cours/PoleProjet/FormationRecherche/Tsunami/TP/sceance4/Tsunami/differentiate/NN_test_function_A_F.ipynb#ch0000024?line=32'>33</a>\u001b[0m dF_dyy \u001b[39m=\u001b[39m tf\u001b[39m.\u001b[39mexpand_dims(dexpr_F_dyy(X[:,\u001b[39m0\u001b[39m],X[:,\u001b[39m1\u001b[39m]),axis\u001b[39m=\u001b[39m\u001b[39m-\u001b[39m\u001b[39m1\u001b[39m)\n\u001b[0;32m     <a href='vscode-notebook-cell:/c%3A/Users/jtros/CS/cours/PoleProjet/FormationRecherche/Tsunami/TP/sceance4/Tsunami/differentiate/NN_test_function_A_F.ipynb#ch0000024?line=34'>35</a>\u001b[0m \u001b[39mreturn\u001b[39;00m F,dF_dx,dF_dxx,dF_dy,dF_dyy\n",
      "File \u001b[1;32mc:\\Users\\jtros\\CS\\cours\\PoleProjet\\FormationRecherche\\Tsunami\\TP\\sceance4\\Tsunami\\venv_tsunami\\lib\\site-packages\\tensorflow\\python\\util\\traceback_utils.py:150\u001b[0m, in \u001b[0;36mfilter_traceback.<locals>.error_handler\u001b[1;34m(*args, **kwargs)\u001b[0m\n\u001b[0;32m    <a href='file:///c%3A/Users/jtros/CS/cours/PoleProjet/FormationRecherche/Tsunami/TP/sceance4/Tsunami/venv_tsunami/lib/site-packages/tensorflow/python/util/traceback_utils.py?line=147'>148</a>\u001b[0m filtered_tb \u001b[39m=\u001b[39m \u001b[39mNone\u001b[39;00m\n\u001b[0;32m    <a href='file:///c%3A/Users/jtros/CS/cours/PoleProjet/FormationRecherche/Tsunami/TP/sceance4/Tsunami/venv_tsunami/lib/site-packages/tensorflow/python/util/traceback_utils.py?line=148'>149</a>\u001b[0m \u001b[39mtry\u001b[39;00m:\n\u001b[1;32m--> <a href='file:///c%3A/Users/jtros/CS/cours/PoleProjet/FormationRecherche/Tsunami/TP/sceance4/Tsunami/venv_tsunami/lib/site-packages/tensorflow/python/util/traceback_utils.py?line=149'>150</a>\u001b[0m   \u001b[39mreturn\u001b[39;00m fn(\u001b[39m*\u001b[39margs, \u001b[39m*\u001b[39m\u001b[39m*\u001b[39mkwargs)\n\u001b[0;32m    <a href='file:///c%3A/Users/jtros/CS/cours/PoleProjet/FormationRecherche/Tsunami/TP/sceance4/Tsunami/venv_tsunami/lib/site-packages/tensorflow/python/util/traceback_utils.py?line=150'>151</a>\u001b[0m \u001b[39mexcept\u001b[39;00m \u001b[39mException\u001b[39;00m \u001b[39mas\u001b[39;00m e:\n\u001b[0;32m    <a href='file:///c%3A/Users/jtros/CS/cours/PoleProjet/FormationRecherche/Tsunami/TP/sceance4/Tsunami/venv_tsunami/lib/site-packages/tensorflow/python/util/traceback_utils.py?line=151'>152</a>\u001b[0m   filtered_tb \u001b[39m=\u001b[39m _process_traceback_frames(e\u001b[39m.\u001b[39m__traceback__)\n",
      "File \u001b[1;32mc:\\Users\\jtros\\CS\\cours\\PoleProjet\\FormationRecherche\\Tsunami\\TP\\sceance4\\Tsunami\\venv_tsunami\\lib\\site-packages\\tensorflow\\python\\util\\dispatch.py:1082\u001b[0m, in \u001b[0;36madd_dispatch_support.<locals>.decorator.<locals>.op_dispatch_handler\u001b[1;34m(*args, **kwargs)\u001b[0m\n\u001b[0;32m   <a href='file:///c%3A/Users/jtros/CS/cours/PoleProjet/FormationRecherche/Tsunami/TP/sceance4/Tsunami/venv_tsunami/lib/site-packages/tensorflow/python/util/dispatch.py?line=1079'>1080</a>\u001b[0m \u001b[39m# Fallback dispatch system (dispatch v1):\u001b[39;00m\n\u001b[0;32m   <a href='file:///c%3A/Users/jtros/CS/cours/PoleProjet/FormationRecherche/Tsunami/TP/sceance4/Tsunami/venv_tsunami/lib/site-packages/tensorflow/python/util/dispatch.py?line=1080'>1081</a>\u001b[0m \u001b[39mtry\u001b[39;00m:\n\u001b[1;32m-> <a href='file:///c%3A/Users/jtros/CS/cours/PoleProjet/FormationRecherche/Tsunami/TP/sceance4/Tsunami/venv_tsunami/lib/site-packages/tensorflow/python/util/dispatch.py?line=1081'>1082</a>\u001b[0m   \u001b[39mreturn\u001b[39;00m dispatch_target(\u001b[39m*\u001b[39margs, \u001b[39m*\u001b[39m\u001b[39m*\u001b[39mkwargs)\n\u001b[0;32m   <a href='file:///c%3A/Users/jtros/CS/cours/PoleProjet/FormationRecherche/Tsunami/TP/sceance4/Tsunami/venv_tsunami/lib/site-packages/tensorflow/python/util/dispatch.py?line=1082'>1083</a>\u001b[0m \u001b[39mexcept\u001b[39;00m (\u001b[39mTypeError\u001b[39;00m, \u001b[39mValueError\u001b[39;00m):\n\u001b[0;32m   <a href='file:///c%3A/Users/jtros/CS/cours/PoleProjet/FormationRecherche/Tsunami/TP/sceance4/Tsunami/venv_tsunami/lib/site-packages/tensorflow/python/util/dispatch.py?line=1083'>1084</a>\u001b[0m   \u001b[39m# Note: convert_to_eager_tensor currently raises a ValueError, not a\u001b[39;00m\n\u001b[0;32m   <a href='file:///c%3A/Users/jtros/CS/cours/PoleProjet/FormationRecherche/Tsunami/TP/sceance4/Tsunami/venv_tsunami/lib/site-packages/tensorflow/python/util/dispatch.py?line=1084'>1085</a>\u001b[0m   \u001b[39m# TypeError, when given unexpected types.  So we need to catch both.\u001b[39;00m\n\u001b[0;32m   <a href='file:///c%3A/Users/jtros/CS/cours/PoleProjet/FormationRecherche/Tsunami/TP/sceance4/Tsunami/venv_tsunami/lib/site-packages/tensorflow/python/util/dispatch.py?line=1085'>1086</a>\u001b[0m   result \u001b[39m=\u001b[39m dispatch(op_dispatch_handler, args, kwargs)\n",
      "\u001b[1;31mKeyboardInterrupt\u001b[0m: "
     ]
    }
   ],
   "source": [
    "# Training the Model of method 3:\n",
    "\n",
    "config_training = {\n",
    "    'epochs' : 200,\n",
    "    'n_trains' : 1000,\n",
    "    'batch_size' : 10000,\n",
    "    'display_step' : 10,\n",
    "    'tol' : 1e-6,\n",
    "    'patience' : 50,\n",
    "    'folder_dir' : 'differentiate/savings/', # where the model will be saved, format like 'folder/my_savings/'\n",
    "}\n",
    "\n",
    "\n",
    "\n",
    "epochs = config_training['epochs']\n",
    "n_trains = config_training['n_trains']\n",
    "batch_size = config_training['batch_size']\n",
    "display_step = config_training['display_step']\n",
    "tol = config_training['tol']\n",
    "patience = config_training['patience']\n",
    "folder_dir = 'differentiate/savings/'\n",
    "\n",
    "# TODO: learn how to use Yaml instead...\n",
    "with open(folder_dir+'config_training.json', 'w') as fp:\n",
    "    json.dump(config_training, fp, indent=4)\n",
    "\n",
    "\n",
    "history={'loss':[], 'val_mae':[]}\n",
    "\n",
    "i = 0\n",
    "val_mae = np.infty\n",
    "EarlyStopping = False\n",
    "val_mae_reached = (val_mae<=tol)\n",
    "\n",
    "# tf.keras.backend.set_learning_phase(1) # 'globally' activate training mode, slightly too strong maybe : check training mode for GaussianNoise layer\n",
    "while not(EarlyStopping) and not(val_mae_reached) and i<epochs:\n",
    "    i+=1\n",
    "    print('epoch:',i, end=' ')\n",
    "    losses = []\n",
    "    indices = np.random.randint(tf_coords.shape[0],size=batch_size)\n",
    "    tf_sample_coords = tf.convert_to_tensor([tf_coords[i] for i in indices])\n",
    "    for k in range(n_trains):\n",
    "        if not(k%display_step):\n",
    "            print('.',end='')\n",
    "        losses.append(train_step_3(tf_sample_coords))\n",
    "    loss = np.mean(losses)\n",
    "\n",
    "    indices = np.random.randint(tf_coords.shape[0], size=100)\n",
    "    tf_val_coords = tf.convert_to_tensor([tf_coords[i] for i in indices])\n",
    "    tf_val_coords = tf_val_coords + tf.random.normal(shape=tf.shape(tf_val_coords).numpy(), mean=0, stddev=1)\n",
    "    val_mae = validate(tf_val_coords)\n",
    "    \n",
    "    print(\"loss:\", loss, end=' ')\n",
    "    print('val_mae:', val_mae, end=' ')\n",
    "    history['loss'].append(loss)\n",
    "    history['val_mae'].append(val_mae)\n",
    "    print()\n",
    "\n",
    "    val_mae_reached = (val_mae<=tol)\n",
    "\n",
    "    if val_mae_reached:\n",
    "        print(f'\\n tolerance set is reached : {val_mae}<={tol}')\n",
    "    \n",
    "\n",
    "    multilayer_perceptron.save(folder_dir+f'model_poisson_epoch_{i}_val_mae_{val_mae:6f}.h5')\n",
    "\n",
    "    if (len(history['val_mae'])>=patience+1) and np.argmin(history['val_mae'][-(patience+1):])==0:\n",
    "        print('\\n EarlyStopping activated')\n",
    "        EarlyStopping = True\n",
    "        min_val_mae_epoch = i-(patience+1)\n",
    "        min_val_mae = history['val_mae'][-(patience+1)]\n",
    "        multilayer_perceptron = keras.models.load_model(folder_dir+f'model_poisson_epoch_{min_val_mae_epoch}_val_mae_{min_val_mae:6f}.h5')\n",
    "    elif (len(history['val_mae'])>=patience+1): \n",
    "        # clean the savings folder\n",
    "        r_val_mae_epoch = i-(patience+1)\n",
    "        r_val_mae = history['val_mae'][-(patience+1)]\n",
    "        file_path = __file__ +'/'+folder_dir+f'model_poisson_epoch_{r_val_mae_epoch}_val_mae_{r_val_mae:6f}.h5'\n",
    "        \n",
    "        if os.path.exists(file_path):\n",
    "            os.remove(file_path)\n",
    "        else:\n",
    "            print(\"The system cannot find the file specified\")\n",
    "\n",
    "# tf.keras.backend.set_learning_phase(0) # 'globally' disable training mode\n",
    "val_mae>tol\n",
    "\n",
    "plt.plot(np.arange(0,i),history['loss'],label='loss')\n",
    "plt.plot(np.arange(0,i),history['val_mae'],label='val_mae')\n",
    "# plt.ylabel('loss')\n",
    "plt.xlabel('epoch')\n",
    "plt.title(f'epochs = {epochs},n_trains={n_trains},batch_size={batch_size}')\n",
    "plt.legend()\n",
    "plt.show()"
   ]
  },
  {
   "cell_type": "code",
   "execution_count": 32,
   "metadata": {},
   "outputs": [
    {
     "data": {
      "image/png": "[encoded data removed]",
      "text/plain": [
       "<Figure size 432x288 with 1 Axes>"
      ]
     },
     "metadata": {
      "needs_background": "light"
     },
     "output_type": "display_data"
    },
    {
     "name": "stdout",
     "output_type": "stream",
     "text": [
      "0.68064004\n"
     ]
    }
   ],
   "source": [
    "plt.plot(list(range(0,len(history['val_mae']))),history['val_mae'])\n",
    "plt.show()\n",
    "\n",
    "print(np.min(history['val_mae']))"
   ]
  },
  {
   "cell_type": "markdown",
   "metadata": {},
   "source": [
    "Does not learn with F = F2D(..., 'sinxpy_real') or 'xpy_real' \n",
    "- take a look at dF_dx and so on\n",
    "- ... at the hyperparameters \n",
    "- "
   ]
  },
  {
   "cell_type": "markdown",
   "metadata": {},
   "source": [
    "## Compare to the true solution"
   ]
  },
  {
   "cell_type": "markdown",
   "metadata": {},
   "source": [
    "Common to all the methods"
   ]
  },
  {
   "cell_type": "code",
   "execution_count": 33,
   "metadata": {},
   "outputs": [],
   "source": [
    "from matplotlib import cm"
   ]
  },
  {
   "cell_type": "code",
   "execution_count": 39,
   "metadata": {},
   "outputs": [
    {
     "name": "stdout",
     "output_type": "stream",
     "text": [
      "np.max(error): 0.24891071\n"
     ]
    },
    {
     "data": {
      "image/png": "[encoded data removed]",
      "text/plain": [
       "<Figure size 1080x864 with 5 Axes>"
      ]
     },
     "metadata": {
      "needs_background": "light"
     },
     "output_type": "display_data"
    }
   ],
   "source": [
    "def true_function(X):\n",
    "    return tf.sin(np.pi*X[:,0])*tf.sin(np.pi*X[:,1])/(2*np.pi**2)\n",
    "\n",
    "# to check that the model is not overfitting\n",
    "# Rk: may blur the cmapping then\n",
    "noise = (tf.random.uniform((grid_length**2,2))-0.5)/grid_length\n",
    "\n",
    "tf_noisy_coords = tf_coords+noise\n",
    "true_values = tf.reshape(true_function(tf_noisy_coords),[100,100]).numpy()\n",
    "appro_values = tf.reshape(g_3(tf_noisy_coords,training=False),[100,100]).numpy()            \n",
    "# change g according to the method applied\n",
    "# no @tf.function above g_3...\n",
    "error = np.abs(true_values-appro_values)\n",
    "\n",
    "\n",
    "\n",
    "print('np.max(error):',np.max(error))\n",
    "#print(error.shape)\n",
    "\n",
    "combined_data = [error, appro_values, true_values]\n",
    "_min,_max = np.min(combined_data), np.max(combined_data)\n",
    "\n",
    "\n",
    "fig, axes = plt.subplots(nrows=2, ncols=2, figsize=(15,12))\n",
    "\n",
    "seismic = cm.get_cmap('seismic', 1024)\n",
    "\n",
    "plt.subplot(221)\n",
    "plt.pcolormesh(error, cmap = seismic,vmin=_min,vmax=_max)\n",
    "plt.title('Graph of the error')\n",
    "\n",
    "ax = axes.flat[1]\n",
    "ax.set_axis_off()\n",
    "\n",
    "plt.subplot(223)\n",
    "plt.pcolormesh(appro_values, cmap = seismic,vmin=_min,vmax=_max)\n",
    "plt.title('Graph of the estimated values')\n",
    "\n",
    "plt.subplot(224)\n",
    "im = plt.pcolormesh(true_values, cmap = seismic, vmin=_min,vmax=_max)\n",
    "plt.title('Graph of the true values')\n",
    "\n",
    "cbar = fig.colorbar(im, ax=axes.ravel().tolist(), shrink=0.95)\n",
    "\n",
    "cbar.set_ticks(np.arange(_min,_max+1e-10, 0.5e-2))"
   ]
  },
  {
   "cell_type": "markdown",
   "metadata": {},
   "source": [
    "Les valeurs sont très petites aux bords. L'écart avec les conditions aux frontières doit être négligé. "
   ]
  },
  {
   "cell_type": "markdown",
   "metadata": {},
   "source": [
    "## Save the model"
   ]
  },
  {
   "cell_type": "code",
   "execution_count": 27,
   "metadata": {},
   "outputs": [
    {
     "name": "stdout",
     "output_type": "stream",
     "text": [
      "WARNING:tensorflow:Compiled the loaded model, but the compiled metrics have yet to be built. `model.compile_metrics` will be empty until you train or evaluate the model.\n"
     ]
    }
   ],
   "source": [
    "multilayer_perceptron.save('differentiate/savings/model_poisson_val_mae.h5')"
   ]
  },
  {
   "cell_type": "markdown",
   "metadata": {},
   "source": [
    "## Load the model"
   ]
  },
  {
   "cell_type": "code",
   "execution_count": 41,
   "metadata": {},
   "outputs": [
    {
     "name": "stdout",
     "output_type": "stream",
     "text": [
      "WARNING:tensorflow:No training configuration found in the save file, so the model was *not* compiled. Compile it manually.\n"
     ]
    }
   ],
   "source": [
    "multilayer_perceptron = keras.models.load_model('differentiate/savings/model_poisson_val_mae.h5')"
   ]
  },
  {
   "cell_type": "markdown",
   "metadata": {},
   "source": [
    "# Questions "
   ]
  },
  {
   "cell_type": "markdown",
   "metadata": {},
   "source": [
    "Quelle architecture ? \n",
    "\n",
    "Comment éviter l'overfitting ?\n",
    "\n",
    "Comment exploiter les avantages de l'IA ?\n",
    "\n",
    "Choix de l'optimizer + regularizer ? + Implémentation ?\n",
    "\n",
    "Implémentation de système d'EDP à plusieurs inconnues (étant des fonctions bien sûr) ? (Est-ce que c'est utile ça ? Par curiosité)\n",
    "\n",
    "Plus rapide ? Comment enlever les boucles `for` ? => mini_batch_gradient_descent ? done\n",
    "\n",
    "Besoin de batch_normalization ? + autres hyperparamètres ?"
   ]
  },
  {
   "cell_type": "markdown",
   "metadata": {},
   "source": [
    "# Idées"
   ]
  },
  {
   "cell_type": "markdown",
   "metadata": {},
   "source": [
    "Ajout de bruit en entrée contre l'overfitting \n",
    "\n",
    "Une sortie par inconnue"
   ]
  }
 ],
 "metadata": {
  "interpreter": {
   "hash": "ed45ddf3773bc83c4383a1a855f930bc53f0b7f7e989df0f3182f9bb62c1b41f"
  },
  "kernelspec": {
   "display_name": "Python 3.9.12 ('venv_tsunami': venv)",
   "language": "python",
   "name": "python3"
  },
  "language_info": {
   "codemirror_mode": {
    "name": "ipython",
    "version": 3
   },
   "file_extension": ".py",
   "mimetype": "text/x-python",
   "name": "python",
   "nbconvert_exporter": "python",
   "pygments_lexer": "ipython3",
   "version": "3.9.12"
  },
  "orig_nbformat": 4
 },
 "nbformat": 4,
 "nbformat_minor": 2
}
