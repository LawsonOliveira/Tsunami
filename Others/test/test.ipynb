{
 "cells": [
  {
   "cell_type": "code",
   "execution_count": 2,
   "metadata": {},
   "outputs": [],
   "source": [
    "import tensorflow as tf\n",
    "import sympy as sm\n",
    "import numpy as np\n",
    "import keras\n",
    "import matplotlib.pyplot as plt"
   ]
  },
  {
   "cell_type": "code",
   "execution_count": 6,
   "metadata": {},
   "outputs": [
    {
     "name": "stdout",
     "output_type": "stream",
     "text": [
      "tf.Tensor(\n",
      "[[ 1.  4.]\n",
      " [ 9. 16.]], shape=(2, 2), dtype=float32)\n",
      "tf.Tensor(\n",
      "[[[2. 0.]\n",
      "  [0. 4.]]\n",
      "\n",
      " [[6. 0.]\n",
      "  [0. 8.]]], shape=(2, 2, 2), dtype=float32)\n"
     ]
    }
   ],
   "source": [
    "with tf.GradientTape() as g:\n",
    "  x = tf.constant([[1., 2.], [3., 4.]], dtype=tf.float32)\n",
    "  g.watch(x)\n",
    "  y = x * x\n",
    "  print(y)\n",
    "batch_jacobian = g.batch_jacobian(y, x)\n",
    "print(batch_jacobian)\n",
    "# batch_jacobian is [[[2,  0], [0,  4]], [[6,  0], [0,  8]]]\n"
   ]
  },
  {
   "cell_type": "code",
   "execution_count": 9,
   "metadata": {},
   "outputs": [
    {
     "name": "stdout",
     "output_type": "stream",
     "text": [
      "Model: \"sequential_6\"\n",
      "_________________________________________________________________\n",
      " Layer (type)                Output Shape              Param #   \n",
      "=================================================================\n",
      " dense_6 (Dense)             (None, 2)                 4         \n",
      "                                                                 \n",
      "=================================================================\n",
      "Total params: 4\n",
      "Trainable params: 4\n",
      "Non-trainable params: 0\n",
      "_________________________________________________________________\n",
      "previous_shape: (5, 2)\n"
     ]
    },
    {
     "data": {
      "text/plain": [
       "[TensorShape([5, 2]), TensorShape([5, 2])]"
      ]
     },
     "execution_count": 9,
     "metadata": {},
     "output_type": "execute_result"
    }
   ],
   "source": [
    "output_dim = 2\n",
    "dim = 1\n",
    "model = keras.models.Sequential()\n",
    "model.add(keras.layers.Input(shape=[dim]))\n",
    "model.add(keras.layers.Dense(output_dim))\n",
    "model.summary()\n",
    "\n",
    "X = tf.random.uniform((5,dim),0,1,dtype=np.float32)\n",
    "\n",
    "@tf.function\n",
    "def differentiate(model, X, training=False):\n",
    "    with tf.GradientTape() as tape:\n",
    "        x1 = X[:, 0:1]\n",
    "        tape.watch(x1)\n",
    "        u = model(tf.stack([x1[:, 0]], axis=1), training=training)\n",
    "    du_dx = tf.squeeze(tape.batch_jacobian(u, x1))\n",
    "    del tape\n",
    "    print('previous_shape:', du_dx.shape)\n",
    "    du_dx = tf.reshape(du_dx, (X.shape[0],u.shape[-1]))\n",
    "    return u, du_dx\n",
    "\n",
    "[differentiate(model,X)[i].shape for i in range(2)]"
   ]
  },
  {
   "cell_type": "code",
   "execution_count": 17,
   "metadata": {},
   "outputs": [
    {
     "name": "stdout",
     "output_type": "stream",
     "text": [
      "Model: \"sequential_14\"\n",
      "_________________________________________________________________\n",
      " Layer (type)                Output Shape              Param #   \n",
      "=================================================================\n",
      " dense_14 (Dense)            (None, 2)                 6         \n",
      "                                                                 \n",
      "=================================================================\n",
      "Total params: 6\n",
      "Trainable params: 6\n",
      "Non-trainable params: 0\n",
      "_________________________________________________________________\n",
      "(5, 2)\n"
     ]
    },
    {
     "data": {
      "text/plain": [
       "[TensorShape([5, 2]),\n",
       " TensorShape([5, 2]),\n",
       " TensorShape([5, 2]),\n",
       " TensorShape([5, 2]),\n",
       " TensorShape([5, 2])]"
      ]
     },
     "execution_count": 17,
     "metadata": {},
     "output_type": "execute_result"
    }
   ],
   "source": [
    "output_dim = 2\n",
    "dim = 2\n",
    "model = keras.models.Sequential()\n",
    "model.add(keras.layers.Input(shape=[dim]))\n",
    "model.add(keras.layers.Dense(output_dim))\n",
    "model.summary()\n",
    "\n",
    "X = tf.random.uniform((5,dim),0,1,dtype=np.float32)\n",
    "@tf.function\n",
    "def differentiate(model, x, training=False):\n",
    "    with tf.GradientTape(persistent=True) as tape:\n",
    "        x1 = x[:, 0:1]\n",
    "        tape.watch(x1)\n",
    "        x2= x[:, 1:2]\n",
    "        tape.watch(x2)\n",
    "        # print(model(tf.stack([x1[:, 0],x2[:,0]], axis=1), training=training))\n",
    "        u = model(tf.stack([x1[:, 0],x2[:,0]], axis=1), training=training)\n",
    "        du_dx = tape.batch_jacobian(u, x1)\n",
    "        du_dy = tape.batch_jacobian(u, x2)\n",
    "    # print(u)\n",
    "    # print(du_dx)\n",
    "    du_dxx = tape.batch_jacobian(du_dx, x1)\n",
    "    # print(\"du_dxx\\n\",du_dxx.shape)\n",
    "    du_dyy = tape.batch_jacobian(du_dy, x2)\n",
    "    del tape\n",
    "    print(x.shape)\n",
    "\n",
    "    du_dxx = tf.reshape(du_dxx,shape=[x.shape[0],u.shape[-1]])\n",
    "    du_dyy = tf.reshape(du_dyy,shape=[x.shape[0],u.shape[-1]])\n",
    "    du_dx = tf.reshape(du_dx,shape=[x.shape[0],u.shape[-1]])\n",
    "    du_dy = tf.reshape(du_dy,shape=[x.shape[0],u.shape[-1]])\n",
    "    return u, du_dx, du_dxx, du_dy, du_dyy\n",
    "\n",
    "[differentiate(model,X)[i].shape for i in range(5)]"
   ]
  },
  {
   "cell_type": "code",
   "execution_count": 38,
   "metadata": {},
   "outputs": [
    {
     "name": "stdout",
     "output_type": "stream",
     "text": [
      "Model: \"sequential_29\"\n",
      "_________________________________________________________________\n",
      " Layer (type)                Output Shape              Param #   \n",
      "=================================================================\n",
      " dense_29 (Dense)            (None, 2)                 4         \n",
      "                                                                 \n",
      "=================================================================\n",
      "Total params: 4\n",
      "Trainable params: 4\n",
      "Non-trainable params: 0\n",
      "_________________________________________________________________\n",
      "der0;\n",
      " tf.Tensor(\n",
      "[[0.45608413]\n",
      " [0.45608413]\n",
      " [0.45608413]\n",
      " [0.45608413]\n",
      " [0.45608413]], shape=(5, 1), dtype=float32)\n",
      "der1\n",
      " tf.Tensor(\n",
      "[[0.143543]\n",
      " [0.143543]\n",
      " [0.143543]\n",
      " [0.143543]\n",
      " [0.143543]], shape=(5, 1), dtype=float32)\n",
      "der_jac\n",
      " tf.Tensor(\n",
      "[[0.45608413 0.143543  ]\n",
      " [0.45608413 0.143543  ]\n",
      " [0.45608413 0.143543  ]\n",
      " [0.45608413 0.143543  ]\n",
      " [0.45608413 0.143543  ]], shape=(5, 2), dtype=float32)\n"
     ]
    }
   ],
   "source": [
    "output_dim = 2\n",
    "model = keras.models.Sequential()\n",
    "model.add(keras.layers.Input(shape=[1]))\n",
    "model.add(keras.layers.Dense(output_dim))\n",
    "model.summary()\n",
    "dim = 2\n",
    "X = tf.random.uniform((5,dim),0,1,dtype=np.float32)\n",
    "with tf.GradientTape(persistent=True) as g:\n",
    "    x1 = X[:,0:1]\n",
    "    g.watch(x1)\n",
    "    y = model(tf.stack([x1[:, 0]], axis=1))\n",
    "    # print(\"y\\n\",y)\n",
    "    y0 = y[:,0]\n",
    "    if output_dim>=2:\n",
    "        y1 = y[:,1]\n",
    "der = g.gradient(y,x1)\n",
    "der0 = g.gradient(y0,x1)\n",
    "print(\"der0;\\n\",der0)\n",
    "if output_dim>=2:\n",
    "    der1 = g.gradient(y1,x1)\n",
    "    print(\"der1\\n\",der1)\n",
    "der_jac = tf.squeeze(g.batch_jacobian(y,x1))\n",
    "if output_dim==1:\n",
    "    der_jac = tf.expand_dims(der_jac,axis=-1)\n",
    "del g\n",
    "# print(\"der\\n\",der)\n",
    "\n",
    "print(\"der_jac\\n\",der_jac)"
   ]
  },
  {
   "cell_type": "code",
   "execution_count": 40,
   "metadata": {},
   "outputs": [
    {
     "name": "stdout",
     "output_type": "stream",
     "text": [
      "tf.Tensor(0.2520027, shape=(), dtype=float32)\n"
     ]
    },
    {
     "ename": "TypeError",
     "evalue": "update_state() missing 1 required positional argument: 'y_pred'",
     "output_type": "error",
     "traceback": [
      "\u001b[1;31m---------------------------------------------------------------------------\u001b[0m",
      "\u001b[1;31mTypeError\u001b[0m                                 Traceback (most recent call last)",
      "\u001b[1;32mc:\\Users\\jtros\\CS\\cours\\PoleProjet\\FormationRecherche\\Tsunami\\TP\\sceance4\\Tsunami\\Neural_Networks\\Tensorflow\\test.ipynb Cell 6'\u001b[0m in \u001b[0;36m<cell line: 7>\u001b[1;34m()\u001b[0m\n\u001b[0;32m      <a href='vscode-notebook-cell:/c%3A/Users/jtros/CS/cours/PoleProjet/FormationRecherche/Tsunami/TP/sceance4/Tsunami/Neural_Networks/Tensorflow/test.ipynb#ch0000005?line=3'>4</a>\u001b[0m \u001b[39mprint\u001b[39m(loss)\n\u001b[0;32m      <a href='vscode-notebook-cell:/c%3A/Users/jtros/CS/cours/PoleProjet/FormationRecherche/Tsunami/TP/sceance4/Tsunami/Neural_Networks/Tensorflow/test.ipynb#ch0000005?line=5'>6</a>\u001b[0m metric \u001b[39m=\u001b[39m tf\u001b[39m.\u001b[39mkeras\u001b[39m.\u001b[39mmetrics\u001b[39m.\u001b[39mMeanSquaredError(name\u001b[39m=\u001b[39m\u001b[39m'\u001b[39m\u001b[39mmse\u001b[39m\u001b[39m'\u001b[39m,dtype\u001b[39m=\u001b[39m\u001b[39mNone\u001b[39;00m)\n\u001b[1;32m----> <a href='vscode-notebook-cell:/c%3A/Users/jtros/CS/cours/PoleProjet/FormationRecherche/Tsunami/TP/sceance4/Tsunami/Neural_Networks/Tensorflow/test.ipynb#ch0000005?line=6'>7</a>\u001b[0m \u001b[39mprint\u001b[39m(metric(res))\n",
      "File \u001b[1;32mc:\\Users\\jtros\\CS\\cours\\PoleProjet\\FormationRecherche\\Tsunami\\TP\\sceance4\\Tsunami\\venv_tsunami\\lib\\site-packages\\keras\\metrics\\base_metric.py:200\u001b[0m, in \u001b[0;36mMetric.__call__\u001b[1;34m(self, *args, **kwargs)\u001b[0m\n\u001b[0;32m    197\u001b[0m     \u001b[39mreturn\u001b[39;00m result_t\n\u001b[0;32m    199\u001b[0m \u001b[39mfrom\u001b[39;00m \u001b[39mkeras\u001b[39;00m\u001b[39m.\u001b[39;00m\u001b[39mdistribute\u001b[39;00m \u001b[39mimport\u001b[39;00m distributed_training_utils  \u001b[39m# pylint:disable=g-import-not-at-top\u001b[39;00m\n\u001b[1;32m--> 200\u001b[0m \u001b[39mreturn\u001b[39;00m distributed_training_utils\u001b[39m.\u001b[39mcall_replica_local_fn(\n\u001b[0;32m    201\u001b[0m     replica_local_fn, \u001b[39m*\u001b[39margs, \u001b[39m*\u001b[39m\u001b[39m*\u001b[39mkwargs)\n",
      "File \u001b[1;32mc:\\Users\\jtros\\CS\\cours\\PoleProjet\\FormationRecherche\\Tsunami\\TP\\sceance4\\Tsunami\\venv_tsunami\\lib\\site-packages\\keras\\distribute\\distributed_training_utils.py:60\u001b[0m, in \u001b[0;36mcall_replica_local_fn\u001b[1;34m(fn, *args, **kwargs)\u001b[0m\n\u001b[0;32m     58\u001b[0m   \u001b[39mwith\u001b[39;00m strategy\u001b[39m.\u001b[39mscope():\n\u001b[0;32m     59\u001b[0m     \u001b[39mreturn\u001b[39;00m strategy\u001b[39m.\u001b[39mextended\u001b[39m.\u001b[39mcall_for_each_replica(fn, args, kwargs)\n\u001b[1;32m---> 60\u001b[0m \u001b[39mreturn\u001b[39;00m fn(\u001b[39m*\u001b[39margs, \u001b[39m*\u001b[39m\u001b[39m*\u001b[39mkwargs)\n",
      "File \u001b[1;32mc:\\Users\\jtros\\CS\\cours\\PoleProjet\\FormationRecherche\\Tsunami\\TP\\sceance4\\Tsunami\\venv_tsunami\\lib\\site-packages\\keras\\metrics\\base_metric.py:181\u001b[0m, in \u001b[0;36mMetric.__call__.<locals>.replica_local_fn\u001b[1;34m(*args, **kwargs)\u001b[0m\n\u001b[0;32m    179\u001b[0m   update_op \u001b[39m=\u001b[39m \u001b[39mNone\u001b[39;00m\n\u001b[0;32m    180\u001b[0m \u001b[39melse\u001b[39;00m:\n\u001b[1;32m--> 181\u001b[0m   update_op \u001b[39m=\u001b[39m \u001b[39mself\u001b[39m\u001b[39m.\u001b[39mupdate_state(\u001b[39m*\u001b[39margs, \u001b[39m*\u001b[39m\u001b[39m*\u001b[39mkwargs)  \u001b[39m# pylint: disable=not-callable\u001b[39;00m\n\u001b[0;32m    182\u001b[0m update_ops \u001b[39m=\u001b[39m []\n\u001b[0;32m    183\u001b[0m \u001b[39mif\u001b[39;00m update_op \u001b[39mis\u001b[39;00m \u001b[39mnot\u001b[39;00m \u001b[39mNone\u001b[39;00m:\n",
      "File \u001b[1;32mc:\\Users\\jtros\\CS\\cours\\PoleProjet\\FormationRecherche\\Tsunami\\TP\\sceance4\\Tsunami\\venv_tsunami\\lib\\site-packages\\keras\\utils\\metrics_utils.py:70\u001b[0m, in \u001b[0;36mupdate_state_wrapper.<locals>.decorated\u001b[1;34m(metric_obj, *args, **kwargs)\u001b[0m\n\u001b[0;32m     64\u001b[0m     \u001b[39mraise\u001b[39;00m \u001b[39mValueError\u001b[39;00m(\n\u001b[0;32m     65\u001b[0m         \u001b[39m'\u001b[39m\u001b[39mTrying to run metric.update_state in replica context when \u001b[39m\u001b[39m'\u001b[39m\n\u001b[0;32m     66\u001b[0m         \u001b[39m'\u001b[39m\u001b[39mthe metric was not created in TPUStrategy scope. \u001b[39m\u001b[39m'\u001b[39m\n\u001b[0;32m     67\u001b[0m         \u001b[39m'\u001b[39m\u001b[39mMake sure the keras Metric is created in TPUstrategy scope. \u001b[39m\u001b[39m'\u001b[39m)\n\u001b[0;32m     69\u001b[0m \u001b[39mwith\u001b[39;00m tf_utils\u001b[39m.\u001b[39mgraph_context_for_symbolic_tensors(\u001b[39m*\u001b[39margs, \u001b[39m*\u001b[39m\u001b[39m*\u001b[39mkwargs):\n\u001b[1;32m---> 70\u001b[0m   update_op \u001b[39m=\u001b[39m update_state_fn(\u001b[39m*\u001b[39margs, \u001b[39m*\u001b[39m\u001b[39m*\u001b[39mkwargs)\n\u001b[0;32m     71\u001b[0m \u001b[39mif\u001b[39;00m update_op \u001b[39mis\u001b[39;00m \u001b[39mnot\u001b[39;00m \u001b[39mNone\u001b[39;00m:  \u001b[39m# update_op will be None in eager execution.\u001b[39;00m\n\u001b[0;32m     72\u001b[0m   metric_obj\u001b[39m.\u001b[39madd_update(update_op)\n",
      "File \u001b[1;32mc:\\Users\\jtros\\CS\\cours\\PoleProjet\\FormationRecherche\\Tsunami\\TP\\sceance4\\Tsunami\\venv_tsunami\\lib\\site-packages\\keras\\metrics\\base_metric.py:140\u001b[0m, in \u001b[0;36mMetric.__new__.<locals>.update_state_fn\u001b[1;34m(*args, **kwargs)\u001b[0m\n\u001b[0;32m    137\u001b[0m control_status \u001b[39m=\u001b[39m tf\u001b[39m.\u001b[39m__internal__\u001b[39m.\u001b[39mautograph\u001b[39m.\u001b[39mcontrol_status_ctx()\n\u001b[0;32m    138\u001b[0m ag_update_state \u001b[39m=\u001b[39m tf\u001b[39m.\u001b[39m__internal__\u001b[39m.\u001b[39mautograph\u001b[39m.\u001b[39mtf_convert(\n\u001b[0;32m    139\u001b[0m     obj_update_state, control_status)\n\u001b[1;32m--> 140\u001b[0m \u001b[39mreturn\u001b[39;00m ag_update_state(\u001b[39m*\u001b[39margs, \u001b[39m*\u001b[39m\u001b[39m*\u001b[39mkwargs)\n",
      "File \u001b[1;32mc:\\Users\\jtros\\CS\\cours\\PoleProjet\\FormationRecherche\\Tsunami\\TP\\sceance4\\Tsunami\\venv_tsunami\\lib\\site-packages\\tensorflow\\python\\autograph\\impl\\api.py:689\u001b[0m, in \u001b[0;36mconvert.<locals>.decorator.<locals>.wrapper\u001b[1;34m(*args, **kwargs)\u001b[0m\n\u001b[0;32m    687\u001b[0m \u001b[39mtry\u001b[39;00m:\n\u001b[0;32m    688\u001b[0m   \u001b[39mwith\u001b[39;00m conversion_ctx:\n\u001b[1;32m--> 689\u001b[0m     \u001b[39mreturn\u001b[39;00m converted_call(f, args, kwargs, options\u001b[39m=\u001b[39;49moptions)\n\u001b[0;32m    690\u001b[0m \u001b[39mexcept\u001b[39;00m \u001b[39mException\u001b[39;00m \u001b[39mas\u001b[39;00m e:  \u001b[39m# pylint:disable=broad-except\u001b[39;00m\n\u001b[0;32m    691\u001b[0m   \u001b[39mif\u001b[39;00m \u001b[39mhasattr\u001b[39m(e, \u001b[39m'\u001b[39m\u001b[39mag_error_metadata\u001b[39m\u001b[39m'\u001b[39m):\n",
      "File \u001b[1;32mc:\\Users\\jtros\\CS\\cours\\PoleProjet\\FormationRecherche\\Tsunami\\TP\\sceance4\\Tsunami\\venv_tsunami\\lib\\site-packages\\tensorflow\\python\\autograph\\impl\\api.py:377\u001b[0m, in \u001b[0;36mconverted_call\u001b[1;34m(f, args, kwargs, caller_fn_scope, options)\u001b[0m\n\u001b[0;32m    374\u001b[0m   \u001b[39mreturn\u001b[39;00m _call_unconverted(f, args, kwargs, options)\n\u001b[0;32m    376\u001b[0m \u001b[39mif\u001b[39;00m \u001b[39mnot\u001b[39;00m options\u001b[39m.\u001b[39muser_requested \u001b[39mand\u001b[39;00m conversion\u001b[39m.\u001b[39mis_allowlisted(f):\n\u001b[1;32m--> 377\u001b[0m   \u001b[39mreturn\u001b[39;00m _call_unconverted(f, args, kwargs, options)\n\u001b[0;32m    379\u001b[0m \u001b[39m# internal_convert_user_code is for example turned off when issuing a dynamic\u001b[39;00m\n\u001b[0;32m    380\u001b[0m \u001b[39m# call conversion from generated code while in nonrecursive mode. In that\u001b[39;00m\n\u001b[0;32m    381\u001b[0m \u001b[39m# case we evidently don't want to recurse, but we still have to convert\u001b[39;00m\n\u001b[0;32m    382\u001b[0m \u001b[39m# things like builtins.\u001b[39;00m\n\u001b[0;32m    383\u001b[0m \u001b[39mif\u001b[39;00m \u001b[39mnot\u001b[39;00m options\u001b[39m.\u001b[39minternal_convert_user_code:\n",
      "File \u001b[1;32mc:\\Users\\jtros\\CS\\cours\\PoleProjet\\FormationRecherche\\Tsunami\\TP\\sceance4\\Tsunami\\venv_tsunami\\lib\\site-packages\\tensorflow\\python\\autograph\\impl\\api.py:458\u001b[0m, in \u001b[0;36m_call_unconverted\u001b[1;34m(f, args, kwargs, options, update_cache)\u001b[0m\n\u001b[0;32m    455\u001b[0m   \u001b[39mreturn\u001b[39;00m f\u001b[39m.\u001b[39m\u001b[39m__self__\u001b[39m\u001b[39m.\u001b[39mcall(args, kwargs)\n\u001b[0;32m    457\u001b[0m \u001b[39mif\u001b[39;00m kwargs \u001b[39mis\u001b[39;00m \u001b[39mnot\u001b[39;00m \u001b[39mNone\u001b[39;00m:\n\u001b[1;32m--> 458\u001b[0m   \u001b[39mreturn\u001b[39;00m f(\u001b[39m*\u001b[39margs, \u001b[39m*\u001b[39m\u001b[39m*\u001b[39mkwargs)\n\u001b[0;32m    459\u001b[0m \u001b[39mreturn\u001b[39;00m f(\u001b[39m*\u001b[39margs)\n",
      "\u001b[1;31mTypeError\u001b[0m: update_state() missing 1 required positional argument: 'y_pred'"
     ]
    }
   ],
   "source": [
    "res = tf.random.uniform((5,2),0,1)\n",
    "\n",
    "loss = tf.reduce_mean(tf.square(res))\n",
    "print(loss)\n",
    "\n",
    "metric = tf.keras.metrics.MeanSquaredError(name='mse',dtype=None)\n",
    "print(metric(res))"
   ]
  },
  {
   "cell_type": "code",
   "execution_count": 44,
   "metadata": {},
   "outputs": [
    {
     "name": "stdout",
     "output_type": "stream",
     "text": [
      "tf.Tensor(\n",
      "[[ 0.60068214 -4.3473434 ]\n",
      " [ 0.20199859 -8.657986  ]\n",
      " [ 0.5060885  -9.515091  ]], shape=(3, 2), dtype=float32)\n"
     ]
    }
   ],
   "source": [
    "tf_sample_coords = tf.random.uniform((3, 2), [0,-10], [1,-1])\n",
    "print(tf_sample_coords)"
   ]
  },
  {
   "cell_type": "code",
   "execution_count": 77,
   "metadata": {},
   "outputs": [
    {
     "name": "stdout",
     "output_type": "stream",
     "text": [
      "tf.Tensor(\n",
      "[[ 0.18454349 -9.317633  ]\n",
      " [ 0.5498848  -9.422832  ]\n",
      " [ 0.46530843 -9.1609745 ]], shape=(3, 2), dtype=float32)\n"
     ]
    }
   ],
   "source": [
    "tf_sample_coords2 = tf.random.uniform((3, 2), [0,-10], [1,-9])\n",
    "print(tf_sample_coords2)"
   ]
  },
  {
   "cell_type": "code",
   "execution_count": 78,
   "metadata": {},
   "outputs": [],
   "source": [
    "X = tf.random.uniform((3,1),0,1)\n",
    "Y = tf.random.uniform((3,1),-10,9)\n",
    "tf_sample_coords = tf.concat([X,Y],axis=1)"
   ]
  },
  {
   "cell_type": "code",
   "execution_count": 37,
   "metadata": {},
   "outputs": [
    {
     "name": "stdout",
     "output_type": "stream",
     "text": [
      "passed here\n",
      "exp(-3*x/5 - 1/5)*sin(9*x**2 + 1)\n",
      "exp(-y/5 - 3/5)*sin(y + 9)\n",
      "first_part:\n",
      " x*exp(-y/5 - 3/5)*sin(y + 9) + (1 - x)*exp(-y/5)*sin(y)\n",
      "bottom: -0.449328964117222*x*sin(10) - 0.818730753077982*(1 - x)*sin(1) + exp(-3*x/5 - 1/5)*sin(9*x**2 + 1)\n",
      "expr_A:\n",
      " x*exp(-y/5 - 3/5)*sin(y + 9) + y*(-0.449328964117222*x*sin(10) - 0.818730753077982*(1 - x)*sin(1) + exp(-3*x/5 - 1/5)*sin(9*x**2 + 1)) + (1 - x)*exp(-y/5)*sin(y) + (1 - y)*(-0.548811636094026*x*sin(9) + exp(-3*x/5)*sin(9*x**2))\n",
      "(10,)\n",
      "(10, 1)\n",
      "tf.Tensor(\n",
      "[[ 0.0000000e+00]\n",
      " [ 0.0000000e+00]\n",
      " [ 5.9604645e-08]\n",
      " [ 1.1920929e-07]\n",
      " [ 0.0000000e+00]\n",
      " [ 5.9604645e-08]\n",
      " [ 0.0000000e+00]\n",
      " [-2.9802322e-08]\n",
      " [ 0.0000000e+00]\n",
      " [ 2.9802322e-08]], shape=(10, 1), dtype=float32)\n",
      "1.1920929e-07\n"
     ]
    },
    {
     "data": {
      "image/png": "[encoded data removed]",
      "text/plain": [
       "<Figure size 432x288 with 1 Axes>"
      ]
     },
     "metadata": {
      "needs_background": "light"
     },
     "output_type": "display_data"
    }
   ],
   "source": [
    "x,y = sm.symbols(\"x,y\")\n",
    "\n",
    "def expr_A():\n",
    "    print('passed here')\n",
    "    def expr_f_0(y):\n",
    "        return sm.exp(-y/5)*sm.sin(y)\n",
    "    def expr_f_1(y):\n",
    "        return sm.exp(-(a+y)/5)*sm.sin(a**2+y)\n",
    "    def expr_g_0(x):\n",
    "        return sm.exp(-(a*x)/5)*sm.sin((a*x)**2)\n",
    "    def expr_g_1(x):\n",
    "        return sm.exp(-(a*x+1)/5)*sm.sin((a*x)**2+1)\n",
    "    # print(expr_g_1(x))\n",
    "    # print(expr_f_1(y))\n",
    "    # first_part = (1-x)*expr_f_0(y)+x*expr_f_1(y)\n",
    "    # print('first_part:\\n',first_part)\n",
    "    # second_part = (1-y)*(expr_g_0(x)-((1-x)*expr_g_0(0)+x*expr_g_0(1))+y*(expr_g_1(x)-((1-x)*expr_g_1(0)+x*expr_g_1(1))))\n",
    "    # bottom = (expr_g_1(x)-((1-x)*expr_g_1(0)+x*expr_g_1(1)))\n",
    "    # print('bottom:',bottom)\n",
    "    return (1-x)*expr_f_0(y)+x*expr_f_1(y)+(1-y)*(expr_g_0(x)-((1-x)*expr_g_0(0)+x*expr_g_0(1)))+y*(expr_g_1(x)-((1-x)*expr_g_1(0)+x*expr_g_1(1)))\n",
    "\n",
    "expr_A = expr_A()\n",
    "print(\"expr_A:\\n\",expr_A)\n",
    "expr_A = sm.lambdify([x, y], sm.Matrix([expr_A]), 'numpy')\n",
    "\n",
    "def evaluate_A(X):\n",
    "    A = tf.expand_dims(tf.squeeze(expr_A(X[:, 0], X[:, 1])), axis=-1)\n",
    "    A = tf.cast(A, dtype=DTYPE)\n",
    "    return A\n",
    "\n",
    "\n",
    "a = 3\n",
    "DTYPE = np.float32\n",
    "@tf.function\n",
    "def true_function(X):\n",
    "    return tf.exp(-(a*X[:, 0]+X[:, 1])/5)*tf.sin(a**2*X[:, 0]**2+X[:, 1])\n",
    "\n",
    "batch_size = 10\n",
    "line = tf.cast(tf.reshape(np.linspace(0,1,num=batch_size,endpoint=True),(batch_size,1)),dtype=DTYPE)\n",
    "boundary_L = tf.concat([tf.zeros((batch_size,1),dtype=DTYPE),line],axis=1)\n",
    "boundary_R = tf.concat([tf.ones((batch_size,1),dtype=DTYPE),line],axis=1)\n",
    "boundary_up = tf.concat([line,tf.ones((batch_size,1),dtype=DTYPE)],axis=1)\n",
    "boundary_bot = tf.concat([line,tf.zeros((batch_size,1),dtype=DTYPE)],axis=1)\n",
    "# true_function(boundary_L)-evaluate_A(boundary_L)\n",
    "test_boundary = boundary_bot\n",
    "print(true_function(test_boundary).shape)\n",
    "print(evaluate_A(test_boundary).shape)\n",
    "error = tf.expand_dims(true_function(test_boundary),-1)-evaluate_A(test_boundary)\n",
    "print(error)\n",
    "print(np.max(error))\n",
    "plt.plot(test_boundary[:,1].numpy(),error)\n",
    "plt.show()"
   ]
  },
  {
   "cell_type": "code",
   "execution_count": 24,
   "metadata": {},
   "outputs": [
    {
     "name": "stdout",
     "output_type": "stream",
     "text": [
      "dexpr_A_dyy(X[:, 0], X[:, 1]):\n",
      " (1, 1)\n",
      "tf.Tensor(\n",
      "[[0.]\n",
      " [0.]\n",
      " [0.]], shape=(3, 1), dtype=float32)\n"
     ]
    }
   ],
   "source": [
    "\n",
    "x,y = sm.symbols(\"x,y\")\n",
    "dim = 2\n",
    "X = tf.random.uniform((5,dim),0,1,dtype=np.float32)\n",
    "pi = np.pi\n",
    "DTYPE = np.float32\n",
    "\n",
    "def expr_A():\n",
    "    def expr_f_0(y):\n",
    "        return 0\n",
    "\n",
    "    def expr_f_1(y):\n",
    "        return 0\n",
    "\n",
    "    def expr_g_0(x):\n",
    "        return 0\n",
    "\n",
    "    def expr_g_1(x):\n",
    "        return 2*sm.sin(pi*x)\n",
    "    if True:\n",
    "        return (1-x)*expr_f_0(y)+x*expr_f_1(y)+expr_g_0(x)-((1-x)*expr_g_0(0)+x*expr_g_0(1))+y*(expr_g_1(x)-((1-x)*expr_g_1(0)+x*expr_g_1(1)))\n",
    "    else:\n",
    "        return (1-x)*expr_f_0(y)+x*expr_f_1(y)+(1-y)*(expr_g_0(x)-((1-x)*expr_g_0(0)+x*expr_g_0(1)))+y*(expr_g_1(x)-((1-x)*expr_g_1(0)+x*expr_g_1(1)))\n",
    "\n",
    "\n",
    "expr_A = expr_A()\n",
    "dexpr_A_dx = sm.diff(expr_A, x, 1)\n",
    "dexpr_A_dxx = sm.diff(dexpr_A_dx, x, 1)\n",
    "dexpr_A_dy = sm.diff(expr_A, y, 1)\n",
    "dexpr_A_dyy = sm.diff(dexpr_A_dy, y, 1)\n",
    "\n",
    "\n",
    "# remark: You can forget a no lambdified expression => here we greatly avoid 'for' loops\n",
    "\n",
    "expr_A = sm.lambdify([x, y], sm.Matrix([expr_A]), 'numpy')\n",
    "dexpr_A_dx = sm.lambdify([x, y], sm.Matrix([dexpr_A_dx]), 'numpy')\n",
    "dexpr_A_dxx = sm.lambdify([x, y], sm.Matrix([dexpr_A_dxx]), 'numpy')\n",
    "dexpr_A_dy = sm.lambdify([x, y], sm.Matrix([dexpr_A_dy]), 'numpy')\n",
    "dexpr_A_dyy = sm.lambdify([x, y], sm.Matrix([dexpr_A_dyy]), 'numpy')\n",
    "\n",
    "\n",
    "def evaluate_A_and_diff(X):\n",
    "    results = []\n",
    "    A = tf.expand_dims(tf.squeeze(expr_A(X[:, 0], X[:, 1])), axis=-1)\n",
    "    A = tf.cast(A, dtype=DTYPE)\n",
    "    results.append(A)\n",
    "    dA_dx = tf.expand_dims(tf.squeeze(dexpr_A_dx(X[:, 0], X[:, 1])), axis=-1)\n",
    "    dA_dx = tf.cast(dA_dx, dtype=DTYPE)\n",
    "    results.append(dA_dx)\n",
    "    dA_dxx = tf.expand_dims(tf.squeeze(dexpr_A_dxx(X[:, 0], X[:, 1])), axis=-1)\n",
    "    dA_dxx = tf.cast(dA_dxx, dtype=DTYPE)\n",
    "    results.append(dA_dxx)\n",
    "    dA_dy = tf.expand_dims(tf.squeeze(dexpr_A_dy(X[:, 0], X[:, 1])), axis=-1)\n",
    "    dA_dy = tf.cast(dA_dy, dtype=DTYPE)\n",
    "    results.append(dA_dy)\n",
    "    print('dexpr_A_dyy(X[:, 0], X[:, 1]):\\n',dexpr_A_dyy(X[:, 0], X[:, 1]).shape)\n",
    "    dA_dyy = tf.expand_dims(tf.squeeze(dexpr_A_dyy(X[:, 0], X[:, 1])), axis=-1)\n",
    "    dA_dyy = tf.cast(dA_dyy, dtype=DTYPE)\n",
    "    results.append(dA_dyy)\n",
    "    for i,dA_ in enumerate(results):\n",
    "        if dA_.shape == (1,):\n",
    "            results[i]=dA_[0]\n",
    "    return results\n",
    "\n",
    "batch_size = 3\n",
    "line = tf.cast(tf.reshape(np.linspace(0,1,num=batch_size,endpoint=True),(batch_size,1)),dtype=DTYPE)\n",
    "boundary_L = tf.concat([tf.zeros((batch_size,1),dtype=DTYPE),line],axis=1)\n",
    "boundary_R = tf.concat([tf.ones((batch_size,1),dtype=DTYPE),line],axis=1)\n",
    "boundary_up = tf.concat([line,tf.ones((batch_size,1),dtype=DTYPE)],axis=1)\n",
    "boundary_bot = tf.concat([line,tf.zeros((batch_size,1),dtype=DTYPE)],axis=1)\n",
    "# true_function(boundary_L)-evaluate_A(boundary_L)\n",
    "test_boundary = boundary_bot\n",
    "A, dA_dx, dA_dxx, dA_dy, dA_dyy = evaluate_A_and_diff(test_boundary)\n",
    "print(dA_dyy+A)\n",
    "# print(dA_dyy)\n"
   ]
  }
 ],
 "metadata": {
  "kernelspec": {
   "display_name": "Python 3.9.12 ('venv_tsunami': venv)",
   "language": "python",
   "name": "python3"
  },
  "language_info": {
   "codemirror_mode": {
    "name": "ipython",
    "version": 3
   },
   "file_extension": ".py",
   "mimetype": "text/x-python",
   "name": "python",
   "nbconvert_exporter": "python",
   "pygments_lexer": "ipython3",
   "version": "3.9.12"
  },
  "orig_nbformat": 4,
  "vscode": {
   "interpreter": {
    "hash": "ed45ddf3773bc83c4383a1a855f930bc53f0b7f7e989df0f3182f9bb62c1b41f"
   }
  }
 },
 "nbformat": 4,
 "nbformat_minor": 2
}
