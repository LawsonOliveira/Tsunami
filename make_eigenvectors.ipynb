{
  "cells": [
    {
      "cell_type": "markdown",
      "source": [
        "Imports"
      ],
      "metadata": {
        "id": "gBKFgMKa8SL7"
      }
    },
    {
      "cell_type": "code",
      "source": [
        "\"\"\"Collection of general utility functions.\"\"\"\n",
        "import os\n",
        "from typing import Tuple, Text, Dict, Union, Any\n",
        "\n",
        "import numpy as np\n",
        "from jax.experimental import sparse\n",
        "from absl import logging\n",
        "from jax import random, vmap, jit, grad, numpy as jnp\n",
        "from jax.nn import softmax, relu\n",
        "#from jax.ops import index_update, index DEPRECATED: replace with jax.numpy.ndarray.at in the corresponding code\n",
        "from jax.scipy.linalg import expm\n",
        "from scipy.optimize import minimize\n",
        "\n",
        "Params = Tuple[jnp.ndarray, ...]\n",
        "Results = Dict[Text, Union[jnp.ndarray, list, float]]\n",
        "Tup = Tuple[float, float]\n",
        "\n"
      ],
      "metadata": {
        "id": "7L_xKX0tGV6O"
      },
      "execution_count": 31,
      "outputs": []
    },
    {
      "cell_type": "markdown",
      "source": [
        "New unitary decomposition parametrization:"
      ],
      "metadata": {
        "id": "HYMvlVme8M9W"
      }
    },
    {
      "cell_type": "code",
      "source": [
        "\n",
        "def init_params(key: jnp.ndarray, n: int, f: int, m: int,\n",
        "                sigma_weights: float = 0, init_spectrum: float = 1,\n",
        "                sigma_spectrum: float = 0) -> Params:\n",
        "  \"\"\"Initialize optimization parameters.\n",
        "\n",
        "  Args:\n",
        "    key: The random key.\n",
        "    n: The spin dimension.\n",
        "    f: The number of particles.\n",
        "    m: The cardinality of the support of the discrete measure.\n",
        "    sigma_weights: The standard deviation of the noise to be added to the fixed\n",
        "      initialization of weights.\n",
        "    init_spectrum: The initial absolute value of the mean of the negative\n",
        "      eigenvalues. We will add 1/n to this value for each of the positive\n",
        "      eigenvalues to ensure trace = 1.\n",
        "    sigma_spectrum: The standard deviation of the noise to be added to the fixed\n",
        "      initialization of the spectra.\n",
        "\n",
        "  Returns:\n",
        "    a 5-tuple of initial parameters:\n",
        "        weights: The weights of the discrete measure (m,); real\n",
        "        pos_spectrum: initial log values of pos spectrum (m, n); real\n",
        "        neg_spectrum: initial log values of pos spectrum (m, n); real\n",
        "        alphas: initial values of the alpha angles used to define the unitary (m,2n(f-n)-n): real\n",
        "        betas: initial values of the beta angles used to define the unitary (m,2n(f-n)-n): real\n",
        "  \"\"\"\n",
        "  subkeys = random.split(key, 5)\n",
        "  weights = sigma_weights * random.normal(subkeys[0], (m,))\n",
        "  # Initial pos spectra are all (init_spectrum + 1 / n) and\n",
        "  # negative ones are all (init_spectrum)\n",
        "  # We work with logs of desired spectra to ensure the correct signs later\n",
        "  pos_spectrum = jnp.log(init_spectrum + 1. / n)\n",
        "  pos_spectrum += sigma_spectrum * random.normal(subkeys[1], (m, n))\n",
        "  neg_spectrum = jnp.log(init_spectrum)\n",
        "  neg_spectrum += sigma_spectrum * random.normal(subkeys[2], (m, n))\n",
        "  alphas = random.uniform(subkeys[3],(m,2*n*(f-n)-n), minval = 0, maxval = 4*jnp.pi)\n",
        "  betas = random.uniform(subkeys[4],(m,2*n*(f-n)-n), minval = 0, maxval = jnp.pi/2)\n",
        "  return weights, pos_spectrum, neg_spectrum, alphas, betas\n",
        "\n",
        "\n",
        "# =============================================================================\n",
        "# STEPS TO COMPOSE ACTION (AND BOUNDEDNESS FUNCTIONAL) FROM PARAMETERS\n",
        "# =============================================================================\n",
        "\n",
        "def make_masks(f:int, band_number: int):\n",
        "  \"\"\"Create the original masks from which a band of the unitary will be created.\n",
        "  Precisely, it creates 3 masks which are np.arrays with  f-band_number sparse matrices of shape (f,f).\n",
        "  Each of the 3 masks is associated with one of the main \"building blocks\"\n",
        "  of the band matrices: the exp(ialpha)cos(beta) terms, the exp(-ialpha)cos(beta)\n",
        "  an sin(beta) terms. The ith line of a given mask is a sparse matrix with\n",
        "  1s where the ith term appears in the band matrix\n",
        "  Note that, reading bands from left to right, bands progressively have fewer parameters\n",
        "\n",
        "  Args:\n",
        "    f: the number of particles\n",
        "    band_number: the number of the band in the unitary for which we are computing the mask\n",
        "  Returns:\n",
        "    the 3 masks\n",
        "  \"\"\"\n",
        "  mask_cos_exp_pos_coordinates =[[] for _ in range(f-band_number)]\n",
        "  for i in range(f-band_number):\n",
        "    for j in range(i+1):\n",
        "        mask_cos_exp_pos_coordinates[i].append([i+band_number-1,j+band_number-1])\n",
        "\n",
        "  mask_cos_exp_neg_coordinates = [[] for _ in range(f-band_number)]\n",
        "  for i in range(1,f-band_number + 1):\n",
        "    for j in range(1,i+1):\n",
        "        mask_cos_exp_neg_coordinates[i-1].append([i+band_number-1,j+band_number-1])\n",
        "\n",
        "  mask_sin_coordinates = [[] for _ in range(f-band_number)]\n",
        "  for k in range(f-band_number+1):\n",
        "    #first add the terms on the superdiagonal (-sin)\n",
        "    if k != f-band_number:\n",
        "      mask_sin_coordinates[k].append([k+band_number-1,k+1+band_number-1])\n",
        "    #then add the remaining (+sin) terms\n",
        "    for i in range(k,f-band_number+1):\n",
        "      for j in range(k):\n",
        "        mask_sin_coordinates[k-1].append([i+band_number-1,j+band_number-1])\n",
        "\n",
        "  def make_mask_matrices (mask_coordinates):\n",
        "    f = len(mask_coordinates) + band_number\n",
        "    print(f)\n",
        "    mask_matrices = np.empty((f-band_number), object)\n",
        "    for i in range(f-band_number):\n",
        "      coordinates = mask_coordinates[i]\n",
        "      num_coordinates = len(coordinates)\n",
        "      data = jnp.ones(num_coordinates)\n",
        "      mask_matrices[i] = sparse.BCOO((data, jnp.array(coordinates)), shape=(f, f))\n",
        "    return mask_matrices\n",
        "\n",
        "  mask_cos_exp_pos_matrices = make_mask_matrices(mask_cos_exp_pos_coordinates)\n",
        "  mask_cos_exp_neg_matrices = make_mask_matrices(mask_cos_exp_neg_coordinates)\n",
        "  mask_sin_matrices = make_mask_matrices(mask_sin_coordinates)\n",
        "\n",
        "  return mask_cos_exp_pos_matrices,mask_cos_exp_neg_matrices,mask_sin_matrices\n",
        "\n",
        "def get_building_blocks(alphas:jnp.ndarray, betas:jnp.ndarray):\n",
        "  \"\"\"Get the spacetime points from the current parameters.\n",
        "\n",
        "  Args:\n",
        "    alphas: Values of the alpha angles used to define the unitary (m,2n(f-n)-n): real\n",
        "    betas: Values of the beta angles used to define the unitary (m,2n(f-n)-n): real\n",
        "  Returns:\n",
        "  3 \"building blocks\" terms, basic trigonometric functions of the alphas and betas of the same size\n",
        "  (m,2n(f-n)-n)\n",
        "  \"\"\"\n",
        "  exp_alphas = jnp.exp(1J*alphas)\n",
        "  cos_betas = jnp.cos(betas)\n",
        "  sin_betas = jnp.sin(betas)\n",
        "  cos_betas_exp_pos_alphas = exp_alphas*cos_betas\n",
        "  cos_betas_exp_neg_alphas = jnp.conj(exp_alphas)* cos_betas\n",
        "\n",
        "  return cos_betas_exp_pos_alphas, cos_betas_exp_neg_alphas, sin_betas\n",
        "def make_unitary(alphas,betas,f, n, m):\n",
        "  \"\"\"Use the parameters and the masks to generate successive band matrices\n",
        "  and multiply them together to obtain the first 2n eigenvectors of the Unitary\n",
        "  for each spacetime point\n",
        "\n",
        "    Args:\n",
        "    n: number of eigenvalues CAREFUL\n",
        "    params: The tuple of parameters (weights, positive spectrum,\n",
        "        negative spectrum, alphas, betas).\n",
        "\n",
        "  Returns:\n",
        "    (m, f, f) array with a stack of m unitary matrices\n",
        "    \"\"\"\n",
        "  #extract all the parameters\n",
        "  building_blocks = get_building_blocks(alphas, betas)\n",
        "\n",
        "  #initialise the unitary\n",
        "  unitary = jnp.eye(f)\n",
        "\n",
        "  #iterate over the bands\n",
        "  end_index = -1\n",
        "  for band_number in range(1,n+1):\n",
        "\n",
        "    #extract the correct alphas and betas\n",
        "    start_index = end_index +1\n",
        "    end_index =start_index + f - band_number\n",
        "    alphas_band, betas_band = alphas[:,start_index:end_index],betas[:,start_index:end_index]\n",
        "\n",
        "    #extract the building blocks\n",
        "    building_blocks = get_building_blocks(alphas_band, betas_band)\n",
        "\n",
        "    # extract the correct masks\n",
        "    masks = make_masks(f,band_number)\n",
        "\n",
        "    #initialise the band matrix with a matrix with ones on lower triangle and superdiagonal\n",
        "    ones_tril= jnp.tril(jnp.ones((f,f))) + jnp.eye(f,k = 1)\n",
        "    m_ones_tril = jnp.tile(ones_tril,(m,1,1))\n",
        "    band_matrix= m_ones_tril.copy()\n",
        "\n",
        "    #iterate over the different masks for each building block\n",
        "    num_masks = len(masks)\n",
        "    for building_block_index in range(num_masks):\n",
        "      mask= masks[building_block_index] #shape (f-band_number,f,f)\n",
        "      building_block = building_blocks[building_block_index]\n",
        "\n",
        "      #reshape the arrays to multiply them\n",
        "      mask_reshaped = jnp.tile(mask,(m,1,1,1))\n",
        "      building_block_reshaped = building_block[:,:,jnp.newaxis,jnp.newaxis]\n",
        "      band_matrix_building_block = mask_reshaped* building_block_reshaped\n",
        "\n",
        "      #add ones in the lower triangle and superdiagonal before multiplying  the matrices\n",
        "      ones_tril_reshaped = jnp.tile(ones_tril,(m,f-band_number,1,1))\n",
        "      band_matrix_building_block += ones_tril_reshaped - mask_reshaped\n",
        "\n",
        "      #multiply the matrices together\n",
        "      band_matrix_building_block = jnp.prod(band_matrix_building_block, axis =1)\n",
        "\n",
        "      #multiply the different  building blocks together\n",
        "      band_matrix *=band_matrix_building_block\n",
        "\n",
        "    #multiply the superdiagonal by -1 to represent  the negative  sines.\n",
        "    final_mask = jnp.tril(jnp.ones((f,f))) - jnp.eye(f,k = 1)\n",
        "    m_final_mask = jnp.tile(final_mask, (m,1,1))\n",
        "    band_matrix*=m_final_mask #shape (m,f,f)\n",
        "\n",
        "    #add the diagonal 1s for the different bands\n",
        "    for i in range(band_number-1):\n",
        "      band_matrix[:,i,i] = 1\n",
        "\n",
        "    #multiply the different unitaries together\n",
        "    unitary = jnp.dot(unitary,band_matrix)\n",
        "\n",
        "  return unitary\n",
        "\n",
        "def make_spectra(pos_spectrum: jnp.ndarray,\n",
        "                 neg_spectrum: jnp.ndarray) -> jnp.ndarray:\n",
        "  \"\"\"Compute actual spectra from optimization parameters.\n",
        "\n",
        "  The spectra have to have n positive and n negative eigenvalues\n",
        "  and satisfy the trace constraint, which we ensure here.\n",
        "\n",
        "  Args:\n",
        "    pos_spectrum: Optimization parameters for positive eigenvalues.\n",
        "    neg_spectrum: Optimization parameters for negative eigenvalues.\n",
        "\n",
        "  Returns:\n",
        "    Full (m, 2 n) array of the m spectra\n",
        "  \"\"\"\n",
        "  spectra = jnp.concatenate((jnp.exp(pos_spectrum), - jnp.exp(neg_spectrum)), 1)\n",
        "  return spectra / jnp.sum(spectra, axis=1)[..., jnp.newaxis]\n",
        "\n",
        "\n",
        "def make_xs(spectra: jnp.ndarray, hamiltonian: jnp.ndarray) -> jnp.ndarray:\n",
        "  \"\"\"Generate the m spacetime points.\n",
        "\n",
        "  Args:\n",
        "    spectra: The spectra of the m points.\n",
        "    hamiltonian: The Hamiltonian matrices.\n",
        "\n",
        "  Returns:\n",
        "    (m, f, f) stack of m spacetime points\n",
        "  \"\"\"\n",
        "  m, two_n = spectra.shape\n",
        "  f = hamiltonian.shape[-1]\n",
        "  # (m, f, f), unitary <- expm(anti-hermitian)\n",
        "  unitary = vmap(expm)(- 1J * hamiltonian)\n",
        "  # (m, f)\n",
        "  xs = vmap(jnp.diag)(jnp.concatenate((spectra, jnp.zeros((m, f - two_n))), 1))\n",
        "  # (m, f, f), hermitian (U_i x_i U_i^{\\dagger})\n",
        "  xs = jnp.einsum('...ij,...jk,...lk->...il', unitary, xs, jnp.conj(unitary))\n",
        "  return xs\n",
        "\n",
        "\n",
        "def make_xs_and_weights(params: Params) -> Tuple[jnp.ndarray, jnp.ndarray]:\n",
        "  \"\"\"Get the spacetime points from the current parameters.\n",
        "\n",
        "  Args:\n",
        "    params: The tuple of parameters (weights, positive spectrum,\n",
        "        negative spectrum, block_ul, block_ur).\n",
        "\n",
        "  Returns:\n",
        "    (m, f, f) array with a stack of m spacetime points of dimensions (f, f)\n",
        "  \"\"\"\n",
        "  # (m, n), (m, n), (m, 2n, 2n), (m, 2n, f - 2n)\n",
        "  weights, pos_spectrum, neg_spectrum, block_ul, block_ur = params\n",
        "  # Scale weights into [0,1] and sum to 1\n",
        "  weights = softmax(weights)\n",
        "  # (m, 2n)\n",
        "  spectra = make_spectra(pos_spectrum, neg_spectrum)\n",
        "  # (m, f, f), hermitian\n",
        "  hamiltonian = make_hamiltonian(block_ul, block_ur)\n",
        "  # (m, f, f), hermitian\n",
        "  return make_xs(spectra, hamiltonian), weights\n",
        "\n",
        "\n",
        "def make_lagrangian_n(xs: jnp.ndarray, i: int, j: int, two_n: int) -> float:\n",
        "  \"\"\"The Lagrangian for a single pair of spacetime points for n >= 1.\n",
        "\n",
        "  Args:\n",
        "    xs: (m, f, f) array of all the spacetime points.\n",
        "    i: Index for first point.\n",
        "    j: Index for second point.\n",
        "    two_n: 2n (2 times the spin dimension)\n",
        "\n",
        "  Returns:\n",
        "    value of the Lagrangian\n",
        "  \"\"\"\n",
        "  xij = xs[i] @ xs[j]\n",
        "  spec = jnp.sort(jnp.abs(jnp.linalg.eigvals(xij)))[-two_n:]\n",
        "  bnd = jnp.sum(spec) ** 2\n",
        "  return jnp.sum(spec ** 2) - bnd / two_n\n",
        "\n",
        "\n",
        "def make_lagrangian_1(xs: jnp.ndarray, i: int, j: int, two_n: int) -> float:\n",
        "  \"\"\"The Lagrangian for a single pair of spacetime points for n = 1.\n",
        "\n",
        "  Args:\n",
        "    xs: (m, f, f) array of all the spacetime points.\n",
        "    i: Index for first point.\n",
        "    j: Index for second point.\n",
        "    two_n: 2n (2 times the spin dimension); unused here, kept for compatibility.\n",
        "\n",
        "  Returns:\n",
        "    value of the Lagrangian\n",
        "  \"\"\"\n",
        "  xij = xs[i] @ xs[j]\n",
        "  tmp = jnp.real(jnp.trace(xij) ** 2)\n",
        "  return relu(jnp.real(jnp.trace(xij @ xij)) - tmp / 2.)\n",
        "\n",
        "\n",
        "def action(params: Params) -> float:\n",
        "  \"\"\"The action.\n",
        "\n",
        "  Args:\n",
        "    params: The 5-tuple of parameters (weights, positive spectrum,\n",
        "        negative spectrum, block_ul, block_ur).\n",
        "\n",
        "  Returns:\n",
        "    single float for the value of the action\n",
        "  \"\"\"\n",
        "  xs, weights = make_xs_and_weights(params)\n",
        "  # weighted sum of Lagrangian for pairs\n",
        "  m, two_n, _ = params[-2].shape\n",
        "  if two_n == 2:\n",
        "    make_lag = vmap(make_lagrangian_1, (None, 0, 0, None))\n",
        "  else:\n",
        "    make_lag = vmap(make_lagrangian_n, (None, 0, 0, None))\n",
        "  # Only looking at upper triangle (without diagonal)\n",
        "  rows, cols = jnp.triu_indices(m, k=1)\n",
        "  lag_ij = make_lag(xs, rows, cols, two_n)\n",
        "  act = 2 * jnp.sum(weights[rows] * weights[cols] * lag_ij)\n",
        "  # Add diagonal\n",
        "  diag = jnp.arange(m)\n",
        "  lag_ij = make_lag(xs, diag, diag, two_n)\n",
        "  act += jnp.sum(weights ** 2 * lag_ij)\n",
        "  return act\n"
      ],
      "metadata": {
        "id": "r17eg2ai8J9W"
      },
      "execution_count": 203,
      "outputs": []
    },
    {
      "cell_type": "markdown",
      "source": [
        "Old exponential parametrization:"
      ],
      "metadata": {
        "id": "9nLR3PgD8bHI"
      }
    },
    {
      "cell_type": "code",
      "source": [
        "\n",
        "def init_params(key: jnp.ndarray, n: int, f: int, m: int,\n",
        "                sigma_weights: float = 0, init_spectrum: float = 1,\n",
        "                sigma_spectrum: float = 0) -> Params:\n",
        "  \"\"\"Initialize optimization parameters.\n",
        "\n",
        "  Args:\n",
        "    key: The random key.\n",
        "    n: The spin dimension.\n",
        "    f: The number of particles.\n",
        "    m: The cardinality of the support of the discrete measure.\n",
        "    sigma_weights: The standard deviation of the noise to be added to the fixed\n",
        "      initialization of weights.\n",
        "    init_spectrum: The initial absolute value of the mean of the negative\n",
        "      eigenvalues. We will add 1/n to this value for each of the positive\n",
        "      eigenvalues to ensure trace = 1.\n",
        "    sigma_spectrum: The standard deviation of the noise to be added to the fixed\n",
        "      initialization of the spectra.\n",
        "\n",
        "  Returns:\n",
        "    a 5-tuple of initial parameters:\n",
        "        weights: The weights of the discrete measure (m,); real\n",
        "        pos_spectrum: initial log values of pos spectrum (m, n); real\n",
        "        neg_spectrum: initial log values of pos spectrum (m, n); real\n",
        "        block_ul: the upper left block of H (m, 2n, 2n); complex\n",
        "        block_ur: the upper right block of H (m, 2n, f - 2n); complex\n",
        "  \"\"\"\n",
        "  subkeys = random.split(key, 7)\n",
        "  weights = sigma_weights * random.normal(subkeys[0], (m,))\n",
        "  # Initial pos spectra are all (init_spectrum + 1 / n) and\n",
        "  # negative ones are all (init_spectrum)\n",
        "  # We work with logs of desired spectra to ensure the correct signs later\n",
        "  pos_spectrum = jnp.log(init_spectrum + 1. / n)\n",
        "  pos_spectrum += sigma_spectrum * random.normal(subkeys[1], (m, n))\n",
        "  neg_spectrum = jnp.log(init_spectrum)\n",
        "  neg_spectrum += sigma_spectrum * random.normal(subkeys[2], (m, n))\n",
        "\n",
        "\n",
        "  # Upper right block of Hermitian uniformly at random from\n",
        "  # \\{x + i y | -pi \\le x, y \\le pi \\}\n",
        "  # Compute lower left as conjugate transpose\n",
        "  block_ur = random.uniform(subkeys[3], (m, 2 * n, f - 2 * n),\n",
        "                            minval=-jnp.pi, maxval=jnp.pi)\n",
        "  block_ur += 1J * random.uniform(subkeys[4], (m, 2 * n, f - 2 * n),\n",
        "                                  minval=-jnp.pi, maxval=jnp.pi)\n",
        "  # Upper left block paramaterized as block_ul + block_ul^{\\dagger}\n",
        "  # will set diagonal to zero explicitly\n",
        "  block_ul = random.uniform(subkeys[5], (m, 2 * n, 2 * n),\n",
        "                            minval=-jnp.pi, maxval=jnp.pi)\n",
        "  block_ul += 1J * random.uniform(subkeys[6], (m, 2 * n, 2 * n),\n",
        "                                  minval=-jnp.pi, maxval=jnp.pi)\n",
        "  return weights, pos_spectrum, neg_spectrum, block_ul, block_ur\n",
        "\n",
        "\n",
        "# =============================================================================\n",
        "# STEPS TO COMPOSE ACTION (AND BOUNDEDNESS FUNCTIONAL) FROM PARAMETERS\n",
        "# =============================================================================\n",
        "\n",
        "def make_hamiltonian(block_ul: jnp.ndarray,\n",
        "                     block_ur: jnp.ndarray) -> jnp.ndarray:\n",
        "  \"\"\"Put together the full Hamiltonian from blocks.\n",
        "\n",
        "  We ensure that Hamiltonians H are hermitian.\n",
        "  Thereby, - i H are anti-hermitian and exp(-i H) is unitary.\n",
        "\n",
        "  Args:\n",
        "    block_ul: The upper left block is of shape (m, 2n, 2n)\n",
        "    block_ur: The upper right block is of shape (m, 2n, f - 2n)\n",
        "\n",
        "  Returns:\n",
        "    The stack of full Hamiltonians of shape (m, f, f)\n",
        "  \"\"\"\n",
        "  m = block_ul.shape[0]\n",
        "  two_n = block_ul.shape[-1]\n",
        "  f = block_ur.shape[-1] + two_n\n",
        "  # compute upper left block as A + A^{\\dagger} and set diag to 0\n",
        "  block_ul = block_ul + jnp.swapaxes(jnp.conj(block_ul), 1, 2)\n",
        "  block_ul *= (1 - jnp.eye(two_n)[jnp.newaxis, ...])\n",
        "  # put pieces together\n",
        "  hamiltonian = jnp.zeros((m, f, f), dtype=jnp.complex64)\n",
        "  hamiltonian = index_update(hamiltonian, index[:, :two_n, :two_n], block_ul)\n",
        "  hamiltonian = index_update(hamiltonian, index[:, :two_n, two_n:], block_ur)\n",
        "  block_ur = jnp.swapaxes(jnp.conj(block_ur), 1, 2)\n",
        "  hamiltonian = index_update(hamiltonian, index[:, two_n:, :two_n], block_ur)\n",
        "  return hamiltonian\n",
        "\n",
        "\n",
        "def make_spectra(pos_spectrum: jnp.ndarray,\n",
        "                 neg_spectrum: jnp.ndarray) -> jnp.ndarray:\n",
        "  \"\"\"Compute actual spectra from optimization parameters.\n",
        "\n",
        "  The spectra have to have n positive and n negative eigenvalues\n",
        "  and satisfy the trace constraint, which we ensure here.\n",
        "\n",
        "  Args:\n",
        "    pos_spectrum: Optimization parameters for positive eigenvalues.\n",
        "    neg_spectrum: Optimization parameters for negative eigenvalues.\n",
        "\n",
        "  Returns:\n",
        "    Full (m, 2 n) array of the m spectra\n",
        "  \"\"\"\n",
        "  spectra = jnp.concatenate((jnp.exp(pos_spectrum), - jnp.exp(neg_spectrum)), 1)\n",
        "  return spectra / jnp.sum(spectra, axis=1)[..., jnp.newaxis]\n",
        "\n",
        "\n",
        "def make_xs(spectra: jnp.ndarray, hamiltonian: jnp.ndarray) -> jnp.ndarray:\n",
        "  \"\"\"Generate the m spacetime points.\n",
        "\n",
        "  Args:\n",
        "    spectra: The spectra of the m points.\n",
        "    hamiltonian: The Hamiltonian matrices.\n",
        "\n",
        "  Returns:\n",
        "    (m, f, f) stack of m spacetime points\n",
        "  \"\"\"\n",
        "  m, two_n = spectra.shape\n",
        "  f = hamiltonian.shape[-1]\n",
        "  # (m, f, f), unitary <- expm(anti-hermitian)\n",
        "  unitary = vmap(expm)(- 1J * hamiltonian)\n",
        "  # (m, f)\n",
        "  xs = vmap(jnp.diag)(jnp.concatenate((spectra, jnp.zeros((m, f - two_n))), 1))\n",
        "  # (m, f, f), hermitian (U_i x_i U_i^{\\dagger})\n",
        "  xs = jnp.einsum('...ij,...jk,...lk->...il', unitary, xs, jnp.conj(unitary))\n",
        "  return xs\n",
        "\n",
        "\n",
        "def make_xs_and_weights(params: Params) -> Tuple[jnp.ndarray, jnp.ndarray]:\n",
        "  \"\"\"Get the spacetime points from the current parameters.\n",
        "\n",
        "  Args:\n",
        "    params: The tuple of parameters (weights, positive spectrum,\n",
        "        negative spectrum, block_ul, block_ur).\n",
        "\n",
        "  Returns:\n",
        "    (m, f, f) array with a stack of m spacetime points of dimensions (f, f)\n",
        "  \"\"\"\n",
        "  # (m, n), (m, n), (m, 2n, 2n), (m, 2n, f - 2n)\n",
        "  weights, pos_spectrum, neg_spectrum, block_ul, block_ur = params\n",
        "  # Scale weights into [0,1] and sum to 1\n",
        "  weights = softmax(weights)\n",
        "  # (m, 2n)\n",
        "  spectra = make_spectra(pos_spectrum, neg_spectrum)\n",
        "  # (m, f, f), hermitian\n",
        "  hamiltonian = make_hamiltonian(block_ul, block_ur)\n",
        "  # (m, f, f), hermitian\n",
        "  return make_xs(spectra, hamiltonian), weights\n",
        "\n",
        "\n",
        "def make_lagrangian_n(xs: jnp.ndarray, i: int, j: int, two_n: int) -> float:\n",
        "  \"\"\"The Lagrangian for a single pair of spacetime points for n >= 1.\n",
        "\n",
        "  Args:\n",
        "    xs: (m, f, f) array of all the spacetime points.\n",
        "    i: Index for first point.\n",
        "    j: Index for second point.\n",
        "    two_n: 2n (2 times the spin dimension)\n",
        "\n",
        "  Returns:\n",
        "    value of the Lagrangian\n",
        "  \"\"\"\n",
        "  xij = xs[i] @ xs[j]\n",
        "  spec = jnp.sort(jnp.abs(jnp.linalg.eigvals(xij)))[-two_n:]\n",
        "  bnd = jnp.sum(spec) ** 2\n",
        "  return jnp.sum(spec ** 2) - bnd / two_n\n",
        "\n",
        "\n",
        "def make_lagrangian_1(xs: jnp.ndarray, i: int, j: int, two_n: int) -> float:\n",
        "  \"\"\"The Lagrangian for a single pair of spacetime points for n = 1.\n",
        "\n",
        "  Args:\n",
        "    xs: (m, f, f) array of all the spacetime points.\n",
        "    i: Index for first point.\n",
        "    j: Index for second point.\n",
        "    two_n: 2n (2 times the spin dimension); unused here, kept for compatibility.\n",
        "\n",
        "  Returns:\n",
        "    value of the Lagrangian\n",
        "  \"\"\"\n",
        "  xij = xs[i] @ xs[j]\n",
        "  tmp = jnp.real(jnp.trace(xij) ** 2)\n",
        "  return relu(jnp.real(jnp.trace(xij @ xij)) - tmp / 2.)\n",
        "\n",
        "\n",
        "def action(params: Params) -> float:\n",
        "  \"\"\"The action.\n",
        "\n",
        "  Args:\n",
        "    params: The 5-tuple of parameters (weights, positive spectrum,\n",
        "        negative spectrum, block_ul, block_ur).\n",
        "\n",
        "  Returns:\n",
        "    single float for the value of the action\n",
        "  \"\"\"\n",
        "  xs, weights = make_xs_and_weights(params)\n",
        "  # weighted sum of Lagrangian for pairs\n",
        "  m, two_n, _ = params[-2].shape\n",
        "  if two_n == 2:\n",
        "    make_lag = vmap(make_lagrangian_1, (None, 0, 0, None))\n",
        "  else:\n",
        "    make_lag = vmap(make_lagrangian_n, (None, 0, 0, None))\n",
        "  # Only looking at upper triangle (without diagonal)\n",
        "  rows, cols = jnp.triu_indices(m, k=1)\n",
        "  lag_ij = make_lag(xs, rows, cols, two_n)\n",
        "  act = 2 * jnp.sum(weights[rows] * weights[cols] * lag_ij)\n",
        "  # Add diagonal\n",
        "  diag = jnp.arange(m)\n",
        "  lag_ij = make_lag(xs, diag, diag, two_n)\n",
        "  act += jnp.sum(weights ** 2 * lag_ij)\n",
        "  return act\n"
      ],
      "metadata": {
        "id": "0AS7_0an8aQt"
      },
      "execution_count": null,
      "outputs": []
    },
    {
      "cell_type": "code",
      "source": [
        "f = 3\n",
        "mask_exp_pos = [[] for _ in range(f-1)]\n",
        "for i in range(f-1):\n",
        "  for j in range(i+1):\n",
        "       mask_exp_pos[i].append((i,j))\n",
        "\n",
        "mask_exp_neg = [[] for _ in range(f-1)]\n",
        "for i in range(1,f):\n",
        "  for j in range(1,i+1):\n",
        "       mask_exp_neg[i-1].append((i,j))\n",
        "\n",
        "mask_sin = [[] for _ in range(f-1)]\n",
        "for k in range(f):\n",
        "  #first add the terms on the superdiagonal (-sin)\n",
        "  if k != f-1:\n",
        "    mask_sin_pos[k].append((k,k+1))\n",
        "  #then add the remaining (+sin) terms\n",
        "  for i in range(k,f):\n",
        "    for j in range(k):\n",
        "      mask_sin_pos[k-1].append(((i,j)))\n",
        "\n"
      ],
      "metadata": {
        "colab": {
          "base_uri": "https://localhost:8080/"
        },
        "id": "efq1p5O2Dl2o",
        "outputId": "486e4af8-3181-4783-d32e-41313e448004"
      },
      "execution_count": 4,
      "outputs": [
        {
          "output_type": "stream",
          "name": "stdout",
          "text": [
            "[[(0, 1)], [(1, 2)]]\n",
            "[[(0, 1), (1, 0), (2, 0)], [(1, 2), (2, 0), (2, 1)]]\n"
          ]
        }
      ]
    },
    {
      "cell_type": "code",
      "source": [
        "f = 4\n",
        "band_number =  3 #from 1 to n (number of eigenvalues)\n",
        "\n",
        "from jax.experimental import sparse\n",
        "\n",
        "\n",
        "mask_exp_pos_coordinates =[[] for _ in range(f-band_number)]\n",
        "for i in range(f-band_number):\n",
        "  for j in range(i+1):\n",
        "       mask_exp_pos_coordinates[i].append([i+band_number-1,j+band_number-1])\n",
        "\n",
        "mask_exp_neg_coordinates = [[] for _ in range(f-band_number)]\n",
        "for i in range(1,f-band_number + 1):\n",
        "  for j in range(1,i+1):\n",
        "       mask_exp_neg_coordinates[i-1].append([i+band_number-1,j+band_number-1])\n",
        "\n",
        "mask_sin_coordinates = [[] for _ in range(f-band_number)]\n",
        "for k in range(f-band_number+1):\n",
        "  #first add the terms on the superdiagonal (-sin)\n",
        "  if k != f-band_number:\n",
        "    mask_sin_coordinates[k].append([k+band_number-1,k+1+band_number-1])\n",
        "  #then add the remaining (+sin) terms\n",
        "  for i in range(k,f-band_number+1):\n",
        "    for j in range(k):\n",
        "      mask_sin_coordinates[k-1].append([i+band_number-1,j+band_number-1])\n",
        "\n",
        "def make_mask_matrices (mask_coordinates):\n",
        "  f = len(mask_coordinates) + band_number\n",
        "  print(f)\n",
        "  mask_matrices = np.empty((f-band_number), object)\n",
        "  for i in range(f-band_number):\n",
        "    coordinates = mask_coordinates[i]\n",
        "    num_coordinates = len(coordinates)\n",
        "    data = jnp.ones(num_coordinates)\n",
        "    mask_matrices[i] = sparse.BCOO((data, jnp.array(coordinates)), shape=(f, f))\n",
        "  return mask_matrices\n",
        "\n",
        "masks =\n",
        "\n",
        "#now remember you have to add the diagonal terms in your overall unitaries at the end"
      ],
      "metadata": {
        "colab": {
          "base_uri": "https://localhost:8080/"
        },
        "id": "K3Mt8tTe66X8",
        "outputId": "34767bcd-5a0b-4914-827a-3fb013c3cb9a"
      },
      "execution_count": 143,
      "outputs": [
        {
          "output_type": "stream",
          "name": "stdout",
          "text": [
            "4\n",
            "[[0. 0. 0. 0.]\n",
            " [0. 0. 0. 0.]\n",
            " [0. 0. 0. 1.]\n",
            " [0. 0. 1. 0.]]\n"
          ]
        }
      ]
    },
    {
      "cell_type": "code",
      "source": [],
      "metadata": {
        "colab": {
          "base_uri": "https://localhost:8080/"
        },
        "id": "KnJ5jwchYwW8",
        "outputId": "b0c95efa-396f-4ce3-bc43-892d52c4042b"
      },
      "execution_count": 145,
      "outputs": [
        {
          "output_type": "stream",
          "name": "stdout",
          "text": [
            "[[0. 1. 0.]\n",
            " [0. 0. 1.]\n",
            " [0. 0. 0.]]\n"
          ]
        }
      ]
    },
    {
      "cell_type": "code",
      "source": [
        "\n",
        "import numpy as np\n",
        "\n",
        "# Sample input: list of coordinates and corresponding values\n",
        "coordinates_list = [\n",
        "    [(0, 1), (1, 2)],  # Coordinates for the first matrix\n",
        "    [(0, 0), (2, 2)],  # Coordinates for the second matrix\n",
        "    [(1, 1)]           # Coordinates for the third matrix\n",
        "]\n",
        "\n",
        "values = np.array([1, 1, 1])  # Values to multiply each matrix\n",
        "\n",
        "# Determine the shape of the final matrices (e.g., 3x3 for this example)\n",
        "shape = (3, 3)\n",
        "num_matrices = len(coordinates_list)\n",
        "\n",
        "# Flatten the list of coordinates and create arrays of indices\n",
        "all_coords = np.array([coord for coords in coordinates_list for coord in coords])\n",
        "row_indices = all_coords[:, 0]\n",
        "col_indices = all_coords[:, 1]\n",
        "matrix_indices = np.repeat(np.arange(num_matrices), [len(coords) for coords in coordinates_list])\n",
        "\n",
        "# Initialize an array to hold the mask for all matrices\n",
        "masks = np.zeros((num_matrices, *shape), dtype=np.float32)\n",
        "\n",
        "# Set the appropriate elements in the masks array to 1\n",
        "masks[matrix_indices, row_indices, col_indices] = 1\n",
        "\n",
        "# Multiply each matrix in masks by the corresponding value\n",
        "weighted_masks = masks * values[:, np.newaxis, np.newaxis]\n",
        "\n",
        "# Sum all the matrices together\n",
        "sum_matrix = np.sum(weighted_masks, axis=0)\n",
        "\n",
        "print(\"Sum of matrices:\")\n",
        "print(sum_matrix)"
      ],
      "metadata": {
        "colab": {
          "base_uri": "https://localhost:8080/"
        },
        "id": "OB9Ag_ZMG4Cg",
        "outputId": "4c650f97-f669-4fa5-8e29-cafc6abf43cf"
      },
      "execution_count": 92,
      "outputs": [
        {
          "output_type": "stream",
          "name": "stdout",
          "text": [
            "Sum of matrices:\n",
            "[[1. 1. 0.]\n",
            " [0. 1. 1.]\n",
            " [0. 0. 1.]]\n"
          ]
        }
      ]
    },
    {
      "cell_type": "markdown",
      "source": [
        "tasks:\n",
        "0) Replace sin_neg and sin_pos by sin\n",
        "1) transform the lists of lists of coordinates into a numpy  array of sparse matrices\n",
        "2) Extract the correct amount of alphas from the total sequence\n",
        "3) at each step, make  the right modification of the sparse matrices to get the correct masks\n",
        "4) transform a mask into by adding an extra  dimension to your array to have a array of matrices for each m\n",
        "5) modify the multiplications"
      ],
      "metadata": {
        "id": "4Qjwzkfj0q3d"
      }
    },
    {
      "cell_type": "code",
      "source": [
        "f = 5\n",
        "band_number = 1\n",
        "from scipy import sparse\n",
        "\n",
        "mask_cos_exp_pos_coordinates =[[] for _ in range(f-band_number)]\n",
        "for i in range(f-band_number):\n",
        "  for j in range(i+1):\n",
        "      mask_cos_exp_pos_coordinates[i].append([i+band_number-1,j+band_number-1])\n",
        "\n",
        "mask_cos_exp_neg_coordinates = [[] for _ in range(f-band_number)]\n",
        "for i in range(1,f-band_number + 1):\n",
        "  for j in range(1,i+1):\n",
        "      mask_cos_exp_neg_coordinates[i-1].append([i+band_number-1,j+band_number-1])\n",
        "\n",
        "mask_sin_coordinates = [[[],[]] for _ in range(f-band_number)]\n",
        "for k in range(f-band_number+1):\n",
        "  #first add the terms on the superdiagonal (-sin)\n",
        "  if k != f-band_number:\n",
        "    mask_sin_coordinates[k][0].append(k+band_number-1)\n",
        "    mask_sin_coordinates[k][1].append(k+1+band_number-1)\n",
        "  #then add the remaining (+sin) terms\n",
        "  for i in range(k,f-band_number+1):\n",
        "    for j in range(k):\n",
        "      mask_sin_coordinates[k-1][0].append(i+band_number-1)\n",
        "      mask_sin_coordinates[k-1][1].append(j+band_number-1)\n",
        "\n",
        "def make_mask_matrices (mask_coordinates):\n",
        "  f = len(mask_coordinates) + band_number\n",
        "  print(f)\n",
        "  mask_matrices = np.empty((f-band_number), object)\n",
        "  for i in range(f-band_number):\n",
        "    coordinates = mask_coordinates[i]\n",
        "    row_coordinates, col_coordinates = coordinates[0],coordinates[1]\n",
        "    num_coordinates = len(row_coordinates)\n",
        "    data = jnp.ones(num_coordinates)\n",
        "    mask_matrices[i] = sparse.coo_matrix((data, (row_coordinates,col_coordinates)), shape=(f, f)).toarray()\n",
        "  return mask_matrices\n",
        "\n",
        "#mask_cos_exp_pos_matrices = make_mask_matrices(mask_cos_exp_pos_coordinates)\n",
        "#mask_cos_exp_neg_matrices = make_mask_matrices(mask_cos_exp_neg_coordinates)\n",
        "mask_sin_matrices = make_mask_matrices(mask_sin_coordinates)\n",
        "\n",
        "print(jnp.tile(mask_sin_matrices,(2,1,1,1)))\n",
        "#mask_cos_exp_pos_matrices.dtype"
      ],
      "metadata": {
        "colab": {
          "base_uri": "https://localhost:8080/",
          "height": 703
        },
        "id": "Bad9FAtQ4dBW",
        "outputId": "6b40dbea-c779-4e17-c88e-1bafa74132e2"
      },
      "execution_count": 29,
      "outputs": [
        {
          "output_type": "stream",
          "name": "stdout",
          "text": [
            "5\n"
          ]
        },
        {
          "output_type": "error",
          "ename": "TypeError",
          "evalue": "Value '[[[[[[[[array([[0., 1., 0., 0., 0.],\n               [1., 0., 0., 0., 0.],\n               [1., 0., 0., 0., 0.],\n               [1., 0., 0., 0., 0.],\n               [1., 0., 0., 0., 0.]], dtype=float32)\n        array([[0., 0., 0., 0., 0.],\n               [0., 0., 1., 0., 0.],\n               [1., 1., 0., 0., 0.],\n               [1., 1., 0., 0., 0.],\n               [1., 1., 0., 0., 0.]], dtype=float32)\n        array([[0., 0., 0., 0., 0.],\n               [0., 0., 0., 0., 0.],\n               [0., 0., 0., 1., 0.],\n               [1., 1., 1., 0., 0.],\n               [1., 1., 1., 0., 0.]], dtype=float32)\n        array([[0., 0., 0., 0., 0.],\n               [0., 0., 0., 0., 0.],\n               [0., 0., 0., 0., 0.],\n               [0., 0., 0., 0., 1.],\n               [1., 1., 1., 1., 0.]], dtype=float32)]]]]]]]]' with dtype object is not a valid JAX array type. Only arrays of numeric types are supported by JAX.",
          "traceback": [
            "\u001b[0;31m---------------------------------------------------------------------------\u001b[0m",
            "\u001b[0;31mTypeError\u001b[0m                                 Traceback (most recent call last)",
            "\u001b[0;32m<ipython-input-29-ee6ac2e9632f>\u001b[0m in \u001b[0;36m<cell line: 43>\u001b[0;34m()\u001b[0m\n\u001b[1;32m     41\u001b[0m \u001b[0mmask_sin_matrices\u001b[0m \u001b[0;34m=\u001b[0m \u001b[0mmake_mask_matrices\u001b[0m\u001b[0;34m(\u001b[0m\u001b[0mmask_sin_coordinates\u001b[0m\u001b[0;34m)\u001b[0m\u001b[0;34m\u001b[0m\u001b[0;34m\u001b[0m\u001b[0m\n\u001b[1;32m     42\u001b[0m \u001b[0;34m\u001b[0m\u001b[0m\n\u001b[0;32m---> 43\u001b[0;31m \u001b[0mprint\u001b[0m\u001b[0;34m(\u001b[0m\u001b[0mjnp\u001b[0m\u001b[0;34m.\u001b[0m\u001b[0mtile\u001b[0m\u001b[0;34m(\u001b[0m\u001b[0mmask_sin_matrices\u001b[0m\u001b[0;34m,\u001b[0m\u001b[0;34m(\u001b[0m\u001b[0;36m2\u001b[0m\u001b[0;34m,\u001b[0m\u001b[0;36m1\u001b[0m\u001b[0;34m,\u001b[0m\u001b[0;36m1\u001b[0m\u001b[0;34m,\u001b[0m\u001b[0;36m1\u001b[0m\u001b[0;34m)\u001b[0m\u001b[0;34m)\u001b[0m\u001b[0;34m)\u001b[0m\u001b[0;34m\u001b[0m\u001b[0;34m\u001b[0m\u001b[0m\n\u001b[0m\u001b[1;32m     44\u001b[0m \u001b[0;31m#mask_cos_exp_pos_matrices.dtype\u001b[0m\u001b[0;34m\u001b[0m\u001b[0;34m\u001b[0m\u001b[0m\n",
            "\u001b[0;32m/usr/local/lib/python3.10/dist-packages/jax/_src/numpy/lax_numpy.py\u001b[0m in \u001b[0;36mtile\u001b[0;34m(A, reps)\u001b[0m\n\u001b[1;32m   1855\u001b[0m   \u001b[0mA_shape\u001b[0m \u001b[0;34m=\u001b[0m \u001b[0;34m(\u001b[0m\u001b[0;36m1\u001b[0m\u001b[0;34m,\u001b[0m\u001b[0;34m)\u001b[0m \u001b[0;34m*\u001b[0m \u001b[0;34m(\u001b[0m\u001b[0mlen\u001b[0m\u001b[0;34m(\u001b[0m\u001b[0mreps_tup\u001b[0m\u001b[0;34m)\u001b[0m \u001b[0;34m-\u001b[0m \u001b[0mndim\u001b[0m\u001b[0;34m(\u001b[0m\u001b[0mA\u001b[0m\u001b[0;34m)\u001b[0m\u001b[0;34m)\u001b[0m \u001b[0;34m+\u001b[0m \u001b[0mshape\u001b[0m\u001b[0;34m(\u001b[0m\u001b[0mA\u001b[0m\u001b[0;34m)\u001b[0m\u001b[0;34m\u001b[0m\u001b[0;34m\u001b[0m\u001b[0m\n\u001b[1;32m   1856\u001b[0m   \u001b[0mreps_tup\u001b[0m \u001b[0;34m=\u001b[0m \u001b[0;34m(\u001b[0m\u001b[0;36m1\u001b[0m\u001b[0;34m,\u001b[0m\u001b[0;34m)\u001b[0m \u001b[0;34m*\u001b[0m \u001b[0;34m(\u001b[0m\u001b[0mlen\u001b[0m\u001b[0;34m(\u001b[0m\u001b[0mA_shape\u001b[0m\u001b[0;34m)\u001b[0m \u001b[0;34m-\u001b[0m \u001b[0mlen\u001b[0m\u001b[0;34m(\u001b[0m\u001b[0mreps_tup\u001b[0m\u001b[0;34m)\u001b[0m\u001b[0;34m)\u001b[0m \u001b[0;34m+\u001b[0m \u001b[0mreps_tup\u001b[0m\u001b[0;34m\u001b[0m\u001b[0;34m\u001b[0m\u001b[0m\n\u001b[0;32m-> 1857\u001b[0;31m   result = broadcast_to(reshape(A, [j for i in A_shape for j in [1, i]]),\n\u001b[0m\u001b[1;32m   1858\u001b[0m                         [k for pair in zip(reps_tup, A_shape) for k in pair])\n\u001b[1;32m   1859\u001b[0m   \u001b[0;32mreturn\u001b[0m \u001b[0mreshape\u001b[0m\u001b[0;34m(\u001b[0m\u001b[0mresult\u001b[0m\u001b[0;34m,\u001b[0m \u001b[0mtuple\u001b[0m\u001b[0;34m(\u001b[0m\u001b[0mnp\u001b[0m\u001b[0;34m.\u001b[0m\u001b[0mmultiply\u001b[0m\u001b[0;34m(\u001b[0m\u001b[0mA_shape\u001b[0m\u001b[0;34m,\u001b[0m \u001b[0mreps_tup\u001b[0m\u001b[0;34m)\u001b[0m\u001b[0;34m)\u001b[0m\u001b[0;34m)\u001b[0m\u001b[0;34m\u001b[0m\u001b[0;34m\u001b[0m\u001b[0m\n",
            "\u001b[0;32m/usr/local/lib/python3.10/dist-packages/jax/_src/numpy/lax_numpy.py\u001b[0m in \u001b[0;36mbroadcast_to\u001b[0;34m(array, shape)\u001b[0m\n\u001b[1;32m   1227\u001b[0m \"\"\")\n\u001b[1;32m   1228\u001b[0m \u001b[0;32mdef\u001b[0m \u001b[0mbroadcast_to\u001b[0m\u001b[0;34m(\u001b[0m\u001b[0marray\u001b[0m\u001b[0;34m:\u001b[0m \u001b[0mArrayLike\u001b[0m\u001b[0;34m,\u001b[0m \u001b[0mshape\u001b[0m\u001b[0;34m:\u001b[0m \u001b[0mDimSize\u001b[0m \u001b[0;34m|\u001b[0m \u001b[0mShape\u001b[0m\u001b[0;34m)\u001b[0m \u001b[0;34m->\u001b[0m \u001b[0mArray\u001b[0m\u001b[0;34m:\u001b[0m\u001b[0;34m\u001b[0m\u001b[0;34m\u001b[0m\u001b[0m\n\u001b[0;32m-> 1229\u001b[0;31m   \u001b[0;32mreturn\u001b[0m \u001b[0mutil\u001b[0m\u001b[0;34m.\u001b[0m\u001b[0m_broadcast_to\u001b[0m\u001b[0;34m(\u001b[0m\u001b[0marray\u001b[0m\u001b[0;34m,\u001b[0m \u001b[0mshape\u001b[0m\u001b[0;34m)\u001b[0m\u001b[0;34m\u001b[0m\u001b[0;34m\u001b[0m\u001b[0m\n\u001b[0m\u001b[1;32m   1230\u001b[0m \u001b[0;34m\u001b[0m\u001b[0m\n\u001b[1;32m   1231\u001b[0m \u001b[0;34m\u001b[0m\u001b[0m\n",
            "\u001b[0;32m/usr/local/lib/python3.10/dist-packages/jax/_src/numpy/util.py\u001b[0m in \u001b[0;36m_broadcast_to\u001b[0;34m(arr, shape)\u001b[0m\n\u001b[1;32m    411\u001b[0m \u001b[0;32mdef\u001b[0m \u001b[0m_broadcast_to\u001b[0m\u001b[0;34m(\u001b[0m\u001b[0marr\u001b[0m\u001b[0;34m:\u001b[0m \u001b[0mArrayLike\u001b[0m\u001b[0;34m,\u001b[0m \u001b[0mshape\u001b[0m\u001b[0;34m:\u001b[0m \u001b[0mDimSize\u001b[0m \u001b[0;34m|\u001b[0m \u001b[0mShape\u001b[0m\u001b[0;34m)\u001b[0m \u001b[0;34m->\u001b[0m \u001b[0mArray\u001b[0m\u001b[0;34m:\u001b[0m\u001b[0;34m\u001b[0m\u001b[0;34m\u001b[0m\u001b[0m\n\u001b[1;32m    412\u001b[0m   \u001b[0mcheck_arraylike\u001b[0m\u001b[0;34m(\u001b[0m\u001b[0;34m\"broadcast_to\"\u001b[0m\u001b[0;34m,\u001b[0m \u001b[0marr\u001b[0m\u001b[0;34m)\u001b[0m\u001b[0;34m\u001b[0m\u001b[0;34m\u001b[0m\u001b[0m\n\u001b[0;32m--> 413\u001b[0;31m   \u001b[0marr\u001b[0m \u001b[0;34m=\u001b[0m \u001b[0marr\u001b[0m \u001b[0;32mif\u001b[0m \u001b[0misinstance\u001b[0m\u001b[0;34m(\u001b[0m\u001b[0marr\u001b[0m\u001b[0;34m,\u001b[0m \u001b[0mArray\u001b[0m\u001b[0;34m)\u001b[0m \u001b[0;32melse\u001b[0m \u001b[0mlax\u001b[0m\u001b[0;34m.\u001b[0m\u001b[0masarray\u001b[0m\u001b[0;34m(\u001b[0m\u001b[0marr\u001b[0m\u001b[0;34m)\u001b[0m\u001b[0;34m\u001b[0m\u001b[0;34m\u001b[0m\u001b[0m\n\u001b[0m\u001b[1;32m    414\u001b[0m   \u001b[0;32mif\u001b[0m \u001b[0;32mnot\u001b[0m \u001b[0misinstance\u001b[0m\u001b[0;34m(\u001b[0m\u001b[0mshape\u001b[0m\u001b[0;34m,\u001b[0m \u001b[0mtuple\u001b[0m\u001b[0;34m)\u001b[0m \u001b[0;32mand\u001b[0m \u001b[0mnp\u001b[0m\u001b[0;34m.\u001b[0m\u001b[0mndim\u001b[0m\u001b[0;34m(\u001b[0m\u001b[0mshape\u001b[0m\u001b[0;34m)\u001b[0m \u001b[0;34m==\u001b[0m \u001b[0;36m0\u001b[0m\u001b[0;34m:\u001b[0m\u001b[0;34m\u001b[0m\u001b[0;34m\u001b[0m\u001b[0m\n\u001b[1;32m    415\u001b[0m     \u001b[0mshape\u001b[0m \u001b[0;34m=\u001b[0m \u001b[0;34m(\u001b[0m\u001b[0mshape\u001b[0m\u001b[0;34m,\u001b[0m\u001b[0;34m)\u001b[0m\u001b[0;34m\u001b[0m\u001b[0;34m\u001b[0m\u001b[0m\n",
            "\u001b[0;32m/usr/local/lib/python3.10/dist-packages/jax/_src/lax/lax.py\u001b[0m in \u001b[0;36masarray\u001b[0;34m(x)\u001b[0m\n\u001b[1;32m    132\u001b[0m     \u001b[0;32mreturn\u001b[0m \u001b[0mx\u001b[0m\u001b[0;34m\u001b[0m\u001b[0;34m\u001b[0m\u001b[0m\n\u001b[1;32m    133\u001b[0m   \u001b[0;32mif\u001b[0m \u001b[0misinstance\u001b[0m\u001b[0;34m(\u001b[0m\u001b[0mx\u001b[0m\u001b[0;34m,\u001b[0m \u001b[0;34m(\u001b[0m\u001b[0mnp\u001b[0m\u001b[0;34m.\u001b[0m\u001b[0mndarray\u001b[0m\u001b[0;34m,\u001b[0m \u001b[0mnp\u001b[0m\u001b[0;34m.\u001b[0m\u001b[0mgeneric\u001b[0m\u001b[0;34m,\u001b[0m \u001b[0mbool\u001b[0m\u001b[0;34m,\u001b[0m \u001b[0mint\u001b[0m\u001b[0;34m,\u001b[0m \u001b[0mfloat\u001b[0m\u001b[0;34m,\u001b[0m \u001b[0mbuiltins\u001b[0m\u001b[0;34m.\u001b[0m\u001b[0mcomplex\u001b[0m\u001b[0;34m)\u001b[0m\u001b[0;34m)\u001b[0m\u001b[0;34m:\u001b[0m\u001b[0;34m\u001b[0m\u001b[0;34m\u001b[0m\u001b[0m\n\u001b[0;32m--> 134\u001b[0;31m     \u001b[0;32mreturn\u001b[0m \u001b[0m_convert_element_type\u001b[0m\u001b[0;34m(\u001b[0m\u001b[0mx\u001b[0m\u001b[0;34m,\u001b[0m \u001b[0mweak_type\u001b[0m\u001b[0;34m=\u001b[0m\u001b[0mdtypes\u001b[0m\u001b[0;34m.\u001b[0m\u001b[0mis_weakly_typed\u001b[0m\u001b[0;34m(\u001b[0m\u001b[0mx\u001b[0m\u001b[0;34m)\u001b[0m\u001b[0;34m)\u001b[0m\u001b[0;34m\u001b[0m\u001b[0;34m\u001b[0m\u001b[0m\n\u001b[0m\u001b[1;32m    135\u001b[0m   \u001b[0;32melse\u001b[0m\u001b[0;34m:\u001b[0m\u001b[0;34m\u001b[0m\u001b[0;34m\u001b[0m\u001b[0m\n\u001b[1;32m    136\u001b[0m     \u001b[0;32mraise\u001b[0m \u001b[0mTypeError\u001b[0m\u001b[0;34m(\u001b[0m\u001b[0;34mf\"asarray: expected ArrayLike, got {x} of type {type(x)}.\"\u001b[0m\u001b[0;34m)\u001b[0m\u001b[0;34m\u001b[0m\u001b[0;34m\u001b[0m\u001b[0m\n",
            "\u001b[0;32m/usr/local/lib/python3.10/dist-packages/jax/_src/lax/lax.py\u001b[0m in \u001b[0;36m_convert_element_type\u001b[0;34m(operand, new_dtype, weak_type)\u001b[0m\n\u001b[1;32m    528\u001b[0m   \u001b[0;31m# Don't canonicalize old_dtype because x64 context might cause\u001b[0m\u001b[0;34m\u001b[0m\u001b[0;34m\u001b[0m\u001b[0m\n\u001b[1;32m    529\u001b[0m   \u001b[0;31m# un-canonicalized operands to be passed in.\u001b[0m\u001b[0;34m\u001b[0m\u001b[0;34m\u001b[0m\u001b[0m\n\u001b[0;32m--> 530\u001b[0;31m   \u001b[0mold_dtype\u001b[0m \u001b[0;34m=\u001b[0m \u001b[0mdtypes\u001b[0m\u001b[0;34m.\u001b[0m\u001b[0mdtype\u001b[0m\u001b[0;34m(\u001b[0m\u001b[0moperand\u001b[0m\u001b[0;34m,\u001b[0m \u001b[0mcanonicalize\u001b[0m\u001b[0;34m=\u001b[0m\u001b[0;32mFalse\u001b[0m\u001b[0;34m)\u001b[0m\u001b[0;34m\u001b[0m\u001b[0;34m\u001b[0m\u001b[0m\n\u001b[0m\u001b[1;32m    531\u001b[0m   \u001b[0mold_weak_type\u001b[0m \u001b[0;34m=\u001b[0m \u001b[0mdtypes\u001b[0m\u001b[0;34m.\u001b[0m\u001b[0mis_weakly_typed\u001b[0m\u001b[0;34m(\u001b[0m\u001b[0moperand\u001b[0m\u001b[0;34m)\u001b[0m\u001b[0;34m\u001b[0m\u001b[0;34m\u001b[0m\u001b[0m\n\u001b[1;32m    532\u001b[0m   \u001b[0;32mif\u001b[0m \u001b[0mnew_dtype\u001b[0m \u001b[0;32mis\u001b[0m \u001b[0;32mNone\u001b[0m\u001b[0;34m:\u001b[0m\u001b[0;34m\u001b[0m\u001b[0;34m\u001b[0m\u001b[0m\n",
            "\u001b[0;32m/usr/local/lib/python3.10/dist-packages/jax/_src/dtypes.py\u001b[0m in \u001b[0;36mdtype\u001b[0;34m(x, canonicalize)\u001b[0m\n\u001b[1;32m    661\u001b[0m       \u001b[0;32mraise\u001b[0m \u001b[0mTypeError\u001b[0m\u001b[0;34m(\u001b[0m\u001b[0;34mf\"Cannot determine dtype of {x}\"\u001b[0m\u001b[0;34m)\u001b[0m \u001b[0;32mfrom\u001b[0m \u001b[0merr\u001b[0m\u001b[0;34m\u001b[0m\u001b[0;34m\u001b[0m\u001b[0m\n\u001b[1;32m    662\u001b[0m   \u001b[0;32mif\u001b[0m \u001b[0mdt\u001b[0m \u001b[0;32mnot\u001b[0m \u001b[0;32min\u001b[0m \u001b[0m_jax_dtype_set\u001b[0m \u001b[0;32mand\u001b[0m \u001b[0;32mnot\u001b[0m \u001b[0missubdtype\u001b[0m\u001b[0;34m(\u001b[0m\u001b[0mdt\u001b[0m\u001b[0;34m,\u001b[0m \u001b[0mextended\u001b[0m\u001b[0;34m)\u001b[0m\u001b[0;34m:\u001b[0m\u001b[0;34m\u001b[0m\u001b[0;34m\u001b[0m\u001b[0m\n\u001b[0;32m--> 663\u001b[0;31m     raise TypeError(f\"Value '{x}' with dtype {dt} is not a valid JAX array \"\n\u001b[0m\u001b[1;32m    664\u001b[0m                     \"type. Only arrays of numeric types are supported by JAX.\")\n\u001b[1;32m    665\u001b[0m   \u001b[0;31m# TODO(jakevdp): fix return type annotation and remove this ignore.\u001b[0m\u001b[0;34m\u001b[0m\u001b[0;34m\u001b[0m\u001b[0m\n",
            "\u001b[0;31mTypeError\u001b[0m: Value '[[[[[[[[array([[0., 1., 0., 0., 0.],\n               [1., 0., 0., 0., 0.],\n               [1., 0., 0., 0., 0.],\n               [1., 0., 0., 0., 0.],\n               [1., 0., 0., 0., 0.]], dtype=float32)\n        array([[0., 0., 0., 0., 0.],\n               [0., 0., 1., 0., 0.],\n               [1., 1., 0., 0., 0.],\n               [1., 1., 0., 0., 0.],\n               [1., 1., 0., 0., 0.]], dtype=float32)\n        array([[0., 0., 0., 0., 0.],\n               [0., 0., 0., 0., 0.],\n               [0., 0., 0., 1., 0.],\n               [1., 1., 1., 0., 0.],\n               [1., 1., 1., 0., 0.]], dtype=float32)\n        array([[0., 0., 0., 0., 0.],\n               [0., 0., 0., 0., 0.],\n               [0., 0., 0., 0., 0.],\n               [0., 0., 0., 0., 1.],\n               [1., 1., 1., 1., 0.]], dtype=float32)]]]]]]]]' with dtype object is not a valid JAX array type. Only arrays of numeric types are supported by JAX."
          ]
        }
      ]
    },
    {
      "cell_type": "code",
      "source": [
        "a = jnp.array([[[1,0],[1,0]],[[0,1],[0,1]],[[0,2],[0,2]]] )\n",
        "b = jnp.tile(a, (3,1,1,1))\n",
        "values = jnp.array([[1,2,3], [3,4,4],[5,6,5]])\n",
        "values_b = values[:, :, jnp.newaxis,jnp.newaxis]\n",
        "\n",
        "c = b* values_b\n",
        "\n",
        "d = jnp.prod(c, axis =1)\n",
        "c = jnp.array([[1,0],[1,0]])\n",
        "d = jnp.tile(c,(3,1,1))\n",
        "#c = b*values_b\n",
        "print(d)\n",
        "\n"
      ],
      "metadata": {
        "colab": {
          "base_uri": "https://localhost:8080/"
        },
        "id": "Fn64a96g5znS",
        "outputId": "c92f6359-9324-4432-fd64-2ace95ede874"
      },
      "execution_count": 196,
      "outputs": [
        {
          "output_type": "stream",
          "name": "stdout",
          "text": [
            "[[[1 0]\n",
            "  [1 0]]\n",
            "\n",
            " [[1 0]\n",
            "  [1 0]]\n",
            "\n",
            " [[1 0]\n",
            "  [1 0]]]\n"
          ]
        }
      ]
    },
    {
      "cell_type": "code",
      "source": [
        "f = 4 ;m = 1; n = 2\n",
        "alphas = np.random.uniform(low=0, high=4*np.pi, size=(m, 2*n*(f-n)-n))\n",
        "betas = np.random.uniform(low=0, high=np.pi/2, size=(m, 2*n*(f-n)-n))\n",
        "make_unitary(alphas,betas,f, n, m)"
      ],
      "metadata": {
        "colab": {
          "base_uri": "https://localhost:8080/",
          "height": 1000
        },
        "id": "3xtXSNjG50gm",
        "outputId": "5e58be5c-f72f-4776-be32-12fc432f47de"
      },
      "execution_count": 206,
      "outputs": [
        {
          "output_type": "stream",
          "name": "stdout",
          "text": [
            "4\n",
            "4\n",
            "4\n"
          ]
        },
        {
          "output_type": "error",
          "ename": "TypeError",
          "evalue": "Value '[[[[[[[[BCOO(float32[4, 4], nse=1) BCOO(float32[4, 4], nse=2)\n        BCOO(float32[4, 4], nse=3)]]]]]]]]' with dtype object is not a valid JAX array type. Only arrays of numeric types are supported by JAX.",
          "traceback": [
            "\u001b[0;31m---------------------------------------------------------------------------\u001b[0m",
            "\u001b[0;31mTypeError\u001b[0m                                 Traceback (most recent call last)",
            "\u001b[0;32m<ipython-input-206-40bb8ded8056>\u001b[0m in \u001b[0;36m<cell line: 4>\u001b[0;34m()\u001b[0m\n\u001b[1;32m      2\u001b[0m \u001b[0malphas\u001b[0m \u001b[0;34m=\u001b[0m \u001b[0mnp\u001b[0m\u001b[0;34m.\u001b[0m\u001b[0mrandom\u001b[0m\u001b[0;34m.\u001b[0m\u001b[0muniform\u001b[0m\u001b[0;34m(\u001b[0m\u001b[0mlow\u001b[0m\u001b[0;34m=\u001b[0m\u001b[0;36m0\u001b[0m\u001b[0;34m,\u001b[0m \u001b[0mhigh\u001b[0m\u001b[0;34m=\u001b[0m\u001b[0;36m4\u001b[0m\u001b[0;34m*\u001b[0m\u001b[0mnp\u001b[0m\u001b[0;34m.\u001b[0m\u001b[0mpi\u001b[0m\u001b[0;34m,\u001b[0m \u001b[0msize\u001b[0m\u001b[0;34m=\u001b[0m\u001b[0;34m(\u001b[0m\u001b[0mm\u001b[0m\u001b[0;34m,\u001b[0m \u001b[0;36m2\u001b[0m\u001b[0;34m*\u001b[0m\u001b[0mn\u001b[0m\u001b[0;34m*\u001b[0m\u001b[0;34m(\u001b[0m\u001b[0mf\u001b[0m\u001b[0;34m-\u001b[0m\u001b[0mn\u001b[0m\u001b[0;34m)\u001b[0m\u001b[0;34m-\u001b[0m\u001b[0mn\u001b[0m\u001b[0;34m)\u001b[0m\u001b[0;34m)\u001b[0m\u001b[0;34m\u001b[0m\u001b[0;34m\u001b[0m\u001b[0m\n\u001b[1;32m      3\u001b[0m \u001b[0mbetas\u001b[0m \u001b[0;34m=\u001b[0m \u001b[0mnp\u001b[0m\u001b[0;34m.\u001b[0m\u001b[0mrandom\u001b[0m\u001b[0;34m.\u001b[0m\u001b[0muniform\u001b[0m\u001b[0;34m(\u001b[0m\u001b[0mlow\u001b[0m\u001b[0;34m=\u001b[0m\u001b[0;36m0\u001b[0m\u001b[0;34m,\u001b[0m \u001b[0mhigh\u001b[0m\u001b[0;34m=\u001b[0m\u001b[0mnp\u001b[0m\u001b[0;34m.\u001b[0m\u001b[0mpi\u001b[0m\u001b[0;34m/\u001b[0m\u001b[0;36m2\u001b[0m\u001b[0;34m,\u001b[0m \u001b[0msize\u001b[0m\u001b[0;34m=\u001b[0m\u001b[0;34m(\u001b[0m\u001b[0mm\u001b[0m\u001b[0;34m,\u001b[0m \u001b[0;36m2\u001b[0m\u001b[0;34m*\u001b[0m\u001b[0mn\u001b[0m\u001b[0;34m*\u001b[0m\u001b[0;34m(\u001b[0m\u001b[0mf\u001b[0m\u001b[0;34m-\u001b[0m\u001b[0mn\u001b[0m\u001b[0;34m)\u001b[0m\u001b[0;34m-\u001b[0m\u001b[0mn\u001b[0m\u001b[0;34m)\u001b[0m\u001b[0;34m)\u001b[0m\u001b[0;34m\u001b[0m\u001b[0;34m\u001b[0m\u001b[0m\n\u001b[0;32m----> 4\u001b[0;31m \u001b[0mmake_unitary\u001b[0m\u001b[0;34m(\u001b[0m\u001b[0malphas\u001b[0m\u001b[0;34m,\u001b[0m\u001b[0mbetas\u001b[0m\u001b[0;34m,\u001b[0m\u001b[0mf\u001b[0m\u001b[0;34m,\u001b[0m \u001b[0mn\u001b[0m\u001b[0;34m,\u001b[0m \u001b[0mm\u001b[0m\u001b[0;34m)\u001b[0m\u001b[0;34m\u001b[0m\u001b[0;34m\u001b[0m\u001b[0m\n\u001b[0m",
            "\u001b[0;32m<ipython-input-203-3404cbb5e3ec>\u001b[0m in \u001b[0;36mmake_unitary\u001b[0;34m(alphas, betas, f, n, m)\u001b[0m\n\u001b[1;32m    158\u001b[0m \u001b[0;34m\u001b[0m\u001b[0m\n\u001b[1;32m    159\u001b[0m       \u001b[0;31m#reshape the arrays to multiply them\u001b[0m\u001b[0;34m\u001b[0m\u001b[0;34m\u001b[0m\u001b[0m\n\u001b[0;32m--> 160\u001b[0;31m       \u001b[0mmask_reshaped\u001b[0m \u001b[0;34m=\u001b[0m \u001b[0mjnp\u001b[0m\u001b[0;34m.\u001b[0m\u001b[0mtile\u001b[0m\u001b[0;34m(\u001b[0m\u001b[0mmask\u001b[0m\u001b[0;34m,\u001b[0m\u001b[0;34m(\u001b[0m\u001b[0mm\u001b[0m\u001b[0;34m,\u001b[0m\u001b[0;36m1\u001b[0m\u001b[0;34m,\u001b[0m\u001b[0;36m1\u001b[0m\u001b[0;34m,\u001b[0m\u001b[0;36m1\u001b[0m\u001b[0;34m)\u001b[0m\u001b[0;34m)\u001b[0m\u001b[0;34m\u001b[0m\u001b[0;34m\u001b[0m\u001b[0m\n\u001b[0m\u001b[1;32m    161\u001b[0m       \u001b[0mbuilding_block_reshaped\u001b[0m \u001b[0;34m=\u001b[0m \u001b[0mbuilding_block\u001b[0m\u001b[0;34m[\u001b[0m\u001b[0;34m:\u001b[0m\u001b[0;34m,\u001b[0m\u001b[0;34m:\u001b[0m\u001b[0;34m,\u001b[0m\u001b[0mjnp\u001b[0m\u001b[0;34m.\u001b[0m\u001b[0mnewaxis\u001b[0m\u001b[0;34m,\u001b[0m\u001b[0mjnp\u001b[0m\u001b[0;34m.\u001b[0m\u001b[0mnewaxis\u001b[0m\u001b[0;34m]\u001b[0m\u001b[0;34m\u001b[0m\u001b[0;34m\u001b[0m\u001b[0m\n\u001b[1;32m    162\u001b[0m       \u001b[0mband_matrix_building_block\u001b[0m \u001b[0;34m=\u001b[0m \u001b[0mmask_reshaped\u001b[0m\u001b[0;34m*\u001b[0m \u001b[0mbuilding_block_reshaped\u001b[0m\u001b[0;34m\u001b[0m\u001b[0;34m\u001b[0m\u001b[0m\n",
            "\u001b[0;32m/usr/local/lib/python3.10/dist-packages/jax/_src/numpy/lax_numpy.py\u001b[0m in \u001b[0;36mtile\u001b[0;34m(A, reps)\u001b[0m\n\u001b[1;32m   1855\u001b[0m   \u001b[0mA_shape\u001b[0m \u001b[0;34m=\u001b[0m \u001b[0;34m(\u001b[0m\u001b[0;36m1\u001b[0m\u001b[0;34m,\u001b[0m\u001b[0;34m)\u001b[0m \u001b[0;34m*\u001b[0m \u001b[0;34m(\u001b[0m\u001b[0mlen\u001b[0m\u001b[0;34m(\u001b[0m\u001b[0mreps_tup\u001b[0m\u001b[0;34m)\u001b[0m \u001b[0;34m-\u001b[0m \u001b[0mndim\u001b[0m\u001b[0;34m(\u001b[0m\u001b[0mA\u001b[0m\u001b[0;34m)\u001b[0m\u001b[0;34m)\u001b[0m \u001b[0;34m+\u001b[0m \u001b[0mshape\u001b[0m\u001b[0;34m(\u001b[0m\u001b[0mA\u001b[0m\u001b[0;34m)\u001b[0m\u001b[0;34m\u001b[0m\u001b[0;34m\u001b[0m\u001b[0m\n\u001b[1;32m   1856\u001b[0m   \u001b[0mreps_tup\u001b[0m \u001b[0;34m=\u001b[0m \u001b[0;34m(\u001b[0m\u001b[0;36m1\u001b[0m\u001b[0;34m,\u001b[0m\u001b[0;34m)\u001b[0m \u001b[0;34m*\u001b[0m \u001b[0;34m(\u001b[0m\u001b[0mlen\u001b[0m\u001b[0;34m(\u001b[0m\u001b[0mA_shape\u001b[0m\u001b[0;34m)\u001b[0m \u001b[0;34m-\u001b[0m \u001b[0mlen\u001b[0m\u001b[0;34m(\u001b[0m\u001b[0mreps_tup\u001b[0m\u001b[0;34m)\u001b[0m\u001b[0;34m)\u001b[0m \u001b[0;34m+\u001b[0m \u001b[0mreps_tup\u001b[0m\u001b[0;34m\u001b[0m\u001b[0;34m\u001b[0m\u001b[0m\n\u001b[0;32m-> 1857\u001b[0;31m   result = broadcast_to(reshape(A, [j for i in A_shape for j in [1, i]]),\n\u001b[0m\u001b[1;32m   1858\u001b[0m                         [k for pair in zip(reps_tup, A_shape) for k in pair])\n\u001b[1;32m   1859\u001b[0m   \u001b[0;32mreturn\u001b[0m \u001b[0mreshape\u001b[0m\u001b[0;34m(\u001b[0m\u001b[0mresult\u001b[0m\u001b[0;34m,\u001b[0m \u001b[0mtuple\u001b[0m\u001b[0;34m(\u001b[0m\u001b[0mnp\u001b[0m\u001b[0;34m.\u001b[0m\u001b[0mmultiply\u001b[0m\u001b[0;34m(\u001b[0m\u001b[0mA_shape\u001b[0m\u001b[0;34m,\u001b[0m \u001b[0mreps_tup\u001b[0m\u001b[0;34m)\u001b[0m\u001b[0;34m)\u001b[0m\u001b[0;34m)\u001b[0m\u001b[0;34m\u001b[0m\u001b[0;34m\u001b[0m\u001b[0m\n",
            "\u001b[0;32m/usr/local/lib/python3.10/dist-packages/jax/_src/numpy/lax_numpy.py\u001b[0m in \u001b[0;36mbroadcast_to\u001b[0;34m(array, shape)\u001b[0m\n\u001b[1;32m   1227\u001b[0m \"\"\")\n\u001b[1;32m   1228\u001b[0m \u001b[0;32mdef\u001b[0m \u001b[0mbroadcast_to\u001b[0m\u001b[0;34m(\u001b[0m\u001b[0marray\u001b[0m\u001b[0;34m:\u001b[0m \u001b[0mArrayLike\u001b[0m\u001b[0;34m,\u001b[0m \u001b[0mshape\u001b[0m\u001b[0;34m:\u001b[0m \u001b[0mDimSize\u001b[0m \u001b[0;34m|\u001b[0m \u001b[0mShape\u001b[0m\u001b[0;34m)\u001b[0m \u001b[0;34m->\u001b[0m \u001b[0mArray\u001b[0m\u001b[0;34m:\u001b[0m\u001b[0;34m\u001b[0m\u001b[0;34m\u001b[0m\u001b[0m\n\u001b[0;32m-> 1229\u001b[0;31m   \u001b[0;32mreturn\u001b[0m \u001b[0mutil\u001b[0m\u001b[0;34m.\u001b[0m\u001b[0m_broadcast_to\u001b[0m\u001b[0;34m(\u001b[0m\u001b[0marray\u001b[0m\u001b[0;34m,\u001b[0m \u001b[0mshape\u001b[0m\u001b[0;34m)\u001b[0m\u001b[0;34m\u001b[0m\u001b[0;34m\u001b[0m\u001b[0m\n\u001b[0m\u001b[1;32m   1230\u001b[0m \u001b[0;34m\u001b[0m\u001b[0m\n\u001b[1;32m   1231\u001b[0m \u001b[0;34m\u001b[0m\u001b[0m\n",
            "\u001b[0;32m/usr/local/lib/python3.10/dist-packages/jax/_src/numpy/util.py\u001b[0m in \u001b[0;36m_broadcast_to\u001b[0;34m(arr, shape)\u001b[0m\n\u001b[1;32m    411\u001b[0m \u001b[0;32mdef\u001b[0m \u001b[0m_broadcast_to\u001b[0m\u001b[0;34m(\u001b[0m\u001b[0marr\u001b[0m\u001b[0;34m:\u001b[0m \u001b[0mArrayLike\u001b[0m\u001b[0;34m,\u001b[0m \u001b[0mshape\u001b[0m\u001b[0;34m:\u001b[0m \u001b[0mDimSize\u001b[0m \u001b[0;34m|\u001b[0m \u001b[0mShape\u001b[0m\u001b[0;34m)\u001b[0m \u001b[0;34m->\u001b[0m \u001b[0mArray\u001b[0m\u001b[0;34m:\u001b[0m\u001b[0;34m\u001b[0m\u001b[0;34m\u001b[0m\u001b[0m\n\u001b[1;32m    412\u001b[0m   \u001b[0mcheck_arraylike\u001b[0m\u001b[0;34m(\u001b[0m\u001b[0;34m\"broadcast_to\"\u001b[0m\u001b[0;34m,\u001b[0m \u001b[0marr\u001b[0m\u001b[0;34m)\u001b[0m\u001b[0;34m\u001b[0m\u001b[0;34m\u001b[0m\u001b[0m\n\u001b[0;32m--> 413\u001b[0;31m   \u001b[0marr\u001b[0m \u001b[0;34m=\u001b[0m \u001b[0marr\u001b[0m \u001b[0;32mif\u001b[0m \u001b[0misinstance\u001b[0m\u001b[0;34m(\u001b[0m\u001b[0marr\u001b[0m\u001b[0;34m,\u001b[0m \u001b[0mArray\u001b[0m\u001b[0;34m)\u001b[0m \u001b[0;32melse\u001b[0m \u001b[0mlax\u001b[0m\u001b[0;34m.\u001b[0m\u001b[0masarray\u001b[0m\u001b[0;34m(\u001b[0m\u001b[0marr\u001b[0m\u001b[0;34m)\u001b[0m\u001b[0;34m\u001b[0m\u001b[0;34m\u001b[0m\u001b[0m\n\u001b[0m\u001b[1;32m    414\u001b[0m   \u001b[0;32mif\u001b[0m \u001b[0;32mnot\u001b[0m \u001b[0misinstance\u001b[0m\u001b[0;34m(\u001b[0m\u001b[0mshape\u001b[0m\u001b[0;34m,\u001b[0m \u001b[0mtuple\u001b[0m\u001b[0;34m)\u001b[0m \u001b[0;32mand\u001b[0m \u001b[0mnp\u001b[0m\u001b[0;34m.\u001b[0m\u001b[0mndim\u001b[0m\u001b[0;34m(\u001b[0m\u001b[0mshape\u001b[0m\u001b[0;34m)\u001b[0m \u001b[0;34m==\u001b[0m \u001b[0;36m0\u001b[0m\u001b[0;34m:\u001b[0m\u001b[0;34m\u001b[0m\u001b[0;34m\u001b[0m\u001b[0m\n\u001b[1;32m    415\u001b[0m     \u001b[0mshape\u001b[0m \u001b[0;34m=\u001b[0m \u001b[0;34m(\u001b[0m\u001b[0mshape\u001b[0m\u001b[0;34m,\u001b[0m\u001b[0;34m)\u001b[0m\u001b[0;34m\u001b[0m\u001b[0;34m\u001b[0m\u001b[0m\n",
            "\u001b[0;32m/usr/local/lib/python3.10/dist-packages/jax/_src/lax/lax.py\u001b[0m in \u001b[0;36masarray\u001b[0;34m(x)\u001b[0m\n\u001b[1;32m    132\u001b[0m     \u001b[0;32mreturn\u001b[0m \u001b[0mx\u001b[0m\u001b[0;34m\u001b[0m\u001b[0;34m\u001b[0m\u001b[0m\n\u001b[1;32m    133\u001b[0m   \u001b[0;32mif\u001b[0m \u001b[0misinstance\u001b[0m\u001b[0;34m(\u001b[0m\u001b[0mx\u001b[0m\u001b[0;34m,\u001b[0m \u001b[0;34m(\u001b[0m\u001b[0mnp\u001b[0m\u001b[0;34m.\u001b[0m\u001b[0mndarray\u001b[0m\u001b[0;34m,\u001b[0m \u001b[0mnp\u001b[0m\u001b[0;34m.\u001b[0m\u001b[0mgeneric\u001b[0m\u001b[0;34m,\u001b[0m \u001b[0mbool\u001b[0m\u001b[0;34m,\u001b[0m \u001b[0mint\u001b[0m\u001b[0;34m,\u001b[0m \u001b[0mfloat\u001b[0m\u001b[0;34m,\u001b[0m \u001b[0mbuiltins\u001b[0m\u001b[0;34m.\u001b[0m\u001b[0mcomplex\u001b[0m\u001b[0;34m)\u001b[0m\u001b[0;34m)\u001b[0m\u001b[0;34m:\u001b[0m\u001b[0;34m\u001b[0m\u001b[0;34m\u001b[0m\u001b[0m\n\u001b[0;32m--> 134\u001b[0;31m     \u001b[0;32mreturn\u001b[0m \u001b[0m_convert_element_type\u001b[0m\u001b[0;34m(\u001b[0m\u001b[0mx\u001b[0m\u001b[0;34m,\u001b[0m \u001b[0mweak_type\u001b[0m\u001b[0;34m=\u001b[0m\u001b[0mdtypes\u001b[0m\u001b[0;34m.\u001b[0m\u001b[0mis_weakly_typed\u001b[0m\u001b[0;34m(\u001b[0m\u001b[0mx\u001b[0m\u001b[0;34m)\u001b[0m\u001b[0;34m)\u001b[0m\u001b[0;34m\u001b[0m\u001b[0;34m\u001b[0m\u001b[0m\n\u001b[0m\u001b[1;32m    135\u001b[0m   \u001b[0;32melse\u001b[0m\u001b[0;34m:\u001b[0m\u001b[0;34m\u001b[0m\u001b[0;34m\u001b[0m\u001b[0m\n\u001b[1;32m    136\u001b[0m     \u001b[0;32mraise\u001b[0m \u001b[0mTypeError\u001b[0m\u001b[0;34m(\u001b[0m\u001b[0;34mf\"asarray: expected ArrayLike, got {x} of type {type(x)}.\"\u001b[0m\u001b[0;34m)\u001b[0m\u001b[0;34m\u001b[0m\u001b[0;34m\u001b[0m\u001b[0m\n",
            "\u001b[0;32m/usr/local/lib/python3.10/dist-packages/jax/_src/lax/lax.py\u001b[0m in \u001b[0;36m_convert_element_type\u001b[0;34m(operand, new_dtype, weak_type)\u001b[0m\n\u001b[1;32m    528\u001b[0m   \u001b[0;31m# Don't canonicalize old_dtype because x64 context might cause\u001b[0m\u001b[0;34m\u001b[0m\u001b[0;34m\u001b[0m\u001b[0m\n\u001b[1;32m    529\u001b[0m   \u001b[0;31m# un-canonicalized operands to be passed in.\u001b[0m\u001b[0;34m\u001b[0m\u001b[0;34m\u001b[0m\u001b[0m\n\u001b[0;32m--> 530\u001b[0;31m   \u001b[0mold_dtype\u001b[0m \u001b[0;34m=\u001b[0m \u001b[0mdtypes\u001b[0m\u001b[0;34m.\u001b[0m\u001b[0mdtype\u001b[0m\u001b[0;34m(\u001b[0m\u001b[0moperand\u001b[0m\u001b[0;34m,\u001b[0m \u001b[0mcanonicalize\u001b[0m\u001b[0;34m=\u001b[0m\u001b[0;32mFalse\u001b[0m\u001b[0;34m)\u001b[0m\u001b[0;34m\u001b[0m\u001b[0;34m\u001b[0m\u001b[0m\n\u001b[0m\u001b[1;32m    531\u001b[0m   \u001b[0mold_weak_type\u001b[0m \u001b[0;34m=\u001b[0m \u001b[0mdtypes\u001b[0m\u001b[0;34m.\u001b[0m\u001b[0mis_weakly_typed\u001b[0m\u001b[0;34m(\u001b[0m\u001b[0moperand\u001b[0m\u001b[0;34m)\u001b[0m\u001b[0;34m\u001b[0m\u001b[0;34m\u001b[0m\u001b[0m\n\u001b[1;32m    532\u001b[0m   \u001b[0;32mif\u001b[0m \u001b[0mnew_dtype\u001b[0m \u001b[0;32mis\u001b[0m \u001b[0;32mNone\u001b[0m\u001b[0;34m:\u001b[0m\u001b[0;34m\u001b[0m\u001b[0;34m\u001b[0m\u001b[0m\n",
            "\u001b[0;32m/usr/local/lib/python3.10/dist-packages/jax/_src/dtypes.py\u001b[0m in \u001b[0;36mdtype\u001b[0;34m(x, canonicalize)\u001b[0m\n\u001b[1;32m    661\u001b[0m       \u001b[0;32mraise\u001b[0m \u001b[0mTypeError\u001b[0m\u001b[0;34m(\u001b[0m\u001b[0;34mf\"Cannot determine dtype of {x}\"\u001b[0m\u001b[0;34m)\u001b[0m \u001b[0;32mfrom\u001b[0m \u001b[0merr\u001b[0m\u001b[0;34m\u001b[0m\u001b[0;34m\u001b[0m\u001b[0m\n\u001b[1;32m    662\u001b[0m   \u001b[0;32mif\u001b[0m \u001b[0mdt\u001b[0m \u001b[0;32mnot\u001b[0m \u001b[0;32min\u001b[0m \u001b[0m_jax_dtype_set\u001b[0m \u001b[0;32mand\u001b[0m \u001b[0;32mnot\u001b[0m \u001b[0missubdtype\u001b[0m\u001b[0;34m(\u001b[0m\u001b[0mdt\u001b[0m\u001b[0;34m,\u001b[0m \u001b[0mextended\u001b[0m\u001b[0;34m)\u001b[0m\u001b[0;34m:\u001b[0m\u001b[0;34m\u001b[0m\u001b[0;34m\u001b[0m\u001b[0m\n\u001b[0;32m--> 663\u001b[0;31m     raise TypeError(f\"Value '{x}' with dtype {dt} is not a valid JAX array \"\n\u001b[0m\u001b[1;32m    664\u001b[0m                     \"type. Only arrays of numeric types are supported by JAX.\")\n\u001b[1;32m    665\u001b[0m   \u001b[0;31m# TODO(jakevdp): fix return type annotation and remove this ignore.\u001b[0m\u001b[0;34m\u001b[0m\u001b[0;34m\u001b[0m\u001b[0m\n",
            "\u001b[0;31mTypeError\u001b[0m: Value '[[[[[[[[BCOO(float32[4, 4], nse=1) BCOO(float32[4, 4], nse=2)\n        BCOO(float32[4, 4], nse=3)]]]]]]]]' with dtype object is not a valid JAX array type. Only arrays of numeric types are supported by JAX."
          ]
        }
      ]
    },
    {
      "cell_type": "code",
      "source": [
        "from jax.experimental import sparse\n",
        "def make_masks(f:int, band_number: int):\n",
        "  \"\"\"Create the original masks from which a band of the unitary will be created.\n",
        "  Precisely, it creates 3 masks which are np.arrays with  f-band_number sparse matrices of shape (f,f).\n",
        "  Each of the 3 masks is associated with one of the main \"building blocks\"\n",
        "  of the band matrices: the exp(ialpha)cos(beta) terms, the exp(-ialpha)cos(beta)\n",
        "  an sin(beta) terms. The ith line of a given mask is a sparse matrix with\n",
        "  1s where the ith term appears in the band matrix\n",
        "  Note that, reading bands from left to right, bands progressively have fewer parameters\n",
        "\n",
        "  Args:\n",
        "    f: the number of particles\n",
        "    band_number: the number of the band in the unitary for which we are computing the mask\n",
        "  Returns:\n",
        "    the 3 masks\n",
        "  \"\"\"\n",
        "  mask_cos_exp_pos_coordinates =[[] for _ in range(f-band_number)]\n",
        "  for i in range(f-band_number):\n",
        "    for j in range(i+1):\n",
        "        mask_cos_exp_pos_coordinates[i].append([i+band_number-1,j+band_number-1])\n",
        "\n",
        "  mask_cos_exp_neg_coordinates = [[] for _ in range(f-band_number)]\n",
        "  for i in range(1,f-band_number + 1):\n",
        "    for j in range(1,i+1):\n",
        "        mask_cos_exp_neg_coordinates[i-1].append([i+band_number-1,j+band_number-1])\n",
        "\n",
        "  mask_sin_coordinates = [[] for _ in range(f-band_number)]\n",
        "  for k in range(f-band_number+1):\n",
        "    #first add the terms on the superdiagonal (-sin)\n",
        "    if k != f-band_number:\n",
        "      mask_sin_coordinates[k].append([k+band_number-1,k+1+band_number-1])\n",
        "    #then add the remaining (+sin) terms\n",
        "    for i in range(k,f-band_number+1):\n",
        "      for j in range(k):\n",
        "        mask_sin_coordinates[k-1].append([i+band_number-1,j+band_number-1])\n",
        "\n",
        "  def make_mask_matrices (mask_coordinates):\n",
        "    f = len(mask_coordinates) + band_number\n",
        "    print(f)\n",
        "    mask_matrices = np.empty((f-band_number), object)\n",
        "    for i in range(f-band_number):\n",
        "      coordinates = mask_coordinates[i]\n",
        "      num_coordinates = len(coordinates)\n",
        "      data = jnp.ones(num_coordinates)\n",
        "      mask_matrices[i] = sparse.BCOO((data, jnp.array(coordinates)), shape=(f, f))\n",
        "    return mask_matrices\n",
        "\n",
        "  mask_cos_exp_pos_matrices = make_mask_matrices(mask_cos_exp_pos_coordinates)\n",
        "  mask_cos_exp_neg_matrices = make_mask_matrices(mask_cos_exp_neg_coordinates)\n",
        "  mask_sin_matrices = make_mask_matrices(mask_sin_coordinates)\n",
        "\n",
        "  return mask_cos_exp_pos_matrices,mask_cos_exp_neg_matrices,mask_sin_matrices\n",
        "print(make_masks(5,1)[1][2])"
      ],
      "metadata": {
        "colab": {
          "base_uri": "https://localhost:8080/"
        },
        "id": "xWDeTOSHQipv",
        "outputId": "b761cb75-064f-42a2-e708-a23cba03e71c"
      },
      "execution_count": 37,
      "outputs": [
        {
          "output_type": "stream",
          "name": "stdout",
          "text": [
            "5\n",
            "5\n",
            "5\n",
            "BCOO(float32[5, 5], nse=3)\n"
          ]
        }
      ]
    },
    {
      "cell_type": "code",
      "source": [
        "import jax.numpy as jnp\n",
        "\n",
        "# Example arrays\n",
        "x = jnp.array([1, 2, 3, 4, 5])\n",
        "y = jnp.array([10, 20, 30, 40, 50])\n",
        "\n",
        "# Condition\n",
        "condition = x > 3\n",
        "\n",
        "# Create new array based on condition\n",
        "result = jnp.where(condition, x, y)\n",
        "print(result)\n"
      ],
      "metadata": {
        "colab": {
          "base_uri": "https://localhost:8080/"
        },
        "id": "hwIzHob1SqOS",
        "outputId": "60f11613-115d-467b-fa7f-67732588ad5e"
      },
      "execution_count": 3,
      "outputs": [
        {
          "output_type": "stream",
          "name": "stdout",
          "text": [
            "[10 20 30  4  5]\n"
          ]
        }
      ]
    },
    {
      "cell_type": "code",
      "source": [
        "#mask_exp_pos\n",
        "term_index = jnp.arange(f-band_number)[:,jnp.newaxis, jnp.newaxis]\n",
        "row_index = jnp.arange(f)[jnp.newaxis,:, jnp.newaxis]\n",
        "col_index = jnp.arange(f)[jnp.newaxis,jnp.newaxis,:]\n",
        "\n",
        "condition = (row_index == term_index + band_number-1) & (band_number-1 <= col_index) & (col_index <= row_index)\n",
        "\n",
        "mask_exp_pos = jnp.where(condition, 1, 0)\n"
      ],
      "metadata": {
        "colab": {
          "base_uri": "https://localhost:8080/"
        },
        "id": "YgvPXC42V3Ge",
        "outputId": "b82f1184-77b1-42c6-c8ad-ab89ecc72843"
      },
      "execution_count": 23,
      "outputs": [
        {
          "output_type": "stream",
          "name": "stdout",
          "text": [
            "[[[0 0 0 0]\n",
            "  [0 1 0 0]\n",
            "  [0 0 0 0]\n",
            "  [0 0 0 0]]\n",
            "\n",
            " [[0 0 0 0]\n",
            "  [0 0 0 0]\n",
            "  [0 1 1 0]\n",
            "  [0 0 0 0]]]\n"
          ]
        }
      ]
    },
    {
      "cell_type": "code",
      "source": [
        "\n",
        "\n"
      ],
      "metadata": {
        "colab": {
          "base_uri": "https://localhost:8080/"
        },
        "id": "qtKA6BV3bfp6",
        "outputId": "ac3c498d-6256-4c69-8c2f-9c22e2845290"
      },
      "execution_count": 49,
      "outputs": [
        {
          "output_type": "execute_result",
          "data": {
            "text/plain": [
              "Array([[[0, 0, 0, 0],\n",
              "        [0, 1, 0, 0],\n",
              "        [0, 0, 0, 0],\n",
              "        [0, 0, 0, 0]],\n",
              "\n",
              "       [[0, 0, 0, 0],\n",
              "        [0, 0, 0, 0],\n",
              "        [0, 1, 1, 0],\n",
              "        [0, 0, 0, 0]]], dtype=int32, weak_type=True)"
            ]
          },
          "metadata": {},
          "execution_count": 49
        }
      ]
    },
    {
      "cell_type": "code",
      "source": [
        "#mask_sin\n",
        "f = 4\n",
        "band_number = 2\n",
        "\n",
        "term_index = jnp.arange(f-band_number)[:,jnp.newaxis, jnp.newaxis]\n",
        "row_index = jnp.arange(f)[jnp.newaxis,:, jnp.newaxis]\n",
        "col_index = jnp.arange(f)[jnp.newaxis,jnp.newaxis,:]\n",
        "\n",
        "condition = ((band_number-1 <= col_index) & (col_index <= term_index + band_number-1) &\n",
        " (row_index >= term_index + band_number)|\n",
        "((row_index == term_index + band_number-1) & (col_index == row_index +1))\n",
        ")\n",
        "\n",
        "mask_sing = jnp.where(condition, 1, 0)\n",
        "\n"
      ],
      "metadata": {
        "colab": {
          "base_uri": "https://localhost:8080/"
        },
        "id": "WirYkBHgeS7t",
        "outputId": "da99bcf4-a0b0-44da-950a-69055f2c5d49"
      },
      "execution_count": 47,
      "outputs": [
        {
          "output_type": "stream",
          "name": "stdout",
          "text": [
            "[[[0 0 0 0]\n",
            "  [0 0 1 0]\n",
            "  [0 1 0 0]\n",
            "  [0 1 0 0]]\n",
            "\n",
            " [[0 0 0 0]\n",
            "  [0 0 0 0]\n",
            "  [0 0 0 1]\n",
            "  [0 1 1 0]]]\n"
          ]
        }
      ]
    },
    {
      "cell_type": "code",
      "source": [
        "#masks\n",
        "def make_masks(f,band_number):\n",
        "\n",
        "  \"\"\"build\n",
        "\n",
        "  Args:\n",
        "    f: the number of particles\n",
        "    n_col: the number of columns of the masks we want to build. To build a full matrix we will want n_col = f\n",
        "    band_number: index of the band in the unitary decomposition (ranges from 1 to number of nonzero eigenvalues)\n",
        "  Returns:\n",
        "  3 arrays of masks of shape (f-band_number,f,n_col)\n",
        "  (m,2n(f-n)-n)\n",
        "  \"\"\"\n",
        "\n",
        "  term_index = jnp.arange(f-band_number)[:,jnp.newaxis, jnp.newaxis]\n",
        "  row_index = jnp.arange(f)[jnp.newaxis,:, jnp.newaxis]\n",
        "  col_index = jnp.arange(f)[jnp.newaxis,jnp.newaxis,:]\n",
        "\n",
        "  #conditions\n",
        "  condition_cos_exp_pos = (row_index == term_index + band_number-1) & (band_number-1 <= col_index) & (col_index <= row_index)\n",
        "  condition_cos_exp_neg = (col_index == term_index + band_number) & (row_index >= col_index)\n",
        "  condition_sin = ((band_number-1 <= col_index) & (col_index <= term_index + band_number-1) & (row_index >= term_index + band_number)|\n",
        "((row_index == term_index + band_number-1) & (col_index == row_index +1)))\n",
        "\n",
        "  mask_cos_exp_pos = jnp.where(condition_cos_exp_pos, 1, 0)\n",
        "  mask_cos_exp_neg = jnp.where(condition_cos_exp_neg, 1, 0)\n",
        "  mask_sin = jnp.where(condition_sin, 1, 0)\n",
        "\n",
        "  return mask_cos_exp_pos, mask_cos_exp_neg,mask_sin\n"
      ],
      "metadata": {
        "id": "Vq3X07aej-Ti",
        "outputId": "d5324720-250d-40bd-e8cd-6a12030cb89d",
        "colab": {
          "base_uri": "https://localhost:8080/"
        }
      },
      "execution_count": 104,
      "outputs": [
        {
          "output_type": "execute_result",
          "data": {
            "text/plain": [
              "Array([[[0, 1, 0, 0],\n",
              "        [1, 0, 0, 0],\n",
              "        [1, 0, 0, 0],\n",
              "        [1, 0, 0, 0]],\n",
              "\n",
              "       [[0, 0, 0, 0],\n",
              "        [0, 0, 1, 0],\n",
              "        [1, 1, 0, 0],\n",
              "        [1, 1, 0, 0]],\n",
              "\n",
              "       [[0, 0, 0, 0],\n",
              "        [0, 0, 0, 0],\n",
              "        [0, 0, 0, 1],\n",
              "        [1, 1, 1, 0]]], dtype=int32, weak_type=True)"
            ]
          },
          "metadata": {},
          "execution_count": 104
        }
      ]
    },
    {
      "cell_type": "code",
      "source": [
        "def get_building_blocks(alphas:jnp.ndarray, betas:jnp.ndarray):\n",
        "  \"\"\"Get the spacetime points from the current parameters.\n",
        "\n",
        "  Args:\n",
        "    alphas: Values of the alpha angles used to define the unitary (m,2n(f-n)-n): real\n",
        "    betas: Values of the beta angles used to define the unitary (m,2n(f-n)-n): real\n",
        "  Returns:\n",
        "  3 \"building blocks\" terms, basic trigonometric functions of the alphas and betas of the same size\n",
        "  (m,2n(f-n)-n)\n",
        "  \"\"\"\n",
        "  exp_alphas = jnp.exp(1J*alphas)\n",
        "  cos_betas = jnp.cos(betas)\n",
        "  sin_betas = jnp.sin(betas)\n",
        "  cos_betas_exp_pos_alphas = exp_alphas*cos_betas\n",
        "  cos_betas_exp_neg_alphas = jnp.conj(exp_alphas)* cos_betas\n",
        "\n",
        "  return cos_betas_exp_pos_alphas, cos_betas_exp_neg_alphas, sin_betas\n"
      ],
      "metadata": {
        "id": "e3YNgH3YkOmd"
      },
      "execution_count": 62,
      "outputs": []
    },
    {
      "cell_type": "code",
      "source": [
        "def make_single_band_unitary(alphas_band,betas_band,f):\n",
        "  \"\"\"Use the angle parameters and the masks to generate a unitary band matrix\n",
        "\n",
        "    Args:\n",
        "    f: dimension of the matrix (number of  particles)\n",
        "    alphas_band: shape (f-band_number,)\n",
        "    betas_band: shape (f-band_number,)\n",
        "\n",
        "  Returns:\n",
        "    (f, f) band  unitary matrix\n",
        "    \"\"\"\n",
        "  band_number = f - len(alphas_band)\n",
        "\n",
        "  #extract the building blocks and masks\n",
        "  building_blocks = get_building_blocks(alphas_band, betas_band)\n",
        "  masks = make_masks(f,band_number)\n",
        "\n",
        "  #initialise the band matrix with a matrix with ones on lower triangle and superdiagonal\n",
        "  ones_tril= jnp.tril(jnp.ones((f,f))) + jnp.eye(f,k = 1)\n",
        "  band_matrix= ones_tril.copy()\n",
        "\n",
        "  #iterate over the different masks for each building block\n",
        "  num_masks = len(masks)\n",
        "  for building_block_index in range(num_masks):\n",
        "    mask = masks[building_block_index] #shape (f-band_number,f,f)\n",
        "    building_block = building_blocks[building_block_index]\n",
        "    band_matrix_building_block = mask*building_block[:,jnp.newaxis,jnp.newaxis]\n",
        "\n",
        "    #add ones in the lower triangle and superdiagonal before multiplying  the matrices\n",
        "    ones_tril_reshaped = jnp.tile(ones_tril,(f-band_number,1,1))\n",
        "    band_matrix_building_block += ones_tril_reshaped - mask\n",
        "\n",
        "    #multiply the matrices together\n",
        "    band_matrix_building_block = jnp.prod(band_matrix_building_block, axis =0)\n",
        "\n",
        "    #multiply the different  building blocks together\n",
        "    band_matrix *=band_matrix_building_block\n",
        "\n",
        "  #multiply the superdiagonal by -1 to represent  the negative  sines.\n",
        "  final_mask = jnp.tril(jnp.ones((f,f))) - jnp.eye(f,k = 1)\n",
        "  band_matrix *= final_mask #shape (f,f)\n",
        "\n",
        "  # Add the diagonal 1s for the first band_number-1 bands\n",
        "  diag_indices = jnp.arange(band_number-1)  # indices for the diagonals to set to 1\n",
        "  band_matrix = band_matrix.at[diag_indices, diag_indices].set(1)\n",
        "\n",
        "  return band_matrix\n",
        "\n",
        "  make_band_unitary = vmap(make_single_band_unitary, in_axes=(0, 0, None))"
      ],
      "metadata": {
        "id": "SAK4OYLTmA56"
      },
      "execution_count": 106,
      "outputs": []
    },
    {
      "cell_type": "code",
      "source": [
        "f = 3\n",
        "c = [jnp.pi,jnp.pi/2,2*jnp.pi]\n",
        "d = [jnp.pi/4, jnp.pi/6, jnp.pi/3]\n",
        "\n",
        "make_band_unitary = vmap(make_single_band_unitary, in_axes=(0, 0, None))\n",
        "alphas = jnp.array([[jnp.pi,jnp.pi/2],[jnp.pi,jnp.pi/2]])\n",
        "betas = jnp.array([[0,0],[0,0]])\n",
        "\n",
        "alphas = jnp.array([[jnp.pi,jnp.pi/2]] )\n",
        "betas = jnp.array([[0,0]])\n",
        "\n",
        "print(jnp.int_(make_band_unitary(alphas,betas,f))+1J*jnp.int_((-1J)*make_band_unitary(alphas,betas,f)))\n",
        "\n"
      ],
      "metadata": {
        "id": "VCgeQOLbpsCu",
        "outputId": "fa786056-2366-4252-ecca-7c687df5a283",
        "colab": {
          "base_uri": "https://localhost:8080/"
        }
      },
      "execution_count": 108,
      "outputs": [
        {
          "output_type": "stream",
          "name": "stdout",
          "text": [
            "[[[-1.+0.j  0.+0.j  0.+0.j]\n",
            "  [ 0.+0.j  0.-1.j  0.+0.j]\n",
            "  [ 0.+0.j  0.+0.j  0.-1.j]]]\n"
          ]
        },
        {
          "output_type": "stream",
          "name": "stderr",
          "text": [
            "/usr/local/lib/python3.10/dist-packages/jax/_src/numpy/lax_numpy.py:152: UserWarning: Explicitly requested dtype int64 requested in asarray is not available, and will be truncated to dtype int32. To enable more dtypes, set the jax_enable_x64 configuration option or the JAX_ENABLE_X64 shell environment variable. See https://github.com/google/jax#current-gotchas for more.\n",
            "  return asarray(x, dtype=self.dtype)\n",
            "/usr/local/lib/python3.10/dist-packages/jax/_src/numpy/lax_numpy.py:2197: ComplexWarning: Casting complex values to real discards the imaginary part\n",
            "  out_array: Array = lax_internal._convert_element_type(\n"
          ]
        }
      ]
    },
    {
      "cell_type": "code",
      "source": [
        "def make_single_unitary(alphas,betas,f, n):\n",
        "  \"\"\"Use the angle parameters to build a unitary matrix through\n",
        "  the matrix product of  successive band unitary band matrices\n",
        "  Note: This is not any unitary but a unitary corresponding to the change of basis into\n",
        "  the eigenvector basis of a matrix with n non zero eigenvalues counted with their multiplicity\n",
        "\n",
        "    Args:\n",
        "    f: dimension of the matrix (number of  particles)\n",
        "    n: total number of eigenvalues\n",
        "    alphas: shape (2n(f-n)-n,) WRONG BECAUSE DIFF DEF OF N\n",
        "    betas: shape (2n(f-n)-n,) SAME HERE\n",
        "\n",
        "  Returns:\n",
        "    (f, f) unitary matrix\n",
        "    \"\"\"\n",
        "  #extract all the parameters\n",
        "  building_blocks = get_building_blocks(alphas, betas)\n",
        "\n",
        "  #initialise the unitary\n",
        "  unitary = jnp.eye(f)\n",
        "\n",
        "  #iterate over the bands\n",
        "  end_index = 0\n",
        "  for band_number in range(1,n+1):\n",
        "    #extract the correct alphas and betas\n",
        "    start_index = end_index\n",
        "    end_index =start_index + f - band_number\n",
        "    alphas_band, betas_band = alphas[start_index:end_index],betas[start_index:end_index]\n",
        "\n",
        "\n",
        "    #build the band unitary\n",
        "    band_matrix = make_single_band_unitary(alphas_band,betas_band,f)\n",
        "\n",
        "    #multiply the different unitaries together\n",
        "    unitary = jnp.dot(unitary,band_matrix)\n",
        "\n",
        "  return unitary\n",
        "\n",
        "  #vectorize\n",
        "  make_unitary = vmap(make_single_unitary, in_axes=(0, 0, None, None))"
      ],
      "metadata": {
        "id": "tJxWgPGPkWZi"
      },
      "execution_count": 125,
      "outputs": []
    },
    {
      "cell_type": "code",
      "source": [
        "f = 4\n",
        "n = 2\n",
        "alphas = jnp.array([jnp.pi,jnp.pi/2,3/2*jnp.pi, 2*jnp.pi, jnp.pi])\n",
        "betas = jnp.array([0,0,0,0,0])\n",
        "\n",
        "print(alphas)\n",
        "\n",
        "print(jnp.int_(make_single_unitary(alphas,betas,f,n))+1J*jnp.int_((-1J)*make_single_unitary(alphas,betas,f,n)))\n"
      ],
      "metadata": {
        "id": "q-D-zf98Acon",
        "outputId": "30ddf5fc-a5d0-4f91-c278-ed0515fe5fbd",
        "colab": {
          "base_uri": "https://localhost:8080/"
        }
      },
      "execution_count": 126,
      "outputs": [
        {
          "output_type": "stream",
          "name": "stdout",
          "text": [
            "[3.1415927 1.5707964 4.712389  6.2831855 3.1415927]\n",
            "[3.1415927 1.5707964 4.712389 ]\n",
            "[6.2831855 3.1415927]\n",
            "[3.1415927 1.5707964 4.712389 ]\n",
            "[6.2831855 3.1415927]\n",
            "[[-1.+0.j  1.+0.j  0.+0.j  0.+0.j]\n",
            " [ 0.-1.j  0.-1.j  0.+0.j  0.+0.j]\n",
            " [-1.+0.j  0.+0.j  1.+0.j  0.+0.j]\n",
            " [ 0.+1.j  0.+0.j  0.+0.j  0.-1.j]]\n"
          ]
        }
      ]
    },
    {
      "cell_type": "code",
      "source": [
        "#adapt for eigenvector\n",
        "#masks\n",
        "\n",
        "def make_masks(f,n_col, band_number):\n",
        "\n",
        "  \"\"\"build\n",
        "\n",
        "  Args:\n",
        "    f: the number of particles\n",
        "    n_col: the number of columns of the masks we want to build. To build a full matrix we will want n_col = f\n",
        "    band_number: index of the band in the unitary decomposition (ranges from 1 to number of nonzero eigenvalues)\n",
        "  Returns:\n",
        "  3 arrays of masks of shape (f-band_number,f,n_col)\n",
        "  \"\"\"\n",
        "\n",
        "  term_index = jnp.arange(f-band_number)[:,jnp.newaxis, jnp.newaxis]\n",
        "  row_index = jnp.arange(f)[jnp.newaxis,:, jnp.newaxis]\n",
        "  col_index = jnp.arange(n_col)[jnp.newaxis,jnp.newaxis,:]\n",
        "\n",
        "  #conditions\n",
        "  condition_cos_exp_pos = (row_index == term_index + band_number-1) & (band_number-1 <= col_index) & (col_index <= row_index)\n",
        "  condition_cos_exp_neg = (col_index == term_index + band_number) & (row_index >= col_index)\n",
        "  condition_sin = ((band_number-1 <= col_index) & (col_index <= term_index + band_number-1) & (row_index >= term_index + band_number)|\n",
        "((row_index == term_index + band_number-1) & (col_index == row_index +1)))\n",
        "\n",
        "  mask_cos_exp_pos = jnp.where(condition_cos_exp_pos, 1, 0)\n",
        "  mask_cos_exp_neg = jnp.where(condition_cos_exp_neg, 1, 0)\n",
        "  mask_sin = jnp.where(condition_sin, 1, 0)\n",
        "\n",
        "  return mask_cos_exp_pos, mask_cos_exp_neg,mask_sin\n"
      ],
      "metadata": {
        "id": "4l1xeoMdGL5Z"
      },
      "execution_count": 127,
      "outputs": []
    },
    {
      "cell_type": "code",
      "source": [
        "print(make_masks(4,2,1)[0])"
      ],
      "metadata": {
        "id": "wm1c3aJMKy8o",
        "outputId": "d94dece5-bad2-47df-8a42-624a3773225c",
        "colab": {
          "base_uri": "https://localhost:8080/"
        }
      },
      "execution_count": 130,
      "outputs": [
        {
          "output_type": "stream",
          "name": "stdout",
          "text": [
            "[[[1 0]\n",
            "  [0 0]\n",
            "  [0 0]\n",
            "  [0 0]]\n",
            "\n",
            " [[0 0]\n",
            "  [1 1]\n",
            "  [0 0]\n",
            "  [0 0]]\n",
            "\n",
            " [[0 0]\n",
            "  [0 0]\n",
            "  [1 1]\n",
            "  [0 0]]]\n"
          ]
        }
      ]
    },
    {
      "cell_type": "code",
      "source": [
        "def make_single_band_unitary(alphas_band,betas_band,f,n_col):\n",
        "  \"\"\"Use the angle parameters and the masks to generate a unitary band matrix\n",
        "\n",
        "    Args:\n",
        "\n",
        "    alphas_band: shape (f-band_number,)\n",
        "    betas_band: shape (f-band_number,)\n",
        "    f: dimension of the matrix (number of  particles)\n",
        "    n_col: number of columns of the unitary which we want to build\n",
        "\n",
        "  Returns:\n",
        "    (f, n_col) band  unitary matrix\n",
        "    \"\"\"\n",
        "  band_number = f - len(alphas_band)\n",
        "\n",
        "  #extract the building blocks and masks\n",
        "  building_blocks = get_building_blocks(alphas_band, betas_band)\n",
        "  masks = make_masks(f,n_col,band_number)\n",
        "\n",
        "  #initialise the band matrix with a matrix with ones on lower triangle and superdiagonal\n",
        "  ones_tril= jnp.tril(jnp.ones((f,f))) + jnp.eye(f,k = 1)\n",
        "  ones_tril = ones_tril[:,:n_col]\n",
        "  band_matrix= ones_tril.copy()\n",
        "\n",
        "  #iterate over the different masks for each building block\n",
        "  num_masks = len(masks)\n",
        "  for building_block_index in range(num_masks):\n",
        "    mask = masks[building_block_index] #shape (f-band_number,f,f)\n",
        "    building_block = building_blocks[building_block_index]\n",
        "    band_matrix_building_block = mask*building_block[:,jnp.newaxis,jnp.newaxis]\n",
        "\n",
        "    #add ones in the lower triangle and superdiagonal before multiplying  the matrices\n",
        "    ones_tril_reshaped = jnp.tile(ones_tril,(f-band_number,1,1))\n",
        "    band_matrix_building_block += ones_tril_reshaped - mask\n",
        "\n",
        "    #multiply the matrices together\n",
        "    band_matrix_building_block = jnp.prod(band_matrix_building_block, axis =0)\n",
        "\n",
        "    #multiply the different  building blocks together\n",
        "    band_matrix *=band_matrix_building_block\n",
        "\n",
        "  #multiply the superdiagonal by -1 to represent  the negative  sines.\n",
        "  final_mask = jnp.tril(jnp.ones((f,f))) - jnp.eye(f,k = 1)\n",
        "  band_matrix *= final_mask[:,:n_col] #shape (f,n_col)\n",
        "\n",
        "  # Add the diagonal 1s for the first band_number-1 bands\n",
        "  diag_indices = jnp.arange(band_number-1)  # indices for the diagonals to set to 1\n",
        "  band_matrix = band_matrix.at[diag_indices, diag_indices].set(1)\n",
        "\n",
        "  return band_matrix\n",
        "\n",
        "  make_band_unitary = vmap(make_single_band_unitary, in_axes=(0, 0, None,None))"
      ],
      "metadata": {
        "id": "f-IuxuAVGY8k"
      },
      "execution_count": 135,
      "outputs": []
    },
    {
      "cell_type": "code",
      "source": [
        "f = 4\n",
        "n_col = 2\n",
        "alphas = jnp.array([jnp.pi,jnp.pi/2,3/2*jnp.pi])\n",
        "betas = jnp.array([0,0,0])\n",
        "\n",
        "print(alphas)\n",
        "\n",
        "print(jnp.int_(make_single_band_unitary(alphas,betas,f,n_col))+1J*jnp.int_((-1J)*make_single_band_unitary(alphas,betas,f,n_col)))"
      ],
      "metadata": {
        "id": "ocHlSU1fLM2j",
        "outputId": "08437317-72e0-4fcb-e6e4-5add68f7b086",
        "colab": {
          "base_uri": "https://localhost:8080/"
        }
      },
      "execution_count": 137,
      "outputs": [
        {
          "output_type": "stream",
          "name": "stdout",
          "text": [
            "[3.1415927 1.5707964 4.712389 ]\n",
            "[[-1.+0.j  0.+0.j]\n",
            " [ 0.+0.j  0.-1.j]\n",
            " [ 0.+0.j  0.+0.j]\n",
            " [ 0.+0.j  0.+0.j]]\n"
          ]
        },
        {
          "output_type": "stream",
          "name": "stderr",
          "text": [
            "/usr/local/lib/python3.10/dist-packages/jax/_src/numpy/lax_numpy.py:152: UserWarning: Explicitly requested dtype int64 requested in asarray is not available, and will be truncated to dtype int32. To enable more dtypes, set the jax_enable_x64 configuration option or the JAX_ENABLE_X64 shell environment variable. See https://github.com/google/jax#current-gotchas for more.\n",
            "  return asarray(x, dtype=self.dtype)\n",
            "/usr/local/lib/python3.10/dist-packages/jax/_src/numpy/lax_numpy.py:2197: ComplexWarning: Casting complex values to real discards the imaginary part\n",
            "  out_array: Array = lax_internal._convert_element_type(\n"
          ]
        }
      ]
    },
    {
      "cell_type": "code",
      "source": [
        "def make_single_eigenvectors(alphas,betas,f, n):\n",
        "  \"\"\"Use the angle parameters to build the 2n first eigenvectors of a spacetime point  x\n",
        "\n",
        "    Args:\n",
        "    f: dimension of the matrix (number of  particles)\n",
        "    n: spin number hence  2n is total number of eigenvalues\n",
        "    alphas: shape (2n(f-n)-n)\n",
        "    betas: shape (2n(f-n)-n)\n",
        "\n",
        "  Returns:\n",
        "    (f,2n) matrix\n",
        "    \"\"\"\n",
        "  #extract all the parameters\n",
        "  num_alphas = len(alphas)\n",
        "  building_blocks = get_building_blocks(alphas, betas)\n",
        "\n",
        "  #initialise the eigenvectors:\n",
        "  start_index = len(alphas)-(f-2*n)\n",
        "  end_index = len(alphas)\n",
        "  alphas_band, betas_band = alphas[start_index:end_index],betas[start_index:end_index]\n",
        "\n",
        "  eigenvectors = make_single_band_unitary(alphas_band,betas_band,f,n_col = 2*n)\n",
        "\n",
        "  #iterate over the remaining 2n-1 bands\n",
        "  for band_number in range(1,2*n,-1):\n",
        "    #extract the correct alphas and betas\n",
        "    start_index = end_index\n",
        "    end_index =start_index + f - band_number\n",
        "    alphas_band, betas_band = alphas[start_index:end_index],betas[start_index:end_index]\n",
        "\n",
        "    #build the band unitary\n",
        "    band_matrix = make_single_band_unitary(alphas_band,betas_band,f,n_col = f)\n",
        "\n",
        "    #multiply the unitaries and the vectors\n",
        "    eigenvectors = jnp.dot(band_matrix,eigenvectors)\n",
        "\n",
        "  return eigenvectors\n",
        "\n",
        "  #vectorize\n",
        "  make_eigenvectors = vmap(make_single_eigenvectors, in_axes=(0, 0, None,None))"
      ],
      "metadata": {
        "id": "MKytCkDlG_Ey"
      },
      "execution_count": 129,
      "outputs": []
    },
    {
      "cell_type": "code",
      "source": [
        "f = 4\n",
        "\n",
        "alphas = jnp.array([jnp.pi,jnp.pi/2,3/2*jnp.pi,2*jnp.pi,jnp.pi])\n",
        "betas = jnp.array([0,0,0,0,0])\n",
        "\n",
        "\n",
        "print(jnp.int_(make_single_eigenvectors(alphas,betas,f,n=1))+1J*jnp.int_((-1J)*make_single_eigenvectors(alphas,betas,f,n = 1)))"
      ],
      "metadata": {
        "id": "Gws44OxkNFUv",
        "outputId": "bd913837-aca1-4f33-8dad-7f53d54705dc",
        "colab": {
          "base_uri": "https://localhost:8080/"
        }
      },
      "execution_count": 138,
      "outputs": [
        {
          "output_type": "stream",
          "name": "stdout",
          "text": [
            "[3.1415927 1.5707964 4.712389  6.2831855 3.1415927]\n",
            "[[ 1.+0.j -1.+0.j]\n",
            " [ 1.+0.j  1.+0.j]\n",
            " [ 1.+0.j  0.+0.j]\n",
            " [ 1.+0.j  0.+0.j]]\n"
          ]
        },
        {
          "output_type": "stream",
          "name": "stderr",
          "text": [
            "/usr/local/lib/python3.10/dist-packages/jax/_src/numpy/lax_numpy.py:152: UserWarning: Explicitly requested dtype int64 requested in asarray is not available, and will be truncated to dtype int32. To enable more dtypes, set the jax_enable_x64 configuration option or the JAX_ENABLE_X64 shell environment variable. See https://github.com/google/jax#current-gotchas for more.\n",
            "  return asarray(x, dtype=self.dtype)\n",
            "/usr/local/lib/python3.10/dist-packages/jax/_src/numpy/lax_numpy.py:2197: ComplexWarning: Casting complex values to real discards the imaginary part\n",
            "  out_array: Array = lax_internal._convert_element_type(\n"
          ]
        }
      ]
    }
  ],
  "metadata": {
    "colab": {
      "provenance": []
    },
    "language_info": {
      "name": "python"
    },
    "kernelspec": {
      "name": "python3",
      "display_name": "Python 3"
    }
  },
  "nbformat": 4,
  "nbformat_minor": 0
}